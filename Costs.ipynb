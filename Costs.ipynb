{
 "cells": [
  {
   "cell_type": "code",
   "execution_count": 1,
   "metadata": {},
   "outputs": [],
   "source": [
    "import src.config"
   ]
  },
  {
   "cell_type": "markdown",
   "metadata": {},
   "source": [
    "# Merritt costs 2018-05-08"
   ]
  },
  {
   "cell_type": "code",
   "execution_count": 2,
   "metadata": {},
   "outputs": [
    {
     "data": {
      "text/markdown": [
       "## Misc"
      ],
      "text/plain": [
       "<IPython.core.display.Markdown object>"
      ]
     },
     "metadata": {},
     "output_type": "display_data"
    },
    {
     "data": {
      "text/markdown": [
       "##### Total cost: $234.9"
      ],
      "text/plain": [
       "<IPython.core.display.Markdown object>"
      ]
     },
     "metadata": {},
     "output_type": "display_data"
    },
    {
     "data": {
      "text/html": [
       "<div>\n",
       "<style scoped>\n",
       "    .dataframe tbody tr th:only-of-type {\n",
       "        vertical-align: middle;\n",
       "    }\n",
       "\n",
       "    .dataframe tbody tr th {\n",
       "        vertical-align: top;\n",
       "    }\n",
       "\n",
       "    .dataframe thead th {\n",
       "        text-align: right;\n",
       "    }\n",
       "</style>\n",
       "<table border=\"1\" class=\"dataframe\">\n",
       "  <thead>\n",
       "    <tr style=\"text-align: right;\">\n",
       "      <th></th>\n",
       "      <th>aws_service</th>\n",
       "      <th>device</th>\n",
       "      <th>usage_type</th>\n",
       "      <th>cost</th>\n",
       "      <th>basis</th>\n",
       "    </tr>\n",
       "  </thead>\n",
       "  <tbody>\n",
       "    <tr>\n",
       "      <th>332</th>\n",
       "      <td>DataTransfer</td>\n",
       "      <td></td>\n",
       "      <td>Out-Bytes</td>\n",
       "      <td>$0.15</td>\n",
       "      <td>1.652917377777778 gb - first 10 tb / month data transfer at $0.09 ea.</td>\n",
       "    </tr>\n",
       "    <tr>\n",
       "      <th>9</th>\n",
       "      <td>Multi</td>\n",
       "      <td></td>\n",
       "      <td>AZUsage:db.m4.large</td>\n",
       "      <td>$131.25</td>\n",
       "      <td>375.0 instance hour at $0.35 ea.</td>\n",
       "    </tr>\n",
       "    <tr>\n",
       "      <th>84</th>\n",
       "      <td>RDS</td>\n",
       "      <td></td>\n",
       "      <td>GP2-Storage</td>\n",
       "      <td>$11.5</td>\n",
       "      <td>99.99999982608695 gb-month at $0.12 ea.</td>\n",
       "    </tr>\n",
       "    <tr>\n",
       "      <th>28</th>\n",
       "      <td>RDS</td>\n",
       "      <td></td>\n",
       "      <td>Multi-AZ-GP2-Storage</td>\n",
       "      <td>$92.0</td>\n",
       "      <td>400.0000000869565 gb-month at $0.23 ea.</td>\n",
       "    </tr>\n",
       "  </tbody>\n",
       "</table>\n",
       "</div>"
      ],
      "text/latex": [
       "\\begin{tabular}{llllll}\n",
       "\\toprule\n",
       "{} &   aws\\_service & device &            usage\\_type &     cost &                                                                  basis \\\\\n",
       "\\midrule\n",
       "332 &  DataTransfer &        &             Out-Bytes &    \\$0.15 &  1.652917377777778 gb - first 10 tb / month data transfer at \\$0.09 ea. \\\\\n",
       "9   &         Multi &        &   AZUsage:db.m4.large &  \\$131.25 &                                       375.0 instance hour at \\$0.35 ea. \\\\\n",
       "84  &           RDS &        &           GP2-Storage &    \\$11.5 &                                99.99999982608695 gb-month at \\$0.12 ea. \\\\\n",
       "28  &           RDS &        &  Multi-AZ-GP2-Storage &    \\$92.0 &                                400.0000000869565 gb-month at \\$0.23 ea. \\\\\n",
       "\\bottomrule\n",
       "\\end{tabular}\n"
      ],
      "text/plain": [
       "      aws_service device            usage_type     cost  \\\n",
       "332  DataTransfer                    Out-Bytes    $0.15   \n",
       "9           Multi          AZUsage:db.m4.large  $131.25   \n",
       "84            RDS                  GP2-Storage    $11.5   \n",
       "28            RDS         Multi-AZ-GP2-Storage    $92.0   \n",
       "\n",
       "                                                                     basis  \n",
       "332  1.652917377777778 gb - first 10 tb / month data transfer at $0.09 ea.  \n",
       "9                                         375.0 instance hour at $0.35 ea.  \n",
       "84                                 99.99999982608695 gb-month at $0.12 ea.  \n",
       "28                                 400.0000000869565 gb-month at $0.23 ea.  "
      ]
     },
     "metadata": {},
     "output_type": "display_data"
    },
    {
     "data": {
      "text/markdown": [
       "## audit"
      ],
      "text/plain": [
       "<IPython.core.display.Markdown object>"
      ]
     },
     "metadata": {},
     "output_type": "display_data"
    },
    {
     "data": {
      "text/markdown": [
       "##### Total cost: $874.63"
      ],
      "text/plain": [
       "<IPython.core.display.Markdown object>"
      ]
     },
     "metadata": {},
     "output_type": "display_data"
    },
    {
     "data": {
      "text/markdown": [
       "### "
      ],
      "text/plain": [
       "<IPython.core.display.Markdown object>"
      ]
     },
     "metadata": {},
     "output_type": "display_data"
    },
    {
     "data": {
      "text/markdown": [
       "##### Total cost for audit : $0.0"
      ],
      "text/plain": [
       "<IPython.core.display.Markdown object>"
      ]
     },
     "metadata": {},
     "output_type": "display_data"
    },
    {
     "data": {
      "text/markdown": [
       "### dev"
      ],
      "text/plain": [
       "<IPython.core.display.Markdown object>"
      ]
     },
     "metadata": {},
     "output_type": "display_data"
    },
    {
     "data": {
      "text/markdown": [
       "##### Total cost for audit dev: $15.84"
      ],
      "text/plain": [
       "<IPython.core.display.Markdown object>"
      ]
     },
     "metadata": {},
     "output_type": "display_data"
    },
    {
     "data": {
      "text/markdown": [
       "#### uc3-mrtaudit-dev"
      ],
      "text/plain": [
       "<IPython.core.display.Markdown object>"
      ]
     },
     "metadata": {},
     "output_type": "display_data"
    },
    {
     "data": {
      "text/markdown": [
       "#### Total cost for uc3-mrtaudit-dev: $15.84"
      ],
      "text/plain": [
       "<IPython.core.display.Markdown object>"
      ]
     },
     "metadata": {},
     "output_type": "display_data"
    },
    {
     "data": {
      "text/html": [
       "<div>\n",
       "<style scoped>\n",
       "    .dataframe tbody tr th:only-of-type {\n",
       "        vertical-align: middle;\n",
       "    }\n",
       "\n",
       "    .dataframe tbody tr th {\n",
       "        vertical-align: top;\n",
       "    }\n",
       "\n",
       "    .dataframe thead th {\n",
       "        text-align: right;\n",
       "    }\n",
       "</style>\n",
       "<table border=\"1\" class=\"dataframe\">\n",
       "  <thead>\n",
       "    <tr style=\"text-align: right;\">\n",
       "      <th></th>\n",
       "      <th>aws_service</th>\n",
       "      <th>device</th>\n",
       "      <th>usage_type</th>\n",
       "      <th>cost</th>\n",
       "      <th>basis</th>\n",
       "    </tr>\n",
       "  </thead>\n",
       "  <tbody>\n",
       "    <tr>\n",
       "      <th>119</th>\n",
       "      <td>BoxUsage</td>\n",
       "      <td></td>\n",
       "      <td>t2.small</td>\n",
       "      <td>$5.7</td>\n",
       "      <td>245.74668431034488 instance hour at $0.02 ea.</td>\n",
       "    </tr>\n",
       "    <tr>\n",
       "      <th>145</th>\n",
       "      <td>EBS</td>\n",
       "      <td>/dev/sdb</td>\n",
       "      <td>SnapshotUsage</td>\n",
       "      <td>$4.3</td>\n",
       "      <td>86.09335983999999 gb-month at $0.05 ea.</td>\n",
       "    </tr>\n",
       "    <tr>\n",
       "      <th>147</th>\n",
       "      <td>EBS</td>\n",
       "      <td>/dev/sdb</td>\n",
       "      <td>VolumeUsage</td>\n",
       "      <td>$4.25</td>\n",
       "      <td>85.00000032 gb-month at $0.05 ea.</td>\n",
       "    </tr>\n",
       "    <tr>\n",
       "      <th>232</th>\n",
       "      <td>EBS</td>\n",
       "      <td>/dev/xvda</td>\n",
       "      <td>SnapshotUsage</td>\n",
       "      <td>$0.83</td>\n",
       "      <td>16.63932154 gb-month at $0.05 ea.</td>\n",
       "    </tr>\n",
       "    <tr>\n",
       "      <th>431</th>\n",
       "      <td>EBS</td>\n",
       "      <td>/dev/xvda</td>\n",
       "      <td>VolumeIOUsage</td>\n",
       "      <td>$0.05</td>\n",
       "      <td>1.025088 million i/o requests at $0.05 ea.</td>\n",
       "    </tr>\n",
       "    <tr>\n",
       "      <th>256</th>\n",
       "      <td>EBS</td>\n",
       "      <td>/dev/xvda</td>\n",
       "      <td>VolumeUsage</td>\n",
       "      <td>$0.6</td>\n",
       "      <td>11.99999952 gb-month at $0.05 ea.</td>\n",
       "    </tr>\n",
       "    <tr>\n",
       "      <th>344</th>\n",
       "      <td>EBS</td>\n",
       "      <td>swap</td>\n",
       "      <td>VolumeUsage</td>\n",
       "      <td>$0.1</td>\n",
       "      <td>2.00000016 gb-month at $0.05 ea.</td>\n",
       "    </tr>\n",
       "  </tbody>\n",
       "</table>\n",
       "</div>"
      ],
      "text/latex": [
       "\\begin{tabular}{llllll}\n",
       "\\toprule\n",
       "{} & aws\\_service &     device &     usage\\_type &   cost &                                          basis \\\\\n",
       "\\midrule\n",
       "119 &    BoxUsage &            &       t2.small &   \\$5.7 &  245.74668431034488 instance hour at \\$0.02 ea. \\\\\n",
       "145 &         EBS &   /dev/sdb &  SnapshotUsage &   \\$4.3 &        86.09335983999999 gb-month at \\$0.05 ea. \\\\\n",
       "147 &         EBS &   /dev/sdb &    VolumeUsage &  \\$4.25 &              85.00000032 gb-month at \\$0.05 ea. \\\\\n",
       "232 &         EBS &  /dev/xvda &  SnapshotUsage &  \\$0.83 &              16.63932154 gb-month at \\$0.05 ea. \\\\\n",
       "431 &         EBS &  /dev/xvda &  VolumeIOUsage &  \\$0.05 &     1.025088 million i/o requests at \\$0.05 ea. \\\\\n",
       "256 &         EBS &  /dev/xvda &    VolumeUsage &   \\$0.6 &              11.99999952 gb-month at \\$0.05 ea. \\\\\n",
       "344 &         EBS &       swap &    VolumeUsage &   \\$0.1 &               2.00000016 gb-month at \\$0.05 ea. \\\\\n",
       "\\bottomrule\n",
       "\\end{tabular}\n"
      ],
      "text/plain": [
       "    aws_service     device     usage_type   cost  \\\n",
       "119    BoxUsage                  t2.small   $5.7   \n",
       "145         EBS   /dev/sdb  SnapshotUsage   $4.3   \n",
       "147         EBS   /dev/sdb    VolumeUsage  $4.25   \n",
       "232         EBS  /dev/xvda  SnapshotUsage  $0.83   \n",
       "431         EBS  /dev/xvda  VolumeIOUsage  $0.05   \n",
       "256         EBS  /dev/xvda    VolumeUsage   $0.6   \n",
       "344         EBS       swap    VolumeUsage   $0.1   \n",
       "\n",
       "                                             basis  \n",
       "119  245.74668431034488 instance hour at $0.02 ea.  \n",
       "145        86.09335983999999 gb-month at $0.05 ea.  \n",
       "147              85.00000032 gb-month at $0.05 ea.  \n",
       "232              16.63932154 gb-month at $0.05 ea.  \n",
       "431     1.025088 million i/o requests at $0.05 ea.  \n",
       "256              11.99999952 gb-month at $0.05 ea.  \n",
       "344               2.00000016 gb-month at $0.05 ea.  "
      ]
     },
     "metadata": {},
     "output_type": "display_data"
    },
    {
     "data": {
      "text/markdown": [
       "### prd"
      ],
      "text/plain": [
       "<IPython.core.display.Markdown object>"
      ]
     },
     "metadata": {},
     "output_type": "display_data"
    },
    {
     "data": {
      "text/markdown": [
       "##### Total cost for audit prd: $838.65"
      ],
      "text/plain": [
       "<IPython.core.display.Markdown object>"
      ]
     },
     "metadata": {},
     "output_type": "display_data"
    },
    {
     "data": {
      "text/markdown": [
       "#### uc3-mrtaudit1-prd"
      ],
      "text/plain": [
       "<IPython.core.display.Markdown object>"
      ]
     },
     "metadata": {},
     "output_type": "display_data"
    },
    {
     "data": {
      "text/markdown": [
       "#### Total cost for uc3-mrtaudit1-prd: $280.2"
      ],
      "text/plain": [
       "<IPython.core.display.Markdown object>"
      ]
     },
     "metadata": {},
     "output_type": "display_data"
    },
    {
     "data": {
      "text/html": [
       "<div>\n",
       "<style scoped>\n",
       "    .dataframe tbody tr th:only-of-type {\n",
       "        vertical-align: middle;\n",
       "    }\n",
       "\n",
       "    .dataframe tbody tr th {\n",
       "        vertical-align: top;\n",
       "    }\n",
       "\n",
       "    .dataframe thead th {\n",
       "        text-align: right;\n",
       "    }\n",
       "</style>\n",
       "<table border=\"1\" class=\"dataframe\">\n",
       "  <thead>\n",
       "    <tr style=\"text-align: right;\">\n",
       "      <th></th>\n",
       "      <th>aws_service</th>\n",
       "      <th>device</th>\n",
       "      <th>usage_type</th>\n",
       "      <th>cost</th>\n",
       "      <th>basis</th>\n",
       "    </tr>\n",
       "  </thead>\n",
       "  <tbody>\n",
       "    <tr>\n",
       "      <th>50</th>\n",
       "      <td>BoxUsage</td>\n",
       "      <td></td>\n",
       "      <td>t2.medium</td>\n",
       "      <td>$33.41</td>\n",
       "      <td>720.0000000000001 instance hour at $0.05 ea.</td>\n",
       "    </tr>\n",
       "    <tr>\n",
       "      <th>81</th>\n",
       "      <td>DataTransfer</td>\n",
       "      <td></td>\n",
       "      <td>Out-Bytes</td>\n",
       "      <td>$12.48</td>\n",
       "      <td>138.67034366666667 gb - first 10 tb / month data transfer at $0.09 ea.</td>\n",
       "    </tr>\n",
       "    <tr>\n",
       "      <th>322</th>\n",
       "      <td>DataTransfer</td>\n",
       "      <td></td>\n",
       "      <td>Regional-Bytes</td>\n",
       "      <td>$0.28</td>\n",
       "      <td>28.204674899999997 gb - regional data transfer at $0.01 ea.</td>\n",
       "    </tr>\n",
       "    <tr>\n",
       "      <th>12</th>\n",
       "      <td>EBS</td>\n",
       "      <td></td>\n",
       "      <td>SnapshotUsage</td>\n",
       "      <td>$109.78</td>\n",
       "      <td>1995.979810909091 gb-month at $0.06 ea.</td>\n",
       "    </tr>\n",
       "    <tr>\n",
       "      <th>85</th>\n",
       "      <td>EBS</td>\n",
       "      <td>/dev/sdb</td>\n",
       "      <td>SnapshotUsage</td>\n",
       "      <td>$11.34</td>\n",
       "      <td>226.78274399999998 gb-month at $0.05 ea.</td>\n",
       "    </tr>\n",
       "    <tr>\n",
       "      <th>424</th>\n",
       "      <td>EBS</td>\n",
       "      <td>/dev/sdb</td>\n",
       "      <td>VolumeIOUsage</td>\n",
       "      <td>$0.06</td>\n",
       "      <td>1.1213289999999998 million i/o requests at $0.05 ea.</td>\n",
       "    </tr>\n",
       "    <tr>\n",
       "      <th>87</th>\n",
       "      <td>EBS</td>\n",
       "      <td>/dev/sdb</td>\n",
       "      <td>VolumeUsage</td>\n",
       "      <td>$10.6</td>\n",
       "      <td>211.9999996 gb-month at $0.05 ea.</td>\n",
       "    </tr>\n",
       "    <tr>\n",
       "      <th>22</th>\n",
       "      <td>EBS</td>\n",
       "      <td>/dev/sdc</td>\n",
       "      <td>VolumeUsage.gp2</td>\n",
       "      <td>$100.0</td>\n",
       "      <td>1000.0 gb-month at $0.1 ea.</td>\n",
       "    </tr>\n",
       "    <tr>\n",
       "      <th>194</th>\n",
       "      <td>EBS</td>\n",
       "      <td>/dev/xvda</td>\n",
       "      <td>SnapshotUsage</td>\n",
       "      <td>$1.11</td>\n",
       "      <td>22.27394654 gb-month at $0.05 ea.</td>\n",
       "    </tr>\n",
       "    <tr>\n",
       "      <th>316</th>\n",
       "      <td>EBS</td>\n",
       "      <td>/dev/xvda</td>\n",
       "      <td>VolumeIOUsage</td>\n",
       "      <td>$0.44</td>\n",
       "      <td>8.827221 million i/o requests at $0.05 ea.</td>\n",
       "    </tr>\n",
       "    <tr>\n",
       "      <th>258</th>\n",
       "      <td>EBS</td>\n",
       "      <td>/dev/xvda</td>\n",
       "      <td>VolumeUsage</td>\n",
       "      <td>$0.6</td>\n",
       "      <td>11.99999952 gb-month at $0.05 ea.</td>\n",
       "    </tr>\n",
       "    <tr>\n",
       "      <th>346</th>\n",
       "      <td>EBS</td>\n",
       "      <td>swap</td>\n",
       "      <td>VolumeUsage</td>\n",
       "      <td>$0.1</td>\n",
       "      <td>2.00000016 gb-month at $0.05 ea.</td>\n",
       "    </tr>\n",
       "  </tbody>\n",
       "</table>\n",
       "</div>"
      ],
      "text/latex": [
       "\\begin{tabular}{llllll}\n",
       "\\toprule\n",
       "{} &   aws\\_service &     device &       usage\\_type &     cost &                                                                   basis \\\\\n",
       "\\midrule\n",
       "50  &      BoxUsage &            &        t2.medium &   \\$33.41 &                            720.0000000000001 instance hour at \\$0.05 ea. \\\\\n",
       "81  &  DataTransfer &            &        Out-Bytes &   \\$12.48 &  138.67034366666667 gb - first 10 tb / month data transfer at \\$0.09 ea. \\\\\n",
       "322 &  DataTransfer &            &   Regional-Bytes &    \\$0.28 &             28.204674899999997 gb - regional data transfer at \\$0.01 ea. \\\\\n",
       "12  &           EBS &            &    SnapshotUsage &  \\$109.78 &                                 1995.979810909091 gb-month at \\$0.06 ea. \\\\\n",
       "85  &           EBS &   /dev/sdb &    SnapshotUsage &   \\$11.34 &                                226.78274399999998 gb-month at \\$0.05 ea. \\\\\n",
       "424 &           EBS &   /dev/sdb &    VolumeIOUsage &    \\$0.06 &                    1.1213289999999998 million i/o requests at \\$0.05 ea. \\\\\n",
       "87  &           EBS &   /dev/sdb &      VolumeUsage &    \\$10.6 &                                       211.9999996 gb-month at \\$0.05 ea. \\\\\n",
       "22  &           EBS &   /dev/sdc &  VolumeUsage.gp2 &   \\$100.0 &                                             1000.0 gb-month at \\$0.1 ea. \\\\\n",
       "194 &           EBS &  /dev/xvda &    SnapshotUsage &    \\$1.11 &                                       22.27394654 gb-month at \\$0.05 ea. \\\\\n",
       "316 &           EBS &  /dev/xvda &    VolumeIOUsage &    \\$0.44 &                              8.827221 million i/o requests at \\$0.05 ea. \\\\\n",
       "258 &           EBS &  /dev/xvda &      VolumeUsage &     \\$0.6 &                                       11.99999952 gb-month at \\$0.05 ea. \\\\\n",
       "346 &           EBS &       swap &      VolumeUsage &     \\$0.1 &                                        2.00000016 gb-month at \\$0.05 ea. \\\\\n",
       "\\bottomrule\n",
       "\\end{tabular}\n"
      ],
      "text/plain": [
       "      aws_service     device       usage_type     cost  \\\n",
       "50       BoxUsage                   t2.medium   $33.41   \n",
       "81   DataTransfer                   Out-Bytes   $12.48   \n",
       "322  DataTransfer              Regional-Bytes    $0.28   \n",
       "12            EBS               SnapshotUsage  $109.78   \n",
       "85            EBS   /dev/sdb    SnapshotUsage   $11.34   \n",
       "424           EBS   /dev/sdb    VolumeIOUsage    $0.06   \n",
       "87            EBS   /dev/sdb      VolumeUsage    $10.6   \n",
       "22            EBS   /dev/sdc  VolumeUsage.gp2   $100.0   \n",
       "194           EBS  /dev/xvda    SnapshotUsage    $1.11   \n",
       "316           EBS  /dev/xvda    VolumeIOUsage    $0.44   \n",
       "258           EBS  /dev/xvda      VolumeUsage     $0.6   \n",
       "346           EBS       swap      VolumeUsage     $0.1   \n",
       "\n",
       "                                                                      basis  \n",
       "50                             720.0000000000001 instance hour at $0.05 ea.  \n",
       "81   138.67034366666667 gb - first 10 tb / month data transfer at $0.09 ea.  \n",
       "322             28.204674899999997 gb - regional data transfer at $0.01 ea.  \n",
       "12                                  1995.979810909091 gb-month at $0.06 ea.  \n",
       "85                                 226.78274399999998 gb-month at $0.05 ea.  \n",
       "424                    1.1213289999999998 million i/o requests at $0.05 ea.  \n",
       "87                                        211.9999996 gb-month at $0.05 ea.  \n",
       "22                                              1000.0 gb-month at $0.1 ea.  \n",
       "194                                       22.27394654 gb-month at $0.05 ea.  \n",
       "316                              8.827221 million i/o requests at $0.05 ea.  \n",
       "258                                       11.99999952 gb-month at $0.05 ea.  \n",
       "346                                        2.00000016 gb-month at $0.05 ea.  "
      ]
     },
     "metadata": {},
     "output_type": "display_data"
    },
    {
     "data": {
      "text/markdown": [
       "#### uc3-mrtaudit2-prd"
      ],
      "text/plain": [
       "<IPython.core.display.Markdown object>"
      ]
     },
     "metadata": {},
     "output_type": "display_data"
    },
    {
     "data": {
      "text/markdown": [
       "#### Total cost for uc3-mrtaudit2-prd: $160.28"
      ],
      "text/plain": [
       "<IPython.core.display.Markdown object>"
      ]
     },
     "metadata": {},
     "output_type": "display_data"
    },
    {
     "data": {
      "text/html": [
       "<div>\n",
       "<style scoped>\n",
       "    .dataframe tbody tr th:only-of-type {\n",
       "        vertical-align: middle;\n",
       "    }\n",
       "\n",
       "    .dataframe tbody tr th {\n",
       "        vertical-align: top;\n",
       "    }\n",
       "\n",
       "    .dataframe thead th {\n",
       "        text-align: right;\n",
       "    }\n",
       "</style>\n",
       "<table border=\"1\" class=\"dataframe\">\n",
       "  <thead>\n",
       "    <tr style=\"text-align: right;\">\n",
       "      <th></th>\n",
       "      <th>aws_service</th>\n",
       "      <th>device</th>\n",
       "      <th>usage_type</th>\n",
       "      <th>cost</th>\n",
       "      <th>basis</th>\n",
       "    </tr>\n",
       "  </thead>\n",
       "  <tbody>\n",
       "    <tr>\n",
       "      <th>51</th>\n",
       "      <td>BoxUsage</td>\n",
       "      <td></td>\n",
       "      <td>t2.medium</td>\n",
       "      <td>$33.41</td>\n",
       "      <td>720.0000000000001 instance hour at $0.05 ea.</td>\n",
       "    </tr>\n",
       "    <tr>\n",
       "      <th>146</th>\n",
       "      <td>DataTransfer</td>\n",
       "      <td></td>\n",
       "      <td>Out-Bytes</td>\n",
       "      <td>$4.28</td>\n",
       "      <td>47.53679175555556 gb - first 10 tb / month data transfer at $0.09 ea.</td>\n",
       "    </tr>\n",
       "    <tr>\n",
       "      <th>464</th>\n",
       "      <td>DataTransfer</td>\n",
       "      <td></td>\n",
       "      <td>Regional-Bytes</td>\n",
       "      <td>$0.02</td>\n",
       "      <td>1.5423562 gb - regional data transfer at $0.01 ea.</td>\n",
       "    </tr>\n",
       "    <tr>\n",
       "      <th>90</th>\n",
       "      <td>EBS</td>\n",
       "      <td>/dev/sdb</td>\n",
       "      <td>SnapshotUsage</td>\n",
       "      <td>$10.22</td>\n",
       "      <td>204.42740019999997 gb-month at $0.05 ea.</td>\n",
       "    </tr>\n",
       "    <tr>\n",
       "      <th>447</th>\n",
       "      <td>EBS</td>\n",
       "      <td>/dev/sdb</td>\n",
       "      <td>VolumeIOUsage</td>\n",
       "      <td>$0.04</td>\n",
       "      <td>0.732537 million i/o requests at $0.05 ea.</td>\n",
       "    </tr>\n",
       "    <tr>\n",
       "      <th>91</th>\n",
       "      <td>EBS</td>\n",
       "      <td>/dev/sdb</td>\n",
       "      <td>VolumeUsage</td>\n",
       "      <td>$10.0</td>\n",
       "      <td>200.00000020000002 gb-month at $0.05 ea.</td>\n",
       "    </tr>\n",
       "    <tr>\n",
       "      <th>23</th>\n",
       "      <td>EBS</td>\n",
       "      <td>/dev/sdc</td>\n",
       "      <td>VolumeUsage.gp2</td>\n",
       "      <td>$100.0</td>\n",
       "      <td>1000.0 gb-month at $0.1 ea.</td>\n",
       "    </tr>\n",
       "    <tr>\n",
       "      <th>199</th>\n",
       "      <td>EBS</td>\n",
       "      <td>/dev/xvda</td>\n",
       "      <td>SnapshotUsage</td>\n",
       "      <td>$1.09</td>\n",
       "      <td>21.74597146 gb-month at $0.05 ea.</td>\n",
       "    </tr>\n",
       "    <tr>\n",
       "      <th>313</th>\n",
       "      <td>EBS</td>\n",
       "      <td>/dev/xvda</td>\n",
       "      <td>VolumeIOUsage</td>\n",
       "      <td>$0.53</td>\n",
       "      <td>10.593774 million i/o requests at $0.05 ea.</td>\n",
       "    </tr>\n",
       "    <tr>\n",
       "      <th>259</th>\n",
       "      <td>EBS</td>\n",
       "      <td>/dev/xvda</td>\n",
       "      <td>VolumeUsage</td>\n",
       "      <td>$0.6</td>\n",
       "      <td>11.99999952 gb-month at $0.05 ea.</td>\n",
       "    </tr>\n",
       "    <tr>\n",
       "      <th>347</th>\n",
       "      <td>EBS</td>\n",
       "      <td>swap</td>\n",
       "      <td>VolumeUsage</td>\n",
       "      <td>$0.1</td>\n",
       "      <td>2.00000016 gb-month at $0.05 ea.</td>\n",
       "    </tr>\n",
       "  </tbody>\n",
       "</table>\n",
       "</div>"
      ],
      "text/latex": [
       "\\begin{tabular}{llllll}\n",
       "\\toprule\n",
       "{} &   aws\\_service &     device &       usage\\_type &    cost &                                                                  basis \\\\\n",
       "\\midrule\n",
       "51  &      BoxUsage &            &        t2.medium &  \\$33.41 &                           720.0000000000001 instance hour at \\$0.05 ea. \\\\\n",
       "146 &  DataTransfer &            &        Out-Bytes &   \\$4.28 &  47.53679175555556 gb - first 10 tb / month data transfer at \\$0.09 ea. \\\\\n",
       "464 &  DataTransfer &            &   Regional-Bytes &   \\$0.02 &                     1.5423562 gb - regional data transfer at \\$0.01 ea. \\\\\n",
       "90  &           EBS &   /dev/sdb &    SnapshotUsage &  \\$10.22 &                               204.42740019999997 gb-month at \\$0.05 ea. \\\\\n",
       "447 &           EBS &   /dev/sdb &    VolumeIOUsage &   \\$0.04 &                             0.732537 million i/o requests at \\$0.05 ea. \\\\\n",
       "91  &           EBS &   /dev/sdb &      VolumeUsage &   \\$10.0 &                               200.00000020000002 gb-month at \\$0.05 ea. \\\\\n",
       "23  &           EBS &   /dev/sdc &  VolumeUsage.gp2 &  \\$100.0 &                                            1000.0 gb-month at \\$0.1 ea. \\\\\n",
       "199 &           EBS &  /dev/xvda &    SnapshotUsage &   \\$1.09 &                                      21.74597146 gb-month at \\$0.05 ea. \\\\\n",
       "313 &           EBS &  /dev/xvda &    VolumeIOUsage &   \\$0.53 &                            10.593774 million i/o requests at \\$0.05 ea. \\\\\n",
       "259 &           EBS &  /dev/xvda &      VolumeUsage &    \\$0.6 &                                      11.99999952 gb-month at \\$0.05 ea. \\\\\n",
       "347 &           EBS &       swap &      VolumeUsage &    \\$0.1 &                                       2.00000016 gb-month at \\$0.05 ea. \\\\\n",
       "\\bottomrule\n",
       "\\end{tabular}\n"
      ],
      "text/plain": [
       "      aws_service     device       usage_type    cost  \\\n",
       "51       BoxUsage                   t2.medium  $33.41   \n",
       "146  DataTransfer                   Out-Bytes   $4.28   \n",
       "464  DataTransfer              Regional-Bytes   $0.02   \n",
       "90            EBS   /dev/sdb    SnapshotUsage  $10.22   \n",
       "447           EBS   /dev/sdb    VolumeIOUsage   $0.04   \n",
       "91            EBS   /dev/sdb      VolumeUsage   $10.0   \n",
       "23            EBS   /dev/sdc  VolumeUsage.gp2  $100.0   \n",
       "199           EBS  /dev/xvda    SnapshotUsage   $1.09   \n",
       "313           EBS  /dev/xvda    VolumeIOUsage   $0.53   \n",
       "259           EBS  /dev/xvda      VolumeUsage    $0.6   \n",
       "347           EBS       swap      VolumeUsage    $0.1   \n",
       "\n",
       "                                                                     basis  \n",
       "51                            720.0000000000001 instance hour at $0.05 ea.  \n",
       "146  47.53679175555556 gb - first 10 tb / month data transfer at $0.09 ea.  \n",
       "464                     1.5423562 gb - regional data transfer at $0.01 ea.  \n",
       "90                                204.42740019999997 gb-month at $0.05 ea.  \n",
       "447                             0.732537 million i/o requests at $0.05 ea.  \n",
       "91                                200.00000020000002 gb-month at $0.05 ea.  \n",
       "23                                             1000.0 gb-month at $0.1 ea.  \n",
       "199                                      21.74597146 gb-month at $0.05 ea.  \n",
       "313                            10.593774 million i/o requests at $0.05 ea.  \n",
       "259                                      11.99999952 gb-month at $0.05 ea.  \n",
       "347                                       2.00000016 gb-month at $0.05 ea.  "
      ]
     },
     "metadata": {},
     "output_type": "display_data"
    },
    {
     "data": {
      "text/markdown": [
       "#### uc3-mrtaudit3-prd"
      ],
      "text/plain": [
       "<IPython.core.display.Markdown object>"
      ]
     },
     "metadata": {},
     "output_type": "display_data"
    },
    {
     "data": {
      "text/markdown": [
       "#### Total cost for uc3-mrtaudit3-prd: $170.56"
      ],
      "text/plain": [
       "<IPython.core.display.Markdown object>"
      ]
     },
     "metadata": {},
     "output_type": "display_data"
    },
    {
     "data": {
      "text/html": [
       "<div>\n",
       "<style scoped>\n",
       "    .dataframe tbody tr th:only-of-type {\n",
       "        vertical-align: middle;\n",
       "    }\n",
       "\n",
       "    .dataframe tbody tr th {\n",
       "        vertical-align: top;\n",
       "    }\n",
       "\n",
       "    .dataframe thead th {\n",
       "        text-align: right;\n",
       "    }\n",
       "</style>\n",
       "<table border=\"1\" class=\"dataframe\">\n",
       "  <thead>\n",
       "    <tr style=\"text-align: right;\">\n",
       "      <th></th>\n",
       "      <th>aws_service</th>\n",
       "      <th>device</th>\n",
       "      <th>usage_type</th>\n",
       "      <th>cost</th>\n",
       "      <th>basis</th>\n",
       "    </tr>\n",
       "  </thead>\n",
       "  <tbody>\n",
       "    <tr>\n",
       "      <th>52</th>\n",
       "      <td>BoxUsage</td>\n",
       "      <td></td>\n",
       "      <td>t2.medium</td>\n",
       "      <td>$33.41</td>\n",
       "      <td>720.0000000000001 instance hour at $0.05 ea.</td>\n",
       "    </tr>\n",
       "    <tr>\n",
       "      <th>74</th>\n",
       "      <td>DataTransfer</td>\n",
       "      <td></td>\n",
       "      <td>Out-Bytes</td>\n",
       "      <td>$13.41</td>\n",
       "      <td>149.03765033333335 gb - first 10 tb / month data transfer at $0.09 ea.</td>\n",
       "    </tr>\n",
       "    <tr>\n",
       "      <th>320</th>\n",
       "      <td>DataTransfer</td>\n",
       "      <td></td>\n",
       "      <td>Regional-Bytes</td>\n",
       "      <td>$0.3</td>\n",
       "      <td>29.708754199999998 gb - regional data transfer at $0.01 ea.</td>\n",
       "    </tr>\n",
       "    <tr>\n",
       "      <th>86</th>\n",
       "      <td>EBS</td>\n",
       "      <td>/dev/sdb</td>\n",
       "      <td>SnapshotUsage</td>\n",
       "      <td>$10.6</td>\n",
       "      <td>212.00085860000002 gb-month at $0.05 ea.</td>\n",
       "    </tr>\n",
       "    <tr>\n",
       "      <th>429</th>\n",
       "      <td>EBS</td>\n",
       "      <td>/dev/sdb</td>\n",
       "      <td>VolumeIOUsage</td>\n",
       "      <td>$0.05</td>\n",
       "      <td>1.0463149999999999 million i/o requests at $0.05 ea.</td>\n",
       "    </tr>\n",
       "    <tr>\n",
       "      <th>88</th>\n",
       "      <td>EBS</td>\n",
       "      <td>/dev/sdb</td>\n",
       "      <td>VolumeUsage</td>\n",
       "      <td>$10.6</td>\n",
       "      <td>211.9999996 gb-month at $0.05 ea.</td>\n",
       "    </tr>\n",
       "    <tr>\n",
       "      <th>24</th>\n",
       "      <td>EBS</td>\n",
       "      <td>/dev/sdc</td>\n",
       "      <td>VolumeUsage.gp2</td>\n",
       "      <td>$100.0</td>\n",
       "      <td>1000.0 gb-month at $0.1 ea.</td>\n",
       "    </tr>\n",
       "    <tr>\n",
       "      <th>196</th>\n",
       "      <td>EBS</td>\n",
       "      <td>/dev/xvda</td>\n",
       "      <td>SnapshotUsage</td>\n",
       "      <td>$1.1</td>\n",
       "      <td>21.935984199999996 gb-month at $0.05 ea.</td>\n",
       "    </tr>\n",
       "    <tr>\n",
       "      <th>318</th>\n",
       "      <td>EBS</td>\n",
       "      <td>/dev/xvda</td>\n",
       "      <td>VolumeIOUsage</td>\n",
       "      <td>$0.39</td>\n",
       "      <td>7.899434 million i/o requests at $0.05 ea.</td>\n",
       "    </tr>\n",
       "    <tr>\n",
       "      <th>260</th>\n",
       "      <td>EBS</td>\n",
       "      <td>/dev/xvda</td>\n",
       "      <td>VolumeUsage</td>\n",
       "      <td>$0.6</td>\n",
       "      <td>11.99999952 gb-month at $0.05 ea.</td>\n",
       "    </tr>\n",
       "    <tr>\n",
       "      <th>348</th>\n",
       "      <td>EBS</td>\n",
       "      <td>swap</td>\n",
       "      <td>VolumeUsage</td>\n",
       "      <td>$0.1</td>\n",
       "      <td>2.00000016 gb-month at $0.05 ea.</td>\n",
       "    </tr>\n",
       "  </tbody>\n",
       "</table>\n",
       "</div>"
      ],
      "text/latex": [
       "\\begin{tabular}{llllll}\n",
       "\\toprule\n",
       "{} &   aws\\_service &     device &       usage\\_type &    cost &                                                                   basis \\\\\n",
       "\\midrule\n",
       "52  &      BoxUsage &            &        t2.medium &  \\$33.41 &                            720.0000000000001 instance hour at \\$0.05 ea. \\\\\n",
       "74  &  DataTransfer &            &        Out-Bytes &  \\$13.41 &  149.03765033333335 gb - first 10 tb / month data transfer at \\$0.09 ea. \\\\\n",
       "320 &  DataTransfer &            &   Regional-Bytes &    \\$0.3 &             29.708754199999998 gb - regional data transfer at \\$0.01 ea. \\\\\n",
       "86  &           EBS &   /dev/sdb &    SnapshotUsage &   \\$10.6 &                                212.00085860000002 gb-month at \\$0.05 ea. \\\\\n",
       "429 &           EBS &   /dev/sdb &    VolumeIOUsage &   \\$0.05 &                    1.0463149999999999 million i/o requests at \\$0.05 ea. \\\\\n",
       "88  &           EBS &   /dev/sdb &      VolumeUsage &   \\$10.6 &                                       211.9999996 gb-month at \\$0.05 ea. \\\\\n",
       "24  &           EBS &   /dev/sdc &  VolumeUsage.gp2 &  \\$100.0 &                                             1000.0 gb-month at \\$0.1 ea. \\\\\n",
       "196 &           EBS &  /dev/xvda &    SnapshotUsage &    \\$1.1 &                                21.935984199999996 gb-month at \\$0.05 ea. \\\\\n",
       "318 &           EBS &  /dev/xvda &    VolumeIOUsage &   \\$0.39 &                              7.899434 million i/o requests at \\$0.05 ea. \\\\\n",
       "260 &           EBS &  /dev/xvda &      VolumeUsage &    \\$0.6 &                                       11.99999952 gb-month at \\$0.05 ea. \\\\\n",
       "348 &           EBS &       swap &      VolumeUsage &    \\$0.1 &                                        2.00000016 gb-month at \\$0.05 ea. \\\\\n",
       "\\bottomrule\n",
       "\\end{tabular}\n"
      ],
      "text/plain": [
       "      aws_service     device       usage_type    cost  \\\n",
       "52       BoxUsage                   t2.medium  $33.41   \n",
       "74   DataTransfer                   Out-Bytes  $13.41   \n",
       "320  DataTransfer              Regional-Bytes    $0.3   \n",
       "86            EBS   /dev/sdb    SnapshotUsage   $10.6   \n",
       "429           EBS   /dev/sdb    VolumeIOUsage   $0.05   \n",
       "88            EBS   /dev/sdb      VolumeUsage   $10.6   \n",
       "24            EBS   /dev/sdc  VolumeUsage.gp2  $100.0   \n",
       "196           EBS  /dev/xvda    SnapshotUsage    $1.1   \n",
       "318           EBS  /dev/xvda    VolumeIOUsage   $0.39   \n",
       "260           EBS  /dev/xvda      VolumeUsage    $0.6   \n",
       "348           EBS       swap      VolumeUsage    $0.1   \n",
       "\n",
       "                                                                      basis  \n",
       "52                             720.0000000000001 instance hour at $0.05 ea.  \n",
       "74   149.03765033333335 gb - first 10 tb / month data transfer at $0.09 ea.  \n",
       "320             29.708754199999998 gb - regional data transfer at $0.01 ea.  \n",
       "86                                 212.00085860000002 gb-month at $0.05 ea.  \n",
       "429                    1.0463149999999999 million i/o requests at $0.05 ea.  \n",
       "88                                        211.9999996 gb-month at $0.05 ea.  \n",
       "24                                              1000.0 gb-month at $0.1 ea.  \n",
       "196                                21.935984199999996 gb-month at $0.05 ea.  \n",
       "318                              7.899434 million i/o requests at $0.05 ea.  \n",
       "260                                       11.99999952 gb-month at $0.05 ea.  \n",
       "348                                        2.00000016 gb-month at $0.05 ea.  "
      ]
     },
     "metadata": {},
     "output_type": "display_data"
    },
    {
     "data": {
      "text/markdown": [
       "#### uc3-mrtaudit4-prd"
      ],
      "text/plain": [
       "<IPython.core.display.Markdown object>"
      ]
     },
     "metadata": {},
     "output_type": "display_data"
    },
    {
     "data": {
      "text/markdown": [
       "#### Total cost for uc3-mrtaudit4-prd: $227.61"
      ],
      "text/plain": [
       "<IPython.core.display.Markdown object>"
      ]
     },
     "metadata": {},
     "output_type": "display_data"
    },
    {
     "data": {
      "text/html": [
       "<div>\n",
       "<style scoped>\n",
       "    .dataframe tbody tr th:only-of-type {\n",
       "        vertical-align: middle;\n",
       "    }\n",
       "\n",
       "    .dataframe tbody tr th {\n",
       "        vertical-align: top;\n",
       "    }\n",
       "\n",
       "    .dataframe thead th {\n",
       "        text-align: right;\n",
       "    }\n",
       "</style>\n",
       "<table border=\"1\" class=\"dataframe\">\n",
       "  <thead>\n",
       "    <tr style=\"text-align: right;\">\n",
       "      <th></th>\n",
       "      <th>aws_service</th>\n",
       "      <th>device</th>\n",
       "      <th>usage_type</th>\n",
       "      <th>cost</th>\n",
       "      <th>basis</th>\n",
       "    </tr>\n",
       "  </thead>\n",
       "  <tbody>\n",
       "    <tr>\n",
       "      <th>53</th>\n",
       "      <td>BoxUsage</td>\n",
       "      <td></td>\n",
       "      <td>t2.medium</td>\n",
       "      <td>$33.41</td>\n",
       "      <td>720.0000000000001 instance hour at $0.05 ea.</td>\n",
       "    </tr>\n",
       "    <tr>\n",
       "      <th>82</th>\n",
       "      <td>DataTransfer</td>\n",
       "      <td></td>\n",
       "      <td>Out-Bytes</td>\n",
       "      <td>$11.65</td>\n",
       "      <td>129.42936555555556 gb - first 10 tb / month data transfer at $0.09 ea.</td>\n",
       "    </tr>\n",
       "    <tr>\n",
       "      <th>323</th>\n",
       "      <td>DataTransfer</td>\n",
       "      <td></td>\n",
       "      <td>Regional-Bytes</td>\n",
       "      <td>$0.28</td>\n",
       "      <td>27.988528499999997 gb - regional data transfer at $0.01 ea.</td>\n",
       "    </tr>\n",
       "    <tr>\n",
       "      <th>39</th>\n",
       "      <td>EBS</td>\n",
       "      <td>/dev/sdb</td>\n",
       "      <td>SnapshotUsage</td>\n",
       "      <td>$68.99</td>\n",
       "      <td>1379.791858 gb-month at $0.05 ea.</td>\n",
       "    </tr>\n",
       "    <tr>\n",
       "      <th>419</th>\n",
       "      <td>EBS</td>\n",
       "      <td>/dev/sdb</td>\n",
       "      <td>VolumeIOUsage</td>\n",
       "      <td>$0.06</td>\n",
       "      <td>1.2509919999999999 million i/o requests at $0.05 ea.</td>\n",
       "    </tr>\n",
       "    <tr>\n",
       "      <th>89</th>\n",
       "      <td>EBS</td>\n",
       "      <td>/dev/sdb</td>\n",
       "      <td>VolumeUsage</td>\n",
       "      <td>$10.6</td>\n",
       "      <td>211.9999996 gb-month at $0.05 ea.</td>\n",
       "    </tr>\n",
       "    <tr>\n",
       "      <th>25</th>\n",
       "      <td>EBS</td>\n",
       "      <td>/dev/sdc</td>\n",
       "      <td>VolumeUsage.gp2</td>\n",
       "      <td>$100.0</td>\n",
       "      <td>1000.0 gb-month at $0.1 ea.</td>\n",
       "    </tr>\n",
       "    <tr>\n",
       "      <th>183</th>\n",
       "      <td>EBS</td>\n",
       "      <td>/dev/xvda</td>\n",
       "      <td>SnapshotUsage</td>\n",
       "      <td>$1.52</td>\n",
       "      <td>30.448132 gb-month at $0.05 ea.</td>\n",
       "    </tr>\n",
       "    <tr>\n",
       "      <th>317</th>\n",
       "      <td>EBS</td>\n",
       "      <td>/dev/xvda</td>\n",
       "      <td>VolumeIOUsage</td>\n",
       "      <td>$0.4</td>\n",
       "      <td>8.007364999999998 million i/o requests at $0.05 ea.</td>\n",
       "    </tr>\n",
       "    <tr>\n",
       "      <th>261</th>\n",
       "      <td>EBS</td>\n",
       "      <td>/dev/xvda</td>\n",
       "      <td>VolumeUsage</td>\n",
       "      <td>$0.6</td>\n",
       "      <td>11.99999952 gb-month at $0.05 ea.</td>\n",
       "    </tr>\n",
       "    <tr>\n",
       "      <th>349</th>\n",
       "      <td>EBS</td>\n",
       "      <td>swap</td>\n",
       "      <td>VolumeUsage</td>\n",
       "      <td>$0.1</td>\n",
       "      <td>2.00000016 gb-month at $0.05 ea.</td>\n",
       "    </tr>\n",
       "  </tbody>\n",
       "</table>\n",
       "</div>"
      ],
      "text/latex": [
       "\\begin{tabular}{llllll}\n",
       "\\toprule\n",
       "{} &   aws\\_service &     device &       usage\\_type &    cost &                                                                   basis \\\\\n",
       "\\midrule\n",
       "53  &      BoxUsage &            &        t2.medium &  \\$33.41 &                            720.0000000000001 instance hour at \\$0.05 ea. \\\\\n",
       "82  &  DataTransfer &            &        Out-Bytes &  \\$11.65 &  129.42936555555556 gb - first 10 tb / month data transfer at \\$0.09 ea. \\\\\n",
       "323 &  DataTransfer &            &   Regional-Bytes &   \\$0.28 &             27.988528499999997 gb - regional data transfer at \\$0.01 ea. \\\\\n",
       "39  &           EBS &   /dev/sdb &    SnapshotUsage &  \\$68.99 &                                       1379.791858 gb-month at \\$0.05 ea. \\\\\n",
       "419 &           EBS &   /dev/sdb &    VolumeIOUsage &   \\$0.06 &                    1.2509919999999999 million i/o requests at \\$0.05 ea. \\\\\n",
       "89  &           EBS &   /dev/sdb &      VolumeUsage &   \\$10.6 &                                       211.9999996 gb-month at \\$0.05 ea. \\\\\n",
       "25  &           EBS &   /dev/sdc &  VolumeUsage.gp2 &  \\$100.0 &                                             1000.0 gb-month at \\$0.1 ea. \\\\\n",
       "183 &           EBS &  /dev/xvda &    SnapshotUsage &   \\$1.52 &                                         30.448132 gb-month at \\$0.05 ea. \\\\\n",
       "317 &           EBS &  /dev/xvda &    VolumeIOUsage &    \\$0.4 &                     8.007364999999998 million i/o requests at \\$0.05 ea. \\\\\n",
       "261 &           EBS &  /dev/xvda &      VolumeUsage &    \\$0.6 &                                       11.99999952 gb-month at \\$0.05 ea. \\\\\n",
       "349 &           EBS &       swap &      VolumeUsage &    \\$0.1 &                                        2.00000016 gb-month at \\$0.05 ea. \\\\\n",
       "\\bottomrule\n",
       "\\end{tabular}\n"
      ],
      "text/plain": [
       "      aws_service     device       usage_type    cost  \\\n",
       "53       BoxUsage                   t2.medium  $33.41   \n",
       "82   DataTransfer                   Out-Bytes  $11.65   \n",
       "323  DataTransfer              Regional-Bytes   $0.28   \n",
       "39            EBS   /dev/sdb    SnapshotUsage  $68.99   \n",
       "419           EBS   /dev/sdb    VolumeIOUsage   $0.06   \n",
       "89            EBS   /dev/sdb      VolumeUsage   $10.6   \n",
       "25            EBS   /dev/sdc  VolumeUsage.gp2  $100.0   \n",
       "183           EBS  /dev/xvda    SnapshotUsage   $1.52   \n",
       "317           EBS  /dev/xvda    VolumeIOUsage    $0.4   \n",
       "261           EBS  /dev/xvda      VolumeUsage    $0.6   \n",
       "349           EBS       swap      VolumeUsage    $0.1   \n",
       "\n",
       "                                                                      basis  \n",
       "53                             720.0000000000001 instance hour at $0.05 ea.  \n",
       "82   129.42936555555556 gb - first 10 tb / month data transfer at $0.09 ea.  \n",
       "323             27.988528499999997 gb - regional data transfer at $0.01 ea.  \n",
       "39                                        1379.791858 gb-month at $0.05 ea.  \n",
       "419                    1.2509919999999999 million i/o requests at $0.05 ea.  \n",
       "89                                        211.9999996 gb-month at $0.05 ea.  \n",
       "25                                              1000.0 gb-month at $0.1 ea.  \n",
       "183                                         30.448132 gb-month at $0.05 ea.  \n",
       "317                     8.007364999999998 million i/o requests at $0.05 ea.  \n",
       "261                                       11.99999952 gb-month at $0.05 ea.  \n",
       "349                                        2.00000016 gb-month at $0.05 ea.  "
      ]
     },
     "metadata": {},
     "output_type": "display_data"
    },
    {
     "data": {
      "text/markdown": [
       "### stg"
      ],
      "text/plain": [
       "<IPython.core.display.Markdown object>"
      ]
     },
     "metadata": {},
     "output_type": "display_data"
    },
    {
     "data": {
      "text/markdown": [
       "##### Total cost for audit stg: $20.14"
      ],
      "text/plain": [
       "<IPython.core.display.Markdown object>"
      ]
     },
     "metadata": {},
     "output_type": "display_data"
    },
    {
     "data": {
      "text/markdown": [
       "#### uc3-mrtaudit-stg"
      ],
      "text/plain": [
       "<IPython.core.display.Markdown object>"
      ]
     },
     "metadata": {},
     "output_type": "display_data"
    },
    {
     "data": {
      "text/markdown": [
       "#### Total cost for uc3-mrtaudit-stg: $20.14"
      ],
      "text/plain": [
       "<IPython.core.display.Markdown object>"
      ]
     },
     "metadata": {},
     "output_type": "display_data"
    },
    {
     "data": {
      "text/html": [
       "<div>\n",
       "<style scoped>\n",
       "    .dataframe tbody tr th:only-of-type {\n",
       "        vertical-align: middle;\n",
       "    }\n",
       "\n",
       "    .dataframe tbody tr th {\n",
       "        vertical-align: top;\n",
       "    }\n",
       "\n",
       "    .dataframe thead th {\n",
       "        text-align: right;\n",
       "    }\n",
       "</style>\n",
       "<table border=\"1\" class=\"dataframe\">\n",
       "  <thead>\n",
       "    <tr style=\"text-align: right;\">\n",
       "      <th></th>\n",
       "      <th>aws_service</th>\n",
       "      <th>device</th>\n",
       "      <th>usage_type</th>\n",
       "      <th>cost</th>\n",
       "      <th>basis</th>\n",
       "    </tr>\n",
       "  </thead>\n",
       "  <tbody>\n",
       "    <tr>\n",
       "      <th>109</th>\n",
       "      <td>BoxUsage</td>\n",
       "      <td></td>\n",
       "      <td>t2.small</td>\n",
       "      <td>$5.7</td>\n",
       "      <td>245.77422185344832 instance hour at $0.02 ea.</td>\n",
       "    </tr>\n",
       "    <tr>\n",
       "      <th>94</th>\n",
       "      <td>EBS</td>\n",
       "      <td>/dev/sdb</td>\n",
       "      <td>SnapshotUsage</td>\n",
       "      <td>$8.54</td>\n",
       "      <td>170.76471873999998 gb-month at $0.05 ea.</td>\n",
       "    </tr>\n",
       "    <tr>\n",
       "      <th>148</th>\n",
       "      <td>EBS</td>\n",
       "      <td>/dev/sdb</td>\n",
       "      <td>VolumeUsage</td>\n",
       "      <td>$4.25</td>\n",
       "      <td>85.00000032 gb-month at $0.05 ea.</td>\n",
       "    </tr>\n",
       "    <tr>\n",
       "      <th>225</th>\n",
       "      <td>EBS</td>\n",
       "      <td>/dev/xvda</td>\n",
       "      <td>SnapshotUsage</td>\n",
       "      <td>$0.88</td>\n",
       "      <td>17.62764134 gb-month at $0.05 ea.</td>\n",
       "    </tr>\n",
       "    <tr>\n",
       "      <th>408</th>\n",
       "      <td>EBS</td>\n",
       "      <td>/dev/xvda</td>\n",
       "      <td>VolumeIOUsage</td>\n",
       "      <td>$0.07</td>\n",
       "      <td>1.397853 million i/o requests at $0.05 ea.</td>\n",
       "    </tr>\n",
       "    <tr>\n",
       "      <th>257</th>\n",
       "      <td>EBS</td>\n",
       "      <td>/dev/xvda</td>\n",
       "      <td>VolumeUsage</td>\n",
       "      <td>$0.6</td>\n",
       "      <td>11.99999952 gb-month at $0.05 ea.</td>\n",
       "    </tr>\n",
       "    <tr>\n",
       "      <th>345</th>\n",
       "      <td>EBS</td>\n",
       "      <td>swap</td>\n",
       "      <td>VolumeUsage</td>\n",
       "      <td>$0.1</td>\n",
       "      <td>2.00000016 gb-month at $0.05 ea.</td>\n",
       "    </tr>\n",
       "  </tbody>\n",
       "</table>\n",
       "</div>"
      ],
      "text/latex": [
       "\\begin{tabular}{llllll}\n",
       "\\toprule\n",
       "{} & aws\\_service &     device &     usage\\_type &   cost &                                          basis \\\\\n",
       "\\midrule\n",
       "109 &    BoxUsage &            &       t2.small &   \\$5.7 &  245.77422185344832 instance hour at \\$0.02 ea. \\\\\n",
       "94  &         EBS &   /dev/sdb &  SnapshotUsage &  \\$8.54 &       170.76471873999998 gb-month at \\$0.05 ea. \\\\\n",
       "148 &         EBS &   /dev/sdb &    VolumeUsage &  \\$4.25 &              85.00000032 gb-month at \\$0.05 ea. \\\\\n",
       "225 &         EBS &  /dev/xvda &  SnapshotUsage &  \\$0.88 &              17.62764134 gb-month at \\$0.05 ea. \\\\\n",
       "408 &         EBS &  /dev/xvda &  VolumeIOUsage &  \\$0.07 &     1.397853 million i/o requests at \\$0.05 ea. \\\\\n",
       "257 &         EBS &  /dev/xvda &    VolumeUsage &   \\$0.6 &              11.99999952 gb-month at \\$0.05 ea. \\\\\n",
       "345 &         EBS &       swap &    VolumeUsage &   \\$0.1 &               2.00000016 gb-month at \\$0.05 ea. \\\\\n",
       "\\bottomrule\n",
       "\\end{tabular}\n"
      ],
      "text/plain": [
       "    aws_service     device     usage_type   cost  \\\n",
       "109    BoxUsage                  t2.small   $5.7   \n",
       "94          EBS   /dev/sdb  SnapshotUsage  $8.54   \n",
       "148         EBS   /dev/sdb    VolumeUsage  $4.25   \n",
       "225         EBS  /dev/xvda  SnapshotUsage  $0.88   \n",
       "408         EBS  /dev/xvda  VolumeIOUsage  $0.07   \n",
       "257         EBS  /dev/xvda    VolumeUsage   $0.6   \n",
       "345         EBS       swap    VolumeUsage   $0.1   \n",
       "\n",
       "                                             basis  \n",
       "109  245.77422185344832 instance hour at $0.02 ea.  \n",
       "94        170.76471873999998 gb-month at $0.05 ea.  \n",
       "148              85.00000032 gb-month at $0.05 ea.  \n",
       "225              17.62764134 gb-month at $0.05 ea.  \n",
       "408     1.397853 million i/o requests at $0.05 ea.  \n",
       "257              11.99999952 gb-month at $0.05 ea.  \n",
       "345               2.00000016 gb-month at $0.05 ea.  "
      ]
     },
     "metadata": {},
     "output_type": "display_data"
    },
    {
     "data": {
      "text/markdown": [
       "## dat"
      ],
      "text/plain": [
       "<IPython.core.display.Markdown object>"
      ]
     },
     "metadata": {},
     "output_type": "display_data"
    },
    {
     "data": {
      "text/markdown": [
       "##### Total cost: $21.06"
      ],
      "text/plain": [
       "<IPython.core.display.Markdown object>"
      ]
     },
     "metadata": {},
     "output_type": "display_data"
    },
    {
     "data": {
      "text/markdown": [
       "### "
      ],
      "text/plain": [
       "<IPython.core.display.Markdown object>"
      ]
     },
     "metadata": {},
     "output_type": "display_data"
    },
    {
     "data": {
      "text/markdown": [
       "##### Total cost for dat : $0.0"
      ],
      "text/plain": [
       "<IPython.core.display.Markdown object>"
      ]
     },
     "metadata": {},
     "output_type": "display_data"
    },
    {
     "data": {
      "text/markdown": [
       "### dev"
      ],
      "text/plain": [
       "<IPython.core.display.Markdown object>"
      ]
     },
     "metadata": {},
     "output_type": "display_data"
    },
    {
     "data": {
      "text/markdown": [
       "##### Total cost for dat dev: $21.06"
      ],
      "text/plain": [
       "<IPython.core.display.Markdown object>"
      ]
     },
     "metadata": {},
     "output_type": "display_data"
    },
    {
     "data": {
      "text/markdown": [
       "#### uc3-mrtdat1-dev"
      ],
      "text/plain": [
       "<IPython.core.display.Markdown object>"
      ]
     },
     "metadata": {},
     "output_type": "display_data"
    },
    {
     "data": {
      "text/markdown": [
       "#### Total cost for uc3-mrtdat1-dev: $21.06"
      ],
      "text/plain": [
       "<IPython.core.display.Markdown object>"
      ]
     },
     "metadata": {},
     "output_type": "display_data"
    },
    {
     "data": {
      "text/html": [
       "<div>\n",
       "<style scoped>\n",
       "    .dataframe tbody tr th:only-of-type {\n",
       "        vertical-align: middle;\n",
       "    }\n",
       "\n",
       "    .dataframe tbody tr th {\n",
       "        vertical-align: top;\n",
       "    }\n",
       "\n",
       "    .dataframe thead th {\n",
       "        text-align: right;\n",
       "    }\n",
       "</style>\n",
       "<table border=\"1\" class=\"dataframe\">\n",
       "  <thead>\n",
       "    <tr style=\"text-align: right;\">\n",
       "      <th></th>\n",
       "      <th>aws_service</th>\n",
       "      <th>device</th>\n",
       "      <th>usage_type</th>\n",
       "      <th>cost</th>\n",
       "      <th>basis</th>\n",
       "    </tr>\n",
       "  </thead>\n",
       "  <tbody>\n",
       "    <tr>\n",
       "      <th>107</th>\n",
       "      <td>BoxUsage</td>\n",
       "      <td></td>\n",
       "      <td>t2.small</td>\n",
       "      <td>$6.01</td>\n",
       "      <td>259.0749503448276 instance hour at $0.02 ea.</td>\n",
       "    </tr>\n",
       "    <tr>\n",
       "      <th>75</th>\n",
       "      <td>EBS</td>\n",
       "      <td>/dev/sdb</td>\n",
       "      <td>VolumeUsage</td>\n",
       "      <td>$13.25</td>\n",
       "      <td>265.0000004 gb-month at $0.05 ea.</td>\n",
       "    </tr>\n",
       "    <tr>\n",
       "      <th>202</th>\n",
       "      <td>EBS</td>\n",
       "      <td>/dev/xvda</td>\n",
       "      <td>SnapshotUsage</td>\n",
       "      <td>$1.07</td>\n",
       "      <td>21.476994659999995 gb-month at $0.05 ea.</td>\n",
       "    </tr>\n",
       "    <tr>\n",
       "      <th>454</th>\n",
       "      <td>EBS</td>\n",
       "      <td>/dev/xvda</td>\n",
       "      <td>VolumeIOUsage</td>\n",
       "      <td>$0.03</td>\n",
       "      <td>0.575947 million i/o requests at $0.05 ea.</td>\n",
       "    </tr>\n",
       "    <tr>\n",
       "      <th>262</th>\n",
       "      <td>EBS</td>\n",
       "      <td>/dev/xvda</td>\n",
       "      <td>VolumeUsage</td>\n",
       "      <td>$0.6</td>\n",
       "      <td>11.99999952 gb-month at $0.05 ea.</td>\n",
       "    </tr>\n",
       "    <tr>\n",
       "      <th>350</th>\n",
       "      <td>EBS</td>\n",
       "      <td>swap</td>\n",
       "      <td>VolumeUsage</td>\n",
       "      <td>$0.1</td>\n",
       "      <td>2.00000016 gb-month at $0.05 ea.</td>\n",
       "    </tr>\n",
       "  </tbody>\n",
       "</table>\n",
       "</div>"
      ],
      "text/latex": [
       "\\begin{tabular}{llllll}\n",
       "\\toprule\n",
       "{} & aws\\_service &     device &     usage\\_type &    cost &                                         basis \\\\\n",
       "\\midrule\n",
       "107 &    BoxUsage &            &       t2.small &   \\$6.01 &  259.0749503448276 instance hour at \\$0.02 ea. \\\\\n",
       "75  &         EBS &   /dev/sdb &    VolumeUsage &  \\$13.25 &             265.0000004 gb-month at \\$0.05 ea. \\\\\n",
       "202 &         EBS &  /dev/xvda &  SnapshotUsage &   \\$1.07 &      21.476994659999995 gb-month at \\$0.05 ea. \\\\\n",
       "454 &         EBS &  /dev/xvda &  VolumeIOUsage &   \\$0.03 &    0.575947 million i/o requests at \\$0.05 ea. \\\\\n",
       "262 &         EBS &  /dev/xvda &    VolumeUsage &    \\$0.6 &             11.99999952 gb-month at \\$0.05 ea. \\\\\n",
       "350 &         EBS &       swap &    VolumeUsage &    \\$0.1 &              2.00000016 gb-month at \\$0.05 ea. \\\\\n",
       "\\bottomrule\n",
       "\\end{tabular}\n"
      ],
      "text/plain": [
       "    aws_service     device     usage_type    cost  \\\n",
       "107    BoxUsage                  t2.small   $6.01   \n",
       "75          EBS   /dev/sdb    VolumeUsage  $13.25   \n",
       "202         EBS  /dev/xvda  SnapshotUsage   $1.07   \n",
       "454         EBS  /dev/xvda  VolumeIOUsage   $0.03   \n",
       "262         EBS  /dev/xvda    VolumeUsage    $0.6   \n",
       "350         EBS       swap    VolumeUsage    $0.1   \n",
       "\n",
       "                                            basis  \n",
       "107  259.0749503448276 instance hour at $0.02 ea.  \n",
       "75              265.0000004 gb-month at $0.05 ea.  \n",
       "202      21.476994659999995 gb-month at $0.05 ea.  \n",
       "454    0.575947 million i/o requests at $0.05 ea.  \n",
       "262             11.99999952 gb-month at $0.05 ea.  \n",
       "350              2.00000016 gb-month at $0.05 ea.  "
      ]
     },
     "metadata": {},
     "output_type": "display_data"
    },
    {
     "data": {
      "text/markdown": [
       "### prd"
      ],
      "text/plain": [
       "<IPython.core.display.Markdown object>"
      ]
     },
     "metadata": {},
     "output_type": "display_data"
    },
    {
     "data": {
      "text/markdown": [
       "##### Total cost for dat prd: $0.0"
      ],
      "text/plain": [
       "<IPython.core.display.Markdown object>"
      ]
     },
     "metadata": {},
     "output_type": "display_data"
    },
    {
     "data": {
      "text/markdown": [
       "### stg"
      ],
      "text/plain": [
       "<IPython.core.display.Markdown object>"
      ]
     },
     "metadata": {},
     "output_type": "display_data"
    },
    {
     "data": {
      "text/markdown": [
       "##### Total cost for dat stg: $0.0"
      ],
      "text/plain": [
       "<IPython.core.display.Markdown object>"
      ]
     },
     "metadata": {},
     "output_type": "display_data"
    },
    {
     "data": {
      "text/markdown": [
       "## dataone"
      ],
      "text/plain": [
       "<IPython.core.display.Markdown object>"
      ]
     },
     "metadata": {},
     "output_type": "display_data"
    },
    {
     "data": {
      "text/markdown": [
       "##### Total cost: $149.75"
      ],
      "text/plain": [
       "<IPython.core.display.Markdown object>"
      ]
     },
     "metadata": {},
     "output_type": "display_data"
    },
    {
     "data": {
      "text/markdown": [
       "### "
      ],
      "text/plain": [
       "<IPython.core.display.Markdown object>"
      ]
     },
     "metadata": {},
     "output_type": "display_data"
    },
    {
     "data": {
      "text/markdown": [
       "##### Total cost for dataone : $0.0"
      ],
      "text/plain": [
       "<IPython.core.display.Markdown object>"
      ]
     },
     "metadata": {},
     "output_type": "display_data"
    },
    {
     "data": {
      "text/markdown": [
       "### dev"
      ],
      "text/plain": [
       "<IPython.core.display.Markdown object>"
      ]
     },
     "metadata": {},
     "output_type": "display_data"
    },
    {
     "data": {
      "text/markdown": [
       "##### Total cost for dataone dev: $12.66"
      ],
      "text/plain": [
       "<IPython.core.display.Markdown object>"
      ]
     },
     "metadata": {},
     "output_type": "display_data"
    },
    {
     "data": {
      "text/markdown": [
       "#### uc3-mrtdataone-dev"
      ],
      "text/plain": [
       "<IPython.core.display.Markdown object>"
      ]
     },
     "metadata": {},
     "output_type": "display_data"
    },
    {
     "data": {
      "text/markdown": [
       "#### Total cost for uc3-mrtdataone-dev: $12.66"
      ],
      "text/plain": [
       "<IPython.core.display.Markdown object>"
      ]
     },
     "metadata": {},
     "output_type": "display_data"
    },
    {
     "data": {
      "text/html": [
       "<div>\n",
       "<style scoped>\n",
       "    .dataframe tbody tr th:only-of-type {\n",
       "        vertical-align: middle;\n",
       "    }\n",
       "\n",
       "    .dataframe tbody tr th {\n",
       "        vertical-align: top;\n",
       "    }\n",
       "\n",
       "    .dataframe thead th {\n",
       "        text-align: right;\n",
       "    }\n",
       "</style>\n",
       "<table border=\"1\" class=\"dataframe\">\n",
       "  <thead>\n",
       "    <tr style=\"text-align: right;\">\n",
       "      <th></th>\n",
       "      <th>aws_service</th>\n",
       "      <th>device</th>\n",
       "      <th>usage_type</th>\n",
       "      <th>cost</th>\n",
       "      <th>basis</th>\n",
       "    </tr>\n",
       "  </thead>\n",
       "  <tbody>\n",
       "    <tr>\n",
       "      <th>123</th>\n",
       "      <td>BoxUsage</td>\n",
       "      <td></td>\n",
       "      <td>t2.small</td>\n",
       "      <td>$5.7</td>\n",
       "      <td>245.7450326724138 instance hour at $0.02 ea.</td>\n",
       "    </tr>\n",
       "    <tr>\n",
       "      <th>156</th>\n",
       "      <td>EBS</td>\n",
       "      <td>/dev/sdb</td>\n",
       "      <td>SnapshotUsage</td>\n",
       "      <td>$2.79</td>\n",
       "      <td>55.86718442 gb-month at $0.05 ea.</td>\n",
       "    </tr>\n",
       "    <tr>\n",
       "      <th>459</th>\n",
       "      <td>EBS</td>\n",
       "      <td>/dev/sdb</td>\n",
       "      <td>VolumeIOUsage</td>\n",
       "      <td>$0.02</td>\n",
       "      <td>0.40147 million i/o requests at $0.05 ea.</td>\n",
       "    </tr>\n",
       "    <tr>\n",
       "      <th>159</th>\n",
       "      <td>EBS</td>\n",
       "      <td>/dev/sdb</td>\n",
       "      <td>VolumeUsage</td>\n",
       "      <td>$2.65</td>\n",
       "      <td>53.000000639999996 gb-month at $0.05 ea.</td>\n",
       "    </tr>\n",
       "    <tr>\n",
       "      <th>243</th>\n",
       "      <td>EBS</td>\n",
       "      <td>/dev/xvda</td>\n",
       "      <td>SnapshotUsage</td>\n",
       "      <td>$0.76</td>\n",
       "      <td>15.106092219999997 gb-month at $0.05 ea.</td>\n",
       "    </tr>\n",
       "    <tr>\n",
       "      <th>449</th>\n",
       "      <td>EBS</td>\n",
       "      <td>/dev/xvda</td>\n",
       "      <td>VolumeIOUsage</td>\n",
       "      <td>$0.04</td>\n",
       "      <td>0.7143139999999999 million i/o requests at $0.05 ea.</td>\n",
       "    </tr>\n",
       "    <tr>\n",
       "      <th>263</th>\n",
       "      <td>EBS</td>\n",
       "      <td>/dev/xvda</td>\n",
       "      <td>VolumeUsage</td>\n",
       "      <td>$0.6</td>\n",
       "      <td>11.99999952 gb-month at $0.05 ea.</td>\n",
       "    </tr>\n",
       "    <tr>\n",
       "      <th>351</th>\n",
       "      <td>EBS</td>\n",
       "      <td>swap</td>\n",
       "      <td>VolumeUsage</td>\n",
       "      <td>$0.1</td>\n",
       "      <td>2.00000016 gb-month at $0.05 ea.</td>\n",
       "    </tr>\n",
       "  </tbody>\n",
       "</table>\n",
       "</div>"
      ],
      "text/latex": [
       "\\begin{tabular}{llllll}\n",
       "\\toprule\n",
       "{} & aws\\_service &     device &     usage\\_type &   cost &                                                 basis \\\\\n",
       "\\midrule\n",
       "123 &    BoxUsage &            &       t2.small &   \\$5.7 &          245.7450326724138 instance hour at \\$0.02 ea. \\\\\n",
       "156 &         EBS &   /dev/sdb &  SnapshotUsage &  \\$2.79 &                     55.86718442 gb-month at \\$0.05 ea. \\\\\n",
       "459 &         EBS &   /dev/sdb &  VolumeIOUsage &  \\$0.02 &             0.40147 million i/o requests at \\$0.05 ea. \\\\\n",
       "159 &         EBS &   /dev/sdb &    VolumeUsage &  \\$2.65 &              53.000000639999996 gb-month at \\$0.05 ea. \\\\\n",
       "243 &         EBS &  /dev/xvda &  SnapshotUsage &  \\$0.76 &              15.106092219999997 gb-month at \\$0.05 ea. \\\\\n",
       "449 &         EBS &  /dev/xvda &  VolumeIOUsage &  \\$0.04 &  0.7143139999999999 million i/o requests at \\$0.05 ea. \\\\\n",
       "263 &         EBS &  /dev/xvda &    VolumeUsage &   \\$0.6 &                     11.99999952 gb-month at \\$0.05 ea. \\\\\n",
       "351 &         EBS &       swap &    VolumeUsage &   \\$0.1 &                      2.00000016 gb-month at \\$0.05 ea. \\\\\n",
       "\\bottomrule\n",
       "\\end{tabular}\n"
      ],
      "text/plain": [
       "    aws_service     device     usage_type   cost  \\\n",
       "123    BoxUsage                  t2.small   $5.7   \n",
       "156         EBS   /dev/sdb  SnapshotUsage  $2.79   \n",
       "459         EBS   /dev/sdb  VolumeIOUsage  $0.02   \n",
       "159         EBS   /dev/sdb    VolumeUsage  $2.65   \n",
       "243         EBS  /dev/xvda  SnapshotUsage  $0.76   \n",
       "449         EBS  /dev/xvda  VolumeIOUsage  $0.04   \n",
       "263         EBS  /dev/xvda    VolumeUsage   $0.6   \n",
       "351         EBS       swap    VolumeUsage   $0.1   \n",
       "\n",
       "                                                    basis  \n",
       "123          245.7450326724138 instance hour at $0.02 ea.  \n",
       "156                     55.86718442 gb-month at $0.05 ea.  \n",
       "459             0.40147 million i/o requests at $0.05 ea.  \n",
       "159              53.000000639999996 gb-month at $0.05 ea.  \n",
       "243              15.106092219999997 gb-month at $0.05 ea.  \n",
       "449  0.7143139999999999 million i/o requests at $0.05 ea.  \n",
       "263                     11.99999952 gb-month at $0.05 ea.  \n",
       "351                      2.00000016 gb-month at $0.05 ea.  "
      ]
     },
     "metadata": {},
     "output_type": "display_data"
    },
    {
     "data": {
      "text/markdown": [
       "### prd"
      ],
      "text/plain": [
       "<IPython.core.display.Markdown object>"
      ]
     },
     "metadata": {},
     "output_type": "display_data"
    },
    {
     "data": {
      "text/markdown": [
       "##### Total cost for dataone prd: $124.22"
      ],
      "text/plain": [
       "<IPython.core.display.Markdown object>"
      ]
     },
     "metadata": {},
     "output_type": "display_data"
    },
    {
     "data": {
      "text/markdown": [
       "#### uc3-mrtdataone-prd"
      ],
      "text/plain": [
       "<IPython.core.display.Markdown object>"
      ]
     },
     "metadata": {},
     "output_type": "display_data"
    },
    {
     "data": {
      "text/markdown": [
       "#### Total cost for uc3-mrtdataone-prd: $124.22"
      ],
      "text/plain": [
       "<IPython.core.display.Markdown object>"
      ]
     },
     "metadata": {},
     "output_type": "display_data"
    },
    {
     "data": {
      "text/html": [
       "<div>\n",
       "<style scoped>\n",
       "    .dataframe tbody tr th:only-of-type {\n",
       "        vertical-align: middle;\n",
       "    }\n",
       "\n",
       "    .dataframe tbody tr th {\n",
       "        vertical-align: top;\n",
       "    }\n",
       "\n",
       "    .dataframe thead th {\n",
       "        text-align: right;\n",
       "    }\n",
       "</style>\n",
       "<table border=\"1\" class=\"dataframe\">\n",
       "  <thead>\n",
       "    <tr style=\"text-align: right;\">\n",
       "      <th></th>\n",
       "      <th>aws_service</th>\n",
       "      <th>device</th>\n",
       "      <th>usage_type</th>\n",
       "      <th>cost</th>\n",
       "      <th>basis</th>\n",
       "    </tr>\n",
       "  </thead>\n",
       "  <tbody>\n",
       "    <tr>\n",
       "      <th>65</th>\n",
       "      <td>BoxUsage</td>\n",
       "      <td></td>\n",
       "      <td>t2.small</td>\n",
       "      <td>$16.56</td>\n",
       "      <td>713.7931034482758 instance hour at $0.02 ea.</td>\n",
       "    </tr>\n",
       "    <tr>\n",
       "      <th>467</th>\n",
       "      <td>DataTransfer</td>\n",
       "      <td></td>\n",
       "      <td>Regional-Bytes</td>\n",
       "      <td>$0.01</td>\n",
       "      <td>1.4201047 gb - regional data transfer at $0.01 ea.</td>\n",
       "    </tr>\n",
       "    <tr>\n",
       "      <th>60</th>\n",
       "      <td>EBS</td>\n",
       "      <td></td>\n",
       "      <td>SnapshotUsage</td>\n",
       "      <td>$25.9</td>\n",
       "      <td>470.96297054545454 gb-month at $0.06 ea.</td>\n",
       "    </tr>\n",
       "    <tr>\n",
       "      <th>58</th>\n",
       "      <td>EBS</td>\n",
       "      <td>/dev/sdb</td>\n",
       "      <td>SnapshotUsage</td>\n",
       "      <td>$26.9</td>\n",
       "      <td>537.9385619999999 gb-month at $0.05 ea.</td>\n",
       "    </tr>\n",
       "    <tr>\n",
       "      <th>43</th>\n",
       "      <td>EBS</td>\n",
       "      <td>/dev/sdb</td>\n",
       "      <td>VolumeUsage.gp2</td>\n",
       "      <td>$53.0</td>\n",
       "      <td>529.9999998999999 gb-month at $0.1 ea.</td>\n",
       "    </tr>\n",
       "    <tr>\n",
       "      <th>200</th>\n",
       "      <td>EBS</td>\n",
       "      <td>/dev/xvda</td>\n",
       "      <td>SnapshotUsage</td>\n",
       "      <td>$1.08</td>\n",
       "      <td>21.698484599999997 gb-month at $0.05 ea.</td>\n",
       "    </tr>\n",
       "    <tr>\n",
       "      <th>414</th>\n",
       "      <td>EBS</td>\n",
       "      <td>/dev/xvda</td>\n",
       "      <td>VolumeIOUsage</td>\n",
       "      <td>$0.06</td>\n",
       "      <td>1.283651 million i/o requests at $0.05 ea.</td>\n",
       "    </tr>\n",
       "    <tr>\n",
       "      <th>264</th>\n",
       "      <td>EBS</td>\n",
       "      <td>/dev/xvda</td>\n",
       "      <td>VolumeUsage</td>\n",
       "      <td>$0.6</td>\n",
       "      <td>11.99999952 gb-month at $0.05 ea.</td>\n",
       "    </tr>\n",
       "    <tr>\n",
       "      <th>352</th>\n",
       "      <td>EBS</td>\n",
       "      <td>swap</td>\n",
       "      <td>VolumeUsage</td>\n",
       "      <td>$0.1</td>\n",
       "      <td>2.00000016 gb-month at $0.05 ea.</td>\n",
       "    </tr>\n",
       "  </tbody>\n",
       "</table>\n",
       "</div>"
      ],
      "text/latex": [
       "\\begin{tabular}{llllll}\n",
       "\\toprule\n",
       "{} &   aws\\_service &     device &       usage\\_type &    cost &                                               basis \\\\\n",
       "\\midrule\n",
       "65  &      BoxUsage &            &         t2.small &  \\$16.56 &        713.7931034482758 instance hour at \\$0.02 ea. \\\\\n",
       "467 &  DataTransfer &            &   Regional-Bytes &   \\$0.01 &  1.4201047 gb - regional data transfer at \\$0.01 ea. \\\\\n",
       "60  &           EBS &            &    SnapshotUsage &   \\$25.9 &            470.96297054545454 gb-month at \\$0.06 ea. \\\\\n",
       "58  &           EBS &   /dev/sdb &    SnapshotUsage &   \\$26.9 &             537.9385619999999 gb-month at \\$0.05 ea. \\\\\n",
       "43  &           EBS &   /dev/sdb &  VolumeUsage.gp2 &   \\$53.0 &              529.9999998999999 gb-month at \\$0.1 ea. \\\\\n",
       "200 &           EBS &  /dev/xvda &    SnapshotUsage &   \\$1.08 &            21.698484599999997 gb-month at \\$0.05 ea. \\\\\n",
       "414 &           EBS &  /dev/xvda &    VolumeIOUsage &   \\$0.06 &          1.283651 million i/o requests at \\$0.05 ea. \\\\\n",
       "264 &           EBS &  /dev/xvda &      VolumeUsage &    \\$0.6 &                   11.99999952 gb-month at \\$0.05 ea. \\\\\n",
       "352 &           EBS &       swap &      VolumeUsage &    \\$0.1 &                    2.00000016 gb-month at \\$0.05 ea. \\\\\n",
       "\\bottomrule\n",
       "\\end{tabular}\n"
      ],
      "text/plain": [
       "      aws_service     device       usage_type    cost  \\\n",
       "65       BoxUsage                    t2.small  $16.56   \n",
       "467  DataTransfer              Regional-Bytes   $0.01   \n",
       "60            EBS               SnapshotUsage   $25.9   \n",
       "58            EBS   /dev/sdb    SnapshotUsage   $26.9   \n",
       "43            EBS   /dev/sdb  VolumeUsage.gp2   $53.0   \n",
       "200           EBS  /dev/xvda    SnapshotUsage   $1.08   \n",
       "414           EBS  /dev/xvda    VolumeIOUsage   $0.06   \n",
       "264           EBS  /dev/xvda      VolumeUsage    $0.6   \n",
       "352           EBS       swap      VolumeUsage    $0.1   \n",
       "\n",
       "                                                  basis  \n",
       "65         713.7931034482758 instance hour at $0.02 ea.  \n",
       "467  1.4201047 gb - regional data transfer at $0.01 ea.  \n",
       "60             470.96297054545454 gb-month at $0.06 ea.  \n",
       "58              537.9385619999999 gb-month at $0.05 ea.  \n",
       "43               529.9999998999999 gb-month at $0.1 ea.  \n",
       "200            21.698484599999997 gb-month at $0.05 ea.  \n",
       "414          1.283651 million i/o requests at $0.05 ea.  \n",
       "264                   11.99999952 gb-month at $0.05 ea.  \n",
       "352                    2.00000016 gb-month at $0.05 ea.  "
      ]
     },
     "metadata": {},
     "output_type": "display_data"
    },
    {
     "data": {
      "text/markdown": [
       "### stg"
      ],
      "text/plain": [
       "<IPython.core.display.Markdown object>"
      ]
     },
     "metadata": {},
     "output_type": "display_data"
    },
    {
     "data": {
      "text/markdown": [
       "##### Total cost for dataone stg: $12.87"
      ],
      "text/plain": [
       "<IPython.core.display.Markdown object>"
      ]
     },
     "metadata": {},
     "output_type": "display_data"
    },
    {
     "data": {
      "text/markdown": [
       "#### uc3-mrtdataone-stg"
      ],
      "text/plain": [
       "<IPython.core.display.Markdown object>"
      ]
     },
     "metadata": {},
     "output_type": "display_data"
    },
    {
     "data": {
      "text/markdown": [
       "#### Total cost for uc3-mrtdataone-stg: $12.87"
      ],
      "text/plain": [
       "<IPython.core.display.Markdown object>"
      ]
     },
     "metadata": {},
     "output_type": "display_data"
    },
    {
     "data": {
      "text/html": [
       "<div>\n",
       "<style scoped>\n",
       "    .dataframe tbody tr th:only-of-type {\n",
       "        vertical-align: middle;\n",
       "    }\n",
       "\n",
       "    .dataframe tbody tr th {\n",
       "        vertical-align: top;\n",
       "    }\n",
       "\n",
       "    .dataframe thead th {\n",
       "        text-align: right;\n",
       "    }\n",
       "</style>\n",
       "<table border=\"1\" class=\"dataframe\">\n",
       "  <thead>\n",
       "    <tr style=\"text-align: right;\">\n",
       "      <th></th>\n",
       "      <th>aws_service</th>\n",
       "      <th>device</th>\n",
       "      <th>usage_type</th>\n",
       "      <th>cost</th>\n",
       "      <th>basis</th>\n",
       "    </tr>\n",
       "  </thead>\n",
       "  <tbody>\n",
       "    <tr>\n",
       "      <th>124</th>\n",
       "      <td>BoxUsage</td>\n",
       "      <td></td>\n",
       "      <td>t2.small</td>\n",
       "      <td>$5.7</td>\n",
       "      <td>245.74475607758623 instance hour at $0.02 ea.</td>\n",
       "    </tr>\n",
       "    <tr>\n",
       "      <th>155</th>\n",
       "      <td>EBS</td>\n",
       "      <td>/dev/sdb</td>\n",
       "      <td>SnapshotUsage</td>\n",
       "      <td>$2.86</td>\n",
       "      <td>57.16962973999999 gb-month at $0.05 ea.</td>\n",
       "    </tr>\n",
       "    <tr>\n",
       "      <th>450</th>\n",
       "      <td>EBS</td>\n",
       "      <td>/dev/sdb</td>\n",
       "      <td>VolumeIOUsage</td>\n",
       "      <td>$0.04</td>\n",
       "      <td>0.701842 million i/o requests at $0.05 ea.</td>\n",
       "    </tr>\n",
       "    <tr>\n",
       "      <th>160</th>\n",
       "      <td>EBS</td>\n",
       "      <td>/dev/sdb</td>\n",
       "      <td>VolumeUsage</td>\n",
       "      <td>$2.65</td>\n",
       "      <td>53.000000639999996 gb-month at $0.05 ea.</td>\n",
       "    </tr>\n",
       "    <tr>\n",
       "      <th>224</th>\n",
       "      <td>EBS</td>\n",
       "      <td>/dev/xvda</td>\n",
       "      <td>SnapshotUsage</td>\n",
       "      <td>$0.89</td>\n",
       "      <td>17.8200171 gb-month at $0.05 ea.</td>\n",
       "    </tr>\n",
       "    <tr>\n",
       "      <th>452</th>\n",
       "      <td>EBS</td>\n",
       "      <td>/dev/xvda</td>\n",
       "      <td>VolumeIOUsage</td>\n",
       "      <td>$0.03</td>\n",
       "      <td>0.6815169999999999 million i/o requests at $0.05 ea.</td>\n",
       "    </tr>\n",
       "    <tr>\n",
       "      <th>265</th>\n",
       "      <td>EBS</td>\n",
       "      <td>/dev/xvda</td>\n",
       "      <td>VolumeUsage</td>\n",
       "      <td>$0.6</td>\n",
       "      <td>11.99999952 gb-month at $0.05 ea.</td>\n",
       "    </tr>\n",
       "    <tr>\n",
       "      <th>353</th>\n",
       "      <td>EBS</td>\n",
       "      <td>swap</td>\n",
       "      <td>VolumeUsage</td>\n",
       "      <td>$0.1</td>\n",
       "      <td>2.00000016 gb-month at $0.05 ea.</td>\n",
       "    </tr>\n",
       "  </tbody>\n",
       "</table>\n",
       "</div>"
      ],
      "text/latex": [
       "\\begin{tabular}{llllll}\n",
       "\\toprule\n",
       "{} & aws\\_service &     device &     usage\\_type &   cost &                                                 basis \\\\\n",
       "\\midrule\n",
       "124 &    BoxUsage &            &       t2.small &   \\$5.7 &         245.74475607758623 instance hour at \\$0.02 ea. \\\\\n",
       "155 &         EBS &   /dev/sdb &  SnapshotUsage &  \\$2.86 &               57.16962973999999 gb-month at \\$0.05 ea. \\\\\n",
       "450 &         EBS &   /dev/sdb &  VolumeIOUsage &  \\$0.04 &            0.701842 million i/o requests at \\$0.05 ea. \\\\\n",
       "160 &         EBS &   /dev/sdb &    VolumeUsage &  \\$2.65 &              53.000000639999996 gb-month at \\$0.05 ea. \\\\\n",
       "224 &         EBS &  /dev/xvda &  SnapshotUsage &  \\$0.89 &                      17.8200171 gb-month at \\$0.05 ea. \\\\\n",
       "452 &         EBS &  /dev/xvda &  VolumeIOUsage &  \\$0.03 &  0.6815169999999999 million i/o requests at \\$0.05 ea. \\\\\n",
       "265 &         EBS &  /dev/xvda &    VolumeUsage &   \\$0.6 &                     11.99999952 gb-month at \\$0.05 ea. \\\\\n",
       "353 &         EBS &       swap &    VolumeUsage &   \\$0.1 &                      2.00000016 gb-month at \\$0.05 ea. \\\\\n",
       "\\bottomrule\n",
       "\\end{tabular}\n"
      ],
      "text/plain": [
       "    aws_service     device     usage_type   cost  \\\n",
       "124    BoxUsage                  t2.small   $5.7   \n",
       "155         EBS   /dev/sdb  SnapshotUsage  $2.86   \n",
       "450         EBS   /dev/sdb  VolumeIOUsage  $0.04   \n",
       "160         EBS   /dev/sdb    VolumeUsage  $2.65   \n",
       "224         EBS  /dev/xvda  SnapshotUsage  $0.89   \n",
       "452         EBS  /dev/xvda  VolumeIOUsage  $0.03   \n",
       "265         EBS  /dev/xvda    VolumeUsage   $0.6   \n",
       "353         EBS       swap    VolumeUsage   $0.1   \n",
       "\n",
       "                                                    basis  \n",
       "124         245.74475607758623 instance hour at $0.02 ea.  \n",
       "155               57.16962973999999 gb-month at $0.05 ea.  \n",
       "450            0.701842 million i/o requests at $0.05 ea.  \n",
       "160              53.000000639999996 gb-month at $0.05 ea.  \n",
       "224                      17.8200171 gb-month at $0.05 ea.  \n",
       "452  0.6815169999999999 million i/o requests at $0.05 ea.  \n",
       "265                     11.99999952 gb-month at $0.05 ea.  \n",
       "353                      2.00000016 gb-month at $0.05 ea.  "
      ]
     },
     "metadata": {},
     "output_type": "display_data"
    },
    {
     "data": {
      "text/markdown": [
       "## express"
      ],
      "text/plain": [
       "<IPython.core.display.Markdown object>"
      ]
     },
     "metadata": {},
     "output_type": "display_data"
    },
    {
     "data": {
      "text/markdown": [
       "##### Total cost: $202.51"
      ],
      "text/plain": [
       "<IPython.core.display.Markdown object>"
      ]
     },
     "metadata": {},
     "output_type": "display_data"
    },
    {
     "data": {
      "text/markdown": [
       "### "
      ],
      "text/plain": [
       "<IPython.core.display.Markdown object>"
      ]
     },
     "metadata": {},
     "output_type": "display_data"
    },
    {
     "data": {
      "text/markdown": [
       "##### Total cost for express : $0.0"
      ],
      "text/plain": [
       "<IPython.core.display.Markdown object>"
      ]
     },
     "metadata": {},
     "output_type": "display_data"
    },
    {
     "data": {
      "text/markdown": [
       "### dev"
      ],
      "text/plain": [
       "<IPython.core.display.Markdown object>"
      ]
     },
     "metadata": {},
     "output_type": "display_data"
    },
    {
     "data": {
      "text/markdown": [
       "##### Total cost for express dev: $2.3"
      ],
      "text/plain": [
       "<IPython.core.display.Markdown object>"
      ]
     },
     "metadata": {},
     "output_type": "display_data"
    },
    {
     "data": {
      "text/markdown": [
       "#### uc3-mrtexpress-dev"
      ],
      "text/plain": [
       "<IPython.core.display.Markdown object>"
      ]
     },
     "metadata": {},
     "output_type": "display_data"
    },
    {
     "data": {
      "text/markdown": [
       "#### Total cost for uc3-mrtexpress-dev: $2.3"
      ],
      "text/plain": [
       "<IPython.core.display.Markdown object>"
      ]
     },
     "metadata": {},
     "output_type": "display_data"
    },
    {
     "data": {
      "text/html": [
       "<div>\n",
       "<style scoped>\n",
       "    .dataframe tbody tr th:only-of-type {\n",
       "        vertical-align: middle;\n",
       "    }\n",
       "\n",
       "    .dataframe tbody tr th {\n",
       "        vertical-align: top;\n",
       "    }\n",
       "\n",
       "    .dataframe thead th {\n",
       "        text-align: right;\n",
       "    }\n",
       "</style>\n",
       "<table border=\"1\" class=\"dataframe\">\n",
       "  <thead>\n",
       "    <tr style=\"text-align: right;\">\n",
       "      <th></th>\n",
       "      <th>aws_service</th>\n",
       "      <th>device</th>\n",
       "      <th>usage_type</th>\n",
       "      <th>cost</th>\n",
       "      <th>basis</th>\n",
       "    </tr>\n",
       "  </thead>\n",
       "  <tbody>\n",
       "    <tr>\n",
       "      <th>398</th>\n",
       "      <td>BoxUsage</td>\n",
       "      <td></td>\n",
       "      <td>t2.small</td>\n",
       "      <td>$0.09</td>\n",
       "      <td>3.770270043103449 instance hour at $0.02 ea.</td>\n",
       "    </tr>\n",
       "    <tr>\n",
       "      <th>405</th>\n",
       "      <td>EBS</td>\n",
       "      <td>/dev/sdb</td>\n",
       "      <td>SnapshotUsage</td>\n",
       "      <td>$0.08</td>\n",
       "      <td>1.5792656999999999 gb-month at $0.05 ea.</td>\n",
       "    </tr>\n",
       "    <tr>\n",
       "      <th>206</th>\n",
       "      <td>EBS</td>\n",
       "      <td>/dev/sdb</td>\n",
       "      <td>VolumeUsage</td>\n",
       "      <td>$1.05</td>\n",
       "      <td>20.999999519999996 gb-month at $0.05 ea.</td>\n",
       "    </tr>\n",
       "    <tr>\n",
       "      <th>319</th>\n",
       "      <td>EBS</td>\n",
       "      <td>/dev/xvda</td>\n",
       "      <td>SnapshotUsage</td>\n",
       "      <td>$0.38</td>\n",
       "      <td>7.676468279999999 gb-month at $0.05 ea.</td>\n",
       "    </tr>\n",
       "    <tr>\n",
       "      <th>266</th>\n",
       "      <td>EBS</td>\n",
       "      <td>/dev/xvda</td>\n",
       "      <td>VolumeUsage</td>\n",
       "      <td>$0.6</td>\n",
       "      <td>11.99999952 gb-month at $0.05 ea.</td>\n",
       "    </tr>\n",
       "    <tr>\n",
       "      <th>354</th>\n",
       "      <td>EBS</td>\n",
       "      <td>swap</td>\n",
       "      <td>VolumeUsage</td>\n",
       "      <td>$0.1</td>\n",
       "      <td>2.00000016 gb-month at $0.05 ea.</td>\n",
       "    </tr>\n",
       "  </tbody>\n",
       "</table>\n",
       "</div>"
      ],
      "text/latex": [
       "\\begin{tabular}{llllll}\n",
       "\\toprule\n",
       "{} & aws\\_service &     device &     usage\\_type &   cost &                                         basis \\\\\n",
       "\\midrule\n",
       "398 &    BoxUsage &            &       t2.small &  \\$0.09 &  3.770270043103449 instance hour at \\$0.02 ea. \\\\\n",
       "405 &         EBS &   /dev/sdb &  SnapshotUsage &  \\$0.08 &      1.5792656999999999 gb-month at \\$0.05 ea. \\\\\n",
       "206 &         EBS &   /dev/sdb &    VolumeUsage &  \\$1.05 &      20.999999519999996 gb-month at \\$0.05 ea. \\\\\n",
       "319 &         EBS &  /dev/xvda &  SnapshotUsage &  \\$0.38 &       7.676468279999999 gb-month at \\$0.05 ea. \\\\\n",
       "266 &         EBS &  /dev/xvda &    VolumeUsage &   \\$0.6 &             11.99999952 gb-month at \\$0.05 ea. \\\\\n",
       "354 &         EBS &       swap &    VolumeUsage &   \\$0.1 &              2.00000016 gb-month at \\$0.05 ea. \\\\\n",
       "\\bottomrule\n",
       "\\end{tabular}\n"
      ],
      "text/plain": [
       "    aws_service     device     usage_type   cost  \\\n",
       "398    BoxUsage                  t2.small  $0.09   \n",
       "405         EBS   /dev/sdb  SnapshotUsage  $0.08   \n",
       "206         EBS   /dev/sdb    VolumeUsage  $1.05   \n",
       "319         EBS  /dev/xvda  SnapshotUsage  $0.38   \n",
       "266         EBS  /dev/xvda    VolumeUsage   $0.6   \n",
       "354         EBS       swap    VolumeUsage   $0.1   \n",
       "\n",
       "                                            basis  \n",
       "398  3.770270043103449 instance hour at $0.02 ea.  \n",
       "405      1.5792656999999999 gb-month at $0.05 ea.  \n",
       "206      20.999999519999996 gb-month at $0.05 ea.  \n",
       "319       7.676468279999999 gb-month at $0.05 ea.  \n",
       "266             11.99999952 gb-month at $0.05 ea.  \n",
       "354              2.00000016 gb-month at $0.05 ea.  "
      ]
     },
     "metadata": {},
     "output_type": "display_data"
    },
    {
     "data": {
      "text/markdown": [
       "### prd"
      ],
      "text/plain": [
       "<IPython.core.display.Markdown object>"
      ]
     },
     "metadata": {},
     "output_type": "display_data"
    },
    {
     "data": {
      "text/markdown": [
       "##### Total cost for express prd: $191.98"
      ],
      "text/plain": [
       "<IPython.core.display.Markdown object>"
      ]
     },
     "metadata": {},
     "output_type": "display_data"
    },
    {
     "data": {
      "text/markdown": [
       "#### uc3-mrtexpress-prd"
      ],
      "text/plain": [
       "<IPython.core.display.Markdown object>"
      ]
     },
     "metadata": {},
     "output_type": "display_data"
    },
    {
     "data": {
      "text/markdown": [
       "#### Total cost for uc3-mrtexpress-prd: $0.02"
      ],
      "text/plain": [
       "<IPython.core.display.Markdown object>"
      ]
     },
     "metadata": {},
     "output_type": "display_data"
    },
    {
     "data": {
      "text/html": [
       "<div>\n",
       "<style scoped>\n",
       "    .dataframe tbody tr th:only-of-type {\n",
       "        vertical-align: middle;\n",
       "    }\n",
       "\n",
       "    .dataframe tbody tr th {\n",
       "        vertical-align: top;\n",
       "    }\n",
       "\n",
       "    .dataframe thead th {\n",
       "        text-align: right;\n",
       "    }\n",
       "</style>\n",
       "<table border=\"1\" class=\"dataframe\">\n",
       "  <thead>\n",
       "    <tr style=\"text-align: right;\">\n",
       "      <th></th>\n",
       "      <th>aws_service</th>\n",
       "      <th>device</th>\n",
       "      <th>usage_type</th>\n",
       "      <th>cost</th>\n",
       "      <th>basis</th>\n",
       "    </tr>\n",
       "  </thead>\n",
       "  <tbody>\n",
       "    <tr>\n",
       "      <th>476</th>\n",
       "      <td>EBS</td>\n",
       "      <td>/dev/sdb</td>\n",
       "      <td>SnapshotUsage</td>\n",
       "      <td>$0.01</td>\n",
       "      <td>0.21279295999999998 gb-month at $0.05 ea.</td>\n",
       "    </tr>\n",
       "    <tr>\n",
       "      <th>470</th>\n",
       "      <td>EBS</td>\n",
       "      <td>/dev/xvda</td>\n",
       "      <td>SnapshotUsage</td>\n",
       "      <td>$0.01</td>\n",
       "      <td>0.2531901 gb-month at $0.05 ea.</td>\n",
       "    </tr>\n",
       "  </tbody>\n",
       "</table>\n",
       "</div>"
      ],
      "text/latex": [
       "\\begin{tabular}{llllll}\n",
       "\\toprule\n",
       "{} & aws\\_service &     device &     usage\\_type &   cost &                                      basis \\\\\n",
       "\\midrule\n",
       "476 &         EBS &   /dev/sdb &  SnapshotUsage &  \\$0.01 &  0.21279295999999998 gb-month at \\$0.05 ea. \\\\\n",
       "470 &         EBS &  /dev/xvda &  SnapshotUsage &  \\$0.01 &            0.2531901 gb-month at \\$0.05 ea. \\\\\n",
       "\\bottomrule\n",
       "\\end{tabular}\n"
      ],
      "text/plain": [
       "    aws_service     device     usage_type   cost  \\\n",
       "476         EBS   /dev/sdb  SnapshotUsage  $0.01   \n",
       "470         EBS  /dev/xvda  SnapshotUsage  $0.01   \n",
       "\n",
       "                                         basis  \n",
       "476  0.21279295999999998 gb-month at $0.05 ea.  \n",
       "470            0.2531901 gb-month at $0.05 ea.  "
      ]
     },
     "metadata": {},
     "output_type": "display_data"
    },
    {
     "data": {
      "text/markdown": [
       "#### uc3-mrtexpress-prd-2a"
      ],
      "text/plain": [
       "<IPython.core.display.Markdown object>"
      ]
     },
     "metadata": {},
     "output_type": "display_data"
    },
    {
     "data": {
      "text/markdown": [
       "#### Total cost for uc3-mrtexpress-prd-2a: $149.84"
      ],
      "text/plain": [
       "<IPython.core.display.Markdown object>"
      ]
     },
     "metadata": {},
     "output_type": "display_data"
    },
    {
     "data": {
      "text/html": [
       "<div>\n",
       "<style scoped>\n",
       "    .dataframe tbody tr th:only-of-type {\n",
       "        vertical-align: middle;\n",
       "    }\n",
       "\n",
       "    .dataframe tbody tr th {\n",
       "        vertical-align: top;\n",
       "    }\n",
       "\n",
       "    .dataframe thead th {\n",
       "        text-align: right;\n",
       "    }\n",
       "</style>\n",
       "<table border=\"1\" class=\"dataframe\">\n",
       "  <thead>\n",
       "    <tr style=\"text-align: right;\">\n",
       "      <th></th>\n",
       "      <th>aws_service</th>\n",
       "      <th>device</th>\n",
       "      <th>usage_type</th>\n",
       "      <th>cost</th>\n",
       "      <th>basis</th>\n",
       "    </tr>\n",
       "  </thead>\n",
       "  <tbody>\n",
       "    <tr>\n",
       "      <th>2</th>\n",
       "      <td>BoxUsage</td>\n",
       "      <td></td>\n",
       "      <td>m4.xlarge</td>\n",
       "      <td>$144.0</td>\n",
       "      <td>720.0 instance hour at $0.2 ea.</td>\n",
       "    </tr>\n",
       "    <tr>\n",
       "      <th>416</th>\n",
       "      <td>DataTransfer</td>\n",
       "      <td></td>\n",
       "      <td>Regional-Bytes</td>\n",
       "      <td>$0.06</td>\n",
       "      <td>6.3185122 gb - regional data transfer at $0.01 ea.</td>\n",
       "    </tr>\n",
       "    <tr>\n",
       "      <th>197</th>\n",
       "      <td>EBS</td>\n",
       "      <td></td>\n",
       "      <td>SnapshotUsage</td>\n",
       "      <td>$1.09</td>\n",
       "      <td>19.906248636363635 gb-month at $0.06 ea.</td>\n",
       "    </tr>\n",
       "    <tr>\n",
       "      <th>307</th>\n",
       "      <td>EBS</td>\n",
       "      <td>/dev/sdb</td>\n",
       "      <td>SnapshotUsage</td>\n",
       "      <td>$0.57</td>\n",
       "      <td>11.32539904 gb-month at $0.05 ea.</td>\n",
       "    </tr>\n",
       "    <tr>\n",
       "      <th>417</th>\n",
       "      <td>EBS</td>\n",
       "      <td>/dev/sdb</td>\n",
       "      <td>VolumeIOUsage</td>\n",
       "      <td>$0.06</td>\n",
       "      <td>1.2619949999999998 million i/o requests at $0.05 ea.</td>\n",
       "    </tr>\n",
       "    <tr>\n",
       "      <th>161</th>\n",
       "      <td>EBS</td>\n",
       "      <td>/dev/sdb</td>\n",
       "      <td>VolumeUsage</td>\n",
       "      <td>$2.65</td>\n",
       "      <td>53.000000639999996 gb-month at $0.05 ea.</td>\n",
       "    </tr>\n",
       "    <tr>\n",
       "      <th>249</th>\n",
       "      <td>EBS</td>\n",
       "      <td>/dev/xvda</td>\n",
       "      <td>SnapshotUsage</td>\n",
       "      <td>$0.65</td>\n",
       "      <td>12.95867144 gb-month at $0.05 ea.</td>\n",
       "    </tr>\n",
       "    <tr>\n",
       "      <th>426</th>\n",
       "      <td>EBS</td>\n",
       "      <td>/dev/xvda</td>\n",
       "      <td>VolumeIOUsage</td>\n",
       "      <td>$0.05</td>\n",
       "      <td>1.094415 million i/o requests at $0.05 ea.</td>\n",
       "    </tr>\n",
       "    <tr>\n",
       "      <th>267</th>\n",
       "      <td>EBS</td>\n",
       "      <td>/dev/xvda</td>\n",
       "      <td>VolumeUsage</td>\n",
       "      <td>$0.6</td>\n",
       "      <td>11.99999952 gb-month at $0.05 ea.</td>\n",
       "    </tr>\n",
       "    <tr>\n",
       "      <th>355</th>\n",
       "      <td>EBS</td>\n",
       "      <td>swap</td>\n",
       "      <td>VolumeUsage</td>\n",
       "      <td>$0.1</td>\n",
       "      <td>2.00000016 gb-month at $0.05 ea.</td>\n",
       "    </tr>\n",
       "  </tbody>\n",
       "</table>\n",
       "</div>"
      ],
      "text/latex": [
       "\\begin{tabular}{llllll}\n",
       "\\toprule\n",
       "{} &   aws\\_service &     device &      usage\\_type &    cost &                                                 basis \\\\\n",
       "\\midrule\n",
       "2   &      BoxUsage &            &       m4.xlarge &  \\$144.0 &                       720.0 instance hour at \\$0.2 ea. \\\\\n",
       "416 &  DataTransfer &            &  Regional-Bytes &   \\$0.06 &    6.3185122 gb - regional data transfer at \\$0.01 ea. \\\\\n",
       "197 &           EBS &            &   SnapshotUsage &   \\$1.09 &              19.906248636363635 gb-month at \\$0.06 ea. \\\\\n",
       "307 &           EBS &   /dev/sdb &   SnapshotUsage &   \\$0.57 &                     11.32539904 gb-month at \\$0.05 ea. \\\\\n",
       "417 &           EBS &   /dev/sdb &   VolumeIOUsage &   \\$0.06 &  1.2619949999999998 million i/o requests at \\$0.05 ea. \\\\\n",
       "161 &           EBS &   /dev/sdb &     VolumeUsage &   \\$2.65 &              53.000000639999996 gb-month at \\$0.05 ea. \\\\\n",
       "249 &           EBS &  /dev/xvda &   SnapshotUsage &   \\$0.65 &                     12.95867144 gb-month at \\$0.05 ea. \\\\\n",
       "426 &           EBS &  /dev/xvda &   VolumeIOUsage &   \\$0.05 &            1.094415 million i/o requests at \\$0.05 ea. \\\\\n",
       "267 &           EBS &  /dev/xvda &     VolumeUsage &    \\$0.6 &                     11.99999952 gb-month at \\$0.05 ea. \\\\\n",
       "355 &           EBS &       swap &     VolumeUsage &    \\$0.1 &                      2.00000016 gb-month at \\$0.05 ea. \\\\\n",
       "\\bottomrule\n",
       "\\end{tabular}\n"
      ],
      "text/plain": [
       "      aws_service     device      usage_type    cost  \\\n",
       "2        BoxUsage                  m4.xlarge  $144.0   \n",
       "416  DataTransfer             Regional-Bytes   $0.06   \n",
       "197           EBS              SnapshotUsage   $1.09   \n",
       "307           EBS   /dev/sdb   SnapshotUsage   $0.57   \n",
       "417           EBS   /dev/sdb   VolumeIOUsage   $0.06   \n",
       "161           EBS   /dev/sdb     VolumeUsage   $2.65   \n",
       "249           EBS  /dev/xvda   SnapshotUsage   $0.65   \n",
       "426           EBS  /dev/xvda   VolumeIOUsage   $0.05   \n",
       "267           EBS  /dev/xvda     VolumeUsage    $0.6   \n",
       "355           EBS       swap     VolumeUsage    $0.1   \n",
       "\n",
       "                                                    basis  \n",
       "2                         720.0 instance hour at $0.2 ea.  \n",
       "416    6.3185122 gb - regional data transfer at $0.01 ea.  \n",
       "197              19.906248636363635 gb-month at $0.06 ea.  \n",
       "307                     11.32539904 gb-month at $0.05 ea.  \n",
       "417  1.2619949999999998 million i/o requests at $0.05 ea.  \n",
       "161              53.000000639999996 gb-month at $0.05 ea.  \n",
       "249                     12.95867144 gb-month at $0.05 ea.  \n",
       "426            1.094415 million i/o requests at $0.05 ea.  \n",
       "267                     11.99999952 gb-month at $0.05 ea.  \n",
       "355                      2.00000016 gb-month at $0.05 ea.  "
      ]
     },
     "metadata": {},
     "output_type": "display_data"
    },
    {
     "data": {
      "text/markdown": [
       "#### uc3-mrtexpress-prd-2c"
      ],
      "text/plain": [
       "<IPython.core.display.Markdown object>"
      ]
     },
     "metadata": {},
     "output_type": "display_data"
    },
    {
     "data": {
      "text/markdown": [
       "#### Total cost for uc3-mrtexpress-prd-2c: $21.94"
      ],
      "text/plain": [
       "<IPython.core.display.Markdown object>"
      ]
     },
     "metadata": {},
     "output_type": "display_data"
    },
    {
     "data": {
      "text/html": [
       "<div>\n",
       "<style scoped>\n",
       "    .dataframe tbody tr th:only-of-type {\n",
       "        vertical-align: middle;\n",
       "    }\n",
       "\n",
       "    .dataframe tbody tr th {\n",
       "        vertical-align: top;\n",
       "    }\n",
       "\n",
       "    .dataframe thead th {\n",
       "        text-align: right;\n",
       "    }\n",
       "</style>\n",
       "<table border=\"1\" class=\"dataframe\">\n",
       "  <thead>\n",
       "    <tr style=\"text-align: right;\">\n",
       "      <th></th>\n",
       "      <th>aws_service</th>\n",
       "      <th>device</th>\n",
       "      <th>usage_type</th>\n",
       "      <th>cost</th>\n",
       "      <th>basis</th>\n",
       "    </tr>\n",
       "  </thead>\n",
       "  <tbody>\n",
       "    <tr>\n",
       "      <th>71</th>\n",
       "      <td>BoxUsage</td>\n",
       "      <td></td>\n",
       "      <td>t2.small</td>\n",
       "      <td>$16.51</td>\n",
       "      <td>711.8103448275863 instance hour at $0.02 ea.</td>\n",
       "    </tr>\n",
       "    <tr>\n",
       "      <th>457</th>\n",
       "      <td>DataTransfer</td>\n",
       "      <td></td>\n",
       "      <td>Regional-Bytes</td>\n",
       "      <td>$0.02</td>\n",
       "      <td>2.4354895 gb - regional data transfer at $0.01 ea.</td>\n",
       "    </tr>\n",
       "    <tr>\n",
       "      <th>248</th>\n",
       "      <td>EBS</td>\n",
       "      <td></td>\n",
       "      <td>SnapshotUsage</td>\n",
       "      <td>$0.71</td>\n",
       "      <td>12.887310800000002 gb-month at $0.06 ea.</td>\n",
       "    </tr>\n",
       "    <tr>\n",
       "      <th>314</th>\n",
       "      <td>EBS</td>\n",
       "      <td>/dev/sdb</td>\n",
       "      <td>SnapshotUsage</td>\n",
       "      <td>$0.52</td>\n",
       "      <td>10.475095459999999 gb-month at $0.05 ea.</td>\n",
       "    </tr>\n",
       "    <tr>\n",
       "      <th>418</th>\n",
       "      <td>EBS</td>\n",
       "      <td>/dev/sdb</td>\n",
       "      <td>VolumeIOUsage</td>\n",
       "      <td>$0.06</td>\n",
       "      <td>1.258643 million i/o requests at $0.05 ea.</td>\n",
       "    </tr>\n",
       "    <tr>\n",
       "      <th>162</th>\n",
       "      <td>EBS</td>\n",
       "      <td>/dev/sdb</td>\n",
       "      <td>VolumeUsage</td>\n",
       "      <td>$2.65</td>\n",
       "      <td>53.000000639999996 gb-month at $0.05 ea.</td>\n",
       "    </tr>\n",
       "    <tr>\n",
       "      <th>247</th>\n",
       "      <td>EBS</td>\n",
       "      <td>/dev/xvda</td>\n",
       "      <td>SnapshotUsage</td>\n",
       "      <td>$0.71</td>\n",
       "      <td>14.235883659999999 gb-month at $0.05 ea.</td>\n",
       "    </tr>\n",
       "    <tr>\n",
       "      <th>435</th>\n",
       "      <td>EBS</td>\n",
       "      <td>/dev/xvda</td>\n",
       "      <td>VolumeIOUsage</td>\n",
       "      <td>$0.05</td>\n",
       "      <td>0.968389 million i/o requests at $0.05 ea.</td>\n",
       "    </tr>\n",
       "    <tr>\n",
       "      <th>268</th>\n",
       "      <td>EBS</td>\n",
       "      <td>/dev/xvda</td>\n",
       "      <td>VolumeUsage</td>\n",
       "      <td>$0.6</td>\n",
       "      <td>11.99999952 gb-month at $0.05 ea.</td>\n",
       "    </tr>\n",
       "    <tr>\n",
       "      <th>356</th>\n",
       "      <td>EBS</td>\n",
       "      <td>swap</td>\n",
       "      <td>VolumeUsage</td>\n",
       "      <td>$0.1</td>\n",
       "      <td>2.00000016 gb-month at $0.05 ea.</td>\n",
       "    </tr>\n",
       "  </tbody>\n",
       "</table>\n",
       "</div>"
      ],
      "text/latex": [
       "\\begin{tabular}{llllll}\n",
       "\\toprule\n",
       "{} &   aws\\_service &     device &      usage\\_type &    cost &                                               basis \\\\\n",
       "\\midrule\n",
       "71  &      BoxUsage &            &        t2.small &  \\$16.51 &        711.8103448275863 instance hour at \\$0.02 ea. \\\\\n",
       "457 &  DataTransfer &            &  Regional-Bytes &   \\$0.02 &  2.4354895 gb - regional data transfer at \\$0.01 ea. \\\\\n",
       "248 &           EBS &            &   SnapshotUsage &   \\$0.71 &            12.887310800000002 gb-month at \\$0.06 ea. \\\\\n",
       "314 &           EBS &   /dev/sdb &   SnapshotUsage &   \\$0.52 &            10.475095459999999 gb-month at \\$0.05 ea. \\\\\n",
       "418 &           EBS &   /dev/sdb &   VolumeIOUsage &   \\$0.06 &          1.258643 million i/o requests at \\$0.05 ea. \\\\\n",
       "162 &           EBS &   /dev/sdb &     VolumeUsage &   \\$2.65 &            53.000000639999996 gb-month at \\$0.05 ea. \\\\\n",
       "247 &           EBS &  /dev/xvda &   SnapshotUsage &   \\$0.71 &            14.235883659999999 gb-month at \\$0.05 ea. \\\\\n",
       "435 &           EBS &  /dev/xvda &   VolumeIOUsage &   \\$0.05 &          0.968389 million i/o requests at \\$0.05 ea. \\\\\n",
       "268 &           EBS &  /dev/xvda &     VolumeUsage &    \\$0.6 &                   11.99999952 gb-month at \\$0.05 ea. \\\\\n",
       "356 &           EBS &       swap &     VolumeUsage &    \\$0.1 &                    2.00000016 gb-month at \\$0.05 ea. \\\\\n",
       "\\bottomrule\n",
       "\\end{tabular}\n"
      ],
      "text/plain": [
       "      aws_service     device      usage_type    cost  \\\n",
       "71       BoxUsage                   t2.small  $16.51   \n",
       "457  DataTransfer             Regional-Bytes   $0.02   \n",
       "248           EBS              SnapshotUsage   $0.71   \n",
       "314           EBS   /dev/sdb   SnapshotUsage   $0.52   \n",
       "418           EBS   /dev/sdb   VolumeIOUsage   $0.06   \n",
       "162           EBS   /dev/sdb     VolumeUsage   $2.65   \n",
       "247           EBS  /dev/xvda   SnapshotUsage   $0.71   \n",
       "435           EBS  /dev/xvda   VolumeIOUsage   $0.05   \n",
       "268           EBS  /dev/xvda     VolumeUsage    $0.6   \n",
       "356           EBS       swap     VolumeUsage    $0.1   \n",
       "\n",
       "                                                  basis  \n",
       "71         711.8103448275863 instance hour at $0.02 ea.  \n",
       "457  2.4354895 gb - regional data transfer at $0.01 ea.  \n",
       "248            12.887310800000002 gb-month at $0.06 ea.  \n",
       "314            10.475095459999999 gb-month at $0.05 ea.  \n",
       "418          1.258643 million i/o requests at $0.05 ea.  \n",
       "162            53.000000639999996 gb-month at $0.05 ea.  \n",
       "247            14.235883659999999 gb-month at $0.05 ea.  \n",
       "435          0.968389 million i/o requests at $0.05 ea.  \n",
       "268                   11.99999952 gb-month at $0.05 ea.  \n",
       "356                    2.00000016 gb-month at $0.05 ea.  "
      ]
     },
     "metadata": {},
     "output_type": "display_data"
    },
    {
     "data": {
      "text/markdown": [
       "#### uc3-mrtexpress-prd-alb"
      ],
      "text/plain": [
       "<IPython.core.display.Markdown object>"
      ]
     },
     "metadata": {},
     "output_type": "display_data"
    },
    {
     "data": {
      "text/markdown": [
       "#### Total cost for uc3-mrtexpress-prd-alb: $20.17"
      ],
      "text/plain": [
       "<IPython.core.display.Markdown object>"
      ]
     },
     "metadata": {},
     "output_type": "display_data"
    },
    {
     "data": {
      "text/html": [
       "<div>\n",
       "<style scoped>\n",
       "    .dataframe tbody tr th:only-of-type {\n",
       "        vertical-align: middle;\n",
       "    }\n",
       "\n",
       "    .dataframe tbody tr th {\n",
       "        vertical-align: top;\n",
       "    }\n",
       "\n",
       "    .dataframe thead th {\n",
       "        text-align: right;\n",
       "    }\n",
       "</style>\n",
       "<table border=\"1\" class=\"dataframe\">\n",
       "  <thead>\n",
       "    <tr style=\"text-align: right;\">\n",
       "      <th></th>\n",
       "      <th>aws_service</th>\n",
       "      <th>device</th>\n",
       "      <th>usage_type</th>\n",
       "      <th>cost</th>\n",
       "      <th>basis</th>\n",
       "    </tr>\n",
       "  </thead>\n",
       "  <tbody>\n",
       "    <tr>\n",
       "      <th>333</th>\n",
       "      <td>DataTransfer</td>\n",
       "      <td></td>\n",
       "      <td>Out-Bytes</td>\n",
       "      <td>$0.12</td>\n",
       "      <td>1.3657827 gb - first 10 tb / month data transfer at $0.09 ea.</td>\n",
       "    </tr>\n",
       "    <tr>\n",
       "      <th>177</th>\n",
       "      <td>DataTransfer</td>\n",
       "      <td></td>\n",
       "      <td>Regional-Bytes</td>\n",
       "      <td>$2.15</td>\n",
       "      <td>214.56515710000002 gb - regional data transfer at $0.01 ea.</td>\n",
       "    </tr>\n",
       "    <tr>\n",
       "      <th>179</th>\n",
       "      <td>LCUUsage</td>\n",
       "      <td></td>\n",
       "      <td></td>\n",
       "      <td>$1.71</td>\n",
       "      <td>213.149350625 load balancer capacity unit-hour at $0.01 ea.</td>\n",
       "    </tr>\n",
       "    <tr>\n",
       "      <th>72</th>\n",
       "      <td>LoadBalancerUsage</td>\n",
       "      <td></td>\n",
       "      <td></td>\n",
       "      <td>$16.2</td>\n",
       "      <td>720.0 loadbalancer-hour at $0.02 ea.</td>\n",
       "    </tr>\n",
       "  </tbody>\n",
       "</table>\n",
       "</div>"
      ],
      "text/latex": [
       "\\begin{tabular}{llllll}\n",
       "\\toprule\n",
       "{} &        aws\\_service & device &      usage\\_type &   cost &                                                          basis \\\\\n",
       "\\midrule\n",
       "333 &       DataTransfer &        &       Out-Bytes &  \\$0.12 &  1.3657827 gb - first 10 tb / month data transfer at \\$0.09 ea. \\\\\n",
       "177 &       DataTransfer &        &  Regional-Bytes &  \\$2.15 &    214.56515710000002 gb - regional data transfer at \\$0.01 ea. \\\\\n",
       "179 &           LCUUsage &        &                 &  \\$1.71 &    213.149350625 load balancer capacity unit-hour at \\$0.01 ea. \\\\\n",
       "72  &  LoadBalancerUsage &        &                 &  \\$16.2 &                           720.0 loadbalancer-hour at \\$0.02 ea. \\\\\n",
       "\\bottomrule\n",
       "\\end{tabular}\n"
      ],
      "text/plain": [
       "           aws_service device      usage_type   cost  \\\n",
       "333       DataTransfer              Out-Bytes  $0.12   \n",
       "177       DataTransfer         Regional-Bytes  $2.15   \n",
       "179           LCUUsage                         $1.71   \n",
       "72   LoadBalancerUsage                         $16.2   \n",
       "\n",
       "                                                             basis  \n",
       "333  1.3657827 gb - first 10 tb / month data transfer at $0.09 ea.  \n",
       "177    214.56515710000002 gb - regional data transfer at $0.01 ea.  \n",
       "179    213.149350625 load balancer capacity unit-hour at $0.01 ea.  \n",
       "72                            720.0 loadbalancer-hour at $0.02 ea.  "
      ]
     },
     "metadata": {},
     "output_type": "display_data"
    },
    {
     "data": {
      "text/markdown": [
       "### stg"
      ],
      "text/plain": [
       "<IPython.core.display.Markdown object>"
      ]
     },
     "metadata": {},
     "output_type": "display_data"
    },
    {
     "data": {
      "text/markdown": [
       "##### Total cost for express stg: $8.23"
      ],
      "text/plain": [
       "<IPython.core.display.Markdown object>"
      ]
     },
     "metadata": {},
     "output_type": "display_data"
    },
    {
     "data": {
      "text/markdown": [
       "#### uc3-mrtexpress-stg"
      ],
      "text/plain": [
       "<IPython.core.display.Markdown object>"
      ]
     },
     "metadata": {},
     "output_type": "display_data"
    },
    {
     "data": {
      "text/markdown": [
       "#### Total cost for uc3-mrtexpress-stg: $8.23"
      ],
      "text/plain": [
       "<IPython.core.display.Markdown object>"
      ]
     },
     "metadata": {},
     "output_type": "display_data"
    },
    {
     "data": {
      "text/html": [
       "<div>\n",
       "<style scoped>\n",
       "    .dataframe tbody tr th:only-of-type {\n",
       "        vertical-align: middle;\n",
       "    }\n",
       "\n",
       "    .dataframe tbody tr th {\n",
       "        vertical-align: top;\n",
       "    }\n",
       "\n",
       "    .dataframe thead th {\n",
       "        text-align: right;\n",
       "    }\n",
       "</style>\n",
       "<table border=\"1\" class=\"dataframe\">\n",
       "  <thead>\n",
       "    <tr style=\"text-align: right;\">\n",
       "      <th></th>\n",
       "      <th>aws_service</th>\n",
       "      <th>device</th>\n",
       "      <th>usage_type</th>\n",
       "      <th>cost</th>\n",
       "      <th>basis</th>\n",
       "    </tr>\n",
       "  </thead>\n",
       "  <tbody>\n",
       "    <tr>\n",
       "      <th>110</th>\n",
       "      <td>BoxUsage</td>\n",
       "      <td></td>\n",
       "      <td>t2.small</td>\n",
       "      <td>$5.7</td>\n",
       "      <td>245.77229461206898 instance hour at $0.02 ea.</td>\n",
       "    </tr>\n",
       "    <tr>\n",
       "      <th>334</th>\n",
       "      <td>EBS</td>\n",
       "      <td>/dev/sdb</td>\n",
       "      <td>SnapshotUsage</td>\n",
       "      <td>$0.11</td>\n",
       "      <td>2.23454716 gb-month at $0.05 ea.</td>\n",
       "    </tr>\n",
       "    <tr>\n",
       "      <th>207</th>\n",
       "      <td>EBS</td>\n",
       "      <td>/dev/sdb</td>\n",
       "      <td>VolumeUsage</td>\n",
       "      <td>$1.05</td>\n",
       "      <td>20.999999519999996 gb-month at $0.05 ea.</td>\n",
       "    </tr>\n",
       "    <tr>\n",
       "      <th>250</th>\n",
       "      <td>EBS</td>\n",
       "      <td>/dev/xvda</td>\n",
       "      <td>SnapshotUsage</td>\n",
       "      <td>$0.63</td>\n",
       "      <td>12.68378662 gb-month at $0.05 ea.</td>\n",
       "    </tr>\n",
       "    <tr>\n",
       "      <th>453</th>\n",
       "      <td>EBS</td>\n",
       "      <td>/dev/xvda</td>\n",
       "      <td>VolumeIOUsage</td>\n",
       "      <td>$0.03</td>\n",
       "      <td>0.6662039999999999 million i/o requests at $0.05 ea.</td>\n",
       "    </tr>\n",
       "    <tr>\n",
       "      <th>269</th>\n",
       "      <td>EBS</td>\n",
       "      <td>/dev/xvda</td>\n",
       "      <td>VolumeUsage</td>\n",
       "      <td>$0.6</td>\n",
       "      <td>11.99999952 gb-month at $0.05 ea.</td>\n",
       "    </tr>\n",
       "    <tr>\n",
       "      <th>357</th>\n",
       "      <td>EBS</td>\n",
       "      <td>swap</td>\n",
       "      <td>VolumeUsage</td>\n",
       "      <td>$0.1</td>\n",
       "      <td>2.00000016 gb-month at $0.05 ea.</td>\n",
       "    </tr>\n",
       "  </tbody>\n",
       "</table>\n",
       "</div>"
      ],
      "text/latex": [
       "\\begin{tabular}{llllll}\n",
       "\\toprule\n",
       "{} & aws\\_service &     device &     usage\\_type &   cost &                                                 basis \\\\\n",
       "\\midrule\n",
       "110 &    BoxUsage &            &       t2.small &   \\$5.7 &         245.77229461206898 instance hour at \\$0.02 ea. \\\\\n",
       "334 &         EBS &   /dev/sdb &  SnapshotUsage &  \\$0.11 &                      2.23454716 gb-month at \\$0.05 ea. \\\\\n",
       "207 &         EBS &   /dev/sdb &    VolumeUsage &  \\$1.05 &              20.999999519999996 gb-month at \\$0.05 ea. \\\\\n",
       "250 &         EBS &  /dev/xvda &  SnapshotUsage &  \\$0.63 &                     12.68378662 gb-month at \\$0.05 ea. \\\\\n",
       "453 &         EBS &  /dev/xvda &  VolumeIOUsage &  \\$0.03 &  0.6662039999999999 million i/o requests at \\$0.05 ea. \\\\\n",
       "269 &         EBS &  /dev/xvda &    VolumeUsage &   \\$0.6 &                     11.99999952 gb-month at \\$0.05 ea. \\\\\n",
       "357 &         EBS &       swap &    VolumeUsage &   \\$0.1 &                      2.00000016 gb-month at \\$0.05 ea. \\\\\n",
       "\\bottomrule\n",
       "\\end{tabular}\n"
      ],
      "text/plain": [
       "    aws_service     device     usage_type   cost  \\\n",
       "110    BoxUsage                  t2.small   $5.7   \n",
       "334         EBS   /dev/sdb  SnapshotUsage  $0.11   \n",
       "207         EBS   /dev/sdb    VolumeUsage  $1.05   \n",
       "250         EBS  /dev/xvda  SnapshotUsage  $0.63   \n",
       "453         EBS  /dev/xvda  VolumeIOUsage  $0.03   \n",
       "269         EBS  /dev/xvda    VolumeUsage   $0.6   \n",
       "357         EBS       swap    VolumeUsage   $0.1   \n",
       "\n",
       "                                                    basis  \n",
       "110         245.77229461206898 instance hour at $0.02 ea.  \n",
       "334                      2.23454716 gb-month at $0.05 ea.  \n",
       "207              20.999999519999996 gb-month at $0.05 ea.  \n",
       "250                     12.68378662 gb-month at $0.05 ea.  \n",
       "453  0.6662039999999999 million i/o requests at $0.05 ea.  \n",
       "269                     11.99999952 gb-month at $0.05 ea.  \n",
       "357                      2.00000016 gb-month at $0.05 ea.  "
      ]
     },
     "metadata": {},
     "output_type": "display_data"
    },
    {
     "data": {
      "text/markdown": [
       "## ingest"
      ],
      "text/plain": [
       "<IPython.core.display.Markdown object>"
      ]
     },
     "metadata": {},
     "output_type": "display_data"
    },
    {
     "data": {
      "text/markdown": [
       "##### Total cost: $966.22"
      ],
      "text/plain": [
       "<IPython.core.display.Markdown object>"
      ]
     },
     "metadata": {},
     "output_type": "display_data"
    },
    {
     "data": {
      "text/markdown": [
       "### "
      ],
      "text/plain": [
       "<IPython.core.display.Markdown object>"
      ]
     },
     "metadata": {},
     "output_type": "display_data"
    },
    {
     "data": {
      "text/markdown": [
       "##### Total cost for ingest : $0.0"
      ],
      "text/plain": [
       "<IPython.core.display.Markdown object>"
      ]
     },
     "metadata": {},
     "output_type": "display_data"
    },
    {
     "data": {
      "text/markdown": [
       "### dev"
      ],
      "text/plain": [
       "<IPython.core.display.Markdown object>"
      ]
     },
     "metadata": {},
     "output_type": "display_data"
    },
    {
     "data": {
      "text/markdown": [
       "##### Total cost for ingest dev: $12.68"
      ],
      "text/plain": [
       "<IPython.core.display.Markdown object>"
      ]
     },
     "metadata": {},
     "output_type": "display_data"
    },
    {
     "data": {
      "text/markdown": [
       "#### uc3-mrtingest1-dev"
      ],
      "text/plain": [
       "<IPython.core.display.Markdown object>"
      ]
     },
     "metadata": {},
     "output_type": "display_data"
    },
    {
     "data": {
      "text/markdown": [
       "#### Total cost for uc3-mrtingest1-dev: $12.68"
      ],
      "text/plain": [
       "<IPython.core.display.Markdown object>"
      ]
     },
     "metadata": {},
     "output_type": "display_data"
    },
    {
     "data": {
      "text/html": [
       "<div>\n",
       "<style scoped>\n",
       "    .dataframe tbody tr th:only-of-type {\n",
       "        vertical-align: middle;\n",
       "    }\n",
       "\n",
       "    .dataframe tbody tr th {\n",
       "        vertical-align: top;\n",
       "    }\n",
       "\n",
       "    .dataframe thead th {\n",
       "        text-align: right;\n",
       "    }\n",
       "</style>\n",
       "<table border=\"1\" class=\"dataframe\">\n",
       "  <thead>\n",
       "    <tr style=\"text-align: right;\">\n",
       "      <th></th>\n",
       "      <th>aws_service</th>\n",
       "      <th>device</th>\n",
       "      <th>usage_type</th>\n",
       "      <th>cost</th>\n",
       "      <th>basis</th>\n",
       "    </tr>\n",
       "  </thead>\n",
       "  <tbody>\n",
       "    <tr>\n",
       "      <th>115</th>\n",
       "      <td>BoxUsage</td>\n",
       "      <td></td>\n",
       "      <td>t2.small</td>\n",
       "      <td>$5.7</td>\n",
       "      <td>245.76127741379312 instance hour at $0.02 ea.</td>\n",
       "    </tr>\n",
       "    <tr>\n",
       "      <th>157</th>\n",
       "      <td>EBS</td>\n",
       "      <td>/dev/sdc</td>\n",
       "      <td>SnapshotUsage</td>\n",
       "      <td>$2.71</td>\n",
       "      <td>54.290095279999996 gb-month at $0.05 ea.</td>\n",
       "    </tr>\n",
       "    <tr>\n",
       "      <th>158</th>\n",
       "      <td>EBS</td>\n",
       "      <td>/dev/sdc</td>\n",
       "      <td>VolumeUsage</td>\n",
       "      <td>$2.7</td>\n",
       "      <td>54.0 gb-month at $0.05 ea.</td>\n",
       "    </tr>\n",
       "    <tr>\n",
       "      <th>235</th>\n",
       "      <td>EBS</td>\n",
       "      <td>/dev/xvda</td>\n",
       "      <td>SnapshotUsage</td>\n",
       "      <td>$0.82</td>\n",
       "      <td>16.313385580000002 gb-month at $0.05 ea.</td>\n",
       "    </tr>\n",
       "    <tr>\n",
       "      <th>433</th>\n",
       "      <td>EBS</td>\n",
       "      <td>/dev/xvda</td>\n",
       "      <td>VolumeIOUsage</td>\n",
       "      <td>$0.05</td>\n",
       "      <td>1.000154 million i/o requests at $0.05 ea.</td>\n",
       "    </tr>\n",
       "    <tr>\n",
       "      <th>270</th>\n",
       "      <td>EBS</td>\n",
       "      <td>/dev/xvda</td>\n",
       "      <td>VolumeUsage</td>\n",
       "      <td>$0.6</td>\n",
       "      <td>11.99999952 gb-month at $0.05 ea.</td>\n",
       "    </tr>\n",
       "    <tr>\n",
       "      <th>358</th>\n",
       "      <td>EBS</td>\n",
       "      <td>swap</td>\n",
       "      <td>VolumeUsage</td>\n",
       "      <td>$0.1</td>\n",
       "      <td>2.00000016 gb-month at $0.05 ea.</td>\n",
       "    </tr>\n",
       "  </tbody>\n",
       "</table>\n",
       "</div>"
      ],
      "text/latex": [
       "\\begin{tabular}{llllll}\n",
       "\\toprule\n",
       "{} & aws\\_service &     device &     usage\\_type &   cost &                                          basis \\\\\n",
       "\\midrule\n",
       "115 &    BoxUsage &            &       t2.small &   \\$5.7 &  245.76127741379312 instance hour at \\$0.02 ea. \\\\\n",
       "157 &         EBS &   /dev/sdc &  SnapshotUsage &  \\$2.71 &       54.290095279999996 gb-month at \\$0.05 ea. \\\\\n",
       "158 &         EBS &   /dev/sdc &    VolumeUsage &   \\$2.7 &                     54.0 gb-month at \\$0.05 ea. \\\\\n",
       "235 &         EBS &  /dev/xvda &  SnapshotUsage &  \\$0.82 &       16.313385580000002 gb-month at \\$0.05 ea. \\\\\n",
       "433 &         EBS &  /dev/xvda &  VolumeIOUsage &  \\$0.05 &     1.000154 million i/o requests at \\$0.05 ea. \\\\\n",
       "270 &         EBS &  /dev/xvda &    VolumeUsage &   \\$0.6 &              11.99999952 gb-month at \\$0.05 ea. \\\\\n",
       "358 &         EBS &       swap &    VolumeUsage &   \\$0.1 &               2.00000016 gb-month at \\$0.05 ea. \\\\\n",
       "\\bottomrule\n",
       "\\end{tabular}\n"
      ],
      "text/plain": [
       "    aws_service     device     usage_type   cost  \\\n",
       "115    BoxUsage                  t2.small   $5.7   \n",
       "157         EBS   /dev/sdc  SnapshotUsage  $2.71   \n",
       "158         EBS   /dev/sdc    VolumeUsage   $2.7   \n",
       "235         EBS  /dev/xvda  SnapshotUsage  $0.82   \n",
       "433         EBS  /dev/xvda  VolumeIOUsage  $0.05   \n",
       "270         EBS  /dev/xvda    VolumeUsage   $0.6   \n",
       "358         EBS       swap    VolumeUsage   $0.1   \n",
       "\n",
       "                                             basis  \n",
       "115  245.76127741379312 instance hour at $0.02 ea.  \n",
       "157       54.290095279999996 gb-month at $0.05 ea.  \n",
       "158                     54.0 gb-month at $0.05 ea.  \n",
       "235       16.313385580000002 gb-month at $0.05 ea.  \n",
       "433     1.000154 million i/o requests at $0.05 ea.  \n",
       "270              11.99999952 gb-month at $0.05 ea.  \n",
       "358               2.00000016 gb-month at $0.05 ea.  "
      ]
     },
     "metadata": {},
     "output_type": "display_data"
    },
    {
     "data": {
      "text/markdown": [
       "### prd"
      ],
      "text/plain": [
       "<IPython.core.display.Markdown object>"
      ]
     },
     "metadata": {},
     "output_type": "display_data"
    },
    {
     "data": {
      "text/markdown": [
       "##### Total cost for ingest prd: $904.76"
      ],
      "text/plain": [
       "<IPython.core.display.Markdown object>"
      ]
     },
     "metadata": {},
     "output_type": "display_data"
    },
    {
     "data": {
      "text/markdown": [
       "#### uc3-ingest01-prd"
      ],
      "text/plain": [
       "<IPython.core.display.Markdown object>"
      ]
     },
     "metadata": {},
     "output_type": "display_data"
    },
    {
     "data": {
      "text/markdown": [
       "#### Total cost for uc3-ingest01-prd: $298.51"
      ],
      "text/plain": [
       "<IPython.core.display.Markdown object>"
      ]
     },
     "metadata": {},
     "output_type": "display_data"
    },
    {
     "data": {
      "text/html": [
       "<div>\n",
       "<style scoped>\n",
       "    .dataframe tbody tr th:only-of-type {\n",
       "        vertical-align: middle;\n",
       "    }\n",
       "\n",
       "    .dataframe tbody tr th {\n",
       "        vertical-align: top;\n",
       "    }\n",
       "\n",
       "    .dataframe thead th {\n",
       "        text-align: right;\n",
       "    }\n",
       "</style>\n",
       "<table border=\"1\" class=\"dataframe\">\n",
       "  <thead>\n",
       "    <tr style=\"text-align: right;\">\n",
       "      <th></th>\n",
       "      <th>aws_service</th>\n",
       "      <th>device</th>\n",
       "      <th>usage_type</th>\n",
       "      <th>cost</th>\n",
       "      <th>basis</th>\n",
       "    </tr>\n",
       "  </thead>\n",
       "  <tbody>\n",
       "    <tr>\n",
       "      <th>36</th>\n",
       "      <td>BoxUsage</td>\n",
       "      <td></td>\n",
       "      <td>m4.large</td>\n",
       "      <td>$72.0</td>\n",
       "      <td>720.0 instance hour at $0.1 ea.</td>\n",
       "    </tr>\n",
       "    <tr>\n",
       "      <th>458</th>\n",
       "      <td>DataTransfer</td>\n",
       "      <td></td>\n",
       "      <td>Out-Bytes</td>\n",
       "      <td>$0.02</td>\n",
       "      <td>0.2526621666666667 gb - first 10 tb / month data transfer at $0.09 ea.</td>\n",
       "    </tr>\n",
       "    <tr>\n",
       "      <th>240</th>\n",
       "      <td>DataTransfer</td>\n",
       "      <td></td>\n",
       "      <td>Regional-Bytes</td>\n",
       "      <td>$0.8</td>\n",
       "      <td>79.701657 gb - regional data transfer at $0.01 ea.</td>\n",
       "    </tr>\n",
       "    <tr>\n",
       "      <th>47</th>\n",
       "      <td>EBS</td>\n",
       "      <td></td>\n",
       "      <td>SnapshotUsage</td>\n",
       "      <td>$48.94</td>\n",
       "      <td>889.7903963636364 gb-month at $0.06 ea.</td>\n",
       "    </tr>\n",
       "    <tr>\n",
       "      <th>33</th>\n",
       "      <td>EBS</td>\n",
       "      <td>/dev/sdb</td>\n",
       "      <td>SnapshotUsage</td>\n",
       "      <td>$74.9</td>\n",
       "      <td>1498.0980266 gb-month at $0.05 ea.</td>\n",
       "    </tr>\n",
       "    <tr>\n",
       "      <th>19</th>\n",
       "      <td>EBS</td>\n",
       "      <td>/dev/sdb</td>\n",
       "      <td>VolumeUsage.gp2</td>\n",
       "      <td>$100.0</td>\n",
       "      <td>1000.0 gb-month at $0.1 ea.</td>\n",
       "    </tr>\n",
       "    <tr>\n",
       "      <th>204</th>\n",
       "      <td>EBS</td>\n",
       "      <td>/dev/xvda</td>\n",
       "      <td>SnapshotUsage</td>\n",
       "      <td>$1.07</td>\n",
       "      <td>21.35783588 gb-month at $0.05 ea.</td>\n",
       "    </tr>\n",
       "    <tr>\n",
       "      <th>401</th>\n",
       "      <td>EBS</td>\n",
       "      <td>/dev/xvda</td>\n",
       "      <td>VolumeIOUsage</td>\n",
       "      <td>$0.08</td>\n",
       "      <td>1.632336 million i/o requests at $0.05 ea.</td>\n",
       "    </tr>\n",
       "    <tr>\n",
       "      <th>251</th>\n",
       "      <td>EBS</td>\n",
       "      <td>/dev/xvda</td>\n",
       "      <td>VolumeUsage</td>\n",
       "      <td>$0.6</td>\n",
       "      <td>11.99999952 gb-month at $0.05 ea.</td>\n",
       "    </tr>\n",
       "    <tr>\n",
       "      <th>339</th>\n",
       "      <td>EBS</td>\n",
       "      <td>swap</td>\n",
       "      <td>VolumeUsage</td>\n",
       "      <td>$0.1</td>\n",
       "      <td>2.00000016 gb-month at $0.05 ea.</td>\n",
       "    </tr>\n",
       "  </tbody>\n",
       "</table>\n",
       "</div>"
      ],
      "text/latex": [
       "\\begin{tabular}{llllll}\n",
       "\\toprule\n",
       "{} &   aws\\_service &     device &       usage\\_type &    cost &                                                                   basis \\\\\n",
       "\\midrule\n",
       "36  &      BoxUsage &            &         m4.large &   \\$72.0 &                                         720.0 instance hour at \\$0.1 ea. \\\\\n",
       "458 &  DataTransfer &            &        Out-Bytes &   \\$0.02 &  0.2526621666666667 gb - first 10 tb / month data transfer at \\$0.09 ea. \\\\\n",
       "240 &  DataTransfer &            &   Regional-Bytes &    \\$0.8 &                      79.701657 gb - regional data transfer at \\$0.01 ea. \\\\\n",
       "47  &           EBS &            &    SnapshotUsage &  \\$48.94 &                                 889.7903963636364 gb-month at \\$0.06 ea. \\\\\n",
       "33  &           EBS &   /dev/sdb &    SnapshotUsage &   \\$74.9 &                                      1498.0980266 gb-month at \\$0.05 ea. \\\\\n",
       "19  &           EBS &   /dev/sdb &  VolumeUsage.gp2 &  \\$100.0 &                                             1000.0 gb-month at \\$0.1 ea. \\\\\n",
       "204 &           EBS &  /dev/xvda &    SnapshotUsage &   \\$1.07 &                                       21.35783588 gb-month at \\$0.05 ea. \\\\\n",
       "401 &           EBS &  /dev/xvda &    VolumeIOUsage &   \\$0.08 &                              1.632336 million i/o requests at \\$0.05 ea. \\\\\n",
       "251 &           EBS &  /dev/xvda &      VolumeUsage &    \\$0.6 &                                       11.99999952 gb-month at \\$0.05 ea. \\\\\n",
       "339 &           EBS &       swap &      VolumeUsage &    \\$0.1 &                                        2.00000016 gb-month at \\$0.05 ea. \\\\\n",
       "\\bottomrule\n",
       "\\end{tabular}\n"
      ],
      "text/plain": [
       "      aws_service     device       usage_type    cost  \\\n",
       "36       BoxUsage                    m4.large   $72.0   \n",
       "458  DataTransfer                   Out-Bytes   $0.02   \n",
       "240  DataTransfer              Regional-Bytes    $0.8   \n",
       "47            EBS               SnapshotUsage  $48.94   \n",
       "33            EBS   /dev/sdb    SnapshotUsage   $74.9   \n",
       "19            EBS   /dev/sdb  VolumeUsage.gp2  $100.0   \n",
       "204           EBS  /dev/xvda    SnapshotUsage   $1.07   \n",
       "401           EBS  /dev/xvda    VolumeIOUsage   $0.08   \n",
       "251           EBS  /dev/xvda      VolumeUsage    $0.6   \n",
       "339           EBS       swap      VolumeUsage    $0.1   \n",
       "\n",
       "                                                                      basis  \n",
       "36                                          720.0 instance hour at $0.1 ea.  \n",
       "458  0.2526621666666667 gb - first 10 tb / month data transfer at $0.09 ea.  \n",
       "240                      79.701657 gb - regional data transfer at $0.01 ea.  \n",
       "47                                  889.7903963636364 gb-month at $0.06 ea.  \n",
       "33                                       1498.0980266 gb-month at $0.05 ea.  \n",
       "19                                              1000.0 gb-month at $0.1 ea.  \n",
       "204                                       21.35783588 gb-month at $0.05 ea.  \n",
       "401                              1.632336 million i/o requests at $0.05 ea.  \n",
       "251                                       11.99999952 gb-month at $0.05 ea.  \n",
       "339                                        2.00000016 gb-month at $0.05 ea.  "
      ]
     },
     "metadata": {},
     "output_type": "display_data"
    },
    {
     "data": {
      "text/markdown": [
       "#### uc3-ingest02-prd"
      ],
      "text/plain": [
       "<IPython.core.display.Markdown object>"
      ]
     },
     "metadata": {},
     "output_type": "display_data"
    },
    {
     "data": {
      "text/markdown": [
       "#### Total cost for uc3-ingest02-prd: $304.08"
      ],
      "text/plain": [
       "<IPython.core.display.Markdown object>"
      ]
     },
     "metadata": {},
     "output_type": "display_data"
    },
    {
     "data": {
      "text/html": [
       "<div>\n",
       "<style scoped>\n",
       "    .dataframe tbody tr th:only-of-type {\n",
       "        vertical-align: middle;\n",
       "    }\n",
       "\n",
       "    .dataframe tbody tr th {\n",
       "        vertical-align: top;\n",
       "    }\n",
       "\n",
       "    .dataframe thead th {\n",
       "        text-align: right;\n",
       "    }\n",
       "</style>\n",
       "<table border=\"1\" class=\"dataframe\">\n",
       "  <thead>\n",
       "    <tr style=\"text-align: right;\">\n",
       "      <th></th>\n",
       "      <th>aws_service</th>\n",
       "      <th>device</th>\n",
       "      <th>usage_type</th>\n",
       "      <th>cost</th>\n",
       "      <th>basis</th>\n",
       "    </tr>\n",
       "  </thead>\n",
       "  <tbody>\n",
       "    <tr>\n",
       "      <th>37</th>\n",
       "      <td>BoxUsage</td>\n",
       "      <td></td>\n",
       "      <td>m4.large</td>\n",
       "      <td>$72.0</td>\n",
       "      <td>720.0 instance hour at $0.1 ea.</td>\n",
       "    </tr>\n",
       "    <tr>\n",
       "      <th>471</th>\n",
       "      <td>DataTransfer</td>\n",
       "      <td></td>\n",
       "      <td>Out-Bytes</td>\n",
       "      <td>$0.01</td>\n",
       "      <td>0.13854552222222222 gb - first 10 tb / month data transfer at $0.09 ea.</td>\n",
       "    </tr>\n",
       "    <tr>\n",
       "      <th>336</th>\n",
       "      <td>DataTransfer</td>\n",
       "      <td></td>\n",
       "      <td>Regional-Bytes</td>\n",
       "      <td>$0.11</td>\n",
       "      <td>10.6412806 gb - regional data transfer at $0.01 ea.</td>\n",
       "    </tr>\n",
       "    <tr>\n",
       "      <th>49</th>\n",
       "      <td>EBS</td>\n",
       "      <td></td>\n",
       "      <td>SnapshotUsage</td>\n",
       "      <td>$48.23</td>\n",
       "      <td>876.9785850909091 gb-month at $0.06 ea.</td>\n",
       "    </tr>\n",
       "    <tr>\n",
       "      <th>31</th>\n",
       "      <td>EBS</td>\n",
       "      <td>/dev/sdb</td>\n",
       "      <td>SnapshotUsage</td>\n",
       "      <td>$81.95</td>\n",
       "      <td>1638.9106066 gb-month at $0.05 ea.</td>\n",
       "    </tr>\n",
       "    <tr>\n",
       "      <th>20</th>\n",
       "      <td>EBS</td>\n",
       "      <td>/dev/sdb</td>\n",
       "      <td>VolumeUsage.gp2</td>\n",
       "      <td>$100.0</td>\n",
       "      <td>1000.0 gb-month at $0.1 ea.</td>\n",
       "    </tr>\n",
       "    <tr>\n",
       "      <th>215</th>\n",
       "      <td>EBS</td>\n",
       "      <td>/dev/xvda</td>\n",
       "      <td>SnapshotUsage</td>\n",
       "      <td>$1.0</td>\n",
       "      <td>20.04071404 gb-month at $0.05 ea.</td>\n",
       "    </tr>\n",
       "    <tr>\n",
       "      <th>400</th>\n",
       "      <td>EBS</td>\n",
       "      <td>/dev/xvda</td>\n",
       "      <td>VolumeIOUsage</td>\n",
       "      <td>$0.08</td>\n",
       "      <td>1.6628499999999997 million i/o requests at $0.05 ea.</td>\n",
       "    </tr>\n",
       "    <tr>\n",
       "      <th>253</th>\n",
       "      <td>EBS</td>\n",
       "      <td>/dev/xvda</td>\n",
       "      <td>VolumeUsage</td>\n",
       "      <td>$0.6</td>\n",
       "      <td>11.99999952 gb-month at $0.05 ea.</td>\n",
       "    </tr>\n",
       "    <tr>\n",
       "      <th>341</th>\n",
       "      <td>EBS</td>\n",
       "      <td>swap</td>\n",
       "      <td>VolumeUsage</td>\n",
       "      <td>$0.1</td>\n",
       "      <td>2.00000016 gb-month at $0.05 ea.</td>\n",
       "    </tr>\n",
       "  </tbody>\n",
       "</table>\n",
       "</div>"
      ],
      "text/latex": [
       "\\begin{tabular}{llllll}\n",
       "\\toprule\n",
       "{} &   aws\\_service &     device &       usage\\_type &    cost &                                                                    basis \\\\\n",
       "\\midrule\n",
       "37  &      BoxUsage &            &         m4.large &   \\$72.0 &                                          720.0 instance hour at \\$0.1 ea. \\\\\n",
       "471 &  DataTransfer &            &        Out-Bytes &   \\$0.01 &  0.13854552222222222 gb - first 10 tb / month data transfer at \\$0.09 ea. \\\\\n",
       "336 &  DataTransfer &            &   Regional-Bytes &   \\$0.11 &                      10.6412806 gb - regional data transfer at \\$0.01 ea. \\\\\n",
       "49  &           EBS &            &    SnapshotUsage &  \\$48.23 &                                  876.9785850909091 gb-month at \\$0.06 ea. \\\\\n",
       "31  &           EBS &   /dev/sdb &    SnapshotUsage &  \\$81.95 &                                       1638.9106066 gb-month at \\$0.05 ea. \\\\\n",
       "20  &           EBS &   /dev/sdb &  VolumeUsage.gp2 &  \\$100.0 &                                              1000.0 gb-month at \\$0.1 ea. \\\\\n",
       "215 &           EBS &  /dev/xvda &    SnapshotUsage &    \\$1.0 &                                        20.04071404 gb-month at \\$0.05 ea. \\\\\n",
       "400 &           EBS &  /dev/xvda &    VolumeIOUsage &   \\$0.08 &                     1.6628499999999997 million i/o requests at \\$0.05 ea. \\\\\n",
       "253 &           EBS &  /dev/xvda &      VolumeUsage &    \\$0.6 &                                        11.99999952 gb-month at \\$0.05 ea. \\\\\n",
       "341 &           EBS &       swap &      VolumeUsage &    \\$0.1 &                                         2.00000016 gb-month at \\$0.05 ea. \\\\\n",
       "\\bottomrule\n",
       "\\end{tabular}\n"
      ],
      "text/plain": [
       "      aws_service     device       usage_type    cost  \\\n",
       "37       BoxUsage                    m4.large   $72.0   \n",
       "471  DataTransfer                   Out-Bytes   $0.01   \n",
       "336  DataTransfer              Regional-Bytes   $0.11   \n",
       "49            EBS               SnapshotUsage  $48.23   \n",
       "31            EBS   /dev/sdb    SnapshotUsage  $81.95   \n",
       "20            EBS   /dev/sdb  VolumeUsage.gp2  $100.0   \n",
       "215           EBS  /dev/xvda    SnapshotUsage    $1.0   \n",
       "400           EBS  /dev/xvda    VolumeIOUsage   $0.08   \n",
       "253           EBS  /dev/xvda      VolumeUsage    $0.6   \n",
       "341           EBS       swap      VolumeUsage    $0.1   \n",
       "\n",
       "                                                                       basis  \n",
       "37                                           720.0 instance hour at $0.1 ea.  \n",
       "471  0.13854552222222222 gb - first 10 tb / month data transfer at $0.09 ea.  \n",
       "336                      10.6412806 gb - regional data transfer at $0.01 ea.  \n",
       "49                                   876.9785850909091 gb-month at $0.06 ea.  \n",
       "31                                        1638.9106066 gb-month at $0.05 ea.  \n",
       "20                                               1000.0 gb-month at $0.1 ea.  \n",
       "215                                        20.04071404 gb-month at $0.05 ea.  \n",
       "400                     1.6628499999999997 million i/o requests at $0.05 ea.  \n",
       "253                                        11.99999952 gb-month at $0.05 ea.  \n",
       "341                                         2.00000016 gb-month at $0.05 ea.  "
      ]
     },
     "metadata": {},
     "output_type": "display_data"
    },
    {
     "data": {
      "text/markdown": [
       "#### uc3-ingest03-prd"
      ],
      "text/plain": [
       "<IPython.core.display.Markdown object>"
      ]
     },
     "metadata": {},
     "output_type": "display_data"
    },
    {
     "data": {
      "text/markdown": [
       "#### Total cost for uc3-ingest03-prd: $302.17"
      ],
      "text/plain": [
       "<IPython.core.display.Markdown object>"
      ]
     },
     "metadata": {},
     "output_type": "display_data"
    },
    {
     "data": {
      "text/html": [
       "<div>\n",
       "<style scoped>\n",
       "    .dataframe tbody tr th:only-of-type {\n",
       "        vertical-align: middle;\n",
       "    }\n",
       "\n",
       "    .dataframe tbody tr th {\n",
       "        vertical-align: top;\n",
       "    }\n",
       "\n",
       "    .dataframe thead th {\n",
       "        text-align: right;\n",
       "    }\n",
       "</style>\n",
       "<table border=\"1\" class=\"dataframe\">\n",
       "  <thead>\n",
       "    <tr style=\"text-align: right;\">\n",
       "      <th></th>\n",
       "      <th>aws_service</th>\n",
       "      <th>device</th>\n",
       "      <th>usage_type</th>\n",
       "      <th>cost</th>\n",
       "      <th>basis</th>\n",
       "    </tr>\n",
       "  </thead>\n",
       "  <tbody>\n",
       "    <tr>\n",
       "      <th>38</th>\n",
       "      <td>BoxUsage</td>\n",
       "      <td></td>\n",
       "      <td>m4.large</td>\n",
       "      <td>$72.0</td>\n",
       "      <td>720.0 instance hour at $0.1 ea.</td>\n",
       "    </tr>\n",
       "    <tr>\n",
       "      <th>451</th>\n",
       "      <td>DataTransfer</td>\n",
       "      <td></td>\n",
       "      <td>Regional-Bytes</td>\n",
       "      <td>$0.03</td>\n",
       "      <td>3.4430389 gb - regional data transfer at $0.01 ea.</td>\n",
       "    </tr>\n",
       "    <tr>\n",
       "      <th>48</th>\n",
       "      <td>EBS</td>\n",
       "      <td></td>\n",
       "      <td>SnapshotUsage</td>\n",
       "      <td>$48.3</td>\n",
       "      <td>878.202397090909 gb-month at $0.06 ea.</td>\n",
       "    </tr>\n",
       "    <tr>\n",
       "      <th>32</th>\n",
       "      <td>EBS</td>\n",
       "      <td>/dev/sdb</td>\n",
       "      <td>SnapshotUsage</td>\n",
       "      <td>$79.96</td>\n",
       "      <td>1599.1788106000001 gb-month at $0.05 ea.</td>\n",
       "    </tr>\n",
       "    <tr>\n",
       "      <th>21</th>\n",
       "      <td>EBS</td>\n",
       "      <td>/dev/sdb</td>\n",
       "      <td>VolumeUsage.gp2</td>\n",
       "      <td>$100.0</td>\n",
       "      <td>1000.0 gb-month at $0.1 ea.</td>\n",
       "    </tr>\n",
       "    <tr>\n",
       "      <th>198</th>\n",
       "      <td>EBS</td>\n",
       "      <td>/dev/xvda</td>\n",
       "      <td>SnapshotUsage</td>\n",
       "      <td>$1.09</td>\n",
       "      <td>21.83663438 gb-month at $0.05 ea.</td>\n",
       "    </tr>\n",
       "    <tr>\n",
       "      <th>403</th>\n",
       "      <td>EBS</td>\n",
       "      <td>/dev/xvda</td>\n",
       "      <td>VolumeIOUsage</td>\n",
       "      <td>$0.08</td>\n",
       "      <td>1.622043 million i/o requests at $0.05 ea.</td>\n",
       "    </tr>\n",
       "    <tr>\n",
       "      <th>255</th>\n",
       "      <td>EBS</td>\n",
       "      <td>/dev/xvda</td>\n",
       "      <td>VolumeUsage</td>\n",
       "      <td>$0.6</td>\n",
       "      <td>11.99999952 gb-month at $0.05 ea.</td>\n",
       "    </tr>\n",
       "    <tr>\n",
       "      <th>343</th>\n",
       "      <td>EBS</td>\n",
       "      <td>swap</td>\n",
       "      <td>VolumeUsage</td>\n",
       "      <td>$0.1</td>\n",
       "      <td>2.00000016 gb-month at $0.05 ea.</td>\n",
       "    </tr>\n",
       "  </tbody>\n",
       "</table>\n",
       "</div>"
      ],
      "text/latex": [
       "\\begin{tabular}{llllll}\n",
       "\\toprule\n",
       "{} &   aws\\_service &     device &       usage\\_type &    cost &                                               basis \\\\\n",
       "\\midrule\n",
       "38  &      BoxUsage &            &         m4.large &   \\$72.0 &                     720.0 instance hour at \\$0.1 ea. \\\\\n",
       "451 &  DataTransfer &            &   Regional-Bytes &   \\$0.03 &  3.4430389 gb - regional data transfer at \\$0.01 ea. \\\\\n",
       "48  &           EBS &            &    SnapshotUsage &   \\$48.3 &              878.202397090909 gb-month at \\$0.06 ea. \\\\\n",
       "32  &           EBS &   /dev/sdb &    SnapshotUsage &  \\$79.96 &            1599.1788106000001 gb-month at \\$0.05 ea. \\\\\n",
       "21  &           EBS &   /dev/sdb &  VolumeUsage.gp2 &  \\$100.0 &                         1000.0 gb-month at \\$0.1 ea. \\\\\n",
       "198 &           EBS &  /dev/xvda &    SnapshotUsage &   \\$1.09 &                   21.83663438 gb-month at \\$0.05 ea. \\\\\n",
       "403 &           EBS &  /dev/xvda &    VolumeIOUsage &   \\$0.08 &          1.622043 million i/o requests at \\$0.05 ea. \\\\\n",
       "255 &           EBS &  /dev/xvda &      VolumeUsage &    \\$0.6 &                   11.99999952 gb-month at \\$0.05 ea. \\\\\n",
       "343 &           EBS &       swap &      VolumeUsage &    \\$0.1 &                    2.00000016 gb-month at \\$0.05 ea. \\\\\n",
       "\\bottomrule\n",
       "\\end{tabular}\n"
      ],
      "text/plain": [
       "      aws_service     device       usage_type    cost  \\\n",
       "38       BoxUsage                    m4.large   $72.0   \n",
       "451  DataTransfer              Regional-Bytes   $0.03   \n",
       "48            EBS               SnapshotUsage   $48.3   \n",
       "32            EBS   /dev/sdb    SnapshotUsage  $79.96   \n",
       "21            EBS   /dev/sdb  VolumeUsage.gp2  $100.0   \n",
       "198           EBS  /dev/xvda    SnapshotUsage   $1.09   \n",
       "403           EBS  /dev/xvda    VolumeIOUsage   $0.08   \n",
       "255           EBS  /dev/xvda      VolumeUsage    $0.6   \n",
       "343           EBS       swap      VolumeUsage    $0.1   \n",
       "\n",
       "                                                  basis  \n",
       "38                      720.0 instance hour at $0.1 ea.  \n",
       "451  3.4430389 gb - regional data transfer at $0.01 ea.  \n",
       "48               878.202397090909 gb-month at $0.06 ea.  \n",
       "32             1599.1788106000001 gb-month at $0.05 ea.  \n",
       "21                          1000.0 gb-month at $0.1 ea.  \n",
       "198                   21.83663438 gb-month at $0.05 ea.  \n",
       "403          1.622043 million i/o requests at $0.05 ea.  \n",
       "255                   11.99999952 gb-month at $0.05 ea.  \n",
       "343                    2.00000016 gb-month at $0.05 ea.  "
      ]
     },
     "metadata": {},
     "output_type": "display_data"
    },
    {
     "data": {
      "text/markdown": [
       "### stg"
      ],
      "text/plain": [
       "<IPython.core.display.Markdown object>"
      ]
     },
     "metadata": {},
     "output_type": "display_data"
    },
    {
     "data": {
      "text/markdown": [
       "##### Total cost for ingest stg: $48.77"
      ],
      "text/plain": [
       "<IPython.core.display.Markdown object>"
      ]
     },
     "metadata": {},
     "output_type": "display_data"
    },
    {
     "data": {
      "text/markdown": [
       "#### uc3-ingest01-stg"
      ],
      "text/plain": [
       "<IPython.core.display.Markdown object>"
      ]
     },
     "metadata": {},
     "output_type": "display_data"
    },
    {
     "data": {
      "text/markdown": [
       "#### Total cost for uc3-ingest01-stg: $24.37"
      ],
      "text/plain": [
       "<IPython.core.display.Markdown object>"
      ]
     },
     "metadata": {},
     "output_type": "display_data"
    },
    {
     "data": {
      "text/html": [
       "<div>\n",
       "<style scoped>\n",
       "    .dataframe tbody tr th:only-of-type {\n",
       "        vertical-align: middle;\n",
       "    }\n",
       "\n",
       "    .dataframe tbody tr th {\n",
       "        vertical-align: top;\n",
       "    }\n",
       "\n",
       "    .dataframe thead th {\n",
       "        text-align: right;\n",
       "    }\n",
       "</style>\n",
       "<table border=\"1\" class=\"dataframe\">\n",
       "  <thead>\n",
       "    <tr style=\"text-align: right;\">\n",
       "      <th></th>\n",
       "      <th>aws_service</th>\n",
       "      <th>device</th>\n",
       "      <th>usage_type</th>\n",
       "      <th>cost</th>\n",
       "      <th>basis</th>\n",
       "    </tr>\n",
       "  </thead>\n",
       "  <tbody>\n",
       "    <tr>\n",
       "      <th>127</th>\n",
       "      <td>BoxUsage</td>\n",
       "      <td></td>\n",
       "      <td>t2.small</td>\n",
       "      <td>$5.7</td>\n",
       "      <td>245.74007280172412 instance hour at $0.02 ea.</td>\n",
       "    </tr>\n",
       "    <tr>\n",
       "      <th>150</th>\n",
       "      <td>EBS</td>\n",
       "      <td>/dev/sdb</td>\n",
       "      <td>SnapshotUsage</td>\n",
       "      <td>$4.06</td>\n",
       "      <td>81.16134962 gb-month at $0.05 ea.</td>\n",
       "    </tr>\n",
       "    <tr>\n",
       "      <th>96</th>\n",
       "      <td>EBS</td>\n",
       "      <td>/dev/sdb</td>\n",
       "      <td>VolumeUsage.gp2</td>\n",
       "      <td>$8.0</td>\n",
       "      <td>79.99999992 gb-month at $0.1 ea.</td>\n",
       "    </tr>\n",
       "    <tr>\n",
       "      <th>139</th>\n",
       "      <td>EBS</td>\n",
       "      <td>/dev/sdc</td>\n",
       "      <td>VolumeUsage.gp2</td>\n",
       "      <td>$5.0</td>\n",
       "      <td>49.999999679999995 gb-month at $0.1 ea.</td>\n",
       "    </tr>\n",
       "    <tr>\n",
       "      <th>230</th>\n",
       "      <td>EBS</td>\n",
       "      <td>/dev/xvda</td>\n",
       "      <td>SnapshotUsage</td>\n",
       "      <td>$0.86</td>\n",
       "      <td>17.24276284 gb-month at $0.05 ea.</td>\n",
       "    </tr>\n",
       "    <tr>\n",
       "      <th>428</th>\n",
       "      <td>EBS</td>\n",
       "      <td>/dev/xvda</td>\n",
       "      <td>VolumeIOUsage</td>\n",
       "      <td>$0.05</td>\n",
       "      <td>1.058079 million i/o requests at $0.05 ea.</td>\n",
       "    </tr>\n",
       "    <tr>\n",
       "      <th>252</th>\n",
       "      <td>EBS</td>\n",
       "      <td>/dev/xvda</td>\n",
       "      <td>VolumeUsage</td>\n",
       "      <td>$0.6</td>\n",
       "      <td>11.99999952 gb-month at $0.05 ea.</td>\n",
       "    </tr>\n",
       "    <tr>\n",
       "      <th>340</th>\n",
       "      <td>EBS</td>\n",
       "      <td>swap</td>\n",
       "      <td>VolumeUsage</td>\n",
       "      <td>$0.1</td>\n",
       "      <td>2.00000016 gb-month at $0.05 ea.</td>\n",
       "    </tr>\n",
       "  </tbody>\n",
       "</table>\n",
       "</div>"
      ],
      "text/latex": [
       "\\begin{tabular}{llllll}\n",
       "\\toprule\n",
       "{} & aws\\_service &     device &       usage\\_type &   cost &                                          basis \\\\\n",
       "\\midrule\n",
       "127 &    BoxUsage &            &         t2.small &   \\$5.7 &  245.74007280172412 instance hour at \\$0.02 ea. \\\\\n",
       "150 &         EBS &   /dev/sdb &    SnapshotUsage &  \\$4.06 &              81.16134962 gb-month at \\$0.05 ea. \\\\\n",
       "96  &         EBS &   /dev/sdb &  VolumeUsage.gp2 &   \\$8.0 &               79.99999992 gb-month at \\$0.1 ea. \\\\\n",
       "139 &         EBS &   /dev/sdc &  VolumeUsage.gp2 &   \\$5.0 &        49.999999679999995 gb-month at \\$0.1 ea. \\\\\n",
       "230 &         EBS &  /dev/xvda &    SnapshotUsage &  \\$0.86 &              17.24276284 gb-month at \\$0.05 ea. \\\\\n",
       "428 &         EBS &  /dev/xvda &    VolumeIOUsage &  \\$0.05 &     1.058079 million i/o requests at \\$0.05 ea. \\\\\n",
       "252 &         EBS &  /dev/xvda &      VolumeUsage &   \\$0.6 &              11.99999952 gb-month at \\$0.05 ea. \\\\\n",
       "340 &         EBS &       swap &      VolumeUsage &   \\$0.1 &               2.00000016 gb-month at \\$0.05 ea. \\\\\n",
       "\\bottomrule\n",
       "\\end{tabular}\n"
      ],
      "text/plain": [
       "    aws_service     device       usage_type   cost  \\\n",
       "127    BoxUsage                    t2.small   $5.7   \n",
       "150         EBS   /dev/sdb    SnapshotUsage  $4.06   \n",
       "96          EBS   /dev/sdb  VolumeUsage.gp2   $8.0   \n",
       "139         EBS   /dev/sdc  VolumeUsage.gp2   $5.0   \n",
       "230         EBS  /dev/xvda    SnapshotUsage  $0.86   \n",
       "428         EBS  /dev/xvda    VolumeIOUsage  $0.05   \n",
       "252         EBS  /dev/xvda      VolumeUsage   $0.6   \n",
       "340         EBS       swap      VolumeUsage   $0.1   \n",
       "\n",
       "                                             basis  \n",
       "127  245.74007280172412 instance hour at $0.02 ea.  \n",
       "150              81.16134962 gb-month at $0.05 ea.  \n",
       "96                79.99999992 gb-month at $0.1 ea.  \n",
       "139        49.999999679999995 gb-month at $0.1 ea.  \n",
       "230              17.24276284 gb-month at $0.05 ea.  \n",
       "428     1.058079 million i/o requests at $0.05 ea.  \n",
       "252              11.99999952 gb-month at $0.05 ea.  \n",
       "340               2.00000016 gb-month at $0.05 ea.  "
      ]
     },
     "metadata": {},
     "output_type": "display_data"
    },
    {
     "data": {
      "text/markdown": [
       "#### uc3-ingest02-stg"
      ],
      "text/plain": [
       "<IPython.core.display.Markdown object>"
      ]
     },
     "metadata": {},
     "output_type": "display_data"
    },
    {
     "data": {
      "text/markdown": [
       "#### Total cost for uc3-ingest02-stg: $24.4"
      ],
      "text/plain": [
       "<IPython.core.display.Markdown object>"
      ]
     },
     "metadata": {},
     "output_type": "display_data"
    },
    {
     "data": {
      "text/html": [
       "<div>\n",
       "<style scoped>\n",
       "    .dataframe tbody tr th:only-of-type {\n",
       "        vertical-align: middle;\n",
       "    }\n",
       "\n",
       "    .dataframe tbody tr th {\n",
       "        vertical-align: top;\n",
       "    }\n",
       "\n",
       "    .dataframe thead th {\n",
       "        text-align: right;\n",
       "    }\n",
       "</style>\n",
       "<table border=\"1\" class=\"dataframe\">\n",
       "  <thead>\n",
       "    <tr style=\"text-align: right;\">\n",
       "      <th></th>\n",
       "      <th>aws_service</th>\n",
       "      <th>device</th>\n",
       "      <th>usage_type</th>\n",
       "      <th>cost</th>\n",
       "      <th>basis</th>\n",
       "    </tr>\n",
       "  </thead>\n",
       "  <tbody>\n",
       "    <tr>\n",
       "      <th>128</th>\n",
       "      <td>BoxUsage</td>\n",
       "      <td></td>\n",
       "      <td>t2.small</td>\n",
       "      <td>$5.7</td>\n",
       "      <td>245.7378709482759 instance hour at $0.02 ea.</td>\n",
       "    </tr>\n",
       "    <tr>\n",
       "      <th>149</th>\n",
       "      <td>EBS</td>\n",
       "      <td>/dev/sdb</td>\n",
       "      <td>SnapshotUsage</td>\n",
       "      <td>$4.07</td>\n",
       "      <td>81.32564148 gb-month at $0.05 ea.</td>\n",
       "    </tr>\n",
       "    <tr>\n",
       "      <th>97</th>\n",
       "      <td>EBS</td>\n",
       "      <td>/dev/sdb</td>\n",
       "      <td>VolumeUsage.gp2</td>\n",
       "      <td>$8.0</td>\n",
       "      <td>79.99999992 gb-month at $0.1 ea.</td>\n",
       "    </tr>\n",
       "    <tr>\n",
       "      <th>140</th>\n",
       "      <td>EBS</td>\n",
       "      <td>/dev/sdc</td>\n",
       "      <td>VolumeUsage.gp2</td>\n",
       "      <td>$5.0</td>\n",
       "      <td>49.999999679999995 gb-month at $0.1 ea.</td>\n",
       "    </tr>\n",
       "    <tr>\n",
       "      <th>227</th>\n",
       "      <td>EBS</td>\n",
       "      <td>/dev/xvda</td>\n",
       "      <td>SnapshotUsage</td>\n",
       "      <td>$0.87</td>\n",
       "      <td>17.49172166 gb-month at $0.05 ea.</td>\n",
       "    </tr>\n",
       "    <tr>\n",
       "      <th>427</th>\n",
       "      <td>EBS</td>\n",
       "      <td>/dev/xvda</td>\n",
       "      <td>VolumeIOUsage</td>\n",
       "      <td>$0.05</td>\n",
       "      <td>1.0728039999999999 million i/o requests at $0.05 ea.</td>\n",
       "    </tr>\n",
       "    <tr>\n",
       "      <th>254</th>\n",
       "      <td>EBS</td>\n",
       "      <td>/dev/xvda</td>\n",
       "      <td>VolumeUsage</td>\n",
       "      <td>$0.6</td>\n",
       "      <td>11.99999952 gb-month at $0.05 ea.</td>\n",
       "    </tr>\n",
       "    <tr>\n",
       "      <th>342</th>\n",
       "      <td>EBS</td>\n",
       "      <td>swap</td>\n",
       "      <td>VolumeUsage</td>\n",
       "      <td>$0.1</td>\n",
       "      <td>2.00000016 gb-month at $0.05 ea.</td>\n",
       "    </tr>\n",
       "  </tbody>\n",
       "</table>\n",
       "</div>"
      ],
      "text/latex": [
       "\\begin{tabular}{llllll}\n",
       "\\toprule\n",
       "{} & aws\\_service &     device &       usage\\_type &   cost &                                                 basis \\\\\n",
       "\\midrule\n",
       "128 &    BoxUsage &            &         t2.small &   \\$5.7 &          245.7378709482759 instance hour at \\$0.02 ea. \\\\\n",
       "149 &         EBS &   /dev/sdb &    SnapshotUsage &  \\$4.07 &                     81.32564148 gb-month at \\$0.05 ea. \\\\\n",
       "97  &         EBS &   /dev/sdb &  VolumeUsage.gp2 &   \\$8.0 &                      79.99999992 gb-month at \\$0.1 ea. \\\\\n",
       "140 &         EBS &   /dev/sdc &  VolumeUsage.gp2 &   \\$5.0 &               49.999999679999995 gb-month at \\$0.1 ea. \\\\\n",
       "227 &         EBS &  /dev/xvda &    SnapshotUsage &  \\$0.87 &                     17.49172166 gb-month at \\$0.05 ea. \\\\\n",
       "427 &         EBS &  /dev/xvda &    VolumeIOUsage &  \\$0.05 &  1.0728039999999999 million i/o requests at \\$0.05 ea. \\\\\n",
       "254 &         EBS &  /dev/xvda &      VolumeUsage &   \\$0.6 &                     11.99999952 gb-month at \\$0.05 ea. \\\\\n",
       "342 &         EBS &       swap &      VolumeUsage &   \\$0.1 &                      2.00000016 gb-month at \\$0.05 ea. \\\\\n",
       "\\bottomrule\n",
       "\\end{tabular}\n"
      ],
      "text/plain": [
       "    aws_service     device       usage_type   cost  \\\n",
       "128    BoxUsage                    t2.small   $5.7   \n",
       "149         EBS   /dev/sdb    SnapshotUsage  $4.07   \n",
       "97          EBS   /dev/sdb  VolumeUsage.gp2   $8.0   \n",
       "140         EBS   /dev/sdc  VolumeUsage.gp2   $5.0   \n",
       "227         EBS  /dev/xvda    SnapshotUsage  $0.87   \n",
       "427         EBS  /dev/xvda    VolumeIOUsage  $0.05   \n",
       "254         EBS  /dev/xvda      VolumeUsage   $0.6   \n",
       "342         EBS       swap      VolumeUsage   $0.1   \n",
       "\n",
       "                                                    basis  \n",
       "128          245.7378709482759 instance hour at $0.02 ea.  \n",
       "149                     81.32564148 gb-month at $0.05 ea.  \n",
       "97                       79.99999992 gb-month at $0.1 ea.  \n",
       "140               49.999999679999995 gb-month at $0.1 ea.  \n",
       "227                     17.49172166 gb-month at $0.05 ea.  \n",
       "427  1.0728039999999999 million i/o requests at $0.05 ea.  \n",
       "254                     11.99999952 gb-month at $0.05 ea.  \n",
       "342                      2.00000016 gb-month at $0.05 ea.  "
      ]
     },
     "metadata": {},
     "output_type": "display_data"
    },
    {
     "data": {
      "text/markdown": [
       "## inv"
      ],
      "text/plain": [
       "<IPython.core.display.Markdown object>"
      ]
     },
     "metadata": {},
     "output_type": "display_data"
    },
    {
     "data": {
      "text/markdown": [
       "##### Total cost: $85.02"
      ],
      "text/plain": [
       "<IPython.core.display.Markdown object>"
      ]
     },
     "metadata": {},
     "output_type": "display_data"
    },
    {
     "data": {
      "text/markdown": [
       "### "
      ],
      "text/plain": [
       "<IPython.core.display.Markdown object>"
      ]
     },
     "metadata": {},
     "output_type": "display_data"
    },
    {
     "data": {
      "text/markdown": [
       "##### Total cost for inv : $0.0"
      ],
      "text/plain": [
       "<IPython.core.display.Markdown object>"
      ]
     },
     "metadata": {},
     "output_type": "display_data"
    },
    {
     "data": {
      "text/markdown": [
       "### dev"
      ],
      "text/plain": [
       "<IPython.core.display.Markdown object>"
      ]
     },
     "metadata": {},
     "output_type": "display_data"
    },
    {
     "data": {
      "text/markdown": [
       "##### Total cost for inv dev: $12.39"
      ],
      "text/plain": [
       "<IPython.core.display.Markdown object>"
      ]
     },
     "metadata": {},
     "output_type": "display_data"
    },
    {
     "data": {
      "text/markdown": [
       "#### uc3-mrtinv-dev"
      ],
      "text/plain": [
       "<IPython.core.display.Markdown object>"
      ]
     },
     "metadata": {},
     "output_type": "display_data"
    },
    {
     "data": {
      "text/markdown": [
       "#### Total cost for uc3-mrtinv-dev: $12.39"
      ],
      "text/plain": [
       "<IPython.core.display.Markdown object>"
      ]
     },
     "metadata": {},
     "output_type": "display_data"
    },
    {
     "data": {
      "text/html": [
       "<div>\n",
       "<style scoped>\n",
       "    .dataframe tbody tr th:only-of-type {\n",
       "        vertical-align: middle;\n",
       "    }\n",
       "\n",
       "    .dataframe tbody tr th {\n",
       "        vertical-align: top;\n",
       "    }\n",
       "\n",
       "    .dataframe thead th {\n",
       "        text-align: right;\n",
       "    }\n",
       "</style>\n",
       "<table border=\"1\" class=\"dataframe\">\n",
       "  <thead>\n",
       "    <tr style=\"text-align: right;\">\n",
       "      <th></th>\n",
       "      <th>aws_service</th>\n",
       "      <th>device</th>\n",
       "      <th>usage_type</th>\n",
       "      <th>cost</th>\n",
       "      <th>basis</th>\n",
       "    </tr>\n",
       "  </thead>\n",
       "  <tbody>\n",
       "    <tr>\n",
       "      <th>116</th>\n",
       "      <td>BoxUsage</td>\n",
       "      <td></td>\n",
       "      <td>t2.small</td>\n",
       "      <td>$5.7</td>\n",
       "      <td>245.7535694396552 instance hour at $0.02 ea.</td>\n",
       "    </tr>\n",
       "    <tr>\n",
       "      <th>171</th>\n",
       "      <td>EBS</td>\n",
       "      <td>/dev/sdb</td>\n",
       "      <td>SnapshotUsage</td>\n",
       "      <td>$2.57</td>\n",
       "      <td>51.45289457999999 gb-month at $0.05 ea.</td>\n",
       "    </tr>\n",
       "    <tr>\n",
       "      <th>474</th>\n",
       "      <td>EBS</td>\n",
       "      <td>/dev/sdb</td>\n",
       "      <td>VolumeIOUsage</td>\n",
       "      <td>$0.01</td>\n",
       "      <td>0.232194 million i/o requests at $0.05 ea.</td>\n",
       "    </tr>\n",
       "    <tr>\n",
       "      <th>173</th>\n",
       "      <td>EBS</td>\n",
       "      <td>/dev/sdb</td>\n",
       "      <td>VolumeUsage</td>\n",
       "      <td>$2.5</td>\n",
       "      <td>49.999999679999995 gb-month at $0.05 ea.</td>\n",
       "    </tr>\n",
       "    <tr>\n",
       "      <th>231</th>\n",
       "      <td>EBS</td>\n",
       "      <td>/dev/xvda</td>\n",
       "      <td>SnapshotUsage</td>\n",
       "      <td>$0.85</td>\n",
       "      <td>16.913940519999997 gb-month at $0.05 ea.</td>\n",
       "    </tr>\n",
       "    <tr>\n",
       "      <th>423</th>\n",
       "      <td>EBS</td>\n",
       "      <td>/dev/xvda</td>\n",
       "      <td>VolumeIOUsage</td>\n",
       "      <td>$0.06</td>\n",
       "      <td>1.122047 million i/o requests at $0.05 ea.</td>\n",
       "    </tr>\n",
       "    <tr>\n",
       "      <th>271</th>\n",
       "      <td>EBS</td>\n",
       "      <td>/dev/xvda</td>\n",
       "      <td>VolumeUsage</td>\n",
       "      <td>$0.6</td>\n",
       "      <td>11.99999952 gb-month at $0.05 ea.</td>\n",
       "    </tr>\n",
       "    <tr>\n",
       "      <th>359</th>\n",
       "      <td>EBS</td>\n",
       "      <td>swap</td>\n",
       "      <td>VolumeUsage</td>\n",
       "      <td>$0.1</td>\n",
       "      <td>2.00000016 gb-month at $0.05 ea.</td>\n",
       "    </tr>\n",
       "  </tbody>\n",
       "</table>\n",
       "</div>"
      ],
      "text/latex": [
       "\\begin{tabular}{llllll}\n",
       "\\toprule\n",
       "{} & aws\\_service &     device &     usage\\_type &   cost &                                         basis \\\\\n",
       "\\midrule\n",
       "116 &    BoxUsage &            &       t2.small &   \\$5.7 &  245.7535694396552 instance hour at \\$0.02 ea. \\\\\n",
       "171 &         EBS &   /dev/sdb &  SnapshotUsage &  \\$2.57 &       51.45289457999999 gb-month at \\$0.05 ea. \\\\\n",
       "474 &         EBS &   /dev/sdb &  VolumeIOUsage &  \\$0.01 &    0.232194 million i/o requests at \\$0.05 ea. \\\\\n",
       "173 &         EBS &   /dev/sdb &    VolumeUsage &   \\$2.5 &      49.999999679999995 gb-month at \\$0.05 ea. \\\\\n",
       "231 &         EBS &  /dev/xvda &  SnapshotUsage &  \\$0.85 &      16.913940519999997 gb-month at \\$0.05 ea. \\\\\n",
       "423 &         EBS &  /dev/xvda &  VolumeIOUsage &  \\$0.06 &    1.122047 million i/o requests at \\$0.05 ea. \\\\\n",
       "271 &         EBS &  /dev/xvda &    VolumeUsage &   \\$0.6 &             11.99999952 gb-month at \\$0.05 ea. \\\\\n",
       "359 &         EBS &       swap &    VolumeUsage &   \\$0.1 &              2.00000016 gb-month at \\$0.05 ea. \\\\\n",
       "\\bottomrule\n",
       "\\end{tabular}\n"
      ],
      "text/plain": [
       "    aws_service     device     usage_type   cost  \\\n",
       "116    BoxUsage                  t2.small   $5.7   \n",
       "171         EBS   /dev/sdb  SnapshotUsage  $2.57   \n",
       "474         EBS   /dev/sdb  VolumeIOUsage  $0.01   \n",
       "173         EBS   /dev/sdb    VolumeUsage   $2.5   \n",
       "231         EBS  /dev/xvda  SnapshotUsage  $0.85   \n",
       "423         EBS  /dev/xvda  VolumeIOUsage  $0.06   \n",
       "271         EBS  /dev/xvda    VolumeUsage   $0.6   \n",
       "359         EBS       swap    VolumeUsage   $0.1   \n",
       "\n",
       "                                            basis  \n",
       "116  245.7535694396552 instance hour at $0.02 ea.  \n",
       "171       51.45289457999999 gb-month at $0.05 ea.  \n",
       "474    0.232194 million i/o requests at $0.05 ea.  \n",
       "173      49.999999679999995 gb-month at $0.05 ea.  \n",
       "231      16.913940519999997 gb-month at $0.05 ea.  \n",
       "423    1.122047 million i/o requests at $0.05 ea.  \n",
       "271             11.99999952 gb-month at $0.05 ea.  \n",
       "359              2.00000016 gb-month at $0.05 ea.  "
      ]
     },
     "metadata": {},
     "output_type": "display_data"
    },
    {
     "data": {
      "text/markdown": [
       "### prd"
      ],
      "text/plain": [
       "<IPython.core.display.Markdown object>"
      ]
     },
     "metadata": {},
     "output_type": "display_data"
    },
    {
     "data": {
      "text/markdown": [
       "##### Total cost for inv prd: $50.03"
      ],
      "text/plain": [
       "<IPython.core.display.Markdown object>"
      ]
     },
     "metadata": {},
     "output_type": "display_data"
    },
    {
     "data": {
      "text/markdown": [
       "#### uc3-mrtinv-prd"
      ],
      "text/plain": [
       "<IPython.core.display.Markdown object>"
      ]
     },
     "metadata": {},
     "output_type": "display_data"
    },
    {
     "data": {
      "text/markdown": [
       "#### Total cost for uc3-mrtinv-prd: $26.9"
      ],
      "text/plain": [
       "<IPython.core.display.Markdown object>"
      ]
     },
     "metadata": {},
     "output_type": "display_data"
    },
    {
     "data": {
      "text/html": [
       "<div>\n",
       "<style scoped>\n",
       "    .dataframe tbody tr th:only-of-type {\n",
       "        vertical-align: middle;\n",
       "    }\n",
       "\n",
       "    .dataframe tbody tr th {\n",
       "        vertical-align: top;\n",
       "    }\n",
       "\n",
       "    .dataframe thead th {\n",
       "        text-align: right;\n",
       "    }\n",
       "</style>\n",
       "<table border=\"1\" class=\"dataframe\">\n",
       "  <thead>\n",
       "    <tr style=\"text-align: right;\">\n",
       "      <th></th>\n",
       "      <th>aws_service</th>\n",
       "      <th>device</th>\n",
       "      <th>usage_type</th>\n",
       "      <th>cost</th>\n",
       "      <th>basis</th>\n",
       "    </tr>\n",
       "  </thead>\n",
       "  <tbody>\n",
       "    <tr>\n",
       "      <th>66</th>\n",
       "      <td>BoxUsage</td>\n",
       "      <td></td>\n",
       "      <td>t2.small</td>\n",
       "      <td>$16.56</td>\n",
       "      <td>713.7931034482758 instance hour at $0.02 ea.</td>\n",
       "    </tr>\n",
       "    <tr>\n",
       "      <th>421</th>\n",
       "      <td>DataTransfer</td>\n",
       "      <td></td>\n",
       "      <td>Regional-Bytes</td>\n",
       "      <td>$0.06</td>\n",
       "      <td>6.0956078 gb - regional data transfer at $0.01 ea.</td>\n",
       "    </tr>\n",
       "    <tr>\n",
       "      <th>154</th>\n",
       "      <td>EBS</td>\n",
       "      <td></td>\n",
       "      <td>SnapshotUsage</td>\n",
       "      <td>$2.9</td>\n",
       "      <td>52.637827290909094 gb-month at $0.06 ea.</td>\n",
       "    </tr>\n",
       "    <tr>\n",
       "      <th>153</th>\n",
       "      <td>EBS</td>\n",
       "      <td>/dev/sdb</td>\n",
       "      <td>SnapshotUsage</td>\n",
       "      <td>$3.1</td>\n",
       "      <td>62.0089018 gb-month at $0.05 ea.</td>\n",
       "    </tr>\n",
       "    <tr>\n",
       "      <th>335</th>\n",
       "      <td>EBS</td>\n",
       "      <td>/dev/sdb</td>\n",
       "      <td>VolumeIOUsage</td>\n",
       "      <td>$0.11</td>\n",
       "      <td>2.1459949999999997 million i/o requests at $0.05 ea.</td>\n",
       "    </tr>\n",
       "    <tr>\n",
       "      <th>174</th>\n",
       "      <td>EBS</td>\n",
       "      <td>/dev/sdb</td>\n",
       "      <td>VolumeUsage</td>\n",
       "      <td>$2.5</td>\n",
       "      <td>49.999999679999995 gb-month at $0.05 ea.</td>\n",
       "    </tr>\n",
       "    <tr>\n",
       "      <th>221</th>\n",
       "      <td>EBS</td>\n",
       "      <td>/dev/xvda</td>\n",
       "      <td>SnapshotUsage</td>\n",
       "      <td>$0.9</td>\n",
       "      <td>17.99423878 gb-month at $0.05 ea.</td>\n",
       "    </tr>\n",
       "    <tr>\n",
       "      <th>407</th>\n",
       "      <td>EBS</td>\n",
       "      <td>/dev/xvda</td>\n",
       "      <td>VolumeIOUsage</td>\n",
       "      <td>$0.07</td>\n",
       "      <td>1.490832 million i/o requests at $0.05 ea.</td>\n",
       "    </tr>\n",
       "    <tr>\n",
       "      <th>272</th>\n",
       "      <td>EBS</td>\n",
       "      <td>/dev/xvda</td>\n",
       "      <td>VolumeUsage</td>\n",
       "      <td>$0.6</td>\n",
       "      <td>11.99999952 gb-month at $0.05 ea.</td>\n",
       "    </tr>\n",
       "    <tr>\n",
       "      <th>360</th>\n",
       "      <td>EBS</td>\n",
       "      <td>swap</td>\n",
       "      <td>VolumeUsage</td>\n",
       "      <td>$0.1</td>\n",
       "      <td>2.00000016 gb-month at $0.05 ea.</td>\n",
       "    </tr>\n",
       "  </tbody>\n",
       "</table>\n",
       "</div>"
      ],
      "text/latex": [
       "\\begin{tabular}{llllll}\n",
       "\\toprule\n",
       "{} &   aws\\_service &     device &      usage\\_type &    cost &                                                 basis \\\\\n",
       "\\midrule\n",
       "66  &      BoxUsage &            &        t2.small &  \\$16.56 &          713.7931034482758 instance hour at \\$0.02 ea. \\\\\n",
       "421 &  DataTransfer &            &  Regional-Bytes &   \\$0.06 &    6.0956078 gb - regional data transfer at \\$0.01 ea. \\\\\n",
       "154 &           EBS &            &   SnapshotUsage &    \\$2.9 &              52.637827290909094 gb-month at \\$0.06 ea. \\\\\n",
       "153 &           EBS &   /dev/sdb &   SnapshotUsage &    \\$3.1 &                      62.0089018 gb-month at \\$0.05 ea. \\\\\n",
       "335 &           EBS &   /dev/sdb &   VolumeIOUsage &   \\$0.11 &  2.1459949999999997 million i/o requests at \\$0.05 ea. \\\\\n",
       "174 &           EBS &   /dev/sdb &     VolumeUsage &    \\$2.5 &              49.999999679999995 gb-month at \\$0.05 ea. \\\\\n",
       "221 &           EBS &  /dev/xvda &   SnapshotUsage &    \\$0.9 &                     17.99423878 gb-month at \\$0.05 ea. \\\\\n",
       "407 &           EBS &  /dev/xvda &   VolumeIOUsage &   \\$0.07 &            1.490832 million i/o requests at \\$0.05 ea. \\\\\n",
       "272 &           EBS &  /dev/xvda &     VolumeUsage &    \\$0.6 &                     11.99999952 gb-month at \\$0.05 ea. \\\\\n",
       "360 &           EBS &       swap &     VolumeUsage &    \\$0.1 &                      2.00000016 gb-month at \\$0.05 ea. \\\\\n",
       "\\bottomrule\n",
       "\\end{tabular}\n"
      ],
      "text/plain": [
       "      aws_service     device      usage_type    cost  \\\n",
       "66       BoxUsage                   t2.small  $16.56   \n",
       "421  DataTransfer             Regional-Bytes   $0.06   \n",
       "154           EBS              SnapshotUsage    $2.9   \n",
       "153           EBS   /dev/sdb   SnapshotUsage    $3.1   \n",
       "335           EBS   /dev/sdb   VolumeIOUsage   $0.11   \n",
       "174           EBS   /dev/sdb     VolumeUsage    $2.5   \n",
       "221           EBS  /dev/xvda   SnapshotUsage    $0.9   \n",
       "407           EBS  /dev/xvda   VolumeIOUsage   $0.07   \n",
       "272           EBS  /dev/xvda     VolumeUsage    $0.6   \n",
       "360           EBS       swap     VolumeUsage    $0.1   \n",
       "\n",
       "                                                    basis  \n",
       "66           713.7931034482758 instance hour at $0.02 ea.  \n",
       "421    6.0956078 gb - regional data transfer at $0.01 ea.  \n",
       "154              52.637827290909094 gb-month at $0.06 ea.  \n",
       "153                      62.0089018 gb-month at $0.05 ea.  \n",
       "335  2.1459949999999997 million i/o requests at $0.05 ea.  \n",
       "174              49.999999679999995 gb-month at $0.05 ea.  \n",
       "221                     17.99423878 gb-month at $0.05 ea.  \n",
       "407            1.490832 million i/o requests at $0.05 ea.  \n",
       "272                     11.99999952 gb-month at $0.05 ea.  \n",
       "360                      2.00000016 gb-month at $0.05 ea.  "
      ]
     },
     "metadata": {},
     "output_type": "display_data"
    },
    {
     "data": {
      "text/markdown": [
       "#### uc3-mrtinv2-prd"
      ],
      "text/plain": [
       "<IPython.core.display.Markdown object>"
      ]
     },
     "metadata": {},
     "output_type": "display_data"
    },
    {
     "data": {
      "text/markdown": [
       "#### Total cost for uc3-mrtinv2-prd: $23.14"
      ],
      "text/plain": [
       "<IPython.core.display.Markdown object>"
      ]
     },
     "metadata": {},
     "output_type": "display_data"
    },
    {
     "data": {
      "text/html": [
       "<div>\n",
       "<style scoped>\n",
       "    .dataframe tbody tr th:only-of-type {\n",
       "        vertical-align: middle;\n",
       "    }\n",
       "\n",
       "    .dataframe tbody tr th {\n",
       "        vertical-align: top;\n",
       "    }\n",
       "\n",
       "    .dataframe thead th {\n",
       "        text-align: right;\n",
       "    }\n",
       "</style>\n",
       "<table border=\"1\" class=\"dataframe\">\n",
       "  <thead>\n",
       "    <tr style=\"text-align: right;\">\n",
       "      <th></th>\n",
       "      <th>aws_service</th>\n",
       "      <th>device</th>\n",
       "      <th>usage_type</th>\n",
       "      <th>cost</th>\n",
       "      <th>basis</th>\n",
       "    </tr>\n",
       "  </thead>\n",
       "  <tbody>\n",
       "    <tr>\n",
       "      <th>67</th>\n",
       "      <td>BoxUsage</td>\n",
       "      <td></td>\n",
       "      <td>t2.small</td>\n",
       "      <td>$16.56</td>\n",
       "      <td>713.7931034482758 instance hour at $0.02 ea.</td>\n",
       "    </tr>\n",
       "    <tr>\n",
       "      <th>331</th>\n",
       "      <td>DataTransfer</td>\n",
       "      <td></td>\n",
       "      <td>Regional-Bytes</td>\n",
       "      <td>$0.15</td>\n",
       "      <td>15.224087599999999 gb - regional data transfer at $0.01 ea.</td>\n",
       "    </tr>\n",
       "    <tr>\n",
       "      <th>191</th>\n",
       "      <td>EBS</td>\n",
       "      <td></td>\n",
       "      <td>SnapshotUsage</td>\n",
       "      <td>$1.13</td>\n",
       "      <td>20.56450261818182 gb-month at $0.06 ea.</td>\n",
       "    </tr>\n",
       "    <tr>\n",
       "      <th>228</th>\n",
       "      <td>EBS</td>\n",
       "      <td>/dev/sdb</td>\n",
       "      <td>SnapshotUsage</td>\n",
       "      <td>$0.87</td>\n",
       "      <td>17.388286519999998 gb-month at $0.05 ea.</td>\n",
       "    </tr>\n",
       "    <tr>\n",
       "      <th>338</th>\n",
       "      <td>EBS</td>\n",
       "      <td>/dev/sdb</td>\n",
       "      <td>VolumeIOUsage</td>\n",
       "      <td>$0.11</td>\n",
       "      <td>2.112714 million i/o requests at $0.05 ea.</td>\n",
       "    </tr>\n",
       "    <tr>\n",
       "      <th>163</th>\n",
       "      <td>EBS</td>\n",
       "      <td>/dev/sdb</td>\n",
       "      <td>VolumeUsage</td>\n",
       "      <td>$2.65</td>\n",
       "      <td>53.000000639999996 gb-month at $0.05 ea.</td>\n",
       "    </tr>\n",
       "    <tr>\n",
       "      <th>222</th>\n",
       "      <td>EBS</td>\n",
       "      <td>/dev/xvda</td>\n",
       "      <td>SnapshotUsage</td>\n",
       "      <td>$0.9</td>\n",
       "      <td>17.988450659999998 gb-month at $0.05 ea.</td>\n",
       "    </tr>\n",
       "    <tr>\n",
       "      <th>409</th>\n",
       "      <td>EBS</td>\n",
       "      <td>/dev/xvda</td>\n",
       "      <td>VolumeIOUsage</td>\n",
       "      <td>$0.07</td>\n",
       "      <td>1.364854 million i/o requests at $0.05 ea.</td>\n",
       "    </tr>\n",
       "    <tr>\n",
       "      <th>274</th>\n",
       "      <td>EBS</td>\n",
       "      <td>/dev/xvda</td>\n",
       "      <td>VolumeUsage</td>\n",
       "      <td>$0.6</td>\n",
       "      <td>11.99999952 gb-month at $0.05 ea.</td>\n",
       "    </tr>\n",
       "    <tr>\n",
       "      <th>362</th>\n",
       "      <td>EBS</td>\n",
       "      <td>swap</td>\n",
       "      <td>VolumeUsage</td>\n",
       "      <td>$0.1</td>\n",
       "      <td>2.00000016 gb-month at $0.05 ea.</td>\n",
       "    </tr>\n",
       "  </tbody>\n",
       "</table>\n",
       "</div>"
      ],
      "text/latex": [
       "\\begin{tabular}{llllll}\n",
       "\\toprule\n",
       "{} &   aws\\_service &     device &      usage\\_type &    cost &                                                        basis \\\\\n",
       "\\midrule\n",
       "67  &      BoxUsage &            &        t2.small &  \\$16.56 &                 713.7931034482758 instance hour at \\$0.02 ea. \\\\\n",
       "331 &  DataTransfer &            &  Regional-Bytes &   \\$0.15 &  15.224087599999999 gb - regional data transfer at \\$0.01 ea. \\\\\n",
       "191 &           EBS &            &   SnapshotUsage &   \\$1.13 &                      20.56450261818182 gb-month at \\$0.06 ea. \\\\\n",
       "228 &           EBS &   /dev/sdb &   SnapshotUsage &   \\$0.87 &                     17.388286519999998 gb-month at \\$0.05 ea. \\\\\n",
       "338 &           EBS &   /dev/sdb &   VolumeIOUsage &   \\$0.11 &                   2.112714 million i/o requests at \\$0.05 ea. \\\\\n",
       "163 &           EBS &   /dev/sdb &     VolumeUsage &   \\$2.65 &                     53.000000639999996 gb-month at \\$0.05 ea. \\\\\n",
       "222 &           EBS &  /dev/xvda &   SnapshotUsage &    \\$0.9 &                     17.988450659999998 gb-month at \\$0.05 ea. \\\\\n",
       "409 &           EBS &  /dev/xvda &   VolumeIOUsage &   \\$0.07 &                   1.364854 million i/o requests at \\$0.05 ea. \\\\\n",
       "274 &           EBS &  /dev/xvda &     VolumeUsage &    \\$0.6 &                            11.99999952 gb-month at \\$0.05 ea. \\\\\n",
       "362 &           EBS &       swap &     VolumeUsage &    \\$0.1 &                             2.00000016 gb-month at \\$0.05 ea. \\\\\n",
       "\\bottomrule\n",
       "\\end{tabular}\n"
      ],
      "text/plain": [
       "      aws_service     device      usage_type    cost  \\\n",
       "67       BoxUsage                   t2.small  $16.56   \n",
       "331  DataTransfer             Regional-Bytes   $0.15   \n",
       "191           EBS              SnapshotUsage   $1.13   \n",
       "228           EBS   /dev/sdb   SnapshotUsage   $0.87   \n",
       "338           EBS   /dev/sdb   VolumeIOUsage   $0.11   \n",
       "163           EBS   /dev/sdb     VolumeUsage   $2.65   \n",
       "222           EBS  /dev/xvda   SnapshotUsage    $0.9   \n",
       "409           EBS  /dev/xvda   VolumeIOUsage   $0.07   \n",
       "274           EBS  /dev/xvda     VolumeUsage    $0.6   \n",
       "362           EBS       swap     VolumeUsage    $0.1   \n",
       "\n",
       "                                                           basis  \n",
       "67                  713.7931034482758 instance hour at $0.02 ea.  \n",
       "331  15.224087599999999 gb - regional data transfer at $0.01 ea.  \n",
       "191                      20.56450261818182 gb-month at $0.06 ea.  \n",
       "228                     17.388286519999998 gb-month at $0.05 ea.  \n",
       "338                   2.112714 million i/o requests at $0.05 ea.  \n",
       "163                     53.000000639999996 gb-month at $0.05 ea.  \n",
       "222                     17.988450659999998 gb-month at $0.05 ea.  \n",
       "409                   1.364854 million i/o requests at $0.05 ea.  \n",
       "274                            11.99999952 gb-month at $0.05 ea.  \n",
       "362                             2.00000016 gb-month at $0.05 ea.  "
      ]
     },
     "metadata": {},
     "output_type": "display_data"
    },
    {
     "data": {
      "text/markdown": [
       "### stg"
      ],
      "text/plain": [
       "<IPython.core.display.Markdown object>"
      ]
     },
     "metadata": {},
     "output_type": "display_data"
    },
    {
     "data": {
      "text/markdown": [
       "##### Total cost for inv stg: $22.6"
      ],
      "text/plain": [
       "<IPython.core.display.Markdown object>"
      ]
     },
     "metadata": {},
     "output_type": "display_data"
    },
    {
     "data": {
      "text/markdown": [
       "#### uc3-mrtinv-stg"
      ],
      "text/plain": [
       "<IPython.core.display.Markdown object>"
      ]
     },
     "metadata": {},
     "output_type": "display_data"
    },
    {
     "data": {
      "text/markdown": [
       "#### Total cost for uc3-mrtinv-stg: $12.4"
      ],
      "text/plain": [
       "<IPython.core.display.Markdown object>"
      ]
     },
     "metadata": {},
     "output_type": "display_data"
    },
    {
     "data": {
      "text/html": [
       "<div>\n",
       "<style scoped>\n",
       "    .dataframe tbody tr th:only-of-type {\n",
       "        vertical-align: middle;\n",
       "    }\n",
       "\n",
       "    .dataframe tbody tr th {\n",
       "        vertical-align: top;\n",
       "    }\n",
       "\n",
       "    .dataframe thead th {\n",
       "        text-align: right;\n",
       "    }\n",
       "</style>\n",
       "<table border=\"1\" class=\"dataframe\">\n",
       "  <thead>\n",
       "    <tr style=\"text-align: right;\">\n",
       "      <th></th>\n",
       "      <th>aws_service</th>\n",
       "      <th>device</th>\n",
       "      <th>usage_type</th>\n",
       "      <th>cost</th>\n",
       "      <th>basis</th>\n",
       "    </tr>\n",
       "  </thead>\n",
       "  <tbody>\n",
       "    <tr>\n",
       "      <th>125</th>\n",
       "      <td>BoxUsage</td>\n",
       "      <td></td>\n",
       "      <td>t2.small</td>\n",
       "      <td>$5.7</td>\n",
       "      <td>245.7420030172414 instance hour at $0.02 ea.</td>\n",
       "    </tr>\n",
       "    <tr>\n",
       "      <th>172</th>\n",
       "      <td>EBS</td>\n",
       "      <td>/dev/sdb</td>\n",
       "      <td>SnapshotUsage</td>\n",
       "      <td>$2.54</td>\n",
       "      <td>50.75327461999999 gb-month at $0.05 ea.</td>\n",
       "    </tr>\n",
       "    <tr>\n",
       "      <th>462</th>\n",
       "      <td>EBS</td>\n",
       "      <td>/dev/sdb</td>\n",
       "      <td>VolumeIOUsage</td>\n",
       "      <td>$0.02</td>\n",
       "      <td>0.335082 million i/o requests at $0.05 ea.</td>\n",
       "    </tr>\n",
       "    <tr>\n",
       "      <th>175</th>\n",
       "      <td>EBS</td>\n",
       "      <td>/dev/sdb</td>\n",
       "      <td>VolumeUsage</td>\n",
       "      <td>$2.5</td>\n",
       "      <td>49.999999679999995 gb-month at $0.05 ea.</td>\n",
       "    </tr>\n",
       "    <tr>\n",
       "      <th>223</th>\n",
       "      <td>EBS</td>\n",
       "      <td>/dev/xvda</td>\n",
       "      <td>SnapshotUsage</td>\n",
       "      <td>$0.89</td>\n",
       "      <td>17.896860859999997 gb-month at $0.05 ea.</td>\n",
       "    </tr>\n",
       "    <tr>\n",
       "      <th>439</th>\n",
       "      <td>EBS</td>\n",
       "      <td>/dev/xvda</td>\n",
       "      <td>VolumeIOUsage</td>\n",
       "      <td>$0.05</td>\n",
       "      <td>0.925932 million i/o requests at $0.05 ea.</td>\n",
       "    </tr>\n",
       "    <tr>\n",
       "      <th>273</th>\n",
       "      <td>EBS</td>\n",
       "      <td>/dev/xvda</td>\n",
       "      <td>VolumeUsage</td>\n",
       "      <td>$0.6</td>\n",
       "      <td>11.99999952 gb-month at $0.05 ea.</td>\n",
       "    </tr>\n",
       "    <tr>\n",
       "      <th>361</th>\n",
       "      <td>EBS</td>\n",
       "      <td>swap</td>\n",
       "      <td>VolumeUsage</td>\n",
       "      <td>$0.1</td>\n",
       "      <td>2.00000016 gb-month at $0.05 ea.</td>\n",
       "    </tr>\n",
       "  </tbody>\n",
       "</table>\n",
       "</div>"
      ],
      "text/latex": [
       "\\begin{tabular}{llllll}\n",
       "\\toprule\n",
       "{} & aws\\_service &     device &     usage\\_type &   cost &                                         basis \\\\\n",
       "\\midrule\n",
       "125 &    BoxUsage &            &       t2.small &   \\$5.7 &  245.7420030172414 instance hour at \\$0.02 ea. \\\\\n",
       "172 &         EBS &   /dev/sdb &  SnapshotUsage &  \\$2.54 &       50.75327461999999 gb-month at \\$0.05 ea. \\\\\n",
       "462 &         EBS &   /dev/sdb &  VolumeIOUsage &  \\$0.02 &    0.335082 million i/o requests at \\$0.05 ea. \\\\\n",
       "175 &         EBS &   /dev/sdb &    VolumeUsage &   \\$2.5 &      49.999999679999995 gb-month at \\$0.05 ea. \\\\\n",
       "223 &         EBS &  /dev/xvda &  SnapshotUsage &  \\$0.89 &      17.896860859999997 gb-month at \\$0.05 ea. \\\\\n",
       "439 &         EBS &  /dev/xvda &  VolumeIOUsage &  \\$0.05 &    0.925932 million i/o requests at \\$0.05 ea. \\\\\n",
       "273 &         EBS &  /dev/xvda &    VolumeUsage &   \\$0.6 &             11.99999952 gb-month at \\$0.05 ea. \\\\\n",
       "361 &         EBS &       swap &    VolumeUsage &   \\$0.1 &              2.00000016 gb-month at \\$0.05 ea. \\\\\n",
       "\\bottomrule\n",
       "\\end{tabular}\n"
      ],
      "text/plain": [
       "    aws_service     device     usage_type   cost  \\\n",
       "125    BoxUsage                  t2.small   $5.7   \n",
       "172         EBS   /dev/sdb  SnapshotUsage  $2.54   \n",
       "462         EBS   /dev/sdb  VolumeIOUsage  $0.02   \n",
       "175         EBS   /dev/sdb    VolumeUsage   $2.5   \n",
       "223         EBS  /dev/xvda  SnapshotUsage  $0.89   \n",
       "439         EBS  /dev/xvda  VolumeIOUsage  $0.05   \n",
       "273         EBS  /dev/xvda    VolumeUsage   $0.6   \n",
       "361         EBS       swap    VolumeUsage   $0.1   \n",
       "\n",
       "                                            basis  \n",
       "125  245.7420030172414 instance hour at $0.02 ea.  \n",
       "172       50.75327461999999 gb-month at $0.05 ea.  \n",
       "462    0.335082 million i/o requests at $0.05 ea.  \n",
       "175      49.999999679999995 gb-month at $0.05 ea.  \n",
       "223      17.896860859999997 gb-month at $0.05 ea.  \n",
       "439    0.925932 million i/o requests at $0.05 ea.  \n",
       "273             11.99999952 gb-month at $0.05 ea.  \n",
       "361              2.00000016 gb-month at $0.05 ea.  "
      ]
     },
     "metadata": {},
     "output_type": "display_data"
    },
    {
     "data": {
      "text/markdown": [
       "#### uc3-mrtinv2-stg"
      ],
      "text/plain": [
       "<IPython.core.display.Markdown object>"
      ]
     },
     "metadata": {},
     "output_type": "display_data"
    },
    {
     "data": {
      "text/markdown": [
       "#### Total cost for uc3-mrtinv2-stg: $10.2"
      ],
      "text/plain": [
       "<IPython.core.display.Markdown object>"
      ]
     },
     "metadata": {},
     "output_type": "display_data"
    },
    {
     "data": {
      "text/html": [
       "<div>\n",
       "<style scoped>\n",
       "    .dataframe tbody tr th:only-of-type {\n",
       "        vertical-align: middle;\n",
       "    }\n",
       "\n",
       "    .dataframe tbody tr th {\n",
       "        vertical-align: top;\n",
       "    }\n",
       "\n",
       "    .dataframe thead th {\n",
       "        text-align: right;\n",
       "    }\n",
       "</style>\n",
       "<table border=\"1\" class=\"dataframe\">\n",
       "  <thead>\n",
       "    <tr style=\"text-align: right;\">\n",
       "      <th></th>\n",
       "      <th>aws_service</th>\n",
       "      <th>device</th>\n",
       "      <th>usage_type</th>\n",
       "      <th>cost</th>\n",
       "      <th>basis</th>\n",
       "    </tr>\n",
       "  </thead>\n",
       "  <tbody>\n",
       "    <tr>\n",
       "      <th>117</th>\n",
       "      <td>BoxUsage</td>\n",
       "      <td></td>\n",
       "      <td>t2.small</td>\n",
       "      <td>$5.7</td>\n",
       "      <td>245.75053879310346 instance hour at $0.02 ea.</td>\n",
       "    </tr>\n",
       "    <tr>\n",
       "      <th>324</th>\n",
       "      <td>EBS</td>\n",
       "      <td>/dev/sdb</td>\n",
       "      <td>SnapshotUsage</td>\n",
       "      <td>$0.28</td>\n",
       "      <td>5.57461478 gb-month at $0.05 ea.</td>\n",
       "    </tr>\n",
       "    <tr>\n",
       "      <th>469</th>\n",
       "      <td>EBS</td>\n",
       "      <td>/dev/sdb</td>\n",
       "      <td>VolumeIOUsage</td>\n",
       "      <td>$0.01</td>\n",
       "      <td>0.281202 million i/o requests at $0.05 ea.</td>\n",
       "    </tr>\n",
       "    <tr>\n",
       "      <th>164</th>\n",
       "      <td>EBS</td>\n",
       "      <td>/dev/sdb</td>\n",
       "      <td>VolumeUsage</td>\n",
       "      <td>$2.65</td>\n",
       "      <td>53.000000639999996 gb-month at $0.05 ea.</td>\n",
       "    </tr>\n",
       "    <tr>\n",
       "      <th>234</th>\n",
       "      <td>EBS</td>\n",
       "      <td>/dev/xvda</td>\n",
       "      <td>SnapshotUsage</td>\n",
       "      <td>$0.82</td>\n",
       "      <td>16.365092419999996 gb-month at $0.05 ea.</td>\n",
       "    </tr>\n",
       "    <tr>\n",
       "      <th>444</th>\n",
       "      <td>EBS</td>\n",
       "      <td>/dev/xvda</td>\n",
       "      <td>VolumeIOUsage</td>\n",
       "      <td>$0.04</td>\n",
       "      <td>0.758488 million i/o requests at $0.05 ea.</td>\n",
       "    </tr>\n",
       "    <tr>\n",
       "      <th>275</th>\n",
       "      <td>EBS</td>\n",
       "      <td>/dev/xvda</td>\n",
       "      <td>VolumeUsage</td>\n",
       "      <td>$0.6</td>\n",
       "      <td>11.99999952 gb-month at $0.05 ea.</td>\n",
       "    </tr>\n",
       "    <tr>\n",
       "      <th>363</th>\n",
       "      <td>EBS</td>\n",
       "      <td>swap</td>\n",
       "      <td>VolumeUsage</td>\n",
       "      <td>$0.1</td>\n",
       "      <td>2.00000016 gb-month at $0.05 ea.</td>\n",
       "    </tr>\n",
       "  </tbody>\n",
       "</table>\n",
       "</div>"
      ],
      "text/latex": [
       "\\begin{tabular}{llllll}\n",
       "\\toprule\n",
       "{} & aws\\_service &     device &     usage\\_type &   cost &                                          basis \\\\\n",
       "\\midrule\n",
       "117 &    BoxUsage &            &       t2.small &   \\$5.7 &  245.75053879310346 instance hour at \\$0.02 ea. \\\\\n",
       "324 &         EBS &   /dev/sdb &  SnapshotUsage &  \\$0.28 &               5.57461478 gb-month at \\$0.05 ea. \\\\\n",
       "469 &         EBS &   /dev/sdb &  VolumeIOUsage &  \\$0.01 &     0.281202 million i/o requests at \\$0.05 ea. \\\\\n",
       "164 &         EBS &   /dev/sdb &    VolumeUsage &  \\$2.65 &       53.000000639999996 gb-month at \\$0.05 ea. \\\\\n",
       "234 &         EBS &  /dev/xvda &  SnapshotUsage &  \\$0.82 &       16.365092419999996 gb-month at \\$0.05 ea. \\\\\n",
       "444 &         EBS &  /dev/xvda &  VolumeIOUsage &  \\$0.04 &     0.758488 million i/o requests at \\$0.05 ea. \\\\\n",
       "275 &         EBS &  /dev/xvda &    VolumeUsage &   \\$0.6 &              11.99999952 gb-month at \\$0.05 ea. \\\\\n",
       "363 &         EBS &       swap &    VolumeUsage &   \\$0.1 &               2.00000016 gb-month at \\$0.05 ea. \\\\\n",
       "\\bottomrule\n",
       "\\end{tabular}\n"
      ],
      "text/plain": [
       "    aws_service     device     usage_type   cost  \\\n",
       "117    BoxUsage                  t2.small   $5.7   \n",
       "324         EBS   /dev/sdb  SnapshotUsage  $0.28   \n",
       "469         EBS   /dev/sdb  VolumeIOUsage  $0.01   \n",
       "164         EBS   /dev/sdb    VolumeUsage  $2.65   \n",
       "234         EBS  /dev/xvda  SnapshotUsage  $0.82   \n",
       "444         EBS  /dev/xvda  VolumeIOUsage  $0.04   \n",
       "275         EBS  /dev/xvda    VolumeUsage   $0.6   \n",
       "363         EBS       swap    VolumeUsage   $0.1   \n",
       "\n",
       "                                             basis  \n",
       "117  245.75053879310346 instance hour at $0.02 ea.  \n",
       "324               5.57461478 gb-month at $0.05 ea.  \n",
       "469     0.281202 million i/o requests at $0.05 ea.  \n",
       "164       53.000000639999996 gb-month at $0.05 ea.  \n",
       "234       16.365092419999996 gb-month at $0.05 ea.  \n",
       "444     0.758488 million i/o requests at $0.05 ea.  \n",
       "275              11.99999952 gb-month at $0.05 ea.  \n",
       "363               2.00000016 gb-month at $0.05 ea.  "
      ]
     },
     "metadata": {},
     "output_type": "display_data"
    },
    {
     "data": {
      "text/markdown": [
       "## istatus"
      ],
      "text/plain": [
       "<IPython.core.display.Markdown object>"
      ]
     },
     "metadata": {},
     "output_type": "display_data"
    },
    {
     "data": {
      "text/markdown": [
       "##### Total cost: $31.38"
      ],
      "text/plain": [
       "<IPython.core.display.Markdown object>"
      ]
     },
     "metadata": {},
     "output_type": "display_data"
    },
    {
     "data": {
      "text/markdown": [
       "### "
      ],
      "text/plain": [
       "<IPython.core.display.Markdown object>"
      ]
     },
     "metadata": {},
     "output_type": "display_data"
    },
    {
     "data": {
      "text/markdown": [
       "##### Total cost for istatus : $0.0"
      ],
      "text/plain": [
       "<IPython.core.display.Markdown object>"
      ]
     },
     "metadata": {},
     "output_type": "display_data"
    },
    {
     "data": {
      "text/markdown": [
       "### dev"
      ],
      "text/plain": [
       "<IPython.core.display.Markdown object>"
      ]
     },
     "metadata": {},
     "output_type": "display_data"
    },
    {
     "data": {
      "text/markdown": [
       "##### Total cost for istatus dev: $2.35"
      ],
      "text/plain": [
       "<IPython.core.display.Markdown object>"
      ]
     },
     "metadata": {},
     "output_type": "display_data"
    },
    {
     "data": {
      "text/markdown": [
       "#### uc3-mrtistatus-dev"
      ],
      "text/plain": [
       "<IPython.core.display.Markdown object>"
      ]
     },
     "metadata": {},
     "output_type": "display_data"
    },
    {
     "data": {
      "text/markdown": [
       "#### Total cost for uc3-mrtistatus-dev: $2.35"
      ],
      "text/plain": [
       "<IPython.core.display.Markdown object>"
      ]
     },
     "metadata": {},
     "output_type": "display_data"
    },
    {
     "data": {
      "text/html": [
       "<div>\n",
       "<style scoped>\n",
       "    .dataframe tbody tr th:only-of-type {\n",
       "        vertical-align: middle;\n",
       "    }\n",
       "\n",
       "    .dataframe tbody tr th {\n",
       "        vertical-align: top;\n",
       "    }\n",
       "\n",
       "    .dataframe thead th {\n",
       "        text-align: right;\n",
       "    }\n",
       "</style>\n",
       "<table border=\"1\" class=\"dataframe\">\n",
       "  <thead>\n",
       "    <tr style=\"text-align: right;\">\n",
       "      <th></th>\n",
       "      <th>aws_service</th>\n",
       "      <th>device</th>\n",
       "      <th>usage_type</th>\n",
       "      <th>cost</th>\n",
       "      <th>basis</th>\n",
       "    </tr>\n",
       "  </thead>\n",
       "  <tbody>\n",
       "    <tr>\n",
       "      <th>399</th>\n",
       "      <td>BoxUsage</td>\n",
       "      <td></td>\n",
       "      <td>t2.small</td>\n",
       "      <td>$0.09</td>\n",
       "      <td>3.768618405172414 instance hour at $0.02 ea.</td>\n",
       "    </tr>\n",
       "    <tr>\n",
       "      <th>312</th>\n",
       "      <td>EBS</td>\n",
       "      <td>/dev/sdb</td>\n",
       "      <td>SnapshotUsage</td>\n",
       "      <td>$0.54</td>\n",
       "      <td>10.82294654 gb-month at $0.05 ea.</td>\n",
       "    </tr>\n",
       "    <tr>\n",
       "      <th>309</th>\n",
       "      <td>EBS</td>\n",
       "      <td>/dev/sdb</td>\n",
       "      <td>VolumeUsage</td>\n",
       "      <td>$0.55</td>\n",
       "      <td>11.000000159999997 gb-month at $0.05 ea.</td>\n",
       "    </tr>\n",
       "    <tr>\n",
       "      <th>315</th>\n",
       "      <td>EBS</td>\n",
       "      <td>/dev/xvda</td>\n",
       "      <td>SnapshotUsage</td>\n",
       "      <td>$0.47</td>\n",
       "      <td>9.472050699999999 gb-month at $0.05 ea.</td>\n",
       "    </tr>\n",
       "    <tr>\n",
       "      <th>276</th>\n",
       "      <td>EBS</td>\n",
       "      <td>/dev/xvda</td>\n",
       "      <td>VolumeUsage</td>\n",
       "      <td>$0.6</td>\n",
       "      <td>11.99999952 gb-month at $0.05 ea.</td>\n",
       "    </tr>\n",
       "    <tr>\n",
       "      <th>364</th>\n",
       "      <td>EBS</td>\n",
       "      <td>swap</td>\n",
       "      <td>VolumeUsage</td>\n",
       "      <td>$0.1</td>\n",
       "      <td>2.00000016 gb-month at $0.05 ea.</td>\n",
       "    </tr>\n",
       "  </tbody>\n",
       "</table>\n",
       "</div>"
      ],
      "text/latex": [
       "\\begin{tabular}{llllll}\n",
       "\\toprule\n",
       "{} & aws\\_service &     device &     usage\\_type &   cost &                                         basis \\\\\n",
       "\\midrule\n",
       "399 &    BoxUsage &            &       t2.small &  \\$0.09 &  3.768618405172414 instance hour at \\$0.02 ea. \\\\\n",
       "312 &         EBS &   /dev/sdb &  SnapshotUsage &  \\$0.54 &             10.82294654 gb-month at \\$0.05 ea. \\\\\n",
       "309 &         EBS &   /dev/sdb &    VolumeUsage &  \\$0.55 &      11.000000159999997 gb-month at \\$0.05 ea. \\\\\n",
       "315 &         EBS &  /dev/xvda &  SnapshotUsage &  \\$0.47 &       9.472050699999999 gb-month at \\$0.05 ea. \\\\\n",
       "276 &         EBS &  /dev/xvda &    VolumeUsage &   \\$0.6 &             11.99999952 gb-month at \\$0.05 ea. \\\\\n",
       "364 &         EBS &       swap &    VolumeUsage &   \\$0.1 &              2.00000016 gb-month at \\$0.05 ea. \\\\\n",
       "\\bottomrule\n",
       "\\end{tabular}\n"
      ],
      "text/plain": [
       "    aws_service     device     usage_type   cost  \\\n",
       "399    BoxUsage                  t2.small  $0.09   \n",
       "312         EBS   /dev/sdb  SnapshotUsage  $0.54   \n",
       "309         EBS   /dev/sdb    VolumeUsage  $0.55   \n",
       "315         EBS  /dev/xvda  SnapshotUsage  $0.47   \n",
       "276         EBS  /dev/xvda    VolumeUsage   $0.6   \n",
       "364         EBS       swap    VolumeUsage   $0.1   \n",
       "\n",
       "                                            basis  \n",
       "399  3.768618405172414 instance hour at $0.02 ea.  \n",
       "312             10.82294654 gb-month at $0.05 ea.  \n",
       "309      11.000000159999997 gb-month at $0.05 ea.  \n",
       "315       9.472050699999999 gb-month at $0.05 ea.  \n",
       "276             11.99999952 gb-month at $0.05 ea.  \n",
       "364              2.00000016 gb-month at $0.05 ea.  "
      ]
     },
     "metadata": {},
     "output_type": "display_data"
    },
    {
     "data": {
      "text/markdown": [
       "### prd"
      ],
      "text/plain": [
       "<IPython.core.display.Markdown object>"
      ]
     },
     "metadata": {},
     "output_type": "display_data"
    },
    {
     "data": {
      "text/markdown": [
       "##### Total cost for istatus prd: $20.6"
      ],
      "text/plain": [
       "<IPython.core.display.Markdown object>"
      ]
     },
     "metadata": {},
     "output_type": "display_data"
    },
    {
     "data": {
      "text/markdown": [
       "#### uc3-mrtistatus-prd"
      ],
      "text/plain": [
       "<IPython.core.display.Markdown object>"
      ]
     },
     "metadata": {},
     "output_type": "display_data"
    },
    {
     "data": {
      "text/markdown": [
       "#### Total cost for uc3-mrtistatus-prd: $20.6"
      ],
      "text/plain": [
       "<IPython.core.display.Markdown object>"
      ]
     },
     "metadata": {},
     "output_type": "display_data"
    },
    {
     "data": {
      "text/html": [
       "<div>\n",
       "<style scoped>\n",
       "    .dataframe tbody tr th:only-of-type {\n",
       "        vertical-align: middle;\n",
       "    }\n",
       "\n",
       "    .dataframe tbody tr th {\n",
       "        vertical-align: top;\n",
       "    }\n",
       "\n",
       "    .dataframe thead th {\n",
       "        text-align: right;\n",
       "    }\n",
       "</style>\n",
       "<table border=\"1\" class=\"dataframe\">\n",
       "  <thead>\n",
       "    <tr style=\"text-align: right;\">\n",
       "      <th></th>\n",
       "      <th>aws_service</th>\n",
       "      <th>device</th>\n",
       "      <th>usage_type</th>\n",
       "      <th>cost</th>\n",
       "      <th>basis</th>\n",
       "    </tr>\n",
       "  </thead>\n",
       "  <tbody>\n",
       "    <tr>\n",
       "      <th>68</th>\n",
       "      <td>BoxUsage</td>\n",
       "      <td></td>\n",
       "      <td>t2.small</td>\n",
       "      <td>$16.56</td>\n",
       "      <td>713.7931034482758 instance hour at $0.02 ea.</td>\n",
       "    </tr>\n",
       "    <tr>\n",
       "      <th>468</th>\n",
       "      <td>DataTransfer</td>\n",
       "      <td></td>\n",
       "      <td>Regional-Bytes</td>\n",
       "      <td>$0.01</td>\n",
       "      <td>1.4148910000000001 gb - regional data transfer at $0.01 ea.</td>\n",
       "    </tr>\n",
       "    <tr>\n",
       "      <th>205</th>\n",
       "      <td>EBS</td>\n",
       "      <td></td>\n",
       "      <td>SnapshotUsage</td>\n",
       "      <td>$1.05</td>\n",
       "      <td>19.091240327272725 gb-month at $0.06 ea.</td>\n",
       "    </tr>\n",
       "    <tr>\n",
       "      <th>305</th>\n",
       "      <td>EBS</td>\n",
       "      <td>/dev/sdb</td>\n",
       "      <td>SnapshotUsage</td>\n",
       "      <td>$0.6</td>\n",
       "      <td>11.93409846 gb-month at $0.05 ea.</td>\n",
       "    </tr>\n",
       "    <tr>\n",
       "      <th>310</th>\n",
       "      <td>EBS</td>\n",
       "      <td>/dev/sdb</td>\n",
       "      <td>VolumeUsage</td>\n",
       "      <td>$0.55</td>\n",
       "      <td>11.000000159999997 gb-month at $0.05 ea.</td>\n",
       "    </tr>\n",
       "    <tr>\n",
       "      <th>201</th>\n",
       "      <td>EBS</td>\n",
       "      <td>/dev/xvda</td>\n",
       "      <td>SnapshotUsage</td>\n",
       "      <td>$1.08</td>\n",
       "      <td>21.601842079999997 gb-month at $0.05 ea.</td>\n",
       "    </tr>\n",
       "    <tr>\n",
       "      <th>434</th>\n",
       "      <td>EBS</td>\n",
       "      <td>/dev/xvda</td>\n",
       "      <td>VolumeIOUsage</td>\n",
       "      <td>$0.05</td>\n",
       "      <td>0.975761 million i/o requests at $0.05 ea.</td>\n",
       "    </tr>\n",
       "    <tr>\n",
       "      <th>277</th>\n",
       "      <td>EBS</td>\n",
       "      <td>/dev/xvda</td>\n",
       "      <td>VolumeUsage</td>\n",
       "      <td>$0.6</td>\n",
       "      <td>11.99999952 gb-month at $0.05 ea.</td>\n",
       "    </tr>\n",
       "    <tr>\n",
       "      <th>365</th>\n",
       "      <td>EBS</td>\n",
       "      <td>swap</td>\n",
       "      <td>VolumeUsage</td>\n",
       "      <td>$0.1</td>\n",
       "      <td>2.00000016 gb-month at $0.05 ea.</td>\n",
       "    </tr>\n",
       "  </tbody>\n",
       "</table>\n",
       "</div>"
      ],
      "text/latex": [
       "\\begin{tabular}{llllll}\n",
       "\\toprule\n",
       "{} &   aws\\_service &     device &      usage\\_type &    cost &                                                        basis \\\\\n",
       "\\midrule\n",
       "68  &      BoxUsage &            &        t2.small &  \\$16.56 &                 713.7931034482758 instance hour at \\$0.02 ea. \\\\\n",
       "468 &  DataTransfer &            &  Regional-Bytes &   \\$0.01 &  1.4148910000000001 gb - regional data transfer at \\$0.01 ea. \\\\\n",
       "205 &           EBS &            &   SnapshotUsage &   \\$1.05 &                     19.091240327272725 gb-month at \\$0.06 ea. \\\\\n",
       "305 &           EBS &   /dev/sdb &   SnapshotUsage &    \\$0.6 &                            11.93409846 gb-month at \\$0.05 ea. \\\\\n",
       "310 &           EBS &   /dev/sdb &     VolumeUsage &   \\$0.55 &                     11.000000159999997 gb-month at \\$0.05 ea. \\\\\n",
       "201 &           EBS &  /dev/xvda &   SnapshotUsage &   \\$1.08 &                     21.601842079999997 gb-month at \\$0.05 ea. \\\\\n",
       "434 &           EBS &  /dev/xvda &   VolumeIOUsage &   \\$0.05 &                   0.975761 million i/o requests at \\$0.05 ea. \\\\\n",
       "277 &           EBS &  /dev/xvda &     VolumeUsage &    \\$0.6 &                            11.99999952 gb-month at \\$0.05 ea. \\\\\n",
       "365 &           EBS &       swap &     VolumeUsage &    \\$0.1 &                             2.00000016 gb-month at \\$0.05 ea. \\\\\n",
       "\\bottomrule\n",
       "\\end{tabular}\n"
      ],
      "text/plain": [
       "      aws_service     device      usage_type    cost  \\\n",
       "68       BoxUsage                   t2.small  $16.56   \n",
       "468  DataTransfer             Regional-Bytes   $0.01   \n",
       "205           EBS              SnapshotUsage   $1.05   \n",
       "305           EBS   /dev/sdb   SnapshotUsage    $0.6   \n",
       "310           EBS   /dev/sdb     VolumeUsage   $0.55   \n",
       "201           EBS  /dev/xvda   SnapshotUsage   $1.08   \n",
       "434           EBS  /dev/xvda   VolumeIOUsage   $0.05   \n",
       "277           EBS  /dev/xvda     VolumeUsage    $0.6   \n",
       "365           EBS       swap     VolumeUsage    $0.1   \n",
       "\n",
       "                                                           basis  \n",
       "68                  713.7931034482758 instance hour at $0.02 ea.  \n",
       "468  1.4148910000000001 gb - regional data transfer at $0.01 ea.  \n",
       "205                     19.091240327272725 gb-month at $0.06 ea.  \n",
       "305                            11.93409846 gb-month at $0.05 ea.  \n",
       "310                     11.000000159999997 gb-month at $0.05 ea.  \n",
       "201                     21.601842079999997 gb-month at $0.05 ea.  \n",
       "434                   0.975761 million i/o requests at $0.05 ea.  \n",
       "277                            11.99999952 gb-month at $0.05 ea.  \n",
       "365                             2.00000016 gb-month at $0.05 ea.  "
      ]
     },
     "metadata": {},
     "output_type": "display_data"
    },
    {
     "data": {
      "text/markdown": [
       "### stg"
      ],
      "text/plain": [
       "<IPython.core.display.Markdown object>"
      ]
     },
     "metadata": {},
     "output_type": "display_data"
    },
    {
     "data": {
      "text/markdown": [
       "##### Total cost for istatus stg: $8.43"
      ],
      "text/plain": [
       "<IPython.core.display.Markdown object>"
      ]
     },
     "metadata": {},
     "output_type": "display_data"
    },
    {
     "data": {
      "text/markdown": [
       "#### uc3-mrtistatus-stg"
      ],
      "text/plain": [
       "<IPython.core.display.Markdown object>"
      ]
     },
     "metadata": {},
     "output_type": "display_data"
    },
    {
     "data": {
      "text/markdown": [
       "#### Total cost for uc3-mrtistatus-stg: $8.43"
      ],
      "text/plain": [
       "<IPython.core.display.Markdown object>"
      ]
     },
     "metadata": {},
     "output_type": "display_data"
    },
    {
     "data": {
      "text/html": [
       "<div>\n",
       "<style scoped>\n",
       "    .dataframe tbody tr th:only-of-type {\n",
       "        vertical-align: middle;\n",
       "    }\n",
       "\n",
       "    .dataframe tbody tr th {\n",
       "        vertical-align: top;\n",
       "    }\n",
       "\n",
       "    .dataframe thead th {\n",
       "        text-align: right;\n",
       "    }\n",
       "</style>\n",
       "<table border=\"1\" class=\"dataframe\">\n",
       "  <thead>\n",
       "    <tr style=\"text-align: right;\">\n",
       "      <th></th>\n",
       "      <th>aws_service</th>\n",
       "      <th>device</th>\n",
       "      <th>usage_type</th>\n",
       "      <th>cost</th>\n",
       "      <th>basis</th>\n",
       "    </tr>\n",
       "  </thead>\n",
       "  <tbody>\n",
       "    <tr>\n",
       "      <th>126</th>\n",
       "      <td>BoxUsage</td>\n",
       "      <td></td>\n",
       "      <td>t2.small</td>\n",
       "      <td>$5.7</td>\n",
       "      <td>245.74200202586212 instance hour at $0.02 ea.</td>\n",
       "    </tr>\n",
       "    <tr>\n",
       "      <th>308</th>\n",
       "      <td>EBS</td>\n",
       "      <td>/dev/sdb</td>\n",
       "      <td>SnapshotUsage</td>\n",
       "      <td>$0.56</td>\n",
       "      <td>11.17008834 gb-month at $0.05 ea.</td>\n",
       "    </tr>\n",
       "    <tr>\n",
       "      <th>311</th>\n",
       "      <td>EBS</td>\n",
       "      <td>/dev/sdb</td>\n",
       "      <td>VolumeUsage</td>\n",
       "      <td>$0.55</td>\n",
       "      <td>11.000000159999997 gb-month at $0.05 ea.</td>\n",
       "    </tr>\n",
       "    <tr>\n",
       "      <th>226</th>\n",
       "      <td>EBS</td>\n",
       "      <td>/dev/xvda</td>\n",
       "      <td>SnapshotUsage</td>\n",
       "      <td>$0.88</td>\n",
       "      <td>17.557637359999998 gb-month at $0.05 ea.</td>\n",
       "    </tr>\n",
       "    <tr>\n",
       "      <th>442</th>\n",
       "      <td>EBS</td>\n",
       "      <td>/dev/xvda</td>\n",
       "      <td>VolumeIOUsage</td>\n",
       "      <td>$0.04</td>\n",
       "      <td>0.8072999999999999 million i/o requests at $0.05 ea.</td>\n",
       "    </tr>\n",
       "    <tr>\n",
       "      <th>278</th>\n",
       "      <td>EBS</td>\n",
       "      <td>/dev/xvda</td>\n",
       "      <td>VolumeUsage</td>\n",
       "      <td>$0.6</td>\n",
       "      <td>11.99999952 gb-month at $0.05 ea.</td>\n",
       "    </tr>\n",
       "    <tr>\n",
       "      <th>366</th>\n",
       "      <td>EBS</td>\n",
       "      <td>swap</td>\n",
       "      <td>VolumeUsage</td>\n",
       "      <td>$0.1</td>\n",
       "      <td>2.00000016 gb-month at $0.05 ea.</td>\n",
       "    </tr>\n",
       "  </tbody>\n",
       "</table>\n",
       "</div>"
      ],
      "text/latex": [
       "\\begin{tabular}{llllll}\n",
       "\\toprule\n",
       "{} & aws\\_service &     device &     usage\\_type &   cost &                                                 basis \\\\\n",
       "\\midrule\n",
       "126 &    BoxUsage &            &       t2.small &   \\$5.7 &         245.74200202586212 instance hour at \\$0.02 ea. \\\\\n",
       "308 &         EBS &   /dev/sdb &  SnapshotUsage &  \\$0.56 &                     11.17008834 gb-month at \\$0.05 ea. \\\\\n",
       "311 &         EBS &   /dev/sdb &    VolumeUsage &  \\$0.55 &              11.000000159999997 gb-month at \\$0.05 ea. \\\\\n",
       "226 &         EBS &  /dev/xvda &  SnapshotUsage &  \\$0.88 &              17.557637359999998 gb-month at \\$0.05 ea. \\\\\n",
       "442 &         EBS &  /dev/xvda &  VolumeIOUsage &  \\$0.04 &  0.8072999999999999 million i/o requests at \\$0.05 ea. \\\\\n",
       "278 &         EBS &  /dev/xvda &    VolumeUsage &   \\$0.6 &                     11.99999952 gb-month at \\$0.05 ea. \\\\\n",
       "366 &         EBS &       swap &    VolumeUsage &   \\$0.1 &                      2.00000016 gb-month at \\$0.05 ea. \\\\\n",
       "\\bottomrule\n",
       "\\end{tabular}\n"
      ],
      "text/plain": [
       "    aws_service     device     usage_type   cost  \\\n",
       "126    BoxUsage                  t2.small   $5.7   \n",
       "308         EBS   /dev/sdb  SnapshotUsage  $0.56   \n",
       "311         EBS   /dev/sdb    VolumeUsage  $0.55   \n",
       "226         EBS  /dev/xvda  SnapshotUsage  $0.88   \n",
       "442         EBS  /dev/xvda  VolumeIOUsage  $0.04   \n",
       "278         EBS  /dev/xvda    VolumeUsage   $0.6   \n",
       "366         EBS       swap    VolumeUsage   $0.1   \n",
       "\n",
       "                                                    basis  \n",
       "126         245.74200202586212 instance hour at $0.02 ea.  \n",
       "308                     11.17008834 gb-month at $0.05 ea.  \n",
       "311              11.000000159999997 gb-month at $0.05 ea.  \n",
       "226              17.557637359999998 gb-month at $0.05 ea.  \n",
       "442  0.8072999999999999 million i/o requests at $0.05 ea.  \n",
       "278                     11.99999952 gb-month at $0.05 ea.  \n",
       "366                      2.00000016 gb-month at $0.05 ea.  "
      ]
     },
     "metadata": {},
     "output_type": "display_data"
    },
    {
     "data": {
      "text/markdown": [
       "## oai"
      ],
      "text/plain": [
       "<IPython.core.display.Markdown object>"
      ]
     },
     "metadata": {},
     "output_type": "display_data"
    },
    {
     "data": {
      "text/markdown": [
       "##### Total cost: $73.26"
      ],
      "text/plain": [
       "<IPython.core.display.Markdown object>"
      ]
     },
     "metadata": {},
     "output_type": "display_data"
    },
    {
     "data": {
      "text/markdown": [
       "### "
      ],
      "text/plain": [
       "<IPython.core.display.Markdown object>"
      ]
     },
     "metadata": {},
     "output_type": "display_data"
    },
    {
     "data": {
      "text/markdown": [
       "##### Total cost for oai : $0.0"
      ],
      "text/plain": [
       "<IPython.core.display.Markdown object>"
      ]
     },
     "metadata": {},
     "output_type": "display_data"
    },
    {
     "data": {
      "text/markdown": [
       "### dev"
      ],
      "text/plain": [
       "<IPython.core.display.Markdown object>"
      ]
     },
     "metadata": {},
     "output_type": "display_data"
    },
    {
     "data": {
      "text/markdown": [
       "##### Total cost for oai dev: $17.17"
      ],
      "text/plain": [
       "<IPython.core.display.Markdown object>"
      ]
     },
     "metadata": {},
     "output_type": "display_data"
    },
    {
     "data": {
      "text/markdown": [
       "#### uc3-mrtoai-dev"
      ],
      "text/plain": [
       "<IPython.core.display.Markdown object>"
      ]
     },
     "metadata": {},
     "output_type": "display_data"
    },
    {
     "data": {
      "text/markdown": [
       "#### Total cost for uc3-mrtoai-dev: $17.17"
      ],
      "text/plain": [
       "<IPython.core.display.Markdown object>"
      ]
     },
     "metadata": {},
     "output_type": "display_data"
    },
    {
     "data": {
      "text/html": [
       "<div>\n",
       "<style scoped>\n",
       "    .dataframe tbody tr th:only-of-type {\n",
       "        vertical-align: middle;\n",
       "    }\n",
       "\n",
       "    .dataframe tbody tr th {\n",
       "        vertical-align: top;\n",
       "    }\n",
       "\n",
       "    .dataframe thead th {\n",
       "        text-align: right;\n",
       "    }\n",
       "</style>\n",
       "<table border=\"1\" class=\"dataframe\">\n",
       "  <thead>\n",
       "    <tr style=\"text-align: right;\">\n",
       "      <th></th>\n",
       "      <th>aws_service</th>\n",
       "      <th>device</th>\n",
       "      <th>usage_type</th>\n",
       "      <th>cost</th>\n",
       "      <th>basis</th>\n",
       "    </tr>\n",
       "  </thead>\n",
       "  <tbody>\n",
       "    <tr>\n",
       "      <th>113</th>\n",
       "      <td>BoxUsage</td>\n",
       "      <td></td>\n",
       "      <td>t2.small</td>\n",
       "      <td>$5.7</td>\n",
       "      <td>245.76651189655175 instance hour at $0.02 ea.</td>\n",
       "    </tr>\n",
       "    <tr>\n",
       "      <th>141</th>\n",
       "      <td>EBS</td>\n",
       "      <td>/dev/sdb</td>\n",
       "      <td>SnapshotUsage</td>\n",
       "      <td>$4.96</td>\n",
       "      <td>99.26072473999999 gb-month at $0.05 ea.</td>\n",
       "    </tr>\n",
       "    <tr>\n",
       "      <th>135</th>\n",
       "      <td>EBS</td>\n",
       "      <td>/dev/sdb</td>\n",
       "      <td>VolumeUsage</td>\n",
       "      <td>$5.0</td>\n",
       "      <td>99.99999935999999 gb-month at $0.05 ea.</td>\n",
       "    </tr>\n",
       "    <tr>\n",
       "      <th>245</th>\n",
       "      <td>EBS</td>\n",
       "      <td>/dev/xvda</td>\n",
       "      <td>SnapshotUsage</td>\n",
       "      <td>$0.75</td>\n",
       "      <td>14.900398000000001 gb-month at $0.05 ea.</td>\n",
       "    </tr>\n",
       "    <tr>\n",
       "      <th>422</th>\n",
       "      <td>EBS</td>\n",
       "      <td>/dev/xvda</td>\n",
       "      <td>VolumeIOUsage</td>\n",
       "      <td>$0.06</td>\n",
       "      <td>1.1438279999999998 million i/o requests at $0.05 ea.</td>\n",
       "    </tr>\n",
       "    <tr>\n",
       "      <th>279</th>\n",
       "      <td>EBS</td>\n",
       "      <td>/dev/xvda</td>\n",
       "      <td>VolumeUsage</td>\n",
       "      <td>$0.6</td>\n",
       "      <td>11.99999952 gb-month at $0.05 ea.</td>\n",
       "    </tr>\n",
       "    <tr>\n",
       "      <th>367</th>\n",
       "      <td>EBS</td>\n",
       "      <td>swap</td>\n",
       "      <td>VolumeUsage</td>\n",
       "      <td>$0.1</td>\n",
       "      <td>2.00000016 gb-month at $0.05 ea.</td>\n",
       "    </tr>\n",
       "  </tbody>\n",
       "</table>\n",
       "</div>"
      ],
      "text/latex": [
       "\\begin{tabular}{llllll}\n",
       "\\toprule\n",
       "{} & aws\\_service &     device &     usage\\_type &   cost &                                                 basis \\\\\n",
       "\\midrule\n",
       "113 &    BoxUsage &            &       t2.small &   \\$5.7 &         245.76651189655175 instance hour at \\$0.02 ea. \\\\\n",
       "141 &         EBS &   /dev/sdb &  SnapshotUsage &  \\$4.96 &               99.26072473999999 gb-month at \\$0.05 ea. \\\\\n",
       "135 &         EBS &   /dev/sdb &    VolumeUsage &   \\$5.0 &               99.99999935999999 gb-month at \\$0.05 ea. \\\\\n",
       "245 &         EBS &  /dev/xvda &  SnapshotUsage &  \\$0.75 &              14.900398000000001 gb-month at \\$0.05 ea. \\\\\n",
       "422 &         EBS &  /dev/xvda &  VolumeIOUsage &  \\$0.06 &  1.1438279999999998 million i/o requests at \\$0.05 ea. \\\\\n",
       "279 &         EBS &  /dev/xvda &    VolumeUsage &   \\$0.6 &                     11.99999952 gb-month at \\$0.05 ea. \\\\\n",
       "367 &         EBS &       swap &    VolumeUsage &   \\$0.1 &                      2.00000016 gb-month at \\$0.05 ea. \\\\\n",
       "\\bottomrule\n",
       "\\end{tabular}\n"
      ],
      "text/plain": [
       "    aws_service     device     usage_type   cost  \\\n",
       "113    BoxUsage                  t2.small   $5.7   \n",
       "141         EBS   /dev/sdb  SnapshotUsage  $4.96   \n",
       "135         EBS   /dev/sdb    VolumeUsage   $5.0   \n",
       "245         EBS  /dev/xvda  SnapshotUsage  $0.75   \n",
       "422         EBS  /dev/xvda  VolumeIOUsage  $0.06   \n",
       "279         EBS  /dev/xvda    VolumeUsage   $0.6   \n",
       "367         EBS       swap    VolumeUsage   $0.1   \n",
       "\n",
       "                                                    basis  \n",
       "113         245.76651189655175 instance hour at $0.02 ea.  \n",
       "141               99.26072473999999 gb-month at $0.05 ea.  \n",
       "135               99.99999935999999 gb-month at $0.05 ea.  \n",
       "245              14.900398000000001 gb-month at $0.05 ea.  \n",
       "422  1.1438279999999998 million i/o requests at $0.05 ea.  \n",
       "279                     11.99999952 gb-month at $0.05 ea.  \n",
       "367                      2.00000016 gb-month at $0.05 ea.  "
      ]
     },
     "metadata": {},
     "output_type": "display_data"
    },
    {
     "data": {
      "text/markdown": [
       "### prd"
      ],
      "text/plain": [
       "<IPython.core.display.Markdown object>"
      ]
     },
     "metadata": {},
     "output_type": "display_data"
    },
    {
     "data": {
      "text/markdown": [
       "##### Total cost for oai prd: $38.79"
      ],
      "text/plain": [
       "<IPython.core.display.Markdown object>"
      ]
     },
     "metadata": {},
     "output_type": "display_data"
    },
    {
     "data": {
      "text/markdown": [
       "#### uc3-mrtoai-prd"
      ],
      "text/plain": [
       "<IPython.core.display.Markdown object>"
      ]
     },
     "metadata": {},
     "output_type": "display_data"
    },
    {
     "data": {
      "text/markdown": [
       "#### Total cost for uc3-mrtoai-prd: $38.79"
      ],
      "text/plain": [
       "<IPython.core.display.Markdown object>"
      ]
     },
     "metadata": {},
     "output_type": "display_data"
    },
    {
     "data": {
      "text/html": [
       "<div>\n",
       "<style scoped>\n",
       "    .dataframe tbody tr th:only-of-type {\n",
       "        vertical-align: middle;\n",
       "    }\n",
       "\n",
       "    .dataframe tbody tr th {\n",
       "        vertical-align: top;\n",
       "    }\n",
       "\n",
       "    .dataframe thead th {\n",
       "        text-align: right;\n",
       "    }\n",
       "</style>\n",
       "<table border=\"1\" class=\"dataframe\">\n",
       "  <thead>\n",
       "    <tr style=\"text-align: right;\">\n",
       "      <th></th>\n",
       "      <th>aws_service</th>\n",
       "      <th>device</th>\n",
       "      <th>usage_type</th>\n",
       "      <th>cost</th>\n",
       "      <th>basis</th>\n",
       "    </tr>\n",
       "  </thead>\n",
       "  <tbody>\n",
       "    <tr>\n",
       "      <th>69</th>\n",
       "      <td>BoxUsage</td>\n",
       "      <td></td>\n",
       "      <td>t2.small</td>\n",
       "      <td>$16.56</td>\n",
       "      <td>713.7931034482758 instance hour at $0.02 ea.</td>\n",
       "    </tr>\n",
       "    <tr>\n",
       "      <th>461</th>\n",
       "      <td>DataTransfer</td>\n",
       "      <td></td>\n",
       "      <td>Regional-Bytes</td>\n",
       "      <td>$0.02</td>\n",
       "      <td>1.8313124 gb - regional data transfer at $0.01 ea.</td>\n",
       "    </tr>\n",
       "    <tr>\n",
       "      <th>132</th>\n",
       "      <td>EBS</td>\n",
       "      <td></td>\n",
       "      <td>SnapshotUsage</td>\n",
       "      <td>$5.37</td>\n",
       "      <td>97.57505849090909 gb-month at $0.06 ea.</td>\n",
       "    </tr>\n",
       "    <tr>\n",
       "      <th>133</th>\n",
       "      <td>EBS</td>\n",
       "      <td>/dev/sdb</td>\n",
       "      <td>SnapshotUsage</td>\n",
       "      <td>$5.06</td>\n",
       "      <td>101.12738313999999 gb-month at $0.05 ea.</td>\n",
       "    </tr>\n",
       "    <tr>\n",
       "      <th>92</th>\n",
       "      <td>EBS</td>\n",
       "      <td>/dev/sdb</td>\n",
       "      <td>VolumeUsage.gp2</td>\n",
       "      <td>$10.0</td>\n",
       "      <td>100.00000010000001 gb-month at $0.1 ea.</td>\n",
       "    </tr>\n",
       "    <tr>\n",
       "      <th>212</th>\n",
       "      <td>EBS</td>\n",
       "      <td>/dev/xvda</td>\n",
       "      <td>SnapshotUsage</td>\n",
       "      <td>$1.02</td>\n",
       "      <td>20.422304139999998 gb-month at $0.05 ea.</td>\n",
       "    </tr>\n",
       "    <tr>\n",
       "      <th>415</th>\n",
       "      <td>EBS</td>\n",
       "      <td>/dev/xvda</td>\n",
       "      <td>VolumeIOUsage</td>\n",
       "      <td>$0.06</td>\n",
       "      <td>1.272475 million i/o requests at $0.05 ea.</td>\n",
       "    </tr>\n",
       "    <tr>\n",
       "      <th>280</th>\n",
       "      <td>EBS</td>\n",
       "      <td>/dev/xvda</td>\n",
       "      <td>VolumeUsage</td>\n",
       "      <td>$0.6</td>\n",
       "      <td>11.99999952 gb-month at $0.05 ea.</td>\n",
       "    </tr>\n",
       "    <tr>\n",
       "      <th>368</th>\n",
       "      <td>EBS</td>\n",
       "      <td>swap</td>\n",
       "      <td>VolumeUsage</td>\n",
       "      <td>$0.1</td>\n",
       "      <td>2.00000016 gb-month at $0.05 ea.</td>\n",
       "    </tr>\n",
       "  </tbody>\n",
       "</table>\n",
       "</div>"
      ],
      "text/latex": [
       "\\begin{tabular}{llllll}\n",
       "\\toprule\n",
       "{} &   aws\\_service &     device &       usage\\_type &    cost &                                               basis \\\\\n",
       "\\midrule\n",
       "69  &      BoxUsage &            &         t2.small &  \\$16.56 &        713.7931034482758 instance hour at \\$0.02 ea. \\\\\n",
       "461 &  DataTransfer &            &   Regional-Bytes &   \\$0.02 &  1.8313124 gb - regional data transfer at \\$0.01 ea. \\\\\n",
       "132 &           EBS &            &    SnapshotUsage &   \\$5.37 &             97.57505849090909 gb-month at \\$0.06 ea. \\\\\n",
       "133 &           EBS &   /dev/sdb &    SnapshotUsage &   \\$5.06 &            101.12738313999999 gb-month at \\$0.05 ea. \\\\\n",
       "92  &           EBS &   /dev/sdb &  VolumeUsage.gp2 &   \\$10.0 &             100.00000010000001 gb-month at \\$0.1 ea. \\\\\n",
       "212 &           EBS &  /dev/xvda &    SnapshotUsage &   \\$1.02 &            20.422304139999998 gb-month at \\$0.05 ea. \\\\\n",
       "415 &           EBS &  /dev/xvda &    VolumeIOUsage &   \\$0.06 &          1.272475 million i/o requests at \\$0.05 ea. \\\\\n",
       "280 &           EBS &  /dev/xvda &      VolumeUsage &    \\$0.6 &                   11.99999952 gb-month at \\$0.05 ea. \\\\\n",
       "368 &           EBS &       swap &      VolumeUsage &    \\$0.1 &                    2.00000016 gb-month at \\$0.05 ea. \\\\\n",
       "\\bottomrule\n",
       "\\end{tabular}\n"
      ],
      "text/plain": [
       "      aws_service     device       usage_type    cost  \\\n",
       "69       BoxUsage                    t2.small  $16.56   \n",
       "461  DataTransfer              Regional-Bytes   $0.02   \n",
       "132           EBS               SnapshotUsage   $5.37   \n",
       "133           EBS   /dev/sdb    SnapshotUsage   $5.06   \n",
       "92            EBS   /dev/sdb  VolumeUsage.gp2   $10.0   \n",
       "212           EBS  /dev/xvda    SnapshotUsage   $1.02   \n",
       "415           EBS  /dev/xvda    VolumeIOUsage   $0.06   \n",
       "280           EBS  /dev/xvda      VolumeUsage    $0.6   \n",
       "368           EBS       swap      VolumeUsage    $0.1   \n",
       "\n",
       "                                                  basis  \n",
       "69         713.7931034482758 instance hour at $0.02 ea.  \n",
       "461  1.8313124 gb - regional data transfer at $0.01 ea.  \n",
       "132             97.57505849090909 gb-month at $0.06 ea.  \n",
       "133            101.12738313999999 gb-month at $0.05 ea.  \n",
       "92              100.00000010000001 gb-month at $0.1 ea.  \n",
       "212            20.422304139999998 gb-month at $0.05 ea.  \n",
       "415          1.272475 million i/o requests at $0.05 ea.  \n",
       "280                   11.99999952 gb-month at $0.05 ea.  \n",
       "368                    2.00000016 gb-month at $0.05 ea.  "
      ]
     },
     "metadata": {},
     "output_type": "display_data"
    },
    {
     "data": {
      "text/markdown": [
       "### stg"
      ],
      "text/plain": [
       "<IPython.core.display.Markdown object>"
      ]
     },
     "metadata": {},
     "output_type": "display_data"
    },
    {
     "data": {
      "text/markdown": [
       "##### Total cost for oai stg: $17.31"
      ],
      "text/plain": [
       "<IPython.core.display.Markdown object>"
      ]
     },
     "metadata": {},
     "output_type": "display_data"
    },
    {
     "data": {
      "text/markdown": [
       "#### uc3-mrtoai-stg"
      ],
      "text/plain": [
       "<IPython.core.display.Markdown object>"
      ]
     },
     "metadata": {},
     "output_type": "display_data"
    },
    {
     "data": {
      "text/markdown": [
       "#### Total cost for uc3-mrtoai-stg: $17.31"
      ],
      "text/plain": [
       "<IPython.core.display.Markdown object>"
      ]
     },
     "metadata": {},
     "output_type": "display_data"
    },
    {
     "data": {
      "text/html": [
       "<div>\n",
       "<style scoped>\n",
       "    .dataframe tbody tr th:only-of-type {\n",
       "        vertical-align: middle;\n",
       "    }\n",
       "\n",
       "    .dataframe tbody tr th {\n",
       "        vertical-align: top;\n",
       "    }\n",
       "\n",
       "    .dataframe thead th {\n",
       "        text-align: right;\n",
       "    }\n",
       "</style>\n",
       "<table border=\"1\" class=\"dataframe\">\n",
       "  <thead>\n",
       "    <tr style=\"text-align: right;\">\n",
       "      <th></th>\n",
       "      <th>aws_service</th>\n",
       "      <th>device</th>\n",
       "      <th>usage_type</th>\n",
       "      <th>cost</th>\n",
       "      <th>basis</th>\n",
       "    </tr>\n",
       "  </thead>\n",
       "  <tbody>\n",
       "    <tr>\n",
       "      <th>121</th>\n",
       "      <td>BoxUsage</td>\n",
       "      <td></td>\n",
       "      <td>t2.small</td>\n",
       "      <td>$5.7</td>\n",
       "      <td>245.74613211206898 instance hour at $0.02 ea.</td>\n",
       "    </tr>\n",
       "    <tr>\n",
       "      <th>472</th>\n",
       "      <td>DataTransfer</td>\n",
       "      <td></td>\n",
       "      <td>Regional-Bytes</td>\n",
       "      <td>$0.01</td>\n",
       "      <td>1.2131201 gb - regional data transfer at $0.01 ea.</td>\n",
       "    </tr>\n",
       "    <tr>\n",
       "      <th>134</th>\n",
       "      <td>EBS</td>\n",
       "      <td>/dev/sdb</td>\n",
       "      <td>SnapshotUsage</td>\n",
       "      <td>$5.03</td>\n",
       "      <td>100.69284902 gb-month at $0.05 ea.</td>\n",
       "    </tr>\n",
       "    <tr>\n",
       "      <th>473</th>\n",
       "      <td>EBS</td>\n",
       "      <td>/dev/sdb</td>\n",
       "      <td>VolumeIOUsage</td>\n",
       "      <td>$0.01</td>\n",
       "      <td>0.233585 million i/o requests at $0.05 ea.</td>\n",
       "    </tr>\n",
       "    <tr>\n",
       "      <th>136</th>\n",
       "      <td>EBS</td>\n",
       "      <td>/dev/sdb</td>\n",
       "      <td>VolumeUsage</td>\n",
       "      <td>$5.0</td>\n",
       "      <td>99.99999935999999 gb-month at $0.05 ea.</td>\n",
       "    </tr>\n",
       "    <tr>\n",
       "      <th>239</th>\n",
       "      <td>EBS</td>\n",
       "      <td>/dev/xvda</td>\n",
       "      <td>SnapshotUsage</td>\n",
       "      <td>$0.8</td>\n",
       "      <td>15.950444259999998 gb-month at $0.05 ea.</td>\n",
       "    </tr>\n",
       "    <tr>\n",
       "      <th>432</th>\n",
       "      <td>EBS</td>\n",
       "      <td>/dev/xvda</td>\n",
       "      <td>VolumeIOUsage</td>\n",
       "      <td>$0.05</td>\n",
       "      <td>1.017841 million i/o requests at $0.05 ea.</td>\n",
       "    </tr>\n",
       "    <tr>\n",
       "      <th>281</th>\n",
       "      <td>EBS</td>\n",
       "      <td>/dev/xvda</td>\n",
       "      <td>VolumeUsage</td>\n",
       "      <td>$0.6</td>\n",
       "      <td>11.99999952 gb-month at $0.05 ea.</td>\n",
       "    </tr>\n",
       "    <tr>\n",
       "      <th>369</th>\n",
       "      <td>EBS</td>\n",
       "      <td>swap</td>\n",
       "      <td>VolumeUsage</td>\n",
       "      <td>$0.1</td>\n",
       "      <td>2.00000016 gb-month at $0.05 ea.</td>\n",
       "    </tr>\n",
       "  </tbody>\n",
       "</table>\n",
       "</div>"
      ],
      "text/latex": [
       "\\begin{tabular}{llllll}\n",
       "\\toprule\n",
       "{} &   aws\\_service &     device &      usage\\_type &   cost &                                               basis \\\\\n",
       "\\midrule\n",
       "121 &      BoxUsage &            &        t2.small &   \\$5.7 &       245.74613211206898 instance hour at \\$0.02 ea. \\\\\n",
       "472 &  DataTransfer &            &  Regional-Bytes &  \\$0.01 &  1.2131201 gb - regional data transfer at \\$0.01 ea. \\\\\n",
       "134 &           EBS &   /dev/sdb &   SnapshotUsage &  \\$5.03 &                  100.69284902 gb-month at \\$0.05 ea. \\\\\n",
       "473 &           EBS &   /dev/sdb &   VolumeIOUsage &  \\$0.01 &          0.233585 million i/o requests at \\$0.05 ea. \\\\\n",
       "136 &           EBS &   /dev/sdb &     VolumeUsage &   \\$5.0 &             99.99999935999999 gb-month at \\$0.05 ea. \\\\\n",
       "239 &           EBS &  /dev/xvda &   SnapshotUsage &   \\$0.8 &            15.950444259999998 gb-month at \\$0.05 ea. \\\\\n",
       "432 &           EBS &  /dev/xvda &   VolumeIOUsage &  \\$0.05 &          1.017841 million i/o requests at \\$0.05 ea. \\\\\n",
       "281 &           EBS &  /dev/xvda &     VolumeUsage &   \\$0.6 &                   11.99999952 gb-month at \\$0.05 ea. \\\\\n",
       "369 &           EBS &       swap &     VolumeUsage &   \\$0.1 &                    2.00000016 gb-month at \\$0.05 ea. \\\\\n",
       "\\bottomrule\n",
       "\\end{tabular}\n"
      ],
      "text/plain": [
       "      aws_service     device      usage_type   cost  \\\n",
       "121      BoxUsage                   t2.small   $5.7   \n",
       "472  DataTransfer             Regional-Bytes  $0.01   \n",
       "134           EBS   /dev/sdb   SnapshotUsage  $5.03   \n",
       "473           EBS   /dev/sdb   VolumeIOUsage  $0.01   \n",
       "136           EBS   /dev/sdb     VolumeUsage   $5.0   \n",
       "239           EBS  /dev/xvda   SnapshotUsage   $0.8   \n",
       "432           EBS  /dev/xvda   VolumeIOUsage  $0.05   \n",
       "281           EBS  /dev/xvda     VolumeUsage   $0.6   \n",
       "369           EBS       swap     VolumeUsage   $0.1   \n",
       "\n",
       "                                                  basis  \n",
       "121       245.74613211206898 instance hour at $0.02 ea.  \n",
       "472  1.2131201 gb - regional data transfer at $0.01 ea.  \n",
       "134                  100.69284902 gb-month at $0.05 ea.  \n",
       "473          0.233585 million i/o requests at $0.05 ea.  \n",
       "136             99.99999935999999 gb-month at $0.05 ea.  \n",
       "239            15.950444259999998 gb-month at $0.05 ea.  \n",
       "432          1.017841 million i/o requests at $0.05 ea.  \n",
       "281                   11.99999952 gb-month at $0.05 ea.  \n",
       "369                    2.00000016 gb-month at $0.05 ea.  "
      ]
     },
     "metadata": {},
     "output_type": "display_data"
    },
    {
     "data": {
      "text/markdown": [
       "## replic"
      ],
      "text/plain": [
       "<IPython.core.display.Markdown object>"
      ]
     },
     "metadata": {},
     "output_type": "display_data"
    },
    {
     "data": {
      "text/markdown": [
       "##### Total cost: $1010.92"
      ],
      "text/plain": [
       "<IPython.core.display.Markdown object>"
      ]
     },
     "metadata": {},
     "output_type": "display_data"
    },
    {
     "data": {
      "text/markdown": [
       "### "
      ],
      "text/plain": [
       "<IPython.core.display.Markdown object>"
      ]
     },
     "metadata": {},
     "output_type": "display_data"
    },
    {
     "data": {
      "text/markdown": [
       "##### Total cost for replic : $0.0"
      ],
      "text/plain": [
       "<IPython.core.display.Markdown object>"
      ]
     },
     "metadata": {},
     "output_type": "display_data"
    },
    {
     "data": {
      "text/markdown": [
       "### dev"
      ],
      "text/plain": [
       "<IPython.core.display.Markdown object>"
      ]
     },
     "metadata": {},
     "output_type": "display_data"
    },
    {
     "data": {
      "text/markdown": [
       "##### Total cost for replic dev: $210.73"
      ],
      "text/plain": [
       "<IPython.core.display.Markdown object>"
      ]
     },
     "metadata": {},
     "output_type": "display_data"
    },
    {
     "data": {
      "text/markdown": [
       "#### uc3-mrtreplic1-dev"
      ],
      "text/plain": [
       "<IPython.core.display.Markdown object>"
      ]
     },
     "metadata": {},
     "output_type": "display_data"
    },
    {
     "data": {
      "text/markdown": [
       "#### Total cost for uc3-mrtreplic1-dev: $55.59"
      ],
      "text/plain": [
       "<IPython.core.display.Markdown object>"
      ]
     },
     "metadata": {},
     "output_type": "display_data"
    },
    {
     "data": {
      "text/html": [
       "<div>\n",
       "<style scoped>\n",
       "    .dataframe tbody tr th:only-of-type {\n",
       "        vertical-align: middle;\n",
       "    }\n",
       "\n",
       "    .dataframe tbody tr th {\n",
       "        vertical-align: top;\n",
       "    }\n",
       "\n",
       "    .dataframe thead th {\n",
       "        text-align: right;\n",
       "    }\n",
       "</style>\n",
       "<table border=\"1\" class=\"dataframe\">\n",
       "  <thead>\n",
       "    <tr style=\"text-align: right;\">\n",
       "      <th></th>\n",
       "      <th>aws_service</th>\n",
       "      <th>device</th>\n",
       "      <th>usage_type</th>\n",
       "      <th>cost</th>\n",
       "      <th>basis</th>\n",
       "    </tr>\n",
       "  </thead>\n",
       "  <tbody>\n",
       "    <tr>\n",
       "      <th>111</th>\n",
       "      <td>BoxUsage</td>\n",
       "      <td></td>\n",
       "      <td>t2.small</td>\n",
       "      <td>$5.7</td>\n",
       "      <td>245.7720190086207 instance hour at $0.02 ea.</td>\n",
       "    </tr>\n",
       "    <tr>\n",
       "      <th>325</th>\n",
       "      <td>EBS</td>\n",
       "      <td>/dev/sdb</td>\n",
       "      <td>SnapshotUsage</td>\n",
       "      <td>$0.25</td>\n",
       "      <td>5.0949889 gb-month at $0.05 ea.</td>\n",
       "    </tr>\n",
       "    <tr>\n",
       "      <th>76</th>\n",
       "      <td>EBS</td>\n",
       "      <td>/dev/sdb</td>\n",
       "      <td>VolumeUsage</td>\n",
       "      <td>$13.25</td>\n",
       "      <td>265.0000004 gb-month at $0.05 ea.</td>\n",
       "    </tr>\n",
       "    <tr>\n",
       "      <th>238</th>\n",
       "      <td>EBS</td>\n",
       "      <td>/dev/xvda</td>\n",
       "      <td>SnapshotUsage</td>\n",
       "      <td>$0.8</td>\n",
       "      <td>16.038193879999998 gb-month at $0.05 ea.</td>\n",
       "    </tr>\n",
       "    <tr>\n",
       "      <th>420</th>\n",
       "      <td>EBS</td>\n",
       "      <td>/dev/xvda</td>\n",
       "      <td>VolumeIOUsage</td>\n",
       "      <td>$0.06</td>\n",
       "      <td>1.222202 million i/o requests at $0.05 ea.</td>\n",
       "    </tr>\n",
       "    <tr>\n",
       "      <th>282</th>\n",
       "      <td>EBS</td>\n",
       "      <td>/dev/xvda</td>\n",
       "      <td>VolumeUsage</td>\n",
       "      <td>$0.6</td>\n",
       "      <td>11.99999952 gb-month at $0.05 ea.</td>\n",
       "    </tr>\n",
       "    <tr>\n",
       "      <th>95</th>\n",
       "      <td>EBS</td>\n",
       "      <td>/dev/xvdf</td>\n",
       "      <td>SnapshotUsage</td>\n",
       "      <td>$8.07</td>\n",
       "      <td>161.43055886 gb-month at $0.05 ea.</td>\n",
       "    </tr>\n",
       "    <tr>\n",
       "      <th>59</th>\n",
       "      <td>EBS</td>\n",
       "      <td>/dev/xvdf</td>\n",
       "      <td>VolumeUsage</td>\n",
       "      <td>$26.75</td>\n",
       "      <td>535.0000004 gb-month at $0.05 ea.</td>\n",
       "    </tr>\n",
       "    <tr>\n",
       "      <th>370</th>\n",
       "      <td>EBS</td>\n",
       "      <td>swap</td>\n",
       "      <td>VolumeUsage</td>\n",
       "      <td>$0.1</td>\n",
       "      <td>2.00000016 gb-month at $0.05 ea.</td>\n",
       "    </tr>\n",
       "  </tbody>\n",
       "</table>\n",
       "</div>"
      ],
      "text/latex": [
       "\\begin{tabular}{llllll}\n",
       "\\toprule\n",
       "{} & aws\\_service &     device &     usage\\_type &    cost &                                         basis \\\\\n",
       "\\midrule\n",
       "111 &    BoxUsage &            &       t2.small &    \\$5.7 &  245.7720190086207 instance hour at \\$0.02 ea. \\\\\n",
       "325 &         EBS &   /dev/sdb &  SnapshotUsage &   \\$0.25 &               5.0949889 gb-month at \\$0.05 ea. \\\\\n",
       "76  &         EBS &   /dev/sdb &    VolumeUsage &  \\$13.25 &             265.0000004 gb-month at \\$0.05 ea. \\\\\n",
       "238 &         EBS &  /dev/xvda &  SnapshotUsage &    \\$0.8 &      16.038193879999998 gb-month at \\$0.05 ea. \\\\\n",
       "420 &         EBS &  /dev/xvda &  VolumeIOUsage &   \\$0.06 &    1.222202 million i/o requests at \\$0.05 ea. \\\\\n",
       "282 &         EBS &  /dev/xvda &    VolumeUsage &    \\$0.6 &             11.99999952 gb-month at \\$0.05 ea. \\\\\n",
       "95  &         EBS &  /dev/xvdf &  SnapshotUsage &   \\$8.07 &            161.43055886 gb-month at \\$0.05 ea. \\\\\n",
       "59  &         EBS &  /dev/xvdf &    VolumeUsage &  \\$26.75 &             535.0000004 gb-month at \\$0.05 ea. \\\\\n",
       "370 &         EBS &       swap &    VolumeUsage &    \\$0.1 &              2.00000016 gb-month at \\$0.05 ea. \\\\\n",
       "\\bottomrule\n",
       "\\end{tabular}\n"
      ],
      "text/plain": [
       "    aws_service     device     usage_type    cost  \\\n",
       "111    BoxUsage                  t2.small    $5.7   \n",
       "325         EBS   /dev/sdb  SnapshotUsage   $0.25   \n",
       "76          EBS   /dev/sdb    VolumeUsage  $13.25   \n",
       "238         EBS  /dev/xvda  SnapshotUsage    $0.8   \n",
       "420         EBS  /dev/xvda  VolumeIOUsage   $0.06   \n",
       "282         EBS  /dev/xvda    VolumeUsage    $0.6   \n",
       "95          EBS  /dev/xvdf  SnapshotUsage   $8.07   \n",
       "59          EBS  /dev/xvdf    VolumeUsage  $26.75   \n",
       "370         EBS       swap    VolumeUsage    $0.1   \n",
       "\n",
       "                                            basis  \n",
       "111  245.7720190086207 instance hour at $0.02 ea.  \n",
       "325               5.0949889 gb-month at $0.05 ea.  \n",
       "76              265.0000004 gb-month at $0.05 ea.  \n",
       "238      16.038193879999998 gb-month at $0.05 ea.  \n",
       "420    1.222202 million i/o requests at $0.05 ea.  \n",
       "282             11.99999952 gb-month at $0.05 ea.  \n",
       "95             161.43055886 gb-month at $0.05 ea.  \n",
       "59              535.0000004 gb-month at $0.05 ea.  \n",
       "370              2.00000016 gb-month at $0.05 ea.  "
      ]
     },
     "metadata": {},
     "output_type": "display_data"
    },
    {
     "data": {
      "text/markdown": [
       "#### uc3-mrtreplic2-dev"
      ],
      "text/plain": [
       "<IPython.core.display.Markdown object>"
      ]
     },
     "metadata": {},
     "output_type": "display_data"
    },
    {
     "data": {
      "text/markdown": [
       "#### Total cost for uc3-mrtreplic2-dev: $155.13"
      ],
      "text/plain": [
       "<IPython.core.display.Markdown object>"
      ]
     },
     "metadata": {},
     "output_type": "display_data"
    },
    {
     "data": {
      "text/html": [
       "<div>\n",
       "<style scoped>\n",
       "    .dataframe tbody tr th:only-of-type {\n",
       "        vertical-align: middle;\n",
       "    }\n",
       "\n",
       "    .dataframe tbody tr th {\n",
       "        vertical-align: top;\n",
       "    }\n",
       "\n",
       "    .dataframe thead th {\n",
       "        text-align: right;\n",
       "    }\n",
       "</style>\n",
       "<table border=\"1\" class=\"dataframe\">\n",
       "  <thead>\n",
       "    <tr style=\"text-align: right;\">\n",
       "      <th></th>\n",
       "      <th>aws_service</th>\n",
       "      <th>device</th>\n",
       "      <th>usage_type</th>\n",
       "      <th>cost</th>\n",
       "      <th>basis</th>\n",
       "    </tr>\n",
       "  </thead>\n",
       "  <tbody>\n",
       "    <tr>\n",
       "      <th>35</th>\n",
       "      <td>BoxUsage</td>\n",
       "      <td></td>\n",
       "      <td>c4.large</td>\n",
       "      <td>$72.0</td>\n",
       "      <td>720.0 instance hour at $0.1 ea.</td>\n",
       "    </tr>\n",
       "    <tr>\n",
       "      <th>321</th>\n",
       "      <td>DataTransfer</td>\n",
       "      <td></td>\n",
       "      <td>Out-Bytes</td>\n",
       "      <td>$0.29</td>\n",
       "      <td>3.200827888888889 gb - first 10 tb / month data transfer at $0.09 ea.</td>\n",
       "    </tr>\n",
       "    <tr>\n",
       "      <th>463</th>\n",
       "      <td>DataTransfer</td>\n",
       "      <td></td>\n",
       "      <td>Regional-Bytes</td>\n",
       "      <td>$0.02</td>\n",
       "      <td>1.60111 gb - regional data transfer at $0.01 ea.</td>\n",
       "    </tr>\n",
       "    <tr>\n",
       "      <th>64</th>\n",
       "      <td>EBS</td>\n",
       "      <td>/dev/sdc</td>\n",
       "      <td>SnapshotUsage</td>\n",
       "      <td>$17.18</td>\n",
       "      <td>343.6342476 gb-month at $0.05 ea.</td>\n",
       "    </tr>\n",
       "    <tr>\n",
       "      <th>438</th>\n",
       "      <td>EBS</td>\n",
       "      <td>/dev/sdc</td>\n",
       "      <td>VolumeIOUsage</td>\n",
       "      <td>$0.05</td>\n",
       "      <td>0.929751 million i/o requests at $0.05 ea.</td>\n",
       "    </tr>\n",
       "    <tr>\n",
       "      <th>78</th>\n",
       "      <td>EBS</td>\n",
       "      <td>/dev/sdc</td>\n",
       "      <td>VolumeUsage</td>\n",
       "      <td>$12.5</td>\n",
       "      <td>249.99999979999998 gb-month at $0.05 ea.</td>\n",
       "    </tr>\n",
       "    <tr>\n",
       "      <th>61</th>\n",
       "      <td>EBS</td>\n",
       "      <td>/dev/sdd</td>\n",
       "      <td>SnapshotUsage</td>\n",
       "      <td>$25.64</td>\n",
       "      <td>512.728497 gb-month at $0.05 ea.</td>\n",
       "    </tr>\n",
       "    <tr>\n",
       "      <th>62</th>\n",
       "      <td>EBS</td>\n",
       "      <td>/dev/sdd</td>\n",
       "      <td>VolumeUsage</td>\n",
       "      <td>$25.0</td>\n",
       "      <td>499.99999959999997 gb-month at $0.05 ea.</td>\n",
       "    </tr>\n",
       "    <tr>\n",
       "      <th>180</th>\n",
       "      <td>EBS</td>\n",
       "      <td>/dev/xvda</td>\n",
       "      <td>SnapshotUsage</td>\n",
       "      <td>$1.67</td>\n",
       "      <td>33.3273649 gb-month at $0.05 ea.</td>\n",
       "    </tr>\n",
       "    <tr>\n",
       "      <th>393</th>\n",
       "      <td>EBS</td>\n",
       "      <td>/dev/xvda</td>\n",
       "      <td>VolumeIOUsage</td>\n",
       "      <td>$0.1</td>\n",
       "      <td>1.9956579999999997 million i/o requests at $0.05 ea.</td>\n",
       "    </tr>\n",
       "    <tr>\n",
       "      <th>284</th>\n",
       "      <td>EBS</td>\n",
       "      <td>/dev/xvda</td>\n",
       "      <td>VolumeUsage</td>\n",
       "      <td>$0.6</td>\n",
       "      <td>11.99999952 gb-month at $0.05 ea.</td>\n",
       "    </tr>\n",
       "    <tr>\n",
       "      <th>372</th>\n",
       "      <td>EBS</td>\n",
       "      <td>swap</td>\n",
       "      <td>VolumeUsage</td>\n",
       "      <td>$0.1</td>\n",
       "      <td>2.00000016 gb-month at $0.05 ea.</td>\n",
       "    </tr>\n",
       "  </tbody>\n",
       "</table>\n",
       "</div>"
      ],
      "text/latex": [
       "\\begin{tabular}{llllll}\n",
       "\\toprule\n",
       "{} &   aws\\_service &     device &      usage\\_type &    cost &                                                                  basis \\\\\n",
       "\\midrule\n",
       "35  &      BoxUsage &            &        c4.large &   \\$72.0 &                                        720.0 instance hour at \\$0.1 ea. \\\\\n",
       "321 &  DataTransfer &            &       Out-Bytes &   \\$0.29 &  3.200827888888889 gb - first 10 tb / month data transfer at \\$0.09 ea. \\\\\n",
       "463 &  DataTransfer &            &  Regional-Bytes &   \\$0.02 &                       1.60111 gb - regional data transfer at \\$0.01 ea. \\\\\n",
       "64  &           EBS &   /dev/sdc &   SnapshotUsage &  \\$17.18 &                                      343.6342476 gb-month at \\$0.05 ea. \\\\\n",
       "438 &           EBS &   /dev/sdc &   VolumeIOUsage &   \\$0.05 &                             0.929751 million i/o requests at \\$0.05 ea. \\\\\n",
       "78  &           EBS &   /dev/sdc &     VolumeUsage &   \\$12.5 &                               249.99999979999998 gb-month at \\$0.05 ea. \\\\\n",
       "61  &           EBS &   /dev/sdd &   SnapshotUsage &  \\$25.64 &                                       512.728497 gb-month at \\$0.05 ea. \\\\\n",
       "62  &           EBS &   /dev/sdd &     VolumeUsage &   \\$25.0 &                               499.99999959999997 gb-month at \\$0.05 ea. \\\\\n",
       "180 &           EBS &  /dev/xvda &   SnapshotUsage &   \\$1.67 &                                       33.3273649 gb-month at \\$0.05 ea. \\\\\n",
       "393 &           EBS &  /dev/xvda &   VolumeIOUsage &    \\$0.1 &                   1.9956579999999997 million i/o requests at \\$0.05 ea. \\\\\n",
       "284 &           EBS &  /dev/xvda &     VolumeUsage &    \\$0.6 &                                      11.99999952 gb-month at \\$0.05 ea. \\\\\n",
       "372 &           EBS &       swap &     VolumeUsage &    \\$0.1 &                                       2.00000016 gb-month at \\$0.05 ea. \\\\\n",
       "\\bottomrule\n",
       "\\end{tabular}\n"
      ],
      "text/plain": [
       "      aws_service     device      usage_type    cost  \\\n",
       "35       BoxUsage                   c4.large   $72.0   \n",
       "321  DataTransfer                  Out-Bytes   $0.29   \n",
       "463  DataTransfer             Regional-Bytes   $0.02   \n",
       "64            EBS   /dev/sdc   SnapshotUsage  $17.18   \n",
       "438           EBS   /dev/sdc   VolumeIOUsage   $0.05   \n",
       "78            EBS   /dev/sdc     VolumeUsage   $12.5   \n",
       "61            EBS   /dev/sdd   SnapshotUsage  $25.64   \n",
       "62            EBS   /dev/sdd     VolumeUsage   $25.0   \n",
       "180           EBS  /dev/xvda   SnapshotUsage   $1.67   \n",
       "393           EBS  /dev/xvda   VolumeIOUsage    $0.1   \n",
       "284           EBS  /dev/xvda     VolumeUsage    $0.6   \n",
       "372           EBS       swap     VolumeUsage    $0.1   \n",
       "\n",
       "                                                                     basis  \n",
       "35                                         720.0 instance hour at $0.1 ea.  \n",
       "321  3.200827888888889 gb - first 10 tb / month data transfer at $0.09 ea.  \n",
       "463                       1.60111 gb - regional data transfer at $0.01 ea.  \n",
       "64                                       343.6342476 gb-month at $0.05 ea.  \n",
       "438                             0.929751 million i/o requests at $0.05 ea.  \n",
       "78                                249.99999979999998 gb-month at $0.05 ea.  \n",
       "61                                        512.728497 gb-month at $0.05 ea.  \n",
       "62                                499.99999959999997 gb-month at $0.05 ea.  \n",
       "180                                       33.3273649 gb-month at $0.05 ea.  \n",
       "393                   1.9956579999999997 million i/o requests at $0.05 ea.  \n",
       "284                                      11.99999952 gb-month at $0.05 ea.  \n",
       "372                                       2.00000016 gb-month at $0.05 ea.  "
      ]
     },
     "metadata": {},
     "output_type": "display_data"
    },
    {
     "data": {
      "text/markdown": [
       "### prd"
      ],
      "text/plain": [
       "<IPython.core.display.Markdown object>"
      ]
     },
     "metadata": {},
     "output_type": "display_data"
    },
    {
     "data": {
      "text/markdown": [
       "##### Total cost for replic prd: $759.46"
      ],
      "text/plain": [
       "<IPython.core.display.Markdown object>"
      ]
     },
     "metadata": {},
     "output_type": "display_data"
    },
    {
     "data": {
      "text/markdown": [
       "#### uc3-mrtreplic1-prd"
      ],
      "text/plain": [
       "<IPython.core.display.Markdown object>"
      ]
     },
     "metadata": {},
     "output_type": "display_data"
    },
    {
     "data": {
      "text/markdown": [
       "#### Total cost for uc3-mrtreplic1-prd: $405.03"
      ],
      "text/plain": [
       "<IPython.core.display.Markdown object>"
      ]
     },
     "metadata": {},
     "output_type": "display_data"
    },
    {
     "data": {
      "text/html": [
       "<div>\n",
       "<style scoped>\n",
       "    .dataframe tbody tr th:only-of-type {\n",
       "        vertical-align: middle;\n",
       "    }\n",
       "\n",
       "    .dataframe tbody tr th {\n",
       "        vertical-align: top;\n",
       "    }\n",
       "\n",
       "    .dataframe thead th {\n",
       "        text-align: right;\n",
       "    }\n",
       "</style>\n",
       "<table border=\"1\" class=\"dataframe\">\n",
       "  <thead>\n",
       "    <tr style=\"text-align: right;\">\n",
       "      <th></th>\n",
       "      <th>aws_service</th>\n",
       "      <th>device</th>\n",
       "      <th>usage_type</th>\n",
       "      <th>cost</th>\n",
       "      <th>basis</th>\n",
       "    </tr>\n",
       "  </thead>\n",
       "  <tbody>\n",
       "    <tr>\n",
       "      <th>3</th>\n",
       "      <td>BoxUsage</td>\n",
       "      <td></td>\n",
       "      <td>c4.xlarge</td>\n",
       "      <td>$143.28</td>\n",
       "      <td>720.0 instance hour at $0.2 ea.</td>\n",
       "    </tr>\n",
       "    <tr>\n",
       "      <th>152</th>\n",
       "      <td>DataTransfer</td>\n",
       "      <td></td>\n",
       "      <td>Out-Bytes</td>\n",
       "      <td>$3.11</td>\n",
       "      <td>34.58402124444444 gb - first 10 tb / month data transfer at $0.09 ea.</td>\n",
       "    </tr>\n",
       "    <tr>\n",
       "      <th>460</th>\n",
       "      <td>DataTransfer</td>\n",
       "      <td></td>\n",
       "      <td>Regional-Bytes</td>\n",
       "      <td>$0.02</td>\n",
       "      <td>1.9353528999999998 gb - regional data transfer at $0.01 ea.</td>\n",
       "    </tr>\n",
       "    <tr>\n",
       "      <th>44</th>\n",
       "      <td>EBS</td>\n",
       "      <td></td>\n",
       "      <td>SnapshotUsage</td>\n",
       "      <td>$51.39</td>\n",
       "      <td>934.4268945454546 gb-month at $0.06 ea.</td>\n",
       "    </tr>\n",
       "    <tr>\n",
       "      <th>30</th>\n",
       "      <td>EBS</td>\n",
       "      <td>/dev/sdb</td>\n",
       "      <td>SnapshotUsage</td>\n",
       "      <td>$86.72</td>\n",
       "      <td>1734.3374832 gb-month at $0.05 ea.</td>\n",
       "    </tr>\n",
       "    <tr>\n",
       "      <th>16</th>\n",
       "      <td>EBS</td>\n",
       "      <td>/dev/sdb</td>\n",
       "      <td>VolumeUsage.gp2</td>\n",
       "      <td>$106.0</td>\n",
       "      <td>1060.0 gb-month at $0.1 ea.</td>\n",
       "    </tr>\n",
       "    <tr>\n",
       "      <th>328</th>\n",
       "      <td>EBS</td>\n",
       "      <td>/dev/sdc</td>\n",
       "      <td>SnapshotUsage</td>\n",
       "      <td>$0.2</td>\n",
       "      <td>3.97163762 gb-month at $0.05 ea.</td>\n",
       "    </tr>\n",
       "    <tr>\n",
       "      <th>77</th>\n",
       "      <td>EBS</td>\n",
       "      <td>/dev/sdc</td>\n",
       "      <td>VolumeUsage</td>\n",
       "      <td>$12.5</td>\n",
       "      <td>249.99999979999998 gb-month at $0.05 ea.</td>\n",
       "    </tr>\n",
       "    <tr>\n",
       "      <th>209</th>\n",
       "      <td>EBS</td>\n",
       "      <td>/dev/xvda</td>\n",
       "      <td>SnapshotUsage</td>\n",
       "      <td>$1.05</td>\n",
       "      <td>20.90258094 gb-month at $0.05 ea.</td>\n",
       "    </tr>\n",
       "    <tr>\n",
       "      <th>410</th>\n",
       "      <td>EBS</td>\n",
       "      <td>/dev/xvda</td>\n",
       "      <td>VolumeIOUsage</td>\n",
       "      <td>$0.07</td>\n",
       "      <td>1.3454369999999998 million i/o requests at $0.05 ea.</td>\n",
       "    </tr>\n",
       "    <tr>\n",
       "      <th>283</th>\n",
       "      <td>EBS</td>\n",
       "      <td>/dev/xvda</td>\n",
       "      <td>VolumeUsage</td>\n",
       "      <td>$0.6</td>\n",
       "      <td>11.99999952 gb-month at $0.05 ea.</td>\n",
       "    </tr>\n",
       "    <tr>\n",
       "      <th>371</th>\n",
       "      <td>EBS</td>\n",
       "      <td>swap</td>\n",
       "      <td>VolumeUsage</td>\n",
       "      <td>$0.1</td>\n",
       "      <td>2.00000016 gb-month at $0.05 ea.</td>\n",
       "    </tr>\n",
       "  </tbody>\n",
       "</table>\n",
       "</div>"
      ],
      "text/latex": [
       "\\begin{tabular}{llllll}\n",
       "\\toprule\n",
       "{} &   aws\\_service &     device &       usage\\_type &     cost &                                                                  basis \\\\\n",
       "\\midrule\n",
       "3   &      BoxUsage &            &        c4.xlarge &  \\$143.28 &                                        720.0 instance hour at \\$0.2 ea. \\\\\n",
       "152 &  DataTransfer &            &        Out-Bytes &    \\$3.11 &  34.58402124444444 gb - first 10 tb / month data transfer at \\$0.09 ea. \\\\\n",
       "460 &  DataTransfer &            &   Regional-Bytes &    \\$0.02 &            1.9353528999999998 gb - regional data transfer at \\$0.01 ea. \\\\\n",
       "44  &           EBS &            &    SnapshotUsage &   \\$51.39 &                                934.4268945454546 gb-month at \\$0.06 ea. \\\\\n",
       "30  &           EBS &   /dev/sdb &    SnapshotUsage &   \\$86.72 &                                     1734.3374832 gb-month at \\$0.05 ea. \\\\\n",
       "16  &           EBS &   /dev/sdb &  VolumeUsage.gp2 &   \\$106.0 &                                            1060.0 gb-month at \\$0.1 ea. \\\\\n",
       "328 &           EBS &   /dev/sdc &    SnapshotUsage &     \\$0.2 &                                       3.97163762 gb-month at \\$0.05 ea. \\\\\n",
       "77  &           EBS &   /dev/sdc &      VolumeUsage &    \\$12.5 &                               249.99999979999998 gb-month at \\$0.05 ea. \\\\\n",
       "209 &           EBS &  /dev/xvda &    SnapshotUsage &    \\$1.05 &                                      20.90258094 gb-month at \\$0.05 ea. \\\\\n",
       "410 &           EBS &  /dev/xvda &    VolumeIOUsage &    \\$0.07 &                   1.3454369999999998 million i/o requests at \\$0.05 ea. \\\\\n",
       "283 &           EBS &  /dev/xvda &      VolumeUsage &     \\$0.6 &                                      11.99999952 gb-month at \\$0.05 ea. \\\\\n",
       "371 &           EBS &       swap &      VolumeUsage &     \\$0.1 &                                       2.00000016 gb-month at \\$0.05 ea. \\\\\n",
       "\\bottomrule\n",
       "\\end{tabular}\n"
      ],
      "text/plain": [
       "      aws_service     device       usage_type     cost  \\\n",
       "3        BoxUsage                   c4.xlarge  $143.28   \n",
       "152  DataTransfer                   Out-Bytes    $3.11   \n",
       "460  DataTransfer              Regional-Bytes    $0.02   \n",
       "44            EBS               SnapshotUsage   $51.39   \n",
       "30            EBS   /dev/sdb    SnapshotUsage   $86.72   \n",
       "16            EBS   /dev/sdb  VolumeUsage.gp2   $106.0   \n",
       "328           EBS   /dev/sdc    SnapshotUsage     $0.2   \n",
       "77            EBS   /dev/sdc      VolumeUsage    $12.5   \n",
       "209           EBS  /dev/xvda    SnapshotUsage    $1.05   \n",
       "410           EBS  /dev/xvda    VolumeIOUsage    $0.07   \n",
       "283           EBS  /dev/xvda      VolumeUsage     $0.6   \n",
       "371           EBS       swap      VolumeUsage     $0.1   \n",
       "\n",
       "                                                                     basis  \n",
       "3                                          720.0 instance hour at $0.2 ea.  \n",
       "152  34.58402124444444 gb - first 10 tb / month data transfer at $0.09 ea.  \n",
       "460            1.9353528999999998 gb - regional data transfer at $0.01 ea.  \n",
       "44                                 934.4268945454546 gb-month at $0.06 ea.  \n",
       "30                                      1734.3374832 gb-month at $0.05 ea.  \n",
       "16                                             1060.0 gb-month at $0.1 ea.  \n",
       "328                                       3.97163762 gb-month at $0.05 ea.  \n",
       "77                                249.99999979999998 gb-month at $0.05 ea.  \n",
       "209                                      20.90258094 gb-month at $0.05 ea.  \n",
       "410                   1.3454369999999998 million i/o requests at $0.05 ea.  \n",
       "283                                      11.99999952 gb-month at $0.05 ea.  \n",
       "371                                       2.00000016 gb-month at $0.05 ea.  "
      ]
     },
     "metadata": {},
     "output_type": "display_data"
    },
    {
     "data": {
      "text/markdown": [
       "#### uc3-mrtreplic2-prd"
      ],
      "text/plain": [
       "<IPython.core.display.Markdown object>"
      ]
     },
     "metadata": {},
     "output_type": "display_data"
    },
    {
     "data": {
      "text/markdown": [
       "#### Total cost for uc3-mrtreplic2-prd: $354.43"
      ],
      "text/plain": [
       "<IPython.core.display.Markdown object>"
      ]
     },
     "metadata": {},
     "output_type": "display_data"
    },
    {
     "data": {
      "text/html": [
       "<div>\n",
       "<style scoped>\n",
       "    .dataframe tbody tr th:only-of-type {\n",
       "        vertical-align: middle;\n",
       "    }\n",
       "\n",
       "    .dataframe tbody tr th {\n",
       "        vertical-align: top;\n",
       "    }\n",
       "\n",
       "    .dataframe thead th {\n",
       "        text-align: right;\n",
       "    }\n",
       "</style>\n",
       "<table border=\"1\" class=\"dataframe\">\n",
       "  <thead>\n",
       "    <tr style=\"text-align: right;\">\n",
       "      <th></th>\n",
       "      <th>aws_service</th>\n",
       "      <th>device</th>\n",
       "      <th>usage_type</th>\n",
       "      <th>cost</th>\n",
       "      <th>basis</th>\n",
       "    </tr>\n",
       "  </thead>\n",
       "  <tbody>\n",
       "    <tr>\n",
       "      <th>4</th>\n",
       "      <td>BoxUsage</td>\n",
       "      <td></td>\n",
       "      <td>c4.xlarge</td>\n",
       "      <td>$143.28</td>\n",
       "      <td>720.0 instance hour at $0.2 ea.</td>\n",
       "    </tr>\n",
       "    <tr>\n",
       "      <th>151</th>\n",
       "      <td>DataTransfer</td>\n",
       "      <td></td>\n",
       "      <td>Out-Bytes</td>\n",
       "      <td>$3.27</td>\n",
       "      <td>36.30971581111112 gb - first 10 tb / month data transfer at $0.09 ea.</td>\n",
       "    </tr>\n",
       "    <tr>\n",
       "      <th>466</th>\n",
       "      <td>DataTransfer</td>\n",
       "      <td></td>\n",
       "      <td>Regional-Bytes</td>\n",
       "      <td>$0.01</td>\n",
       "      <td>1.4533325 gb - regional data transfer at $0.01 ea.</td>\n",
       "    </tr>\n",
       "    <tr>\n",
       "      <th>63</th>\n",
       "      <td>EBS</td>\n",
       "      <td>/dev/sdb</td>\n",
       "      <td>SnapshotUsage</td>\n",
       "      <td>$19.03</td>\n",
       "      <td>380.69383819999996 gb-month at $0.05 ea.</td>\n",
       "    </tr>\n",
       "    <tr>\n",
       "      <th>79</th>\n",
       "      <td>EBS</td>\n",
       "      <td>/dev/sdb</td>\n",
       "      <td>VolumeUsage</td>\n",
       "      <td>$12.5</td>\n",
       "      <td>249.99999979999998 gb-month at $0.05 ea.</td>\n",
       "    </tr>\n",
       "    <tr>\n",
       "      <th>34</th>\n",
       "      <td>EBS</td>\n",
       "      <td>/dev/sdc</td>\n",
       "      <td>SnapshotUsage</td>\n",
       "      <td>$74.36</td>\n",
       "      <td>1487.182537 gb-month at $0.05 ea.</td>\n",
       "    </tr>\n",
       "    <tr>\n",
       "      <th>26</th>\n",
       "      <td>EBS</td>\n",
       "      <td>/dev/sdc</td>\n",
       "      <td>VolumeUsage.gp2</td>\n",
       "      <td>$100.0</td>\n",
       "      <td>1000.0 gb-month at $0.1 ea.</td>\n",
       "    </tr>\n",
       "    <tr>\n",
       "      <th>187</th>\n",
       "      <td>EBS</td>\n",
       "      <td>/dev/xvda</td>\n",
       "      <td>SnapshotUsage</td>\n",
       "      <td>$1.2</td>\n",
       "      <td>24.095877259999998 gb-month at $0.05 ea.</td>\n",
       "    </tr>\n",
       "    <tr>\n",
       "      <th>413</th>\n",
       "      <td>EBS</td>\n",
       "      <td>/dev/xvda</td>\n",
       "      <td>VolumeIOUsage</td>\n",
       "      <td>$0.07</td>\n",
       "      <td>1.3103319999999998 million i/o requests at $0.05 ea.</td>\n",
       "    </tr>\n",
       "    <tr>\n",
       "      <th>285</th>\n",
       "      <td>EBS</td>\n",
       "      <td>/dev/xvda</td>\n",
       "      <td>VolumeUsage</td>\n",
       "      <td>$0.6</td>\n",
       "      <td>11.99999952 gb-month at $0.05 ea.</td>\n",
       "    </tr>\n",
       "    <tr>\n",
       "      <th>373</th>\n",
       "      <td>EBS</td>\n",
       "      <td>swap</td>\n",
       "      <td>VolumeUsage</td>\n",
       "      <td>$0.1</td>\n",
       "      <td>2.00000016 gb-month at $0.05 ea.</td>\n",
       "    </tr>\n",
       "  </tbody>\n",
       "</table>\n",
       "</div>"
      ],
      "text/latex": [
       "\\begin{tabular}{llllll}\n",
       "\\toprule\n",
       "{} &   aws\\_service &     device &       usage\\_type &     cost &                                                                  basis \\\\\n",
       "\\midrule\n",
       "4   &      BoxUsage &            &        c4.xlarge &  \\$143.28 &                                        720.0 instance hour at \\$0.2 ea. \\\\\n",
       "151 &  DataTransfer &            &        Out-Bytes &    \\$3.27 &  36.30971581111112 gb - first 10 tb / month data transfer at \\$0.09 ea. \\\\\n",
       "466 &  DataTransfer &            &   Regional-Bytes &    \\$0.01 &                     1.4533325 gb - regional data transfer at \\$0.01 ea. \\\\\n",
       "63  &           EBS &   /dev/sdb &    SnapshotUsage &   \\$19.03 &                               380.69383819999996 gb-month at \\$0.05 ea. \\\\\n",
       "79  &           EBS &   /dev/sdb &      VolumeUsage &    \\$12.5 &                               249.99999979999998 gb-month at \\$0.05 ea. \\\\\n",
       "34  &           EBS &   /dev/sdc &    SnapshotUsage &   \\$74.36 &                                      1487.182537 gb-month at \\$0.05 ea. \\\\\n",
       "26  &           EBS &   /dev/sdc &  VolumeUsage.gp2 &   \\$100.0 &                                            1000.0 gb-month at \\$0.1 ea. \\\\\n",
       "187 &           EBS &  /dev/xvda &    SnapshotUsage &     \\$1.2 &                               24.095877259999998 gb-month at \\$0.05 ea. \\\\\n",
       "413 &           EBS &  /dev/xvda &    VolumeIOUsage &    \\$0.07 &                   1.3103319999999998 million i/o requests at \\$0.05 ea. \\\\\n",
       "285 &           EBS &  /dev/xvda &      VolumeUsage &     \\$0.6 &                                      11.99999952 gb-month at \\$0.05 ea. \\\\\n",
       "373 &           EBS &       swap &      VolumeUsage &     \\$0.1 &                                       2.00000016 gb-month at \\$0.05 ea. \\\\\n",
       "\\bottomrule\n",
       "\\end{tabular}\n"
      ],
      "text/plain": [
       "      aws_service     device       usage_type     cost  \\\n",
       "4        BoxUsage                   c4.xlarge  $143.28   \n",
       "151  DataTransfer                   Out-Bytes    $3.27   \n",
       "466  DataTransfer              Regional-Bytes    $0.01   \n",
       "63            EBS   /dev/sdb    SnapshotUsage   $19.03   \n",
       "79            EBS   /dev/sdb      VolumeUsage    $12.5   \n",
       "34            EBS   /dev/sdc    SnapshotUsage   $74.36   \n",
       "26            EBS   /dev/sdc  VolumeUsage.gp2   $100.0   \n",
       "187           EBS  /dev/xvda    SnapshotUsage     $1.2   \n",
       "413           EBS  /dev/xvda    VolumeIOUsage    $0.07   \n",
       "285           EBS  /dev/xvda      VolumeUsage     $0.6   \n",
       "373           EBS       swap      VolumeUsage     $0.1   \n",
       "\n",
       "                                                                     basis  \n",
       "4                                          720.0 instance hour at $0.2 ea.  \n",
       "151  36.30971581111112 gb - first 10 tb / month data transfer at $0.09 ea.  \n",
       "466                     1.4533325 gb - regional data transfer at $0.01 ea.  \n",
       "63                                380.69383819999996 gb-month at $0.05 ea.  \n",
       "79                                249.99999979999998 gb-month at $0.05 ea.  \n",
       "34                                       1487.182537 gb-month at $0.05 ea.  \n",
       "26                                             1000.0 gb-month at $0.1 ea.  \n",
       "187                               24.095877259999998 gb-month at $0.05 ea.  \n",
       "413                   1.3103319999999998 million i/o requests at $0.05 ea.  \n",
       "285                                      11.99999952 gb-month at $0.05 ea.  \n",
       "373                                       2.00000016 gb-month at $0.05 ea.  "
      ]
     },
     "metadata": {},
     "output_type": "display_data"
    },
    {
     "data": {
      "text/markdown": [
       "### stg"
      ],
      "text/plain": [
       "<IPython.core.display.Markdown object>"
      ]
     },
     "metadata": {},
     "output_type": "display_data"
    },
    {
     "data": {
      "text/markdown": [
       "##### Total cost for replic stg: $40.73"
      ],
      "text/plain": [
       "<IPython.core.display.Markdown object>"
      ]
     },
     "metadata": {},
     "output_type": "display_data"
    },
    {
     "data": {
      "text/markdown": [
       "#### uc3-mrtreplic2-stg"
      ],
      "text/plain": [
       "<IPython.core.display.Markdown object>"
      ]
     },
     "metadata": {},
     "output_type": "display_data"
    },
    {
     "data": {
      "text/markdown": [
       "#### Total cost for uc3-mrtreplic2-stg: $40.73"
      ],
      "text/plain": [
       "<IPython.core.display.Markdown object>"
      ]
     },
     "metadata": {},
     "output_type": "display_data"
    },
    {
     "data": {
      "text/html": [
       "<div>\n",
       "<style scoped>\n",
       "    .dataframe tbody tr th:only-of-type {\n",
       "        vertical-align: middle;\n",
       "    }\n",
       "\n",
       "    .dataframe tbody tr th {\n",
       "        vertical-align: top;\n",
       "    }\n",
       "\n",
       "    .dataframe thead th {\n",
       "        text-align: right;\n",
       "    }\n",
       "</style>\n",
       "<table border=\"1\" class=\"dataframe\">\n",
       "  <thead>\n",
       "    <tr style=\"text-align: right;\">\n",
       "      <th></th>\n",
       "      <th>aws_service</th>\n",
       "      <th>device</th>\n",
       "      <th>usage_type</th>\n",
       "      <th>cost</th>\n",
       "      <th>basis</th>\n",
       "    </tr>\n",
       "  </thead>\n",
       "  <tbody>\n",
       "    <tr>\n",
       "      <th>83</th>\n",
       "      <td>BoxUsage</td>\n",
       "      <td></td>\n",
       "      <td>t2.medium</td>\n",
       "      <td>$11.5</td>\n",
       "      <td>247.89333405172414 instance hour at $0.05 ea.</td>\n",
       "    </tr>\n",
       "    <tr>\n",
       "      <th>102</th>\n",
       "      <td>EBS</td>\n",
       "      <td>/dev/sdb</td>\n",
       "      <td>SnapshotUsage</td>\n",
       "      <td>$7.35</td>\n",
       "      <td>147.04163394 gb-month at $0.05 ea.</td>\n",
       "    </tr>\n",
       "    <tr>\n",
       "      <th>101</th>\n",
       "      <td>EBS</td>\n",
       "      <td>/dev/sdb</td>\n",
       "      <td>VolumeUsage</td>\n",
       "      <td>$7.5</td>\n",
       "      <td>150.00000047999998 gb-month at $0.05 ea.</td>\n",
       "    </tr>\n",
       "    <tr>\n",
       "      <th>327</th>\n",
       "      <td>EBS</td>\n",
       "      <td>/dev/sdc</td>\n",
       "      <td>SnapshotUsage</td>\n",
       "      <td>$0.2</td>\n",
       "      <td>3.99596482 gb-month at $0.05 ea.</td>\n",
       "    </tr>\n",
       "    <tr>\n",
       "      <th>80</th>\n",
       "      <td>EBS</td>\n",
       "      <td>/dev/sdc</td>\n",
       "      <td>VolumeUsage</td>\n",
       "      <td>$12.5</td>\n",
       "      <td>249.99999979999998 gb-month at $0.05 ea.</td>\n",
       "    </tr>\n",
       "    <tr>\n",
       "      <th>220</th>\n",
       "      <td>EBS</td>\n",
       "      <td>/dev/xvda</td>\n",
       "      <td>SnapshotUsage</td>\n",
       "      <td>$0.93</td>\n",
       "      <td>18.639586119999997 gb-month at $0.05 ea.</td>\n",
       "    </tr>\n",
       "    <tr>\n",
       "      <th>436</th>\n",
       "      <td>EBS</td>\n",
       "      <td>/dev/xvda</td>\n",
       "      <td>VolumeIOUsage</td>\n",
       "      <td>$0.05</td>\n",
       "      <td>0.95066 million i/o requests at $0.05 ea.</td>\n",
       "    </tr>\n",
       "    <tr>\n",
       "      <th>286</th>\n",
       "      <td>EBS</td>\n",
       "      <td>/dev/xvda</td>\n",
       "      <td>VolumeUsage</td>\n",
       "      <td>$0.6</td>\n",
       "      <td>11.99999952 gb-month at $0.05 ea.</td>\n",
       "    </tr>\n",
       "    <tr>\n",
       "      <th>374</th>\n",
       "      <td>EBS</td>\n",
       "      <td>swap</td>\n",
       "      <td>VolumeUsage</td>\n",
       "      <td>$0.1</td>\n",
       "      <td>2.00000016 gb-month at $0.05 ea.</td>\n",
       "    </tr>\n",
       "  </tbody>\n",
       "</table>\n",
       "</div>"
      ],
      "text/latex": [
       "\\begin{tabular}{llllll}\n",
       "\\toprule\n",
       "{} & aws\\_service &     device &     usage\\_type &   cost &                                          basis \\\\\n",
       "\\midrule\n",
       "83  &    BoxUsage &            &      t2.medium &  \\$11.5 &  247.89333405172414 instance hour at \\$0.05 ea. \\\\\n",
       "102 &         EBS &   /dev/sdb &  SnapshotUsage &  \\$7.35 &             147.04163394 gb-month at \\$0.05 ea. \\\\\n",
       "101 &         EBS &   /dev/sdb &    VolumeUsage &   \\$7.5 &       150.00000047999998 gb-month at \\$0.05 ea. \\\\\n",
       "327 &         EBS &   /dev/sdc &  SnapshotUsage &   \\$0.2 &               3.99596482 gb-month at \\$0.05 ea. \\\\\n",
       "80  &         EBS &   /dev/sdc &    VolumeUsage &  \\$12.5 &       249.99999979999998 gb-month at \\$0.05 ea. \\\\\n",
       "220 &         EBS &  /dev/xvda &  SnapshotUsage &  \\$0.93 &       18.639586119999997 gb-month at \\$0.05 ea. \\\\\n",
       "436 &         EBS &  /dev/xvda &  VolumeIOUsage &  \\$0.05 &      0.95066 million i/o requests at \\$0.05 ea. \\\\\n",
       "286 &         EBS &  /dev/xvda &    VolumeUsage &   \\$0.6 &              11.99999952 gb-month at \\$0.05 ea. \\\\\n",
       "374 &         EBS &       swap &    VolumeUsage &   \\$0.1 &               2.00000016 gb-month at \\$0.05 ea. \\\\\n",
       "\\bottomrule\n",
       "\\end{tabular}\n"
      ],
      "text/plain": [
       "    aws_service     device     usage_type   cost  \\\n",
       "83     BoxUsage                 t2.medium  $11.5   \n",
       "102         EBS   /dev/sdb  SnapshotUsage  $7.35   \n",
       "101         EBS   /dev/sdb    VolumeUsage   $7.5   \n",
       "327         EBS   /dev/sdc  SnapshotUsage   $0.2   \n",
       "80          EBS   /dev/sdc    VolumeUsage  $12.5   \n",
       "220         EBS  /dev/xvda  SnapshotUsage  $0.93   \n",
       "436         EBS  /dev/xvda  VolumeIOUsage  $0.05   \n",
       "286         EBS  /dev/xvda    VolumeUsage   $0.6   \n",
       "374         EBS       swap    VolumeUsage   $0.1   \n",
       "\n",
       "                                             basis  \n",
       "83   247.89333405172414 instance hour at $0.05 ea.  \n",
       "102             147.04163394 gb-month at $0.05 ea.  \n",
       "101       150.00000047999998 gb-month at $0.05 ea.  \n",
       "327               3.99596482 gb-month at $0.05 ea.  \n",
       "80        249.99999979999998 gb-month at $0.05 ea.  \n",
       "220       18.639586119999997 gb-month at $0.05 ea.  \n",
       "436      0.95066 million i/o requests at $0.05 ea.  \n",
       "286              11.99999952 gb-month at $0.05 ea.  \n",
       "374               2.00000016 gb-month at $0.05 ea.  "
      ]
     },
     "metadata": {},
     "output_type": "display_data"
    },
    {
     "data": {
      "text/markdown": [
       "## store"
      ],
      "text/plain": [
       "<IPython.core.display.Markdown object>"
      ]
     },
     "metadata": {},
     "output_type": "display_data"
    },
    {
     "data": {
      "text/markdown": [
       "##### Total cost: $1825.41"
      ],
      "text/plain": [
       "<IPython.core.display.Markdown object>"
      ]
     },
     "metadata": {},
     "output_type": "display_data"
    },
    {
     "data": {
      "text/markdown": [
       "### "
      ],
      "text/plain": [
       "<IPython.core.display.Markdown object>"
      ]
     },
     "metadata": {},
     "output_type": "display_data"
    },
    {
     "data": {
      "text/markdown": [
       "##### Total cost for store : $0.0"
      ],
      "text/plain": [
       "<IPython.core.display.Markdown object>"
      ]
     },
     "metadata": {},
     "output_type": "display_data"
    },
    {
     "data": {
      "text/markdown": [
       "### dev"
      ],
      "text/plain": [
       "<IPython.core.display.Markdown object>"
      ]
     },
     "metadata": {},
     "output_type": "display_data"
    },
    {
     "data": {
      "text/markdown": [
       "##### Total cost for store dev: $214.42"
      ],
      "text/plain": [
       "<IPython.core.display.Markdown object>"
      ]
     },
     "metadata": {},
     "output_type": "display_data"
    },
    {
     "data": {
      "text/markdown": [
       "#### uc3-mrtstore2-dev"
      ],
      "text/plain": [
       "<IPython.core.display.Markdown object>"
      ]
     },
     "metadata": {},
     "output_type": "display_data"
    },
    {
     "data": {
      "text/markdown": [
       "#### Total cost for uc3-mrtstore2-dev: $214.42"
      ],
      "text/plain": [
       "<IPython.core.display.Markdown object>"
      ]
     },
     "metadata": {},
     "output_type": "display_data"
    },
    {
     "data": {
      "text/html": [
       "<div>\n",
       "<style scoped>\n",
       "    .dataframe tbody tr th:only-of-type {\n",
       "        vertical-align: middle;\n",
       "    }\n",
       "\n",
       "    .dataframe tbody tr th {\n",
       "        vertical-align: top;\n",
       "    }\n",
       "\n",
       "    .dataframe thead th {\n",
       "        text-align: right;\n",
       "    }\n",
       "</style>\n",
       "<table border=\"1\" class=\"dataframe\">\n",
       "  <thead>\n",
       "    <tr style=\"text-align: right;\">\n",
       "      <th></th>\n",
       "      <th>aws_service</th>\n",
       "      <th>device</th>\n",
       "      <th>usage_type</th>\n",
       "      <th>cost</th>\n",
       "      <th>basis</th>\n",
       "    </tr>\n",
       "  </thead>\n",
       "  <tbody>\n",
       "    <tr>\n",
       "      <th>46</th>\n",
       "      <td>BoxUsage</td>\n",
       "      <td></td>\n",
       "      <td>c4.xlarge</td>\n",
       "      <td>$49.34</td>\n",
       "      <td>247.92166899497485 instance hour at $0.2 ea.</td>\n",
       "    </tr>\n",
       "    <tr>\n",
       "      <th>241</th>\n",
       "      <td>EBS</td>\n",
       "      <td>/dev/xvda</td>\n",
       "      <td>SnapshotUsage</td>\n",
       "      <td>$0.79</td>\n",
       "      <td>15.88836256 gb-month at $0.05 ea.</td>\n",
       "    </tr>\n",
       "    <tr>\n",
       "      <th>441</th>\n",
       "      <td>EBS</td>\n",
       "      <td>/dev/xvda</td>\n",
       "      <td>VolumeIOUsage</td>\n",
       "      <td>$0.04</td>\n",
       "      <td>0.8161809999999999 million i/o requests at $0.05 ea.</td>\n",
       "    </tr>\n",
       "    <tr>\n",
       "      <th>289</th>\n",
       "      <td>EBS</td>\n",
       "      <td>/dev/xvda</td>\n",
       "      <td>VolumeUsage</td>\n",
       "      <td>$0.6</td>\n",
       "      <td>11.99999952 gb-month at $0.05 ea.</td>\n",
       "    </tr>\n",
       "    <tr>\n",
       "      <th>42</th>\n",
       "      <td>EBS</td>\n",
       "      <td>/dev/xvdb</td>\n",
       "      <td>SnapshotUsage</td>\n",
       "      <td>$53.55</td>\n",
       "      <td>1071.0120089999998 gb-month at $0.05 ea.</td>\n",
       "    </tr>\n",
       "    <tr>\n",
       "      <th>10</th>\n",
       "      <td>EBS</td>\n",
       "      <td>/dev/xvdb</td>\n",
       "      <td>VolumeUsage.gp2</td>\n",
       "      <td>$110.0</td>\n",
       "      <td>1100.0 gb-month at $0.1 ea.</td>\n",
       "    </tr>\n",
       "    <tr>\n",
       "      <th>377</th>\n",
       "      <td>EBS</td>\n",
       "      <td>swap</td>\n",
       "      <td>VolumeUsage</td>\n",
       "      <td>$0.1</td>\n",
       "      <td>2.00000016 gb-month at $0.05 ea.</td>\n",
       "    </tr>\n",
       "  </tbody>\n",
       "</table>\n",
       "</div>"
      ],
      "text/latex": [
       "\\begin{tabular}{llllll}\n",
       "\\toprule\n",
       "{} & aws\\_service &     device &       usage\\_type &    cost &                                                 basis \\\\\n",
       "\\midrule\n",
       "46  &    BoxUsage &            &        c4.xlarge &  \\$49.34 &          247.92166899497485 instance hour at \\$0.2 ea. \\\\\n",
       "241 &         EBS &  /dev/xvda &    SnapshotUsage &   \\$0.79 &                     15.88836256 gb-month at \\$0.05 ea. \\\\\n",
       "441 &         EBS &  /dev/xvda &    VolumeIOUsage &   \\$0.04 &  0.8161809999999999 million i/o requests at \\$0.05 ea. \\\\\n",
       "289 &         EBS &  /dev/xvda &      VolumeUsage &    \\$0.6 &                     11.99999952 gb-month at \\$0.05 ea. \\\\\n",
       "42  &         EBS &  /dev/xvdb &    SnapshotUsage &  \\$53.55 &              1071.0120089999998 gb-month at \\$0.05 ea. \\\\\n",
       "10  &         EBS &  /dev/xvdb &  VolumeUsage.gp2 &  \\$110.0 &                           1100.0 gb-month at \\$0.1 ea. \\\\\n",
       "377 &         EBS &       swap &      VolumeUsage &    \\$0.1 &                      2.00000016 gb-month at \\$0.05 ea. \\\\\n",
       "\\bottomrule\n",
       "\\end{tabular}\n"
      ],
      "text/plain": [
       "    aws_service     device       usage_type    cost  \\\n",
       "46     BoxUsage                   c4.xlarge  $49.34   \n",
       "241         EBS  /dev/xvda    SnapshotUsage   $0.79   \n",
       "441         EBS  /dev/xvda    VolumeIOUsage   $0.04   \n",
       "289         EBS  /dev/xvda      VolumeUsage    $0.6   \n",
       "42          EBS  /dev/xvdb    SnapshotUsage  $53.55   \n",
       "10          EBS  /dev/xvdb  VolumeUsage.gp2  $110.0   \n",
       "377         EBS       swap      VolumeUsage    $0.1   \n",
       "\n",
       "                                                    basis  \n",
       "46           247.92166899497485 instance hour at $0.2 ea.  \n",
       "241                     15.88836256 gb-month at $0.05 ea.  \n",
       "441  0.8161809999999999 million i/o requests at $0.05 ea.  \n",
       "289                     11.99999952 gb-month at $0.05 ea.  \n",
       "42               1071.0120089999998 gb-month at $0.05 ea.  \n",
       "10                            1100.0 gb-month at $0.1 ea.  \n",
       "377                      2.00000016 gb-month at $0.05 ea.  "
      ]
     },
     "metadata": {},
     "output_type": "display_data"
    },
    {
     "data": {
      "text/markdown": [
       "### prd"
      ],
      "text/plain": [
       "<IPython.core.display.Markdown object>"
      ]
     },
     "metadata": {},
     "output_type": "display_data"
    },
    {
     "data": {
      "text/markdown": [
       "##### Total cost for store prd: $1011.13"
      ],
      "text/plain": [
       "<IPython.core.display.Markdown object>"
      ]
     },
     "metadata": {},
     "output_type": "display_data"
    },
    {
     "data": {
      "text/markdown": [
       "#### uc3-mrtstore1-prd"
      ],
      "text/plain": [
       "<IPython.core.display.Markdown object>"
      ]
     },
     "metadata": {},
     "output_type": "display_data"
    },
    {
     "data": {
      "text/markdown": [
       "#### Total cost for uc3-mrtstore1-prd: $498.72"
      ],
      "text/plain": [
       "<IPython.core.display.Markdown object>"
      ]
     },
     "metadata": {},
     "output_type": "display_data"
    },
    {
     "data": {
      "text/html": [
       "<div>\n",
       "<style scoped>\n",
       "    .dataframe tbody tr th:only-of-type {\n",
       "        vertical-align: middle;\n",
       "    }\n",
       "\n",
       "    .dataframe tbody tr th {\n",
       "        vertical-align: top;\n",
       "    }\n",
       "\n",
       "    .dataframe thead th {\n",
       "        text-align: right;\n",
       "    }\n",
       "</style>\n",
       "<table border=\"1\" class=\"dataframe\">\n",
       "  <thead>\n",
       "    <tr style=\"text-align: right;\">\n",
       "      <th></th>\n",
       "      <th>aws_service</th>\n",
       "      <th>device</th>\n",
       "      <th>usage_type</th>\n",
       "      <th>cost</th>\n",
       "      <th>basis</th>\n",
       "    </tr>\n",
       "  </thead>\n",
       "  <tbody>\n",
       "    <tr>\n",
       "      <th>6</th>\n",
       "      <td>BoxUsage</td>\n",
       "      <td></td>\n",
       "      <td>c4.xlarge</td>\n",
       "      <td>$143.28</td>\n",
       "      <td>720.0 instance hour at $0.2 ea.</td>\n",
       "    </tr>\n",
       "    <tr>\n",
       "      <th>186</th>\n",
       "      <td>DataTransfer</td>\n",
       "      <td></td>\n",
       "      <td>Out-Bytes</td>\n",
       "      <td>$1.33</td>\n",
       "      <td>14.830409144444445 gb - first 10 tb / month data transfer at $0.09 ea.</td>\n",
       "    </tr>\n",
       "    <tr>\n",
       "      <th>178</th>\n",
       "      <td>DataTransfer</td>\n",
       "      <td></td>\n",
       "      <td>Regional-Bytes</td>\n",
       "      <td>$1.71</td>\n",
       "      <td>170.8010426 gb - regional data transfer at $0.01 ea.</td>\n",
       "    </tr>\n",
       "    <tr>\n",
       "      <th>40</th>\n",
       "      <td>EBS</td>\n",
       "      <td></td>\n",
       "      <td>SnapshotUsage</td>\n",
       "      <td>$62.67</td>\n",
       "      <td>1139.5431932727274 gb-month at $0.06 ea.</td>\n",
       "    </tr>\n",
       "    <tr>\n",
       "      <th>1</th>\n",
       "      <td>EBS</td>\n",
       "      <td>/dev/sdb</td>\n",
       "      <td>SnapshotUsage</td>\n",
       "      <td>$181.81</td>\n",
       "      <td>3636.1464779999997 gb-month at $0.05 ea.</td>\n",
       "    </tr>\n",
       "    <tr>\n",
       "      <th>18</th>\n",
       "      <td>EBS</td>\n",
       "      <td>/dev/sdb</td>\n",
       "      <td>VolumeUsage.gp2</td>\n",
       "      <td>$106.0</td>\n",
       "      <td>1060.0 gb-month at $0.1 ea.</td>\n",
       "    </tr>\n",
       "    <tr>\n",
       "      <th>193</th>\n",
       "      <td>EBS</td>\n",
       "      <td>/dev/xvda</td>\n",
       "      <td>SnapshotUsage</td>\n",
       "      <td>$1.12</td>\n",
       "      <td>22.41523204 gb-month at $0.05 ea.</td>\n",
       "    </tr>\n",
       "    <tr>\n",
       "      <th>396</th>\n",
       "      <td>EBS</td>\n",
       "      <td>/dev/xvda</td>\n",
       "      <td>VolumeIOUsage</td>\n",
       "      <td>$0.09</td>\n",
       "      <td>1.8547760000000002 million i/o requests at $0.05 ea.</td>\n",
       "    </tr>\n",
       "    <tr>\n",
       "      <th>288</th>\n",
       "      <td>EBS</td>\n",
       "      <td>/dev/xvda</td>\n",
       "      <td>VolumeUsage</td>\n",
       "      <td>$0.6</td>\n",
       "      <td>11.99999952 gb-month at $0.05 ea.</td>\n",
       "    </tr>\n",
       "    <tr>\n",
       "      <th>376</th>\n",
       "      <td>EBS</td>\n",
       "      <td>swap</td>\n",
       "      <td>VolumeUsage</td>\n",
       "      <td>$0.1</td>\n",
       "      <td>2.00000016 gb-month at $0.05 ea.</td>\n",
       "    </tr>\n",
       "  </tbody>\n",
       "</table>\n",
       "</div>"
      ],
      "text/latex": [
       "\\begin{tabular}{llllll}\n",
       "\\toprule\n",
       "{} &   aws\\_service &     device &       usage\\_type &     cost &                                                                   basis \\\\\n",
       "\\midrule\n",
       "6   &      BoxUsage &            &        c4.xlarge &  \\$143.28 &                                         720.0 instance hour at \\$0.2 ea. \\\\\n",
       "186 &  DataTransfer &            &        Out-Bytes &    \\$1.33 &  14.830409144444445 gb - first 10 tb / month data transfer at \\$0.09 ea. \\\\\n",
       "178 &  DataTransfer &            &   Regional-Bytes &    \\$1.71 &                    170.8010426 gb - regional data transfer at \\$0.01 ea. \\\\\n",
       "40  &           EBS &            &    SnapshotUsage &   \\$62.67 &                                1139.5431932727274 gb-month at \\$0.06 ea. \\\\\n",
       "1   &           EBS &   /dev/sdb &    SnapshotUsage &  \\$181.81 &                                3636.1464779999997 gb-month at \\$0.05 ea. \\\\\n",
       "18  &           EBS &   /dev/sdb &  VolumeUsage.gp2 &   \\$106.0 &                                             1060.0 gb-month at \\$0.1 ea. \\\\\n",
       "193 &           EBS &  /dev/xvda &    SnapshotUsage &    \\$1.12 &                                       22.41523204 gb-month at \\$0.05 ea. \\\\\n",
       "396 &           EBS &  /dev/xvda &    VolumeIOUsage &    \\$0.09 &                    1.8547760000000002 million i/o requests at \\$0.05 ea. \\\\\n",
       "288 &           EBS &  /dev/xvda &      VolumeUsage &     \\$0.6 &                                       11.99999952 gb-month at \\$0.05 ea. \\\\\n",
       "376 &           EBS &       swap &      VolumeUsage &     \\$0.1 &                                        2.00000016 gb-month at \\$0.05 ea. \\\\\n",
       "\\bottomrule\n",
       "\\end{tabular}\n"
      ],
      "text/plain": [
       "      aws_service     device       usage_type     cost  \\\n",
       "6        BoxUsage                   c4.xlarge  $143.28   \n",
       "186  DataTransfer                   Out-Bytes    $1.33   \n",
       "178  DataTransfer              Regional-Bytes    $1.71   \n",
       "40            EBS               SnapshotUsage   $62.67   \n",
       "1             EBS   /dev/sdb    SnapshotUsage  $181.81   \n",
       "18            EBS   /dev/sdb  VolumeUsage.gp2   $106.0   \n",
       "193           EBS  /dev/xvda    SnapshotUsage    $1.12   \n",
       "396           EBS  /dev/xvda    VolumeIOUsage    $0.09   \n",
       "288           EBS  /dev/xvda      VolumeUsage     $0.6   \n",
       "376           EBS       swap      VolumeUsage     $0.1   \n",
       "\n",
       "                                                                      basis  \n",
       "6                                           720.0 instance hour at $0.2 ea.  \n",
       "186  14.830409144444445 gb - first 10 tb / month data transfer at $0.09 ea.  \n",
       "178                    170.8010426 gb - regional data transfer at $0.01 ea.  \n",
       "40                                 1139.5431932727274 gb-month at $0.06 ea.  \n",
       "1                                  3636.1464779999997 gb-month at $0.05 ea.  \n",
       "18                                              1060.0 gb-month at $0.1 ea.  \n",
       "193                                       22.41523204 gb-month at $0.05 ea.  \n",
       "396                    1.8547760000000002 million i/o requests at $0.05 ea.  \n",
       "288                                       11.99999952 gb-month at $0.05 ea.  \n",
       "376                                        2.00000016 gb-month at $0.05 ea.  "
      ]
     },
     "metadata": {},
     "output_type": "display_data"
    },
    {
     "data": {
      "text/markdown": [
       "#### uc3-mrtstore2-prd"
      ],
      "text/plain": [
       "<IPython.core.display.Markdown object>"
      ]
     },
     "metadata": {},
     "output_type": "display_data"
    },
    {
     "data": {
      "text/markdown": [
       "#### Total cost for uc3-mrtstore2-prd: $512.41"
      ],
      "text/plain": [
       "<IPython.core.display.Markdown object>"
      ]
     },
     "metadata": {},
     "output_type": "display_data"
    },
    {
     "data": {
      "text/html": [
       "<div>\n",
       "<style scoped>\n",
       "    .dataframe tbody tr th:only-of-type {\n",
       "        vertical-align: middle;\n",
       "    }\n",
       "\n",
       "    .dataframe tbody tr th {\n",
       "        vertical-align: top;\n",
       "    }\n",
       "\n",
       "    .dataframe thead th {\n",
       "        text-align: right;\n",
       "    }\n",
       "</style>\n",
       "<table border=\"1\" class=\"dataframe\">\n",
       "  <thead>\n",
       "    <tr style=\"text-align: right;\">\n",
       "      <th></th>\n",
       "      <th>aws_service</th>\n",
       "      <th>device</th>\n",
       "      <th>usage_type</th>\n",
       "      <th>cost</th>\n",
       "      <th>basis</th>\n",
       "    </tr>\n",
       "  </thead>\n",
       "  <tbody>\n",
       "    <tr>\n",
       "      <th>7</th>\n",
       "      <td>BoxUsage</td>\n",
       "      <td></td>\n",
       "      <td>c4.xlarge</td>\n",
       "      <td>$143.28</td>\n",
       "      <td>720.0 instance hour at $0.2 ea.</td>\n",
       "    </tr>\n",
       "    <tr>\n",
       "      <th>210</th>\n",
       "      <td>DataTransfer</td>\n",
       "      <td></td>\n",
       "      <td>Out-Bytes</td>\n",
       "      <td>$1.04</td>\n",
       "      <td>11.54612118888889 gb - first 10 tb / month data transfer at $0.09 ea.</td>\n",
       "    </tr>\n",
       "    <tr>\n",
       "      <th>176</th>\n",
       "      <td>DataTransfer</td>\n",
       "      <td></td>\n",
       "      <td>Regional-Bytes</td>\n",
       "      <td>$2.3</td>\n",
       "      <td>230.24803390000002 gb - regional data transfer at $0.01 ea.</td>\n",
       "    </tr>\n",
       "    <tr>\n",
       "      <th>41</th>\n",
       "      <td>EBS</td>\n",
       "      <td></td>\n",
       "      <td>SnapshotUsage</td>\n",
       "      <td>$61.15</td>\n",
       "      <td>1111.883734909091 gb-month at $0.06 ea.</td>\n",
       "    </tr>\n",
       "    <tr>\n",
       "      <th>195</th>\n",
       "      <td>EBS</td>\n",
       "      <td>/dev/xvda</td>\n",
       "      <td>SnapshotUsage</td>\n",
       "      <td>$1.11</td>\n",
       "      <td>22.1191887 gb-month at $0.05 ea.</td>\n",
       "    </tr>\n",
       "    <tr>\n",
       "      <th>397</th>\n",
       "      <td>EBS</td>\n",
       "      <td>/dev/xvda</td>\n",
       "      <td>VolumeIOUsage</td>\n",
       "      <td>$0.09</td>\n",
       "      <td>1.801598 million i/o requests at $0.05 ea.</td>\n",
       "    </tr>\n",
       "    <tr>\n",
       "      <th>290</th>\n",
       "      <td>EBS</td>\n",
       "      <td>/dev/xvda</td>\n",
       "      <td>VolumeUsage</td>\n",
       "      <td>$0.6</td>\n",
       "      <td>11.99999952 gb-month at $0.05 ea.</td>\n",
       "    </tr>\n",
       "    <tr>\n",
       "      <th>0</th>\n",
       "      <td>EBS</td>\n",
       "      <td>/dev/xvdb</td>\n",
       "      <td>SnapshotUsage</td>\n",
       "      <td>$192.74</td>\n",
       "      <td>3854.707906 gb-month at $0.05 ea.</td>\n",
       "    </tr>\n",
       "    <tr>\n",
       "      <th>11</th>\n",
       "      <td>EBS</td>\n",
       "      <td>/dev/xvdb</td>\n",
       "      <td>VolumeUsage.gp2</td>\n",
       "      <td>$110.0</td>\n",
       "      <td>1100.0 gb-month at $0.1 ea.</td>\n",
       "    </tr>\n",
       "    <tr>\n",
       "      <th>378</th>\n",
       "      <td>EBS</td>\n",
       "      <td>swap</td>\n",
       "      <td>VolumeUsage</td>\n",
       "      <td>$0.1</td>\n",
       "      <td>2.00000016 gb-month at $0.05 ea.</td>\n",
       "    </tr>\n",
       "  </tbody>\n",
       "</table>\n",
       "</div>"
      ],
      "text/latex": [
       "\\begin{tabular}{llllll}\n",
       "\\toprule\n",
       "{} &   aws\\_service &     device &       usage\\_type &     cost &                                                                  basis \\\\\n",
       "\\midrule\n",
       "7   &      BoxUsage &            &        c4.xlarge &  \\$143.28 &                                        720.0 instance hour at \\$0.2 ea. \\\\\n",
       "210 &  DataTransfer &            &        Out-Bytes &    \\$1.04 &  11.54612118888889 gb - first 10 tb / month data transfer at \\$0.09 ea. \\\\\n",
       "176 &  DataTransfer &            &   Regional-Bytes &     \\$2.3 &            230.24803390000002 gb - regional data transfer at \\$0.01 ea. \\\\\n",
       "41  &           EBS &            &    SnapshotUsage &   \\$61.15 &                                1111.883734909091 gb-month at \\$0.06 ea. \\\\\n",
       "195 &           EBS &  /dev/xvda &    SnapshotUsage &    \\$1.11 &                                       22.1191887 gb-month at \\$0.05 ea. \\\\\n",
       "397 &           EBS &  /dev/xvda &    VolumeIOUsage &    \\$0.09 &                             1.801598 million i/o requests at \\$0.05 ea. \\\\\n",
       "290 &           EBS &  /dev/xvda &      VolumeUsage &     \\$0.6 &                                      11.99999952 gb-month at \\$0.05 ea. \\\\\n",
       "0   &           EBS &  /dev/xvdb &    SnapshotUsage &  \\$192.74 &                                      3854.707906 gb-month at \\$0.05 ea. \\\\\n",
       "11  &           EBS &  /dev/xvdb &  VolumeUsage.gp2 &   \\$110.0 &                                            1100.0 gb-month at \\$0.1 ea. \\\\\n",
       "378 &           EBS &       swap &      VolumeUsage &     \\$0.1 &                                       2.00000016 gb-month at \\$0.05 ea. \\\\\n",
       "\\bottomrule\n",
       "\\end{tabular}\n"
      ],
      "text/plain": [
       "      aws_service     device       usage_type     cost  \\\n",
       "7        BoxUsage                   c4.xlarge  $143.28   \n",
       "210  DataTransfer                   Out-Bytes    $1.04   \n",
       "176  DataTransfer              Regional-Bytes     $2.3   \n",
       "41            EBS               SnapshotUsage   $61.15   \n",
       "195           EBS  /dev/xvda    SnapshotUsage    $1.11   \n",
       "397           EBS  /dev/xvda    VolumeIOUsage    $0.09   \n",
       "290           EBS  /dev/xvda      VolumeUsage     $0.6   \n",
       "0             EBS  /dev/xvdb    SnapshotUsage  $192.74   \n",
       "11            EBS  /dev/xvdb  VolumeUsage.gp2   $110.0   \n",
       "378           EBS       swap      VolumeUsage     $0.1   \n",
       "\n",
       "                                                                     basis  \n",
       "7                                          720.0 instance hour at $0.2 ea.  \n",
       "210  11.54612118888889 gb - first 10 tb / month data transfer at $0.09 ea.  \n",
       "176            230.24803390000002 gb - regional data transfer at $0.01 ea.  \n",
       "41                                 1111.883734909091 gb-month at $0.06 ea.  \n",
       "195                                       22.1191887 gb-month at $0.05 ea.  \n",
       "397                             1.801598 million i/o requests at $0.05 ea.  \n",
       "290                                      11.99999952 gb-month at $0.05 ea.  \n",
       "0                                        3854.707906 gb-month at $0.05 ea.  \n",
       "11                                             1100.0 gb-month at $0.1 ea.  \n",
       "378                                       2.00000016 gb-month at $0.05 ea.  "
      ]
     },
     "metadata": {},
     "output_type": "display_data"
    },
    {
     "data": {
      "text/markdown": [
       "### stg"
      ],
      "text/plain": [
       "<IPython.core.display.Markdown object>"
      ]
     },
     "metadata": {},
     "output_type": "display_data"
    },
    {
     "data": {
      "text/markdown": [
       "##### Total cost for store stg: $599.86"
      ],
      "text/plain": [
       "<IPython.core.display.Markdown object>"
      ]
     },
     "metadata": {},
     "output_type": "display_data"
    },
    {
     "data": {
      "text/markdown": [
       "#### uc3-mrtstore-stg"
      ],
      "text/plain": [
       "<IPython.core.display.Markdown object>"
      ]
     },
     "metadata": {},
     "output_type": "display_data"
    },
    {
     "data": {
      "text/markdown": [
       "#### Total cost for uc3-mrtstore-stg: $265.59"
      ],
      "text/plain": [
       "<IPython.core.display.Markdown object>"
      ]
     },
     "metadata": {},
     "output_type": "display_data"
    },
    {
     "data": {
      "text/html": [
       "<div>\n",
       "<style scoped>\n",
       "    .dataframe tbody tr th:only-of-type {\n",
       "        vertical-align: middle;\n",
       "    }\n",
       "\n",
       "    .dataframe tbody tr th {\n",
       "        vertical-align: top;\n",
       "    }\n",
       "\n",
       "    .dataframe thead th {\n",
       "        text-align: right;\n",
       "    }\n",
       "</style>\n",
       "<table border=\"1\" class=\"dataframe\">\n",
       "  <thead>\n",
       "    <tr style=\"text-align: right;\">\n",
       "      <th></th>\n",
       "      <th>aws_service</th>\n",
       "      <th>device</th>\n",
       "      <th>usage_type</th>\n",
       "      <th>cost</th>\n",
       "      <th>basis</th>\n",
       "    </tr>\n",
       "  </thead>\n",
       "  <tbody>\n",
       "    <tr>\n",
       "      <th>5</th>\n",
       "      <td>BoxUsage</td>\n",
       "      <td></td>\n",
       "      <td>c4.xlarge</td>\n",
       "      <td>$143.28</td>\n",
       "      <td>720.0 instance hour at $0.2 ea.</td>\n",
       "    </tr>\n",
       "    <tr>\n",
       "      <th>73</th>\n",
       "      <td>EBS</td>\n",
       "      <td>/dev/sdb</td>\n",
       "      <td>SnapshotUsage</td>\n",
       "      <td>$14.42</td>\n",
       "      <td>288.47951259999996 gb-month at $0.05 ea.</td>\n",
       "    </tr>\n",
       "    <tr>\n",
       "      <th>17</th>\n",
       "      <td>EBS</td>\n",
       "      <td>/dev/sdb</td>\n",
       "      <td>VolumeUsage.gp2</td>\n",
       "      <td>$106.0</td>\n",
       "      <td>1060.0 gb-month at $0.1 ea.</td>\n",
       "    </tr>\n",
       "    <tr>\n",
       "      <th>192</th>\n",
       "      <td>EBS</td>\n",
       "      <td>/dev/xvda</td>\n",
       "      <td>SnapshotUsage</td>\n",
       "      <td>$1.12</td>\n",
       "      <td>22.48150198 gb-month at $0.05 ea.</td>\n",
       "    </tr>\n",
       "    <tr>\n",
       "      <th>411</th>\n",
       "      <td>EBS</td>\n",
       "      <td>/dev/xvda</td>\n",
       "      <td>VolumeIOUsage</td>\n",
       "      <td>$0.07</td>\n",
       "      <td>1.321492 million i/o requests at $0.05 ea.</td>\n",
       "    </tr>\n",
       "    <tr>\n",
       "      <th>287</th>\n",
       "      <td>EBS</td>\n",
       "      <td>/dev/xvda</td>\n",
       "      <td>VolumeUsage</td>\n",
       "      <td>$0.6</td>\n",
       "      <td>11.99999952 gb-month at $0.05 ea.</td>\n",
       "    </tr>\n",
       "    <tr>\n",
       "      <th>375</th>\n",
       "      <td>EBS</td>\n",
       "      <td>swap</td>\n",
       "      <td>VolumeUsage</td>\n",
       "      <td>$0.1</td>\n",
       "      <td>2.00000016 gb-month at $0.05 ea.</td>\n",
       "    </tr>\n",
       "  </tbody>\n",
       "</table>\n",
       "</div>"
      ],
      "text/latex": [
       "\\begin{tabular}{llllll}\n",
       "\\toprule\n",
       "{} & aws\\_service &     device &       usage\\_type &     cost &                                       basis \\\\\n",
       "\\midrule\n",
       "5   &    BoxUsage &            &        c4.xlarge &  \\$143.28 &             720.0 instance hour at \\$0.2 ea. \\\\\n",
       "73  &         EBS &   /dev/sdb &    SnapshotUsage &   \\$14.42 &    288.47951259999996 gb-month at \\$0.05 ea. \\\\\n",
       "17  &         EBS &   /dev/sdb &  VolumeUsage.gp2 &   \\$106.0 &                 1060.0 gb-month at \\$0.1 ea. \\\\\n",
       "192 &         EBS &  /dev/xvda &    SnapshotUsage &    \\$1.12 &           22.48150198 gb-month at \\$0.05 ea. \\\\\n",
       "411 &         EBS &  /dev/xvda &    VolumeIOUsage &    \\$0.07 &  1.321492 million i/o requests at \\$0.05 ea. \\\\\n",
       "287 &         EBS &  /dev/xvda &      VolumeUsage &     \\$0.6 &           11.99999952 gb-month at \\$0.05 ea. \\\\\n",
       "375 &         EBS &       swap &      VolumeUsage &     \\$0.1 &            2.00000016 gb-month at \\$0.05 ea. \\\\\n",
       "\\bottomrule\n",
       "\\end{tabular}\n"
      ],
      "text/plain": [
       "    aws_service     device       usage_type     cost  \\\n",
       "5      BoxUsage                   c4.xlarge  $143.28   \n",
       "73          EBS   /dev/sdb    SnapshotUsage   $14.42   \n",
       "17          EBS   /dev/sdb  VolumeUsage.gp2   $106.0   \n",
       "192         EBS  /dev/xvda    SnapshotUsage    $1.12   \n",
       "411         EBS  /dev/xvda    VolumeIOUsage    $0.07   \n",
       "287         EBS  /dev/xvda      VolumeUsage     $0.6   \n",
       "375         EBS       swap      VolumeUsage     $0.1   \n",
       "\n",
       "                                          basis  \n",
       "5               720.0 instance hour at $0.2 ea.  \n",
       "73     288.47951259999996 gb-month at $0.05 ea.  \n",
       "17                  1060.0 gb-month at $0.1 ea.  \n",
       "192           22.48150198 gb-month at $0.05 ea.  \n",
       "411  1.321492 million i/o requests at $0.05 ea.  \n",
       "287           11.99999952 gb-month at $0.05 ea.  \n",
       "375            2.00000016 gb-month at $0.05 ea.  "
      ]
     },
     "metadata": {},
     "output_type": "display_data"
    },
    {
     "data": {
      "text/markdown": [
       "#### uc3-mrtstore2-stg"
      ],
      "text/plain": [
       "<IPython.core.display.Markdown object>"
      ]
     },
     "metadata": {},
     "output_type": "display_data"
    },
    {
     "data": {
      "text/markdown": [
       "#### Total cost for uc3-mrtstore2-stg: $334.27"
      ],
      "text/plain": [
       "<IPython.core.display.Markdown object>"
      ]
     },
     "metadata": {},
     "output_type": "display_data"
    },
    {
     "data": {
      "text/html": [
       "<div>\n",
       "<style scoped>\n",
       "    .dataframe tbody tr th:only-of-type {\n",
       "        vertical-align: middle;\n",
       "    }\n",
       "\n",
       "    .dataframe tbody tr th {\n",
       "        vertical-align: top;\n",
       "    }\n",
       "\n",
       "    .dataframe thead th {\n",
       "        text-align: right;\n",
       "    }\n",
       "</style>\n",
       "<table border=\"1\" class=\"dataframe\">\n",
       "  <thead>\n",
       "    <tr style=\"text-align: right;\">\n",
       "      <th></th>\n",
       "      <th>aws_service</th>\n",
       "      <th>device</th>\n",
       "      <th>usage_type</th>\n",
       "      <th>cost</th>\n",
       "      <th>basis</th>\n",
       "    </tr>\n",
       "  </thead>\n",
       "  <tbody>\n",
       "    <tr>\n",
       "      <th>8</th>\n",
       "      <td>BoxUsage</td>\n",
       "      <td></td>\n",
       "      <td>c4.xlarge</td>\n",
       "      <td>$143.28</td>\n",
       "      <td>720.0 instance hour at $0.2 ea.</td>\n",
       "    </tr>\n",
       "    <tr>\n",
       "      <th>465</th>\n",
       "      <td>DataTransfer</td>\n",
       "      <td></td>\n",
       "      <td>Regional-Bytes</td>\n",
       "      <td>$0.01</td>\n",
       "      <td>1.4725473 gb - regional data transfer at $0.01 ea.</td>\n",
       "    </tr>\n",
       "    <tr>\n",
       "      <th>29</th>\n",
       "      <td>EBS</td>\n",
       "      <td>/dev/sdb</td>\n",
       "      <td>SnapshotUsage</td>\n",
       "      <td>$89.05</td>\n",
       "      <td>1781.0025202 gb-month at $0.05 ea.</td>\n",
       "    </tr>\n",
       "    <tr>\n",
       "      <th>27</th>\n",
       "      <td>EBS</td>\n",
       "      <td>/dev/sdb</td>\n",
       "      <td>VolumeUsage.gp2</td>\n",
       "      <td>$100.0</td>\n",
       "      <td>1000.0 gb-month at $0.1 ea.</td>\n",
       "    </tr>\n",
       "    <tr>\n",
       "      <th>189</th>\n",
       "      <td>EBS</td>\n",
       "      <td>/dev/xvda</td>\n",
       "      <td>SnapshotUsage</td>\n",
       "      <td>$1.16</td>\n",
       "      <td>23.10090008 gb-month at $0.05 ea.</td>\n",
       "    </tr>\n",
       "    <tr>\n",
       "      <th>412</th>\n",
       "      <td>EBS</td>\n",
       "      <td>/dev/xvda</td>\n",
       "      <td>VolumeIOUsage</td>\n",
       "      <td>$0.07</td>\n",
       "      <td>1.3157220000000003 million i/o requests at $0.05 ea.</td>\n",
       "    </tr>\n",
       "    <tr>\n",
       "      <th>291</th>\n",
       "      <td>EBS</td>\n",
       "      <td>/dev/xvda</td>\n",
       "      <td>VolumeUsage</td>\n",
       "      <td>$0.6</td>\n",
       "      <td>11.99999952 gb-month at $0.05 ea.</td>\n",
       "    </tr>\n",
       "    <tr>\n",
       "      <th>379</th>\n",
       "      <td>EBS</td>\n",
       "      <td>swap</td>\n",
       "      <td>VolumeUsage</td>\n",
       "      <td>$0.1</td>\n",
       "      <td>2.00000016 gb-month at $0.05 ea.</td>\n",
       "    </tr>\n",
       "  </tbody>\n",
       "</table>\n",
       "</div>"
      ],
      "text/latex": [
       "\\begin{tabular}{llllll}\n",
       "\\toprule\n",
       "{} &   aws\\_service &     device &       usage\\_type &     cost &                                                 basis \\\\\n",
       "\\midrule\n",
       "8   &      BoxUsage &            &        c4.xlarge &  \\$143.28 &                       720.0 instance hour at \\$0.2 ea. \\\\\n",
       "465 &  DataTransfer &            &   Regional-Bytes &    \\$0.01 &    1.4725473 gb - regional data transfer at \\$0.01 ea. \\\\\n",
       "29  &           EBS &   /dev/sdb &    SnapshotUsage &   \\$89.05 &                    1781.0025202 gb-month at \\$0.05 ea. \\\\\n",
       "27  &           EBS &   /dev/sdb &  VolumeUsage.gp2 &   \\$100.0 &                           1000.0 gb-month at \\$0.1 ea. \\\\\n",
       "189 &           EBS &  /dev/xvda &    SnapshotUsage &    \\$1.16 &                     23.10090008 gb-month at \\$0.05 ea. \\\\\n",
       "412 &           EBS &  /dev/xvda &    VolumeIOUsage &    \\$0.07 &  1.3157220000000003 million i/o requests at \\$0.05 ea. \\\\\n",
       "291 &           EBS &  /dev/xvda &      VolumeUsage &     \\$0.6 &                     11.99999952 gb-month at \\$0.05 ea. \\\\\n",
       "379 &           EBS &       swap &      VolumeUsage &     \\$0.1 &                      2.00000016 gb-month at \\$0.05 ea. \\\\\n",
       "\\bottomrule\n",
       "\\end{tabular}\n"
      ],
      "text/plain": [
       "      aws_service     device       usage_type     cost  \\\n",
       "8        BoxUsage                   c4.xlarge  $143.28   \n",
       "465  DataTransfer              Regional-Bytes    $0.01   \n",
       "29            EBS   /dev/sdb    SnapshotUsage   $89.05   \n",
       "27            EBS   /dev/sdb  VolumeUsage.gp2   $100.0   \n",
       "189           EBS  /dev/xvda    SnapshotUsage    $1.16   \n",
       "412           EBS  /dev/xvda    VolumeIOUsage    $0.07   \n",
       "291           EBS  /dev/xvda      VolumeUsage     $0.6   \n",
       "379           EBS       swap      VolumeUsage     $0.1   \n",
       "\n",
       "                                                    basis  \n",
       "8                         720.0 instance hour at $0.2 ea.  \n",
       "465    1.4725473 gb - regional data transfer at $0.01 ea.  \n",
       "29                     1781.0025202 gb-month at $0.05 ea.  \n",
       "27                            1000.0 gb-month at $0.1 ea.  \n",
       "189                     23.10090008 gb-month at $0.05 ea.  \n",
       "412  1.3157220000000003 million i/o requests at $0.05 ea.  \n",
       "291                     11.99999952 gb-month at $0.05 ea.  \n",
       "379                      2.00000016 gb-month at $0.05 ea.  "
      ]
     },
     "metadata": {},
     "output_type": "display_data"
    },
    {
     "data": {
      "text/markdown": [
       "## sword"
      ],
      "text/plain": [
       "<IPython.core.display.Markdown object>"
      ]
     },
     "metadata": {},
     "output_type": "display_data"
    },
    {
     "data": {
      "text/markdown": [
       "##### Total cost: $73.58"
      ],
      "text/plain": [
       "<IPython.core.display.Markdown object>"
      ]
     },
     "metadata": {},
     "output_type": "display_data"
    },
    {
     "data": {
      "text/markdown": [
       "### "
      ],
      "text/plain": [
       "<IPython.core.display.Markdown object>"
      ]
     },
     "metadata": {},
     "output_type": "display_data"
    },
    {
     "data": {
      "text/markdown": [
       "##### Total cost for sword : $0.0"
      ],
      "text/plain": [
       "<IPython.core.display.Markdown object>"
      ]
     },
     "metadata": {},
     "output_type": "display_data"
    },
    {
     "data": {
      "text/markdown": [
       "### dev"
      ],
      "text/plain": [
       "<IPython.core.display.Markdown object>"
      ]
     },
     "metadata": {},
     "output_type": "display_data"
    },
    {
     "data": {
      "text/markdown": [
       "##### Total cost for sword dev: $17.18"
      ],
      "text/plain": [
       "<IPython.core.display.Markdown object>"
      ]
     },
     "metadata": {},
     "output_type": "display_data"
    },
    {
     "data": {
      "text/markdown": [
       "#### uc3-mrtsword-dev"
      ],
      "text/plain": [
       "<IPython.core.display.Markdown object>"
      ]
     },
     "metadata": {},
     "output_type": "display_data"
    },
    {
     "data": {
      "text/markdown": [
       "#### Total cost for uc3-mrtsword-dev: $17.18"
      ],
      "text/plain": [
       "<IPython.core.display.Markdown object>"
      ]
     },
     "metadata": {},
     "output_type": "display_data"
    },
    {
     "data": {
      "text/html": [
       "<div>\n",
       "<style scoped>\n",
       "    .dataframe tbody tr th:only-of-type {\n",
       "        vertical-align: middle;\n",
       "    }\n",
       "\n",
       "    .dataframe tbody tr th {\n",
       "        vertical-align: top;\n",
       "    }\n",
       "\n",
       "    .dataframe thead th {\n",
       "        text-align: right;\n",
       "    }\n",
       "</style>\n",
       "<table border=\"1\" class=\"dataframe\">\n",
       "  <thead>\n",
       "    <tr style=\"text-align: right;\">\n",
       "      <th></th>\n",
       "      <th>aws_service</th>\n",
       "      <th>device</th>\n",
       "      <th>usage_type</th>\n",
       "      <th>cost</th>\n",
       "      <th>basis</th>\n",
       "    </tr>\n",
       "  </thead>\n",
       "  <tbody>\n",
       "    <tr>\n",
       "      <th>120</th>\n",
       "      <td>BoxUsage</td>\n",
       "      <td></td>\n",
       "      <td>t2.small</td>\n",
       "      <td>$5.7</td>\n",
       "      <td>245.74668331896552 instance hour at $0.02 ea.</td>\n",
       "    </tr>\n",
       "    <tr>\n",
       "      <th>143</th>\n",
       "      <td>EBS</td>\n",
       "      <td>/dev/sdb</td>\n",
       "      <td>SnapshotUsage</td>\n",
       "      <td>$4.94</td>\n",
       "      <td>98.80482703999999 gb-month at $0.05 ea.</td>\n",
       "    </tr>\n",
       "    <tr>\n",
       "      <th>137</th>\n",
       "      <td>EBS</td>\n",
       "      <td>/dev/sdb</td>\n",
       "      <td>VolumeUsage</td>\n",
       "      <td>$5.0</td>\n",
       "      <td>99.99999935999999 gb-month at $0.05 ea.</td>\n",
       "    </tr>\n",
       "    <tr>\n",
       "      <th>242</th>\n",
       "      <td>EBS</td>\n",
       "      <td>/dev/xvda</td>\n",
       "      <td>SnapshotUsage</td>\n",
       "      <td>$0.79</td>\n",
       "      <td>15.79728194 gb-month at $0.05 ea.</td>\n",
       "    </tr>\n",
       "    <tr>\n",
       "      <th>430</th>\n",
       "      <td>EBS</td>\n",
       "      <td>/dev/xvda</td>\n",
       "      <td>VolumeIOUsage</td>\n",
       "      <td>$0.05</td>\n",
       "      <td>1.043598 million i/o requests at $0.05 ea.</td>\n",
       "    </tr>\n",
       "    <tr>\n",
       "      <th>292</th>\n",
       "      <td>EBS</td>\n",
       "      <td>/dev/xvda</td>\n",
       "      <td>VolumeUsage</td>\n",
       "      <td>$0.6</td>\n",
       "      <td>11.99999952 gb-month at $0.05 ea.</td>\n",
       "    </tr>\n",
       "    <tr>\n",
       "      <th>380</th>\n",
       "      <td>EBS</td>\n",
       "      <td>swap</td>\n",
       "      <td>VolumeUsage</td>\n",
       "      <td>$0.1</td>\n",
       "      <td>2.00000016 gb-month at $0.05 ea.</td>\n",
       "    </tr>\n",
       "  </tbody>\n",
       "</table>\n",
       "</div>"
      ],
      "text/latex": [
       "\\begin{tabular}{llllll}\n",
       "\\toprule\n",
       "{} & aws\\_service &     device &     usage\\_type &   cost &                                          basis \\\\\n",
       "\\midrule\n",
       "120 &    BoxUsage &            &       t2.small &   \\$5.7 &  245.74668331896552 instance hour at \\$0.02 ea. \\\\\n",
       "143 &         EBS &   /dev/sdb &  SnapshotUsage &  \\$4.94 &        98.80482703999999 gb-month at \\$0.05 ea. \\\\\n",
       "137 &         EBS &   /dev/sdb &    VolumeUsage &   \\$5.0 &        99.99999935999999 gb-month at \\$0.05 ea. \\\\\n",
       "242 &         EBS &  /dev/xvda &  SnapshotUsage &  \\$0.79 &              15.79728194 gb-month at \\$0.05 ea. \\\\\n",
       "430 &         EBS &  /dev/xvda &  VolumeIOUsage &  \\$0.05 &     1.043598 million i/o requests at \\$0.05 ea. \\\\\n",
       "292 &         EBS &  /dev/xvda &    VolumeUsage &   \\$0.6 &              11.99999952 gb-month at \\$0.05 ea. \\\\\n",
       "380 &         EBS &       swap &    VolumeUsage &   \\$0.1 &               2.00000016 gb-month at \\$0.05 ea. \\\\\n",
       "\\bottomrule\n",
       "\\end{tabular}\n"
      ],
      "text/plain": [
       "    aws_service     device     usage_type   cost  \\\n",
       "120    BoxUsage                  t2.small   $5.7   \n",
       "143         EBS   /dev/sdb  SnapshotUsage  $4.94   \n",
       "137         EBS   /dev/sdb    VolumeUsage   $5.0   \n",
       "242         EBS  /dev/xvda  SnapshotUsage  $0.79   \n",
       "430         EBS  /dev/xvda  VolumeIOUsage  $0.05   \n",
       "292         EBS  /dev/xvda    VolumeUsage   $0.6   \n",
       "380         EBS       swap    VolumeUsage   $0.1   \n",
       "\n",
       "                                             basis  \n",
       "120  245.74668331896552 instance hour at $0.02 ea.  \n",
       "143        98.80482703999999 gb-month at $0.05 ea.  \n",
       "137        99.99999935999999 gb-month at $0.05 ea.  \n",
       "242              15.79728194 gb-month at $0.05 ea.  \n",
       "430     1.043598 million i/o requests at $0.05 ea.  \n",
       "292              11.99999952 gb-month at $0.05 ea.  \n",
       "380               2.00000016 gb-month at $0.05 ea.  "
      ]
     },
     "metadata": {},
     "output_type": "display_data"
    },
    {
     "data": {
      "text/markdown": [
       "### prd"
      ],
      "text/plain": [
       "<IPython.core.display.Markdown object>"
      ]
     },
     "metadata": {},
     "output_type": "display_data"
    },
    {
     "data": {
      "text/markdown": [
       "##### Total cost for sword prd: $39.26"
      ],
      "text/plain": [
       "<IPython.core.display.Markdown object>"
      ]
     },
     "metadata": {},
     "output_type": "display_data"
    },
    {
     "data": {
      "text/markdown": [
       "#### uc3-mrtsword-prd"
      ],
      "text/plain": [
       "<IPython.core.display.Markdown object>"
      ]
     },
     "metadata": {},
     "output_type": "display_data"
    },
    {
     "data": {
      "text/markdown": [
       "#### Total cost for uc3-mrtsword-prd: $39.26"
      ],
      "text/plain": [
       "<IPython.core.display.Markdown object>"
      ]
     },
     "metadata": {},
     "output_type": "display_data"
    },
    {
     "data": {
      "text/html": [
       "<div>\n",
       "<style scoped>\n",
       "    .dataframe tbody tr th:only-of-type {\n",
       "        vertical-align: middle;\n",
       "    }\n",
       "\n",
       "    .dataframe tbody tr th {\n",
       "        vertical-align: top;\n",
       "    }\n",
       "\n",
       "    .dataframe thead th {\n",
       "        text-align: right;\n",
       "    }\n",
       "</style>\n",
       "<table border=\"1\" class=\"dataframe\">\n",
       "  <thead>\n",
       "    <tr style=\"text-align: right;\">\n",
       "      <th></th>\n",
       "      <th>aws_service</th>\n",
       "      <th>device</th>\n",
       "      <th>usage_type</th>\n",
       "      <th>cost</th>\n",
       "      <th>basis</th>\n",
       "    </tr>\n",
       "  </thead>\n",
       "  <tbody>\n",
       "    <tr>\n",
       "      <th>70</th>\n",
       "      <td>BoxUsage</td>\n",
       "      <td></td>\n",
       "      <td>t2.small</td>\n",
       "      <td>$16.56</td>\n",
       "      <td>713.7931034482758 instance hour at $0.02 ea.</td>\n",
       "    </tr>\n",
       "    <tr>\n",
       "      <th>425</th>\n",
       "      <td>DataTransfer</td>\n",
       "      <td></td>\n",
       "      <td>Regional-Bytes</td>\n",
       "      <td>$0.06</td>\n",
       "      <td>5.5641411 gb - regional data transfer at $0.01 ea.</td>\n",
       "    </tr>\n",
       "    <tr>\n",
       "      <th>131</th>\n",
       "      <td>EBS</td>\n",
       "      <td></td>\n",
       "      <td>SnapshotUsage</td>\n",
       "      <td>$5.38</td>\n",
       "      <td>97.7742252 gb-month at $0.06 ea.</td>\n",
       "    </tr>\n",
       "    <tr>\n",
       "      <th>130</th>\n",
       "      <td>EBS</td>\n",
       "      <td>/dev/sdb</td>\n",
       "      <td>SnapshotUsage</td>\n",
       "      <td>$5.46</td>\n",
       "      <td>109.16476947999999 gb-month at $0.05 ea.</td>\n",
       "    </tr>\n",
       "    <tr>\n",
       "      <th>93</th>\n",
       "      <td>EBS</td>\n",
       "      <td>/dev/sdb</td>\n",
       "      <td>VolumeUsage.gp2</td>\n",
       "      <td>$10.0</td>\n",
       "      <td>100.00000010000001 gb-month at $0.1 ea.</td>\n",
       "    </tr>\n",
       "    <tr>\n",
       "      <th>211</th>\n",
       "      <td>EBS</td>\n",
       "      <td>/dev/xvda</td>\n",
       "      <td>SnapshotUsage</td>\n",
       "      <td>$1.03</td>\n",
       "      <td>20.68543 gb-month at $0.05 ea.</td>\n",
       "    </tr>\n",
       "    <tr>\n",
       "      <th>406</th>\n",
       "      <td>EBS</td>\n",
       "      <td>/dev/xvda</td>\n",
       "      <td>VolumeIOUsage</td>\n",
       "      <td>$0.08</td>\n",
       "      <td>1.5284560000000003 million i/o requests at $0.05 ea.</td>\n",
       "    </tr>\n",
       "    <tr>\n",
       "      <th>293</th>\n",
       "      <td>EBS</td>\n",
       "      <td>/dev/xvda</td>\n",
       "      <td>VolumeUsage</td>\n",
       "      <td>$0.6</td>\n",
       "      <td>11.99999952 gb-month at $0.05 ea.</td>\n",
       "    </tr>\n",
       "    <tr>\n",
       "      <th>381</th>\n",
       "      <td>EBS</td>\n",
       "      <td>swap</td>\n",
       "      <td>VolumeUsage</td>\n",
       "      <td>$0.1</td>\n",
       "      <td>2.00000016 gb-month at $0.05 ea.</td>\n",
       "    </tr>\n",
       "  </tbody>\n",
       "</table>\n",
       "</div>"
      ],
      "text/latex": [
       "\\begin{tabular}{llllll}\n",
       "\\toprule\n",
       "{} &   aws\\_service &     device &       usage\\_type &    cost &                                                 basis \\\\\n",
       "\\midrule\n",
       "70  &      BoxUsage &            &         t2.small &  \\$16.56 &          713.7931034482758 instance hour at \\$0.02 ea. \\\\\n",
       "425 &  DataTransfer &            &   Regional-Bytes &   \\$0.06 &    5.5641411 gb - regional data transfer at \\$0.01 ea. \\\\\n",
       "131 &           EBS &            &    SnapshotUsage &   \\$5.38 &                      97.7742252 gb-month at \\$0.06 ea. \\\\\n",
       "130 &           EBS &   /dev/sdb &    SnapshotUsage &   \\$5.46 &              109.16476947999999 gb-month at \\$0.05 ea. \\\\\n",
       "93  &           EBS &   /dev/sdb &  VolumeUsage.gp2 &   \\$10.0 &               100.00000010000001 gb-month at \\$0.1 ea. \\\\\n",
       "211 &           EBS &  /dev/xvda &    SnapshotUsage &   \\$1.03 &                        20.68543 gb-month at \\$0.05 ea. \\\\\n",
       "406 &           EBS &  /dev/xvda &    VolumeIOUsage &   \\$0.08 &  1.5284560000000003 million i/o requests at \\$0.05 ea. \\\\\n",
       "293 &           EBS &  /dev/xvda &      VolumeUsage &    \\$0.6 &                     11.99999952 gb-month at \\$0.05 ea. \\\\\n",
       "381 &           EBS &       swap &      VolumeUsage &    \\$0.1 &                      2.00000016 gb-month at \\$0.05 ea. \\\\\n",
       "\\bottomrule\n",
       "\\end{tabular}\n"
      ],
      "text/plain": [
       "      aws_service     device       usage_type    cost  \\\n",
       "70       BoxUsage                    t2.small  $16.56   \n",
       "425  DataTransfer              Regional-Bytes   $0.06   \n",
       "131           EBS               SnapshotUsage   $5.38   \n",
       "130           EBS   /dev/sdb    SnapshotUsage   $5.46   \n",
       "93            EBS   /dev/sdb  VolumeUsage.gp2   $10.0   \n",
       "211           EBS  /dev/xvda    SnapshotUsage   $1.03   \n",
       "406           EBS  /dev/xvda    VolumeIOUsage   $0.08   \n",
       "293           EBS  /dev/xvda      VolumeUsage    $0.6   \n",
       "381           EBS       swap      VolumeUsage    $0.1   \n",
       "\n",
       "                                                    basis  \n",
       "70           713.7931034482758 instance hour at $0.02 ea.  \n",
       "425    5.5641411 gb - regional data transfer at $0.01 ea.  \n",
       "131                      97.7742252 gb-month at $0.06 ea.  \n",
       "130              109.16476947999999 gb-month at $0.05 ea.  \n",
       "93                100.00000010000001 gb-month at $0.1 ea.  \n",
       "211                        20.68543 gb-month at $0.05 ea.  \n",
       "406  1.5284560000000003 million i/o requests at $0.05 ea.  \n",
       "293                     11.99999952 gb-month at $0.05 ea.  \n",
       "381                      2.00000016 gb-month at $0.05 ea.  "
      ]
     },
     "metadata": {},
     "output_type": "display_data"
    },
    {
     "data": {
      "text/markdown": [
       "### stg"
      ],
      "text/plain": [
       "<IPython.core.display.Markdown object>"
      ]
     },
     "metadata": {},
     "output_type": "display_data"
    },
    {
     "data": {
      "text/markdown": [
       "##### Total cost for sword stg: $17.13"
      ],
      "text/plain": [
       "<IPython.core.display.Markdown object>"
      ]
     },
     "metadata": {},
     "output_type": "display_data"
    },
    {
     "data": {
      "text/markdown": [
       "#### uc3-mrtsword-stg"
      ],
      "text/plain": [
       "<IPython.core.display.Markdown object>"
      ]
     },
     "metadata": {},
     "output_type": "display_data"
    },
    {
     "data": {
      "text/markdown": [
       "#### Total cost for uc3-mrtsword-stg: $17.13"
      ],
      "text/plain": [
       "<IPython.core.display.Markdown object>"
      ]
     },
     "metadata": {},
     "output_type": "display_data"
    },
    {
     "data": {
      "text/html": [
       "<div>\n",
       "<style scoped>\n",
       "    .dataframe tbody tr th:only-of-type {\n",
       "        vertical-align: middle;\n",
       "    }\n",
       "\n",
       "    .dataframe tbody tr th {\n",
       "        vertical-align: top;\n",
       "    }\n",
       "\n",
       "    .dataframe thead th {\n",
       "        text-align: right;\n",
       "    }\n",
       "</style>\n",
       "<table border=\"1\" class=\"dataframe\">\n",
       "  <thead>\n",
       "    <tr style=\"text-align: right;\">\n",
       "      <th></th>\n",
       "      <th>aws_service</th>\n",
       "      <th>device</th>\n",
       "      <th>usage_type</th>\n",
       "      <th>cost</th>\n",
       "      <th>basis</th>\n",
       "    </tr>\n",
       "  </thead>\n",
       "  <tbody>\n",
       "    <tr>\n",
       "      <th>114</th>\n",
       "      <td>BoxUsage</td>\n",
       "      <td></td>\n",
       "      <td>t2.small</td>\n",
       "      <td>$5.7</td>\n",
       "      <td>245.76513487068965 instance hour at $0.02 ea.</td>\n",
       "    </tr>\n",
       "    <tr>\n",
       "      <th>144</th>\n",
       "      <td>EBS</td>\n",
       "      <td>/dev/sdb</td>\n",
       "      <td>SnapshotUsage</td>\n",
       "      <td>$4.88</td>\n",
       "      <td>97.5307635 gb-month at $0.05 ea.</td>\n",
       "    </tr>\n",
       "    <tr>\n",
       "      <th>138</th>\n",
       "      <td>EBS</td>\n",
       "      <td>/dev/sdb</td>\n",
       "      <td>VolumeUsage</td>\n",
       "      <td>$5.0</td>\n",
       "      <td>99.99999935999999 gb-month at $0.05 ea.</td>\n",
       "    </tr>\n",
       "    <tr>\n",
       "      <th>236</th>\n",
       "      <td>EBS</td>\n",
       "      <td>/dev/xvda</td>\n",
       "      <td>SnapshotUsage</td>\n",
       "      <td>$0.81</td>\n",
       "      <td>16.114059259999998 gb-month at $0.05 ea.</td>\n",
       "    </tr>\n",
       "    <tr>\n",
       "      <th>437</th>\n",
       "      <td>EBS</td>\n",
       "      <td>/dev/xvda</td>\n",
       "      <td>VolumeIOUsage</td>\n",
       "      <td>$0.05</td>\n",
       "      <td>0.9404279999999999 million i/o requests at $0.05 ea.</td>\n",
       "    </tr>\n",
       "    <tr>\n",
       "      <th>294</th>\n",
       "      <td>EBS</td>\n",
       "      <td>/dev/xvda</td>\n",
       "      <td>VolumeUsage</td>\n",
       "      <td>$0.6</td>\n",
       "      <td>11.99999952 gb-month at $0.05 ea.</td>\n",
       "    </tr>\n",
       "    <tr>\n",
       "      <th>382</th>\n",
       "      <td>EBS</td>\n",
       "      <td>swap</td>\n",
       "      <td>VolumeUsage</td>\n",
       "      <td>$0.1</td>\n",
       "      <td>2.00000016 gb-month at $0.05 ea.</td>\n",
       "    </tr>\n",
       "  </tbody>\n",
       "</table>\n",
       "</div>"
      ],
      "text/latex": [
       "\\begin{tabular}{llllll}\n",
       "\\toprule\n",
       "{} & aws\\_service &     device &     usage\\_type &   cost &                                                 basis \\\\\n",
       "\\midrule\n",
       "114 &    BoxUsage &            &       t2.small &   \\$5.7 &         245.76513487068965 instance hour at \\$0.02 ea. \\\\\n",
       "144 &         EBS &   /dev/sdb &  SnapshotUsage &  \\$4.88 &                      97.5307635 gb-month at \\$0.05 ea. \\\\\n",
       "138 &         EBS &   /dev/sdb &    VolumeUsage &   \\$5.0 &               99.99999935999999 gb-month at \\$0.05 ea. \\\\\n",
       "236 &         EBS &  /dev/xvda &  SnapshotUsage &  \\$0.81 &              16.114059259999998 gb-month at \\$0.05 ea. \\\\\n",
       "437 &         EBS &  /dev/xvda &  VolumeIOUsage &  \\$0.05 &  0.9404279999999999 million i/o requests at \\$0.05 ea. \\\\\n",
       "294 &         EBS &  /dev/xvda &    VolumeUsage &   \\$0.6 &                     11.99999952 gb-month at \\$0.05 ea. \\\\\n",
       "382 &         EBS &       swap &    VolumeUsage &   \\$0.1 &                      2.00000016 gb-month at \\$0.05 ea. \\\\\n",
       "\\bottomrule\n",
       "\\end{tabular}\n"
      ],
      "text/plain": [
       "    aws_service     device     usage_type   cost  \\\n",
       "114    BoxUsage                  t2.small   $5.7   \n",
       "144         EBS   /dev/sdb  SnapshotUsage  $4.88   \n",
       "138         EBS   /dev/sdb    VolumeUsage   $5.0   \n",
       "236         EBS  /dev/xvda  SnapshotUsage  $0.81   \n",
       "437         EBS  /dev/xvda  VolumeIOUsage  $0.05   \n",
       "294         EBS  /dev/xvda    VolumeUsage   $0.6   \n",
       "382         EBS       swap    VolumeUsage   $0.1   \n",
       "\n",
       "                                                    basis  \n",
       "114         245.76513487068965 instance hour at $0.02 ea.  \n",
       "144                      97.5307635 gb-month at $0.05 ea.  \n",
       "138               99.99999935999999 gb-month at $0.05 ea.  \n",
       "236              16.114059259999998 gb-month at $0.05 ea.  \n",
       "437  0.9404279999999999 million i/o requests at $0.05 ea.  \n",
       "294                     11.99999952 gb-month at $0.05 ea.  \n",
       "382                      2.00000016 gb-month at $0.05 ea.  "
      ]
     },
     "metadata": {},
     "output_type": "display_data"
    },
    {
     "data": {
      "text/markdown": [
       "## ui"
      ],
      "text/plain": [
       "<IPython.core.display.Markdown object>"
      ]
     },
     "metadata": {},
     "output_type": "display_data"
    },
    {
     "data": {
      "text/markdown": [
       "##### Total cost: $514.24"
      ],
      "text/plain": [
       "<IPython.core.display.Markdown object>"
      ]
     },
     "metadata": {},
     "output_type": "display_data"
    },
    {
     "data": {
      "text/markdown": [
       "### "
      ],
      "text/plain": [
       "<IPython.core.display.Markdown object>"
      ]
     },
     "metadata": {},
     "output_type": "display_data"
    },
    {
     "data": {
      "text/markdown": [
       "##### Total cost for ui : $0.0"
      ],
      "text/plain": [
       "<IPython.core.display.Markdown object>"
      ]
     },
     "metadata": {},
     "output_type": "display_data"
    },
    {
     "data": {
      "text/markdown": [
       "### dev"
      ],
      "text/plain": [
       "<IPython.core.display.Markdown object>"
      ]
     },
     "metadata": {},
     "output_type": "display_data"
    },
    {
     "data": {
      "text/markdown": [
       "##### Total cost for ui dev: $12.45"
      ],
      "text/plain": [
       "<IPython.core.display.Markdown object>"
      ]
     },
     "metadata": {},
     "output_type": "display_data"
    },
    {
     "data": {
      "text/markdown": [
       "#### uc3-mrtui-dev"
      ],
      "text/plain": [
       "<IPython.core.display.Markdown object>"
      ]
     },
     "metadata": {},
     "output_type": "display_data"
    },
    {
     "data": {
      "text/markdown": [
       "#### Total cost for uc3-mrtui-dev: $12.45"
      ],
      "text/plain": [
       "<IPython.core.display.Markdown object>"
      ]
     },
     "metadata": {},
     "output_type": "display_data"
    },
    {
     "data": {
      "text/html": [
       "<div>\n",
       "<style scoped>\n",
       "    .dataframe tbody tr th:only-of-type {\n",
       "        vertical-align: middle;\n",
       "    }\n",
       "\n",
       "    .dataframe tbody tr th {\n",
       "        vertical-align: top;\n",
       "    }\n",
       "\n",
       "    .dataframe thead th {\n",
       "        text-align: right;\n",
       "    }\n",
       "</style>\n",
       "<table border=\"1\" class=\"dataframe\">\n",
       "  <thead>\n",
       "    <tr style=\"text-align: right;\">\n",
       "      <th></th>\n",
       "      <th>aws_service</th>\n",
       "      <th>device</th>\n",
       "      <th>usage_type</th>\n",
       "      <th>cost</th>\n",
       "      <th>basis</th>\n",
       "    </tr>\n",
       "  </thead>\n",
       "  <tbody>\n",
       "    <tr>\n",
       "      <th>129</th>\n",
       "      <td>BoxUsage</td>\n",
       "      <td></td>\n",
       "      <td>t2.small</td>\n",
       "      <td>$5.7</td>\n",
       "      <td>245.73594370689653 instance hour at $0.02 ea.</td>\n",
       "    </tr>\n",
       "    <tr>\n",
       "      <th>169</th>\n",
       "      <td>EBS</td>\n",
       "      <td>/dev/sdb</td>\n",
       "      <td>SnapshotUsage</td>\n",
       "      <td>$2.6</td>\n",
       "      <td>51.98523863999999 gb-month at $0.05 ea.</td>\n",
       "    </tr>\n",
       "    <tr>\n",
       "      <th>477</th>\n",
       "      <td>EBS</td>\n",
       "      <td>/dev/sdb</td>\n",
       "      <td>VolumeIOUsage</td>\n",
       "      <td>$0.01</td>\n",
       "      <td>0.20850299999999997 million i/o requests at $0.05 ea.</td>\n",
       "    </tr>\n",
       "    <tr>\n",
       "      <th>165</th>\n",
       "      <td>EBS</td>\n",
       "      <td>/dev/sdb</td>\n",
       "      <td>VolumeUsage</td>\n",
       "      <td>$2.65</td>\n",
       "      <td>53.000000639999996 gb-month at $0.05 ea.</td>\n",
       "    </tr>\n",
       "    <tr>\n",
       "      <th>244</th>\n",
       "      <td>EBS</td>\n",
       "      <td>/dev/xvda</td>\n",
       "      <td>SnapshotUsage</td>\n",
       "      <td>$0.75</td>\n",
       "      <td>14.975327159999999 gb-month at $0.05 ea.</td>\n",
       "    </tr>\n",
       "    <tr>\n",
       "      <th>440</th>\n",
       "      <td>EBS</td>\n",
       "      <td>/dev/xvda</td>\n",
       "      <td>VolumeIOUsage</td>\n",
       "      <td>$0.04</td>\n",
       "      <td>0.89172 million i/o requests at $0.05 ea.</td>\n",
       "    </tr>\n",
       "    <tr>\n",
       "      <th>295</th>\n",
       "      <td>EBS</td>\n",
       "      <td>/dev/xvda</td>\n",
       "      <td>VolumeUsage</td>\n",
       "      <td>$0.6</td>\n",
       "      <td>11.99999952 gb-month at $0.05 ea.</td>\n",
       "    </tr>\n",
       "    <tr>\n",
       "      <th>383</th>\n",
       "      <td>EBS</td>\n",
       "      <td>swap</td>\n",
       "      <td>VolumeUsage</td>\n",
       "      <td>$0.1</td>\n",
       "      <td>2.00000016 gb-month at $0.05 ea.</td>\n",
       "    </tr>\n",
       "  </tbody>\n",
       "</table>\n",
       "</div>"
      ],
      "text/latex": [
       "\\begin{tabular}{llllll}\n",
       "\\toprule\n",
       "{} & aws\\_service &     device &     usage\\_type &   cost &                                                  basis \\\\\n",
       "\\midrule\n",
       "129 &    BoxUsage &            &       t2.small &   \\$5.7 &          245.73594370689653 instance hour at \\$0.02 ea. \\\\\n",
       "169 &         EBS &   /dev/sdb &  SnapshotUsage &   \\$2.6 &                51.98523863999999 gb-month at \\$0.05 ea. \\\\\n",
       "477 &         EBS &   /dev/sdb &  VolumeIOUsage &  \\$0.01 &  0.20850299999999997 million i/o requests at \\$0.05 ea. \\\\\n",
       "165 &         EBS &   /dev/sdb &    VolumeUsage &  \\$2.65 &               53.000000639999996 gb-month at \\$0.05 ea. \\\\\n",
       "244 &         EBS &  /dev/xvda &  SnapshotUsage &  \\$0.75 &               14.975327159999999 gb-month at \\$0.05 ea. \\\\\n",
       "440 &         EBS &  /dev/xvda &  VolumeIOUsage &  \\$0.04 &              0.89172 million i/o requests at \\$0.05 ea. \\\\\n",
       "295 &         EBS &  /dev/xvda &    VolumeUsage &   \\$0.6 &                      11.99999952 gb-month at \\$0.05 ea. \\\\\n",
       "383 &         EBS &       swap &    VolumeUsage &   \\$0.1 &                       2.00000016 gb-month at \\$0.05 ea. \\\\\n",
       "\\bottomrule\n",
       "\\end{tabular}\n"
      ],
      "text/plain": [
       "    aws_service     device     usage_type   cost  \\\n",
       "129    BoxUsage                  t2.small   $5.7   \n",
       "169         EBS   /dev/sdb  SnapshotUsage   $2.6   \n",
       "477         EBS   /dev/sdb  VolumeIOUsage  $0.01   \n",
       "165         EBS   /dev/sdb    VolumeUsage  $2.65   \n",
       "244         EBS  /dev/xvda  SnapshotUsage  $0.75   \n",
       "440         EBS  /dev/xvda  VolumeIOUsage  $0.04   \n",
       "295         EBS  /dev/xvda    VolumeUsage   $0.6   \n",
       "383         EBS       swap    VolumeUsage   $0.1   \n",
       "\n",
       "                                                     basis  \n",
       "129          245.73594370689653 instance hour at $0.02 ea.  \n",
       "169                51.98523863999999 gb-month at $0.05 ea.  \n",
       "477  0.20850299999999997 million i/o requests at $0.05 ea.  \n",
       "165               53.000000639999996 gb-month at $0.05 ea.  \n",
       "244               14.975327159999999 gb-month at $0.05 ea.  \n",
       "440              0.89172 million i/o requests at $0.05 ea.  \n",
       "295                      11.99999952 gb-month at $0.05 ea.  \n",
       "383                       2.00000016 gb-month at $0.05 ea.  "
      ]
     },
     "metadata": {},
     "output_type": "display_data"
    },
    {
     "data": {
      "text/markdown": [
       "### prd"
      ],
      "text/plain": [
       "<IPython.core.display.Markdown object>"
      ]
     },
     "metadata": {},
     "output_type": "display_data"
    },
    {
     "data": {
      "text/markdown": [
       "##### Total cost for ui prd: $476.75"
      ],
      "text/plain": [
       "<IPython.core.display.Markdown object>"
      ]
     },
     "metadata": {},
     "output_type": "display_data"
    },
    {
     "data": {
      "text/markdown": [
       "#### uc3-mrtui01-prd"
      ],
      "text/plain": [
       "<IPython.core.display.Markdown object>"
      ]
     },
     "metadata": {},
     "output_type": "display_data"
    },
    {
     "data": {
      "text/markdown": [
       "#### Total cost for uc3-mrtui01-prd: $160.77"
      ],
      "text/plain": [
       "<IPython.core.display.Markdown object>"
      ]
     },
     "metadata": {},
     "output_type": "display_data"
    },
    {
     "data": {
      "text/html": [
       "<div>\n",
       "<style scoped>\n",
       "    .dataframe tbody tr th:only-of-type {\n",
       "        vertical-align: middle;\n",
       "    }\n",
       "\n",
       "    .dataframe tbody tr th {\n",
       "        vertical-align: top;\n",
       "    }\n",
       "\n",
       "    .dataframe thead th {\n",
       "        text-align: right;\n",
       "    }\n",
       "</style>\n",
       "<table border=\"1\" class=\"dataframe\">\n",
       "  <thead>\n",
       "    <tr style=\"text-align: right;\">\n",
       "      <th></th>\n",
       "      <th>aws_service</th>\n",
       "      <th>device</th>\n",
       "      <th>usage_type</th>\n",
       "      <th>cost</th>\n",
       "      <th>basis</th>\n",
       "    </tr>\n",
       "  </thead>\n",
       "  <tbody>\n",
       "    <tr>\n",
       "      <th>54</th>\n",
       "      <td>BoxUsage</td>\n",
       "      <td></td>\n",
       "      <td>t2.medium</td>\n",
       "      <td>$33.41</td>\n",
       "      <td>720.0000000000001 instance hour at $0.05 ea.</td>\n",
       "    </tr>\n",
       "    <tr>\n",
       "      <th>181</th>\n",
       "      <td>DataTransfer</td>\n",
       "      <td></td>\n",
       "      <td>Regional-Bytes</td>\n",
       "      <td>$1.6</td>\n",
       "      <td>159.5121376 gb - regional data transfer at $0.01 ea.</td>\n",
       "    </tr>\n",
       "    <tr>\n",
       "      <th>98</th>\n",
       "      <td>EBS</td>\n",
       "      <td></td>\n",
       "      <td>SnapshotUsage</td>\n",
       "      <td>$7.84</td>\n",
       "      <td>142.47006927272727 gb-month at $0.06 ea.</td>\n",
       "    </tr>\n",
       "    <tr>\n",
       "      <th>99</th>\n",
       "      <td>EBS</td>\n",
       "      <td>/dev/sdc</td>\n",
       "      <td>SnapshotUsage</td>\n",
       "      <td>$7.8</td>\n",
       "      <td>156.09597326 gb-month at $0.05 ea.</td>\n",
       "    </tr>\n",
       "    <tr>\n",
       "      <th>13</th>\n",
       "      <td>EBS</td>\n",
       "      <td>/dev/sdc</td>\n",
       "      <td>VolumeUsage.gp2</td>\n",
       "      <td>$108.0</td>\n",
       "      <td>1080.0 gb-month at $0.1 ea.</td>\n",
       "    </tr>\n",
       "    <tr>\n",
       "      <th>188</th>\n",
       "      <td>EBS</td>\n",
       "      <td>/dev/xvda</td>\n",
       "      <td>SnapshotUsage</td>\n",
       "      <td>$1.17</td>\n",
       "      <td>23.453552859999995 gb-month at $0.05 ea.</td>\n",
       "    </tr>\n",
       "    <tr>\n",
       "      <th>330</th>\n",
       "      <td>EBS</td>\n",
       "      <td>/dev/xvda</td>\n",
       "      <td>VolumeIOUsage</td>\n",
       "      <td>$0.17</td>\n",
       "      <td>3.45931 million i/o requests at $0.05 ea.</td>\n",
       "    </tr>\n",
       "    <tr>\n",
       "      <th>296</th>\n",
       "      <td>EBS</td>\n",
       "      <td>/dev/xvda</td>\n",
       "      <td>VolumeUsage</td>\n",
       "      <td>$0.6</td>\n",
       "      <td>11.99999952 gb-month at $0.05 ea.</td>\n",
       "    </tr>\n",
       "    <tr>\n",
       "      <th>404</th>\n",
       "      <td>EBS</td>\n",
       "      <td>swap</td>\n",
       "      <td>VolumeIOUsage</td>\n",
       "      <td>$0.08</td>\n",
       "      <td>1.6170079999999998 million i/o requests at $0.05 ea.</td>\n",
       "    </tr>\n",
       "    <tr>\n",
       "      <th>384</th>\n",
       "      <td>EBS</td>\n",
       "      <td>swap</td>\n",
       "      <td>VolumeUsage</td>\n",
       "      <td>$0.1</td>\n",
       "      <td>2.00000016 gb-month at $0.05 ea.</td>\n",
       "    </tr>\n",
       "  </tbody>\n",
       "</table>\n",
       "</div>"
      ],
      "text/latex": [
       "\\begin{tabular}{llllll}\n",
       "\\toprule\n",
       "{} &   aws\\_service &     device &       usage\\_type &    cost &                                                 basis \\\\\n",
       "\\midrule\n",
       "54  &      BoxUsage &            &        t2.medium &  \\$33.41 &          720.0000000000001 instance hour at \\$0.05 ea. \\\\\n",
       "181 &  DataTransfer &            &   Regional-Bytes &    \\$1.6 &  159.5121376 gb - regional data transfer at \\$0.01 ea. \\\\\n",
       "98  &           EBS &            &    SnapshotUsage &   \\$7.84 &              142.47006927272727 gb-month at \\$0.06 ea. \\\\\n",
       "99  &           EBS &   /dev/sdc &    SnapshotUsage &    \\$7.8 &                    156.09597326 gb-month at \\$0.05 ea. \\\\\n",
       "13  &           EBS &   /dev/sdc &  VolumeUsage.gp2 &  \\$108.0 &                           1080.0 gb-month at \\$0.1 ea. \\\\\n",
       "188 &           EBS &  /dev/xvda &    SnapshotUsage &   \\$1.17 &              23.453552859999995 gb-month at \\$0.05 ea. \\\\\n",
       "330 &           EBS &  /dev/xvda &    VolumeIOUsage &   \\$0.17 &             3.45931 million i/o requests at \\$0.05 ea. \\\\\n",
       "296 &           EBS &  /dev/xvda &      VolumeUsage &    \\$0.6 &                     11.99999952 gb-month at \\$0.05 ea. \\\\\n",
       "404 &           EBS &       swap &    VolumeIOUsage &   \\$0.08 &  1.6170079999999998 million i/o requests at \\$0.05 ea. \\\\\n",
       "384 &           EBS &       swap &      VolumeUsage &    \\$0.1 &                      2.00000016 gb-month at \\$0.05 ea. \\\\\n",
       "\\bottomrule\n",
       "\\end{tabular}\n"
      ],
      "text/plain": [
       "      aws_service     device       usage_type    cost  \\\n",
       "54       BoxUsage                   t2.medium  $33.41   \n",
       "181  DataTransfer              Regional-Bytes    $1.6   \n",
       "98            EBS               SnapshotUsage   $7.84   \n",
       "99            EBS   /dev/sdc    SnapshotUsage    $7.8   \n",
       "13            EBS   /dev/sdc  VolumeUsage.gp2  $108.0   \n",
       "188           EBS  /dev/xvda    SnapshotUsage   $1.17   \n",
       "330           EBS  /dev/xvda    VolumeIOUsage   $0.17   \n",
       "296           EBS  /dev/xvda      VolumeUsage    $0.6   \n",
       "404           EBS       swap    VolumeIOUsage   $0.08   \n",
       "384           EBS       swap      VolumeUsage    $0.1   \n",
       "\n",
       "                                                    basis  \n",
       "54           720.0000000000001 instance hour at $0.05 ea.  \n",
       "181  159.5121376 gb - regional data transfer at $0.01 ea.  \n",
       "98               142.47006927272727 gb-month at $0.06 ea.  \n",
       "99                     156.09597326 gb-month at $0.05 ea.  \n",
       "13                            1080.0 gb-month at $0.1 ea.  \n",
       "188              23.453552859999995 gb-month at $0.05 ea.  \n",
       "330             3.45931 million i/o requests at $0.05 ea.  \n",
       "296                     11.99999952 gb-month at $0.05 ea.  \n",
       "404  1.6170079999999998 million i/o requests at $0.05 ea.  \n",
       "384                      2.00000016 gb-month at $0.05 ea.  "
      ]
     },
     "metadata": {},
     "output_type": "display_data"
    },
    {
     "data": {
      "text/markdown": [
       "#### uc3-mrtui02-prd"
      ],
      "text/plain": [
       "<IPython.core.display.Markdown object>"
      ]
     },
     "metadata": {},
     "output_type": "display_data"
    },
    {
     "data": {
      "text/markdown": [
       "#### Total cost for uc3-mrtui02-prd: $157.94"
      ],
      "text/plain": [
       "<IPython.core.display.Markdown object>"
      ]
     },
     "metadata": {},
     "output_type": "display_data"
    },
    {
     "data": {
      "text/html": [
       "<div>\n",
       "<style scoped>\n",
       "    .dataframe tbody tr th:only-of-type {\n",
       "        vertical-align: middle;\n",
       "    }\n",
       "\n",
       "    .dataframe tbody tr th {\n",
       "        vertical-align: top;\n",
       "    }\n",
       "\n",
       "    .dataframe thead th {\n",
       "        text-align: right;\n",
       "    }\n",
       "</style>\n",
       "<table border=\"1\" class=\"dataframe\">\n",
       "  <thead>\n",
       "    <tr style=\"text-align: right;\">\n",
       "      <th></th>\n",
       "      <th>aws_service</th>\n",
       "      <th>device</th>\n",
       "      <th>usage_type</th>\n",
       "      <th>cost</th>\n",
       "      <th>basis</th>\n",
       "    </tr>\n",
       "  </thead>\n",
       "  <tbody>\n",
       "    <tr>\n",
       "      <th>55</th>\n",
       "      <td>BoxUsage</td>\n",
       "      <td></td>\n",
       "      <td>t2.medium</td>\n",
       "      <td>$33.41</td>\n",
       "      <td>720.0000000000001 instance hour at $0.05 ea.</td>\n",
       "    </tr>\n",
       "    <tr>\n",
       "      <th>329</th>\n",
       "      <td>DataTransfer</td>\n",
       "      <td></td>\n",
       "      <td>Regional-Bytes</td>\n",
       "      <td>$0.18</td>\n",
       "      <td>18.250023199999998 gb - regional data transfer at $0.01 ea.</td>\n",
       "    </tr>\n",
       "    <tr>\n",
       "      <th>104</th>\n",
       "      <td>EBS</td>\n",
       "      <td></td>\n",
       "      <td>SnapshotUsage</td>\n",
       "      <td>$7.15</td>\n",
       "      <td>130.0491662727273 gb-month at $0.06 ea.</td>\n",
       "    </tr>\n",
       "    <tr>\n",
       "      <th>103</th>\n",
       "      <td>EBS</td>\n",
       "      <td>/dev/sdc</td>\n",
       "      <td>SnapshotUsage</td>\n",
       "      <td>$7.32</td>\n",
       "      <td>146.33127174 gb-month at $0.05 ea.</td>\n",
       "    </tr>\n",
       "    <tr>\n",
       "      <th>14</th>\n",
       "      <td>EBS</td>\n",
       "      <td>/dev/sdc</td>\n",
       "      <td>VolumeUsage.gp2</td>\n",
       "      <td>$108.0</td>\n",
       "      <td>1080.0 gb-month at $0.1 ea.</td>\n",
       "    </tr>\n",
       "    <tr>\n",
       "      <th>203</th>\n",
       "      <td>EBS</td>\n",
       "      <td>/dev/xvda</td>\n",
       "      <td>SnapshotUsage</td>\n",
       "      <td>$1.07</td>\n",
       "      <td>21.467292219999997 gb-month at $0.05 ea.</td>\n",
       "    </tr>\n",
       "    <tr>\n",
       "      <th>395</th>\n",
       "      <td>EBS</td>\n",
       "      <td>/dev/xvda</td>\n",
       "      <td>VolumeIOUsage</td>\n",
       "      <td>$0.1</td>\n",
       "      <td>1.9252479999999996 million i/o requests at $0.05 ea.</td>\n",
       "    </tr>\n",
       "    <tr>\n",
       "      <th>298</th>\n",
       "      <td>EBS</td>\n",
       "      <td>/dev/xvda</td>\n",
       "      <td>VolumeUsage</td>\n",
       "      <td>$0.6</td>\n",
       "      <td>11.99999952 gb-month at $0.05 ea.</td>\n",
       "    </tr>\n",
       "    <tr>\n",
       "      <th>475</th>\n",
       "      <td>EBS</td>\n",
       "      <td>swap</td>\n",
       "      <td>VolumeIOUsage</td>\n",
       "      <td>$0.01</td>\n",
       "      <td>0.21330000000000002 million i/o requests at $0.05 ea.</td>\n",
       "    </tr>\n",
       "    <tr>\n",
       "      <th>386</th>\n",
       "      <td>EBS</td>\n",
       "      <td>swap</td>\n",
       "      <td>VolumeUsage</td>\n",
       "      <td>$0.1</td>\n",
       "      <td>2.00000016 gb-month at $0.05 ea.</td>\n",
       "    </tr>\n",
       "  </tbody>\n",
       "</table>\n",
       "</div>"
      ],
      "text/latex": [
       "\\begin{tabular}{llllll}\n",
       "\\toprule\n",
       "{} &   aws\\_service &     device &       usage\\_type &    cost &                                                        basis \\\\\n",
       "\\midrule\n",
       "55  &      BoxUsage &            &        t2.medium &  \\$33.41 &                 720.0000000000001 instance hour at \\$0.05 ea. \\\\\n",
       "329 &  DataTransfer &            &   Regional-Bytes &   \\$0.18 &  18.250023199999998 gb - regional data transfer at \\$0.01 ea. \\\\\n",
       "104 &           EBS &            &    SnapshotUsage &   \\$7.15 &                      130.0491662727273 gb-month at \\$0.06 ea. \\\\\n",
       "103 &           EBS &   /dev/sdc &    SnapshotUsage &   \\$7.32 &                           146.33127174 gb-month at \\$0.05 ea. \\\\\n",
       "14  &           EBS &   /dev/sdc &  VolumeUsage.gp2 &  \\$108.0 &                                  1080.0 gb-month at \\$0.1 ea. \\\\\n",
       "203 &           EBS &  /dev/xvda &    SnapshotUsage &   \\$1.07 &                     21.467292219999997 gb-month at \\$0.05 ea. \\\\\n",
       "395 &           EBS &  /dev/xvda &    VolumeIOUsage &    \\$0.1 &         1.9252479999999996 million i/o requests at \\$0.05 ea. \\\\\n",
       "298 &           EBS &  /dev/xvda &      VolumeUsage &    \\$0.6 &                            11.99999952 gb-month at \\$0.05 ea. \\\\\n",
       "475 &           EBS &       swap &    VolumeIOUsage &   \\$0.01 &        0.21330000000000002 million i/o requests at \\$0.05 ea. \\\\\n",
       "386 &           EBS &       swap &      VolumeUsage &    \\$0.1 &                             2.00000016 gb-month at \\$0.05 ea. \\\\\n",
       "\\bottomrule\n",
       "\\end{tabular}\n"
      ],
      "text/plain": [
       "      aws_service     device       usage_type    cost  \\\n",
       "55       BoxUsage                   t2.medium  $33.41   \n",
       "329  DataTransfer              Regional-Bytes   $0.18   \n",
       "104           EBS               SnapshotUsage   $7.15   \n",
       "103           EBS   /dev/sdc    SnapshotUsage   $7.32   \n",
       "14            EBS   /dev/sdc  VolumeUsage.gp2  $108.0   \n",
       "203           EBS  /dev/xvda    SnapshotUsage   $1.07   \n",
       "395           EBS  /dev/xvda    VolumeIOUsage    $0.1   \n",
       "298           EBS  /dev/xvda      VolumeUsage    $0.6   \n",
       "475           EBS       swap    VolumeIOUsage   $0.01   \n",
       "386           EBS       swap      VolumeUsage    $0.1   \n",
       "\n",
       "                                                           basis  \n",
       "55                  720.0000000000001 instance hour at $0.05 ea.  \n",
       "329  18.250023199999998 gb - regional data transfer at $0.01 ea.  \n",
       "104                      130.0491662727273 gb-month at $0.06 ea.  \n",
       "103                           146.33127174 gb-month at $0.05 ea.  \n",
       "14                                   1080.0 gb-month at $0.1 ea.  \n",
       "203                     21.467292219999997 gb-month at $0.05 ea.  \n",
       "395         1.9252479999999996 million i/o requests at $0.05 ea.  \n",
       "298                            11.99999952 gb-month at $0.05 ea.  \n",
       "475        0.21330000000000002 million i/o requests at $0.05 ea.  \n",
       "386                             2.00000016 gb-month at $0.05 ea.  "
      ]
     },
     "metadata": {},
     "output_type": "display_data"
    },
    {
     "data": {
      "text/markdown": [
       "#### uc3-mrtui03-prd"
      ],
      "text/plain": [
       "<IPython.core.display.Markdown object>"
      ]
     },
     "metadata": {},
     "output_type": "display_data"
    },
    {
     "data": {
      "text/markdown": [
       "#### Total cost for uc3-mrtui03-prd: $158.04"
      ],
      "text/plain": [
       "<IPython.core.display.Markdown object>"
      ]
     },
     "metadata": {},
     "output_type": "display_data"
    },
    {
     "data": {
      "text/html": [
       "<div>\n",
       "<style scoped>\n",
       "    .dataframe tbody tr th:only-of-type {\n",
       "        vertical-align: middle;\n",
       "    }\n",
       "\n",
       "    .dataframe tbody tr th {\n",
       "        vertical-align: top;\n",
       "    }\n",
       "\n",
       "    .dataframe thead th {\n",
       "        text-align: right;\n",
       "    }\n",
       "</style>\n",
       "<table border=\"1\" class=\"dataframe\">\n",
       "  <thead>\n",
       "    <tr style=\"text-align: right;\">\n",
       "      <th></th>\n",
       "      <th>aws_service</th>\n",
       "      <th>device</th>\n",
       "      <th>usage_type</th>\n",
       "      <th>cost</th>\n",
       "      <th>basis</th>\n",
       "    </tr>\n",
       "  </thead>\n",
       "  <tbody>\n",
       "    <tr>\n",
       "      <th>56</th>\n",
       "      <td>BoxUsage</td>\n",
       "      <td></td>\n",
       "      <td>t2.medium</td>\n",
       "      <td>$33.41</td>\n",
       "      <td>720.0000000000001 instance hour at $0.05 ea.</td>\n",
       "    </tr>\n",
       "    <tr>\n",
       "      <th>184</th>\n",
       "      <td>DataTransfer</td>\n",
       "      <td></td>\n",
       "      <td>Regional-Bytes</td>\n",
       "      <td>$1.48</td>\n",
       "      <td>148.1719309 gb - regional data transfer at $0.01 ea.</td>\n",
       "    </tr>\n",
       "    <tr>\n",
       "      <th>106</th>\n",
       "      <td>EBS</td>\n",
       "      <td></td>\n",
       "      <td>SnapshotUsage</td>\n",
       "      <td>$6.53</td>\n",
       "      <td>118.72436814545453 gb-month at $0.06 ea.</td>\n",
       "    </tr>\n",
       "    <tr>\n",
       "      <th>105</th>\n",
       "      <td>EBS</td>\n",
       "      <td>/dev/sdc</td>\n",
       "      <td>SnapshotUsage</td>\n",
       "      <td>$6.64</td>\n",
       "      <td>132.77927524 gb-month at $0.05 ea.</td>\n",
       "    </tr>\n",
       "    <tr>\n",
       "      <th>15</th>\n",
       "      <td>EBS</td>\n",
       "      <td>/dev/sdc</td>\n",
       "      <td>VolumeUsage.gp2</td>\n",
       "      <td>$108.0</td>\n",
       "      <td>1080.0 gb-month at $0.1 ea.</td>\n",
       "    </tr>\n",
       "    <tr>\n",
       "      <th>190</th>\n",
       "      <td>EBS</td>\n",
       "      <td>/dev/xvda</td>\n",
       "      <td>SnapshotUsage</td>\n",
       "      <td>$1.15</td>\n",
       "      <td>22.96982602 gb-month at $0.05 ea.</td>\n",
       "    </tr>\n",
       "    <tr>\n",
       "      <th>337</th>\n",
       "      <td>EBS</td>\n",
       "      <td>/dev/xvda</td>\n",
       "      <td>VolumeIOUsage</td>\n",
       "      <td>$0.11</td>\n",
       "      <td>2.1256399999999998 million i/o requests at $0.05 ea.</td>\n",
       "    </tr>\n",
       "    <tr>\n",
       "      <th>300</th>\n",
       "      <td>EBS</td>\n",
       "      <td>/dev/xvda</td>\n",
       "      <td>VolumeUsage</td>\n",
       "      <td>$0.6</td>\n",
       "      <td>11.99999952 gb-month at $0.05 ea.</td>\n",
       "    </tr>\n",
       "    <tr>\n",
       "      <th>455</th>\n",
       "      <td>EBS</td>\n",
       "      <td>swap</td>\n",
       "      <td>VolumeIOUsage</td>\n",
       "      <td>$0.03</td>\n",
       "      <td>0.507269 million i/o requests at $0.05 ea.</td>\n",
       "    </tr>\n",
       "    <tr>\n",
       "      <th>388</th>\n",
       "      <td>EBS</td>\n",
       "      <td>swap</td>\n",
       "      <td>VolumeUsage</td>\n",
       "      <td>$0.1</td>\n",
       "      <td>2.00000016 gb-month at $0.05 ea.</td>\n",
       "    </tr>\n",
       "  </tbody>\n",
       "</table>\n",
       "</div>"
      ],
      "text/latex": [
       "\\begin{tabular}{llllll}\n",
       "\\toprule\n",
       "{} &   aws\\_service &     device &       usage\\_type &    cost &                                                 basis \\\\\n",
       "\\midrule\n",
       "56  &      BoxUsage &            &        t2.medium &  \\$33.41 &          720.0000000000001 instance hour at \\$0.05 ea. \\\\\n",
       "184 &  DataTransfer &            &   Regional-Bytes &   \\$1.48 &  148.1719309 gb - regional data transfer at \\$0.01 ea. \\\\\n",
       "106 &           EBS &            &    SnapshotUsage &   \\$6.53 &              118.72436814545453 gb-month at \\$0.06 ea. \\\\\n",
       "105 &           EBS &   /dev/sdc &    SnapshotUsage &   \\$6.64 &                    132.77927524 gb-month at \\$0.05 ea. \\\\\n",
       "15  &           EBS &   /dev/sdc &  VolumeUsage.gp2 &  \\$108.0 &                           1080.0 gb-month at \\$0.1 ea. \\\\\n",
       "190 &           EBS &  /dev/xvda &    SnapshotUsage &   \\$1.15 &                     22.96982602 gb-month at \\$0.05 ea. \\\\\n",
       "337 &           EBS &  /dev/xvda &    VolumeIOUsage &   \\$0.11 &  2.1256399999999998 million i/o requests at \\$0.05 ea. \\\\\n",
       "300 &           EBS &  /dev/xvda &      VolumeUsage &    \\$0.6 &                     11.99999952 gb-month at \\$0.05 ea. \\\\\n",
       "455 &           EBS &       swap &    VolumeIOUsage &   \\$0.03 &            0.507269 million i/o requests at \\$0.05 ea. \\\\\n",
       "388 &           EBS &       swap &      VolumeUsage &    \\$0.1 &                      2.00000016 gb-month at \\$0.05 ea. \\\\\n",
       "\\bottomrule\n",
       "\\end{tabular}\n"
      ],
      "text/plain": [
       "      aws_service     device       usage_type    cost  \\\n",
       "56       BoxUsage                   t2.medium  $33.41   \n",
       "184  DataTransfer              Regional-Bytes   $1.48   \n",
       "106           EBS               SnapshotUsage   $6.53   \n",
       "105           EBS   /dev/sdc    SnapshotUsage   $6.64   \n",
       "15            EBS   /dev/sdc  VolumeUsage.gp2  $108.0   \n",
       "190           EBS  /dev/xvda    SnapshotUsage   $1.15   \n",
       "337           EBS  /dev/xvda    VolumeIOUsage   $0.11   \n",
       "300           EBS  /dev/xvda      VolumeUsage    $0.6   \n",
       "455           EBS       swap    VolumeIOUsage   $0.03   \n",
       "388           EBS       swap      VolumeUsage    $0.1   \n",
       "\n",
       "                                                    basis  \n",
       "56           720.0000000000001 instance hour at $0.05 ea.  \n",
       "184  148.1719309 gb - regional data transfer at $0.01 ea.  \n",
       "106              118.72436814545453 gb-month at $0.06 ea.  \n",
       "105                    132.77927524 gb-month at $0.05 ea.  \n",
       "15                            1080.0 gb-month at $0.1 ea.  \n",
       "190                     22.96982602 gb-month at $0.05 ea.  \n",
       "337  2.1256399999999998 million i/o requests at $0.05 ea.  \n",
       "300                     11.99999952 gb-month at $0.05 ea.  \n",
       "455            0.507269 million i/o requests at $0.05 ea.  \n",
       "388                      2.00000016 gb-month at $0.05 ea.  "
      ]
     },
     "metadata": {},
     "output_type": "display_data"
    },
    {
     "data": {
      "text/markdown": [
       "### stg"
      ],
      "text/plain": [
       "<IPython.core.display.Markdown object>"
      ]
     },
     "metadata": {},
     "output_type": "display_data"
    },
    {
     "data": {
      "text/markdown": [
       "##### Total cost for ui stg: $25.04"
      ],
      "text/plain": [
       "<IPython.core.display.Markdown object>"
      ]
     },
     "metadata": {},
     "output_type": "display_data"
    },
    {
     "data": {
      "text/markdown": [
       "#### uc3-mrtui01-stg"
      ],
      "text/plain": [
       "<IPython.core.display.Markdown object>"
      ]
     },
     "metadata": {},
     "output_type": "display_data"
    },
    {
     "data": {
      "text/markdown": [
       "#### Total cost for uc3-mrtui01-stg: $12.49"
      ],
      "text/plain": [
       "<IPython.core.display.Markdown object>"
      ]
     },
     "metadata": {},
     "output_type": "display_data"
    },
    {
     "data": {
      "text/html": [
       "<div>\n",
       "<style scoped>\n",
       "    .dataframe tbody tr th:only-of-type {\n",
       "        vertical-align: middle;\n",
       "    }\n",
       "\n",
       "    .dataframe tbody tr th {\n",
       "        vertical-align: top;\n",
       "    }\n",
       "\n",
       "    .dataframe thead th {\n",
       "        text-align: right;\n",
       "    }\n",
       "</style>\n",
       "<table border=\"1\" class=\"dataframe\">\n",
       "  <thead>\n",
       "    <tr style=\"text-align: right;\">\n",
       "      <th></th>\n",
       "      <th>aws_service</th>\n",
       "      <th>device</th>\n",
       "      <th>usage_type</th>\n",
       "      <th>cost</th>\n",
       "      <th>basis</th>\n",
       "    </tr>\n",
       "  </thead>\n",
       "  <tbody>\n",
       "    <tr>\n",
       "      <th>118</th>\n",
       "      <td>BoxUsage</td>\n",
       "      <td></td>\n",
       "      <td>t2.small</td>\n",
       "      <td>$5.7</td>\n",
       "      <td>245.7488861637931 instance hour at $0.02 ea.</td>\n",
       "    </tr>\n",
       "    <tr>\n",
       "      <th>168</th>\n",
       "      <td>EBS</td>\n",
       "      <td>/dev/sdb</td>\n",
       "      <td>SnapshotUsage</td>\n",
       "      <td>$2.6</td>\n",
       "      <td>52.00605988 gb-month at $0.05 ea.</td>\n",
       "    </tr>\n",
       "    <tr>\n",
       "      <th>166</th>\n",
       "      <td>EBS</td>\n",
       "      <td>/dev/sdb</td>\n",
       "      <td>VolumeUsage</td>\n",
       "      <td>$2.65</td>\n",
       "      <td>53.000000639999996 gb-month at $0.05 ea.</td>\n",
       "    </tr>\n",
       "    <tr>\n",
       "      <th>237</th>\n",
       "      <td>EBS</td>\n",
       "      <td>/dev/xvda</td>\n",
       "      <td>SnapshotUsage</td>\n",
       "      <td>$0.8</td>\n",
       "      <td>16.04420078 gb-month at $0.05 ea.</td>\n",
       "    </tr>\n",
       "    <tr>\n",
       "      <th>446</th>\n",
       "      <td>EBS</td>\n",
       "      <td>/dev/xvda</td>\n",
       "      <td>VolumeIOUsage</td>\n",
       "      <td>$0.04</td>\n",
       "      <td>0.7464669999999999 million i/o requests at $0.05 ea.</td>\n",
       "    </tr>\n",
       "    <tr>\n",
       "      <th>297</th>\n",
       "      <td>EBS</td>\n",
       "      <td>/dev/xvda</td>\n",
       "      <td>VolumeUsage</td>\n",
       "      <td>$0.6</td>\n",
       "      <td>11.99999952 gb-month at $0.05 ea.</td>\n",
       "    </tr>\n",
       "    <tr>\n",
       "      <th>385</th>\n",
       "      <td>EBS</td>\n",
       "      <td>swap</td>\n",
       "      <td>VolumeUsage</td>\n",
       "      <td>$0.1</td>\n",
       "      <td>2.00000016 gb-month at $0.05 ea.</td>\n",
       "    </tr>\n",
       "  </tbody>\n",
       "</table>\n",
       "</div>"
      ],
      "text/latex": [
       "\\begin{tabular}{llllll}\n",
       "\\toprule\n",
       "{} & aws\\_service &     device &     usage\\_type &   cost &                                                 basis \\\\\n",
       "\\midrule\n",
       "118 &    BoxUsage &            &       t2.small &   \\$5.7 &          245.7488861637931 instance hour at \\$0.02 ea. \\\\\n",
       "168 &         EBS &   /dev/sdb &  SnapshotUsage &   \\$2.6 &                     52.00605988 gb-month at \\$0.05 ea. \\\\\n",
       "166 &         EBS &   /dev/sdb &    VolumeUsage &  \\$2.65 &              53.000000639999996 gb-month at \\$0.05 ea. \\\\\n",
       "237 &         EBS &  /dev/xvda &  SnapshotUsage &   \\$0.8 &                     16.04420078 gb-month at \\$0.05 ea. \\\\\n",
       "446 &         EBS &  /dev/xvda &  VolumeIOUsage &  \\$0.04 &  0.7464669999999999 million i/o requests at \\$0.05 ea. \\\\\n",
       "297 &         EBS &  /dev/xvda &    VolumeUsage &   \\$0.6 &                     11.99999952 gb-month at \\$0.05 ea. \\\\\n",
       "385 &         EBS &       swap &    VolumeUsage &   \\$0.1 &                      2.00000016 gb-month at \\$0.05 ea. \\\\\n",
       "\\bottomrule\n",
       "\\end{tabular}\n"
      ],
      "text/plain": [
       "    aws_service     device     usage_type   cost  \\\n",
       "118    BoxUsage                  t2.small   $5.7   \n",
       "168         EBS   /dev/sdb  SnapshotUsage   $2.6   \n",
       "166         EBS   /dev/sdb    VolumeUsage  $2.65   \n",
       "237         EBS  /dev/xvda  SnapshotUsage   $0.8   \n",
       "446         EBS  /dev/xvda  VolumeIOUsage  $0.04   \n",
       "297         EBS  /dev/xvda    VolumeUsage   $0.6   \n",
       "385         EBS       swap    VolumeUsage   $0.1   \n",
       "\n",
       "                                                    basis  \n",
       "118          245.7488861637931 instance hour at $0.02 ea.  \n",
       "168                     52.00605988 gb-month at $0.05 ea.  \n",
       "166              53.000000639999996 gb-month at $0.05 ea.  \n",
       "237                     16.04420078 gb-month at $0.05 ea.  \n",
       "446  0.7464669999999999 million i/o requests at $0.05 ea.  \n",
       "297                     11.99999952 gb-month at $0.05 ea.  \n",
       "385                      2.00000016 gb-month at $0.05 ea.  "
      ]
     },
     "metadata": {},
     "output_type": "display_data"
    },
    {
     "data": {
      "text/markdown": [
       "#### uc3-mrtui02-stg"
      ],
      "text/plain": [
       "<IPython.core.display.Markdown object>"
      ]
     },
     "metadata": {},
     "output_type": "display_data"
    },
    {
     "data": {
      "text/markdown": [
       "#### Total cost for uc3-mrtui02-stg: $12.55"
      ],
      "text/plain": [
       "<IPython.core.display.Markdown object>"
      ]
     },
     "metadata": {},
     "output_type": "display_data"
    },
    {
     "data": {
      "text/html": [
       "<div>\n",
       "<style scoped>\n",
       "    .dataframe tbody tr th:only-of-type {\n",
       "        vertical-align: middle;\n",
       "    }\n",
       "\n",
       "    .dataframe tbody tr th {\n",
       "        vertical-align: top;\n",
       "    }\n",
       "\n",
       "    .dataframe thead th {\n",
       "        text-align: right;\n",
       "    }\n",
       "</style>\n",
       "<table border=\"1\" class=\"dataframe\">\n",
       "  <thead>\n",
       "    <tr style=\"text-align: right;\">\n",
       "      <th></th>\n",
       "      <th>aws_service</th>\n",
       "      <th>device</th>\n",
       "      <th>usage_type</th>\n",
       "      <th>cost</th>\n",
       "      <th>basis</th>\n",
       "    </tr>\n",
       "  </thead>\n",
       "  <tbody>\n",
       "    <tr>\n",
       "      <th>122</th>\n",
       "      <td>BoxUsage</td>\n",
       "      <td></td>\n",
       "      <td>t2.small</td>\n",
       "      <td>$5.7</td>\n",
       "      <td>245.7461311206897 instance hour at $0.02 ea.</td>\n",
       "    </tr>\n",
       "    <tr>\n",
       "      <th>170</th>\n",
       "      <td>EBS</td>\n",
       "      <td>/dev/sdb</td>\n",
       "      <td>SnapshotUsage</td>\n",
       "      <td>$2.6</td>\n",
       "      <td>51.93656039999999 gb-month at $0.05 ea.</td>\n",
       "    </tr>\n",
       "    <tr>\n",
       "      <th>167</th>\n",
       "      <td>EBS</td>\n",
       "      <td>/dev/sdb</td>\n",
       "      <td>VolumeUsage</td>\n",
       "      <td>$2.65</td>\n",
       "      <td>53.000000639999996 gb-month at $0.05 ea.</td>\n",
       "    </tr>\n",
       "    <tr>\n",
       "      <th>229</th>\n",
       "      <td>EBS</td>\n",
       "      <td>/dev/xvda</td>\n",
       "      <td>SnapshotUsage</td>\n",
       "      <td>$0.86</td>\n",
       "      <td>17.26996958 gb-month at $0.05 ea.</td>\n",
       "    </tr>\n",
       "    <tr>\n",
       "      <th>445</th>\n",
       "      <td>EBS</td>\n",
       "      <td>/dev/xvda</td>\n",
       "      <td>VolumeIOUsage</td>\n",
       "      <td>$0.04</td>\n",
       "      <td>0.7469489999999999 million i/o requests at $0.05 ea.</td>\n",
       "    </tr>\n",
       "    <tr>\n",
       "      <th>299</th>\n",
       "      <td>EBS</td>\n",
       "      <td>/dev/xvda</td>\n",
       "      <td>VolumeUsage</td>\n",
       "      <td>$0.6</td>\n",
       "      <td>11.99999952 gb-month at $0.05 ea.</td>\n",
       "    </tr>\n",
       "    <tr>\n",
       "      <th>387</th>\n",
       "      <td>EBS</td>\n",
       "      <td>swap</td>\n",
       "      <td>VolumeUsage</td>\n",
       "      <td>$0.1</td>\n",
       "      <td>2.00000016 gb-month at $0.05 ea.</td>\n",
       "    </tr>\n",
       "  </tbody>\n",
       "</table>\n",
       "</div>"
      ],
      "text/latex": [
       "\\begin{tabular}{llllll}\n",
       "\\toprule\n",
       "{} & aws\\_service &     device &     usage\\_type &   cost &                                                 basis \\\\\n",
       "\\midrule\n",
       "122 &    BoxUsage &            &       t2.small &   \\$5.7 &          245.7461311206897 instance hour at \\$0.02 ea. \\\\\n",
       "170 &         EBS &   /dev/sdb &  SnapshotUsage &   \\$2.6 &               51.93656039999999 gb-month at \\$0.05 ea. \\\\\n",
       "167 &         EBS &   /dev/sdb &    VolumeUsage &  \\$2.65 &              53.000000639999996 gb-month at \\$0.05 ea. \\\\\n",
       "229 &         EBS &  /dev/xvda &  SnapshotUsage &  \\$0.86 &                     17.26996958 gb-month at \\$0.05 ea. \\\\\n",
       "445 &         EBS &  /dev/xvda &  VolumeIOUsage &  \\$0.04 &  0.7469489999999999 million i/o requests at \\$0.05 ea. \\\\\n",
       "299 &         EBS &  /dev/xvda &    VolumeUsage &   \\$0.6 &                     11.99999952 gb-month at \\$0.05 ea. \\\\\n",
       "387 &         EBS &       swap &    VolumeUsage &   \\$0.1 &                      2.00000016 gb-month at \\$0.05 ea. \\\\\n",
       "\\bottomrule\n",
       "\\end{tabular}\n"
      ],
      "text/plain": [
       "    aws_service     device     usage_type   cost  \\\n",
       "122    BoxUsage                  t2.small   $5.7   \n",
       "170         EBS   /dev/sdb  SnapshotUsage   $2.6   \n",
       "167         EBS   /dev/sdb    VolumeUsage  $2.65   \n",
       "229         EBS  /dev/xvda  SnapshotUsage  $0.86   \n",
       "445         EBS  /dev/xvda  VolumeIOUsage  $0.04   \n",
       "299         EBS  /dev/xvda    VolumeUsage   $0.6   \n",
       "387         EBS       swap    VolumeUsage   $0.1   \n",
       "\n",
       "                                                    basis  \n",
       "122          245.7461311206897 instance hour at $0.02 ea.  \n",
       "170               51.93656039999999 gb-month at $0.05 ea.  \n",
       "167              53.000000639999996 gb-month at $0.05 ea.  \n",
       "229                     17.26996958 gb-month at $0.05 ea.  \n",
       "445  0.7469489999999999 million i/o requests at $0.05 ea.  \n",
       "299                     11.99999952 gb-month at $0.05 ea.  \n",
       "387                      2.00000016 gb-month at $0.05 ea.  "
      ]
     },
     "metadata": {},
     "output_type": "display_data"
    },
    {
     "data": {
      "text/markdown": [
       "## web"
      ],
      "text/plain": [
       "<IPython.core.display.Markdown object>"
      ]
     },
     "metadata": {},
     "output_type": "display_data"
    },
    {
     "data": {
      "text/markdown": [
       "##### Total cost: $117.69"
      ],
      "text/plain": [
       "<IPython.core.display.Markdown object>"
      ]
     },
     "metadata": {},
     "output_type": "display_data"
    },
    {
     "data": {
      "text/markdown": [
       "### "
      ],
      "text/plain": [
       "<IPython.core.display.Markdown object>"
      ]
     },
     "metadata": {},
     "output_type": "display_data"
    },
    {
     "data": {
      "text/markdown": [
       "##### Total cost for web : $0.0"
      ],
      "text/plain": [
       "<IPython.core.display.Markdown object>"
      ]
     },
     "metadata": {},
     "output_type": "display_data"
    },
    {
     "data": {
      "text/markdown": [
       "### dev"
      ],
      "text/plain": [
       "<IPython.core.display.Markdown object>"
      ]
     },
     "metadata": {},
     "output_type": "display_data"
    },
    {
     "data": {
      "text/markdown": [
       "##### Total cost for web dev: $9.41"
      ],
      "text/plain": [
       "<IPython.core.display.Markdown object>"
      ]
     },
     "metadata": {},
     "output_type": "display_data"
    },
    {
     "data": {
      "text/markdown": [
       "#### uc3-mrtweb-dev"
      ],
      "text/plain": [
       "<IPython.core.display.Markdown object>"
      ]
     },
     "metadata": {},
     "output_type": "display_data"
    },
    {
     "data": {
      "text/markdown": [
       "#### Total cost for uc3-mrtweb-dev: $9.41"
      ],
      "text/plain": [
       "<IPython.core.display.Markdown object>"
      ]
     },
     "metadata": {},
     "output_type": "display_data"
    },
    {
     "data": {
      "text/html": [
       "<div>\n",
       "<style scoped>\n",
       "    .dataframe tbody tr th:only-of-type {\n",
       "        vertical-align: middle;\n",
       "    }\n",
       "\n",
       "    .dataframe tbody tr th {\n",
       "        vertical-align: top;\n",
       "    }\n",
       "\n",
       "    .dataframe thead th {\n",
       "        text-align: right;\n",
       "    }\n",
       "</style>\n",
       "<table border=\"1\" class=\"dataframe\">\n",
       "  <thead>\n",
       "    <tr style=\"text-align: right;\">\n",
       "      <th></th>\n",
       "      <th>aws_service</th>\n",
       "      <th>device</th>\n",
       "      <th>usage_type</th>\n",
       "      <th>cost</th>\n",
       "      <th>basis</th>\n",
       "    </tr>\n",
       "  </thead>\n",
       "  <tbody>\n",
       "    <tr>\n",
       "      <th>108</th>\n",
       "      <td>BoxUsage</td>\n",
       "      <td></td>\n",
       "      <td>t2.small</td>\n",
       "      <td>$5.94</td>\n",
       "      <td>256.14790392241383 instance hour at $0.02 ea.</td>\n",
       "    </tr>\n",
       "    <tr>\n",
       "      <th>214</th>\n",
       "      <td>EBS</td>\n",
       "      <td>/dev/sdb</td>\n",
       "      <td>SnapshotUsage</td>\n",
       "      <td>$1.0</td>\n",
       "      <td>20.05891148 gb-month at $0.05 ea.</td>\n",
       "    </tr>\n",
       "    <tr>\n",
       "      <th>216</th>\n",
       "      <td>EBS</td>\n",
       "      <td>/dev/sdb</td>\n",
       "      <td>VolumeUsage</td>\n",
       "      <td>$1.0</td>\n",
       "      <td>20.00000016 gb-month at $0.05 ea.</td>\n",
       "    </tr>\n",
       "    <tr>\n",
       "      <th>246</th>\n",
       "      <td>EBS</td>\n",
       "      <td>/dev/xvda</td>\n",
       "      <td>SnapshotUsage</td>\n",
       "      <td>$0.72</td>\n",
       "      <td>14.47203394 gb-month at $0.05 ea.</td>\n",
       "    </tr>\n",
       "    <tr>\n",
       "      <th>448</th>\n",
       "      <td>EBS</td>\n",
       "      <td>/dev/xvda</td>\n",
       "      <td>VolumeIOUsage</td>\n",
       "      <td>$0.04</td>\n",
       "      <td>0.7285769999999999 million i/o requests at $0.05 ea.</td>\n",
       "    </tr>\n",
       "    <tr>\n",
       "      <th>301</th>\n",
       "      <td>EBS</td>\n",
       "      <td>/dev/xvda</td>\n",
       "      <td>VolumeUsage</td>\n",
       "      <td>$0.6</td>\n",
       "      <td>11.99999952 gb-month at $0.05 ea.</td>\n",
       "    </tr>\n",
       "    <tr>\n",
       "      <th>389</th>\n",
       "      <td>EBS</td>\n",
       "      <td>swap</td>\n",
       "      <td>VolumeUsage</td>\n",
       "      <td>$0.1</td>\n",
       "      <td>2.00000016 gb-month at $0.05 ea.</td>\n",
       "    </tr>\n",
       "  </tbody>\n",
       "</table>\n",
       "</div>"
      ],
      "text/latex": [
       "\\begin{tabular}{llllll}\n",
       "\\toprule\n",
       "{} & aws\\_service &     device &     usage\\_type &   cost &                                                 basis \\\\\n",
       "\\midrule\n",
       "108 &    BoxUsage &            &       t2.small &  \\$5.94 &         256.14790392241383 instance hour at \\$0.02 ea. \\\\\n",
       "214 &         EBS &   /dev/sdb &  SnapshotUsage &   \\$1.0 &                     20.05891148 gb-month at \\$0.05 ea. \\\\\n",
       "216 &         EBS &   /dev/sdb &    VolumeUsage &   \\$1.0 &                     20.00000016 gb-month at \\$0.05 ea. \\\\\n",
       "246 &         EBS &  /dev/xvda &  SnapshotUsage &  \\$0.72 &                     14.47203394 gb-month at \\$0.05 ea. \\\\\n",
       "448 &         EBS &  /dev/xvda &  VolumeIOUsage &  \\$0.04 &  0.7285769999999999 million i/o requests at \\$0.05 ea. \\\\\n",
       "301 &         EBS &  /dev/xvda &    VolumeUsage &   \\$0.6 &                     11.99999952 gb-month at \\$0.05 ea. \\\\\n",
       "389 &         EBS &       swap &    VolumeUsage &   \\$0.1 &                      2.00000016 gb-month at \\$0.05 ea. \\\\\n",
       "\\bottomrule\n",
       "\\end{tabular}\n"
      ],
      "text/plain": [
       "    aws_service     device     usage_type   cost  \\\n",
       "108    BoxUsage                  t2.small  $5.94   \n",
       "214         EBS   /dev/sdb  SnapshotUsage   $1.0   \n",
       "216         EBS   /dev/sdb    VolumeUsage   $1.0   \n",
       "246         EBS  /dev/xvda  SnapshotUsage  $0.72   \n",
       "448         EBS  /dev/xvda  VolumeIOUsage  $0.04   \n",
       "301         EBS  /dev/xvda    VolumeUsage   $0.6   \n",
       "389         EBS       swap    VolumeUsage   $0.1   \n",
       "\n",
       "                                                    basis  \n",
       "108         256.14790392241383 instance hour at $0.02 ea.  \n",
       "214                     20.05891148 gb-month at $0.05 ea.  \n",
       "216                     20.00000016 gb-month at $0.05 ea.  \n",
       "246                     14.47203394 gb-month at $0.05 ea.  \n",
       "448  0.7285769999999999 million i/o requests at $0.05 ea.  \n",
       "301                     11.99999952 gb-month at $0.05 ea.  \n",
       "389                      2.00000016 gb-month at $0.05 ea.  "
      ]
     },
     "metadata": {},
     "output_type": "display_data"
    },
    {
     "data": {
      "text/markdown": [
       "### prd"
      ],
      "text/plain": [
       "<IPython.core.display.Markdown object>"
      ]
     },
     "metadata": {},
     "output_type": "display_data"
    },
    {
     "data": {
      "text/markdown": [
       "##### Total cost for web prd: $96.45"
      ],
      "text/plain": [
       "<IPython.core.display.Markdown object>"
      ]
     },
     "metadata": {},
     "output_type": "display_data"
    },
    {
     "data": {
      "text/markdown": [
       "#### uc3-mrtweb-prd"
      ],
      "text/plain": [
       "<IPython.core.display.Markdown object>"
      ]
     },
     "metadata": {},
     "output_type": "display_data"
    },
    {
     "data": {
      "text/markdown": [
       "#### Total cost for uc3-mrtweb-prd: $96.45"
      ],
      "text/plain": [
       "<IPython.core.display.Markdown object>"
      ]
     },
     "metadata": {},
     "output_type": "display_data"
    },
    {
     "data": {
      "text/html": [
       "<div>\n",
       "<style scoped>\n",
       "    .dataframe tbody tr th:only-of-type {\n",
       "        vertical-align: middle;\n",
       "    }\n",
       "\n",
       "    .dataframe tbody tr th {\n",
       "        vertical-align: top;\n",
       "    }\n",
       "\n",
       "    .dataframe thead th {\n",
       "        text-align: right;\n",
       "    }\n",
       "</style>\n",
       "<table border=\"1\" class=\"dataframe\">\n",
       "  <thead>\n",
       "    <tr style=\"text-align: right;\">\n",
       "      <th></th>\n",
       "      <th>aws_service</th>\n",
       "      <th>device</th>\n",
       "      <th>usage_type</th>\n",
       "      <th>cost</th>\n",
       "      <th>basis</th>\n",
       "    </tr>\n",
       "  </thead>\n",
       "  <tbody>\n",
       "    <tr>\n",
       "      <th>45</th>\n",
       "      <td>BoxUsage</td>\n",
       "      <td></td>\n",
       "      <td>m4.large</td>\n",
       "      <td>$50.4</td>\n",
       "      <td>503.99999999999994 instance hour at $0.1 ea.</td>\n",
       "    </tr>\n",
       "    <tr>\n",
       "      <th>142</th>\n",
       "      <td>BoxUsage</td>\n",
       "      <td></td>\n",
       "      <td>t2.small</td>\n",
       "      <td>$4.95</td>\n",
       "      <td>213.230543362069 instance hour at $0.02 ea.</td>\n",
       "    </tr>\n",
       "    <tr>\n",
       "      <th>57</th>\n",
       "      <td>DataTransfer</td>\n",
       "      <td></td>\n",
       "      <td>Out-Bytes</td>\n",
       "      <td>$27.61</td>\n",
       "      <td>306.7442324444445 gb - first 10 tb / month data transfer at $0.09 ea.</td>\n",
       "    </tr>\n",
       "    <tr>\n",
       "      <th>100</th>\n",
       "      <td>DataTransfer</td>\n",
       "      <td></td>\n",
       "      <td>Regional-Bytes</td>\n",
       "      <td>$7.64</td>\n",
       "      <td>764.4991024 gb - regional data transfer at $0.01 ea.</td>\n",
       "    </tr>\n",
       "    <tr>\n",
       "      <th>185</th>\n",
       "      <td>EBS</td>\n",
       "      <td></td>\n",
       "      <td>SnapshotUsage</td>\n",
       "      <td>$1.46</td>\n",
       "      <td>26.559012436363638 gb-month at $0.06 ea.</td>\n",
       "    </tr>\n",
       "    <tr>\n",
       "      <th>182</th>\n",
       "      <td>EBS</td>\n",
       "      <td>/dev/sdb</td>\n",
       "      <td>SnapshotUsage</td>\n",
       "      <td>$1.55</td>\n",
       "      <td>30.911885039999998 gb-month at $0.05 ea.</td>\n",
       "    </tr>\n",
       "    <tr>\n",
       "      <th>394</th>\n",
       "      <td>EBS</td>\n",
       "      <td>/dev/sdb</td>\n",
       "      <td>VolumeIOUsage</td>\n",
       "      <td>$0.1</td>\n",
       "      <td>1.9767629999999998 million i/o requests at $0.05 ea.</td>\n",
       "    </tr>\n",
       "    <tr>\n",
       "      <th>217</th>\n",
       "      <td>EBS</td>\n",
       "      <td>/dev/sdb</td>\n",
       "      <td>VolumeUsage</td>\n",
       "      <td>$1.0</td>\n",
       "      <td>20.00000016 gb-month at $0.05 ea.</td>\n",
       "    </tr>\n",
       "    <tr>\n",
       "      <th>219</th>\n",
       "      <td>EBS</td>\n",
       "      <td>/dev/xvda</td>\n",
       "      <td>SnapshotUsage</td>\n",
       "      <td>$0.97</td>\n",
       "      <td>19.332576919999998 gb-month at $0.05 ea.</td>\n",
       "    </tr>\n",
       "    <tr>\n",
       "      <th>402</th>\n",
       "      <td>EBS</td>\n",
       "      <td>/dev/xvda</td>\n",
       "      <td>VolumeIOUsage</td>\n",
       "      <td>$0.08</td>\n",
       "      <td>1.6298579999999998 million i/o requests at $0.05 ea.</td>\n",
       "    </tr>\n",
       "    <tr>\n",
       "      <th>302</th>\n",
       "      <td>EBS</td>\n",
       "      <td>/dev/xvda</td>\n",
       "      <td>VolumeUsage</td>\n",
       "      <td>$0.6</td>\n",
       "      <td>11.99999952 gb-month at $0.05 ea.</td>\n",
       "    </tr>\n",
       "    <tr>\n",
       "      <th>390</th>\n",
       "      <td>EBS</td>\n",
       "      <td>swap</td>\n",
       "      <td>VolumeUsage</td>\n",
       "      <td>$0.1</td>\n",
       "      <td>2.00000016 gb-month at $0.05 ea.</td>\n",
       "    </tr>\n",
       "  </tbody>\n",
       "</table>\n",
       "</div>"
      ],
      "text/latex": [
       "\\begin{tabular}{llllll}\n",
       "\\toprule\n",
       "{} &   aws\\_service &     device &      usage\\_type &    cost &                                                                  basis \\\\\n",
       "\\midrule\n",
       "45  &      BoxUsage &            &        m4.large &   \\$50.4 &                           503.99999999999994 instance hour at \\$0.1 ea. \\\\\n",
       "142 &      BoxUsage &            &        t2.small &   \\$4.95 &                            213.230543362069 instance hour at \\$0.02 ea. \\\\\n",
       "57  &  DataTransfer &            &       Out-Bytes &  \\$27.61 &  306.7442324444445 gb - first 10 tb / month data transfer at \\$0.09 ea. \\\\\n",
       "100 &  DataTransfer &            &  Regional-Bytes &   \\$7.64 &                   764.4991024 gb - regional data transfer at \\$0.01 ea. \\\\\n",
       "185 &           EBS &            &   SnapshotUsage &   \\$1.46 &                               26.559012436363638 gb-month at \\$0.06 ea. \\\\\n",
       "182 &           EBS &   /dev/sdb &   SnapshotUsage &   \\$1.55 &                               30.911885039999998 gb-month at \\$0.05 ea. \\\\\n",
       "394 &           EBS &   /dev/sdb &   VolumeIOUsage &    \\$0.1 &                   1.9767629999999998 million i/o requests at \\$0.05 ea. \\\\\n",
       "217 &           EBS &   /dev/sdb &     VolumeUsage &    \\$1.0 &                                      20.00000016 gb-month at \\$0.05 ea. \\\\\n",
       "219 &           EBS &  /dev/xvda &   SnapshotUsage &   \\$0.97 &                               19.332576919999998 gb-month at \\$0.05 ea. \\\\\n",
       "402 &           EBS &  /dev/xvda &   VolumeIOUsage &   \\$0.08 &                   1.6298579999999998 million i/o requests at \\$0.05 ea. \\\\\n",
       "302 &           EBS &  /dev/xvda &     VolumeUsage &    \\$0.6 &                                      11.99999952 gb-month at \\$0.05 ea. \\\\\n",
       "390 &           EBS &       swap &     VolumeUsage &    \\$0.1 &                                       2.00000016 gb-month at \\$0.05 ea. \\\\\n",
       "\\bottomrule\n",
       "\\end{tabular}\n"
      ],
      "text/plain": [
       "      aws_service     device      usage_type    cost  \\\n",
       "45       BoxUsage                   m4.large   $50.4   \n",
       "142      BoxUsage                   t2.small   $4.95   \n",
       "57   DataTransfer                  Out-Bytes  $27.61   \n",
       "100  DataTransfer             Regional-Bytes   $7.64   \n",
       "185           EBS              SnapshotUsage   $1.46   \n",
       "182           EBS   /dev/sdb   SnapshotUsage   $1.55   \n",
       "394           EBS   /dev/sdb   VolumeIOUsage    $0.1   \n",
       "217           EBS   /dev/sdb     VolumeUsage    $1.0   \n",
       "219           EBS  /dev/xvda   SnapshotUsage   $0.97   \n",
       "402           EBS  /dev/xvda   VolumeIOUsage   $0.08   \n",
       "302           EBS  /dev/xvda     VolumeUsage    $0.6   \n",
       "390           EBS       swap     VolumeUsage    $0.1   \n",
       "\n",
       "                                                                     basis  \n",
       "45                            503.99999999999994 instance hour at $0.1 ea.  \n",
       "142                            213.230543362069 instance hour at $0.02 ea.  \n",
       "57   306.7442324444445 gb - first 10 tb / month data transfer at $0.09 ea.  \n",
       "100                   764.4991024 gb - regional data transfer at $0.01 ea.  \n",
       "185                               26.559012436363638 gb-month at $0.06 ea.  \n",
       "182                               30.911885039999998 gb-month at $0.05 ea.  \n",
       "394                   1.9767629999999998 million i/o requests at $0.05 ea.  \n",
       "217                                      20.00000016 gb-month at $0.05 ea.  \n",
       "219                               19.332576919999998 gb-month at $0.05 ea.  \n",
       "402                   1.6298579999999998 million i/o requests at $0.05 ea.  \n",
       "302                                      11.99999952 gb-month at $0.05 ea.  \n",
       "390                                       2.00000016 gb-month at $0.05 ea.  "
      ]
     },
     "metadata": {},
     "output_type": "display_data"
    },
    {
     "data": {
      "text/markdown": [
       "### stg"
      ],
      "text/plain": [
       "<IPython.core.display.Markdown object>"
      ]
     },
     "metadata": {},
     "output_type": "display_data"
    },
    {
     "data": {
      "text/markdown": [
       "##### Total cost for web stg: $11.83"
      ],
      "text/plain": [
       "<IPython.core.display.Markdown object>"
      ]
     },
     "metadata": {},
     "output_type": "display_data"
    },
    {
     "data": {
      "text/markdown": [
       "#### uc3-mrtweb-stg"
      ],
      "text/plain": [
       "<IPython.core.display.Markdown object>"
      ]
     },
     "metadata": {},
     "output_type": "display_data"
    },
    {
     "data": {
      "text/markdown": [
       "#### Total cost for uc3-mrtweb-stg: $9.28"
      ],
      "text/plain": [
       "<IPython.core.display.Markdown object>"
      ]
     },
     "metadata": {},
     "output_type": "display_data"
    },
    {
     "data": {
      "text/html": [
       "<div>\n",
       "<style scoped>\n",
       "    .dataframe tbody tr th:only-of-type {\n",
       "        vertical-align: middle;\n",
       "    }\n",
       "\n",
       "    .dataframe tbody tr th {\n",
       "        vertical-align: top;\n",
       "    }\n",
       "\n",
       "    .dataframe thead th {\n",
       "        text-align: right;\n",
       "    }\n",
       "</style>\n",
       "<table border=\"1\" class=\"dataframe\">\n",
       "  <thead>\n",
       "    <tr style=\"text-align: right;\">\n",
       "      <th></th>\n",
       "      <th>aws_service</th>\n",
       "      <th>device</th>\n",
       "      <th>usage_type</th>\n",
       "      <th>cost</th>\n",
       "      <th>basis</th>\n",
       "    </tr>\n",
       "  </thead>\n",
       "  <tbody>\n",
       "    <tr>\n",
       "      <th>112</th>\n",
       "      <td>BoxUsage</td>\n",
       "      <td></td>\n",
       "      <td>t2.small</td>\n",
       "      <td>$5.7</td>\n",
       "      <td>245.76954056034486 instance hour at $0.02 ea.</td>\n",
       "    </tr>\n",
       "    <tr>\n",
       "      <th>213</th>\n",
       "      <td>EBS</td>\n",
       "      <td>/dev/sdb</td>\n",
       "      <td>SnapshotUsage</td>\n",
       "      <td>$1.02</td>\n",
       "      <td>20.41288098 gb-month at $0.05 ea.</td>\n",
       "    </tr>\n",
       "    <tr>\n",
       "      <th>218</th>\n",
       "      <td>EBS</td>\n",
       "      <td>/dev/sdb</td>\n",
       "      <td>VolumeUsage</td>\n",
       "      <td>$1.0</td>\n",
       "      <td>20.00000016 gb-month at $0.05 ea.</td>\n",
       "    </tr>\n",
       "    <tr>\n",
       "      <th>233</th>\n",
       "      <td>EBS</td>\n",
       "      <td>/dev/xvda</td>\n",
       "      <td>SnapshotUsage</td>\n",
       "      <td>$0.82</td>\n",
       "      <td>16.436852419999997 gb-month at $0.05 ea.</td>\n",
       "    </tr>\n",
       "    <tr>\n",
       "      <th>443</th>\n",
       "      <td>EBS</td>\n",
       "      <td>/dev/xvda</td>\n",
       "      <td>VolumeIOUsage</td>\n",
       "      <td>$0.04</td>\n",
       "      <td>0.801159 million i/o requests at $0.05 ea.</td>\n",
       "    </tr>\n",
       "    <tr>\n",
       "      <th>303</th>\n",
       "      <td>EBS</td>\n",
       "      <td>/dev/xvda</td>\n",
       "      <td>VolumeUsage</td>\n",
       "      <td>$0.6</td>\n",
       "      <td>11.99999952 gb-month at $0.05 ea.</td>\n",
       "    </tr>\n",
       "    <tr>\n",
       "      <th>391</th>\n",
       "      <td>EBS</td>\n",
       "      <td>swap</td>\n",
       "      <td>VolumeUsage</td>\n",
       "      <td>$0.1</td>\n",
       "      <td>2.00000016 gb-month at $0.05 ea.</td>\n",
       "    </tr>\n",
       "  </tbody>\n",
       "</table>\n",
       "</div>"
      ],
      "text/latex": [
       "\\begin{tabular}{llllll}\n",
       "\\toprule\n",
       "{} & aws\\_service &     device &     usage\\_type &   cost &                                          basis \\\\\n",
       "\\midrule\n",
       "112 &    BoxUsage &            &       t2.small &   \\$5.7 &  245.76954056034486 instance hour at \\$0.02 ea. \\\\\n",
       "213 &         EBS &   /dev/sdb &  SnapshotUsage &  \\$1.02 &              20.41288098 gb-month at \\$0.05 ea. \\\\\n",
       "218 &         EBS &   /dev/sdb &    VolumeUsage &   \\$1.0 &              20.00000016 gb-month at \\$0.05 ea. \\\\\n",
       "233 &         EBS &  /dev/xvda &  SnapshotUsage &  \\$0.82 &       16.436852419999997 gb-month at \\$0.05 ea. \\\\\n",
       "443 &         EBS &  /dev/xvda &  VolumeIOUsage &  \\$0.04 &     0.801159 million i/o requests at \\$0.05 ea. \\\\\n",
       "303 &         EBS &  /dev/xvda &    VolumeUsage &   \\$0.6 &              11.99999952 gb-month at \\$0.05 ea. \\\\\n",
       "391 &         EBS &       swap &    VolumeUsage &   \\$0.1 &               2.00000016 gb-month at \\$0.05 ea. \\\\\n",
       "\\bottomrule\n",
       "\\end{tabular}\n"
      ],
      "text/plain": [
       "    aws_service     device     usage_type   cost  \\\n",
       "112    BoxUsage                  t2.small   $5.7   \n",
       "213         EBS   /dev/sdb  SnapshotUsage  $1.02   \n",
       "218         EBS   /dev/sdb    VolumeUsage   $1.0   \n",
       "233         EBS  /dev/xvda  SnapshotUsage  $0.82   \n",
       "443         EBS  /dev/xvda  VolumeIOUsage  $0.04   \n",
       "303         EBS  /dev/xvda    VolumeUsage   $0.6   \n",
       "391         EBS       swap    VolumeUsage   $0.1   \n",
       "\n",
       "                                             basis  \n",
       "112  245.76954056034486 instance hour at $0.02 ea.  \n",
       "213              20.41288098 gb-month at $0.05 ea.  \n",
       "218              20.00000016 gb-month at $0.05 ea.  \n",
       "233       16.436852419999997 gb-month at $0.05 ea.  \n",
       "443     0.801159 million i/o requests at $0.05 ea.  \n",
       "303              11.99999952 gb-month at $0.05 ea.  \n",
       "391               2.00000016 gb-month at $0.05 ea.  "
      ]
     },
     "metadata": {},
     "output_type": "display_data"
    },
    {
     "data": {
      "text/markdown": [
       "#### uc3-mrtweb2-stg"
      ],
      "text/plain": [
       "<IPython.core.display.Markdown object>"
      ]
     },
     "metadata": {},
     "output_type": "display_data"
    },
    {
     "data": {
      "text/markdown": [
       "#### Total cost for uc3-mrtweb2-stg: $2.55"
      ],
      "text/plain": [
       "<IPython.core.display.Markdown object>"
      ]
     },
     "metadata": {},
     "output_type": "display_data"
    },
    {
     "data": {
      "text/html": [
       "<div>\n",
       "<style scoped>\n",
       "    .dataframe tbody tr th:only-of-type {\n",
       "        vertical-align: middle;\n",
       "    }\n",
       "\n",
       "    .dataframe tbody tr th {\n",
       "        vertical-align: top;\n",
       "    }\n",
       "\n",
       "    .dataframe thead th {\n",
       "        text-align: right;\n",
       "    }\n",
       "</style>\n",
       "<table border=\"1\" class=\"dataframe\">\n",
       "  <thead>\n",
       "    <tr style=\"text-align: right;\">\n",
       "      <th></th>\n",
       "      <th>aws_service</th>\n",
       "      <th>device</th>\n",
       "      <th>usage_type</th>\n",
       "      <th>cost</th>\n",
       "      <th>basis</th>\n",
       "    </tr>\n",
       "  </thead>\n",
       "  <tbody>\n",
       "    <tr>\n",
       "      <th>326</th>\n",
       "      <td>BoxUsage</td>\n",
       "      <td></td>\n",
       "      <td>t2.small</td>\n",
       "      <td>$0.2</td>\n",
       "      <td>8.694120948275863 instance hour at $0.02 ea.</td>\n",
       "    </tr>\n",
       "    <tr>\n",
       "      <th>456</th>\n",
       "      <td>EBS</td>\n",
       "      <td>/dev/sdb</td>\n",
       "      <td>SnapshotUsage</td>\n",
       "      <td>$0.03</td>\n",
       "      <td>0.5023076799999999 gb-month at $0.05 ea.</td>\n",
       "    </tr>\n",
       "    <tr>\n",
       "      <th>208</th>\n",
       "      <td>EBS</td>\n",
       "      <td>/dev/sdb</td>\n",
       "      <td>VolumeUsage</td>\n",
       "      <td>$1.05</td>\n",
       "      <td>20.999999519999996 gb-month at $0.05 ea.</td>\n",
       "    </tr>\n",
       "    <tr>\n",
       "      <th>306</th>\n",
       "      <td>EBS</td>\n",
       "      <td>/dev/xvda</td>\n",
       "      <td>SnapshotUsage</td>\n",
       "      <td>$0.57</td>\n",
       "      <td>11.40615564 gb-month at $0.05 ea.</td>\n",
       "    </tr>\n",
       "    <tr>\n",
       "      <th>304</th>\n",
       "      <td>EBS</td>\n",
       "      <td>/dev/xvda</td>\n",
       "      <td>VolumeUsage</td>\n",
       "      <td>$0.6</td>\n",
       "      <td>11.99999952 gb-month at $0.05 ea.</td>\n",
       "    </tr>\n",
       "    <tr>\n",
       "      <th>392</th>\n",
       "      <td>EBS</td>\n",
       "      <td>swap</td>\n",
       "      <td>VolumeUsage</td>\n",
       "      <td>$0.1</td>\n",
       "      <td>2.00000016 gb-month at $0.05 ea.</td>\n",
       "    </tr>\n",
       "  </tbody>\n",
       "</table>\n",
       "</div>"
      ],
      "text/latex": [
       "\\begin{tabular}{llllll}\n",
       "\\toprule\n",
       "{} & aws\\_service &     device &     usage\\_type &   cost &                                         basis \\\\\n",
       "\\midrule\n",
       "326 &    BoxUsage &            &       t2.small &   \\$0.2 &  8.694120948275863 instance hour at \\$0.02 ea. \\\\\n",
       "456 &         EBS &   /dev/sdb &  SnapshotUsage &  \\$0.03 &      0.5023076799999999 gb-month at \\$0.05 ea. \\\\\n",
       "208 &         EBS &   /dev/sdb &    VolumeUsage &  \\$1.05 &      20.999999519999996 gb-month at \\$0.05 ea. \\\\\n",
       "306 &         EBS &  /dev/xvda &  SnapshotUsage &  \\$0.57 &             11.40615564 gb-month at \\$0.05 ea. \\\\\n",
       "304 &         EBS &  /dev/xvda &    VolumeUsage &   \\$0.6 &             11.99999952 gb-month at \\$0.05 ea. \\\\\n",
       "392 &         EBS &       swap &    VolumeUsage &   \\$0.1 &              2.00000016 gb-month at \\$0.05 ea. \\\\\n",
       "\\bottomrule\n",
       "\\end{tabular}\n"
      ],
      "text/plain": [
       "    aws_service     device     usage_type   cost  \\\n",
       "326    BoxUsage                  t2.small   $0.2   \n",
       "456         EBS   /dev/sdb  SnapshotUsage  $0.03   \n",
       "208         EBS   /dev/sdb    VolumeUsage  $1.05   \n",
       "306         EBS  /dev/xvda  SnapshotUsage  $0.57   \n",
       "304         EBS  /dev/xvda    VolumeUsage   $0.6   \n",
       "392         EBS       swap    VolumeUsage   $0.1   \n",
       "\n",
       "                                            basis  \n",
       "326  8.694120948275863 instance hour at $0.02 ea.  \n",
       "456      0.5023076799999999 gb-month at $0.05 ea.  \n",
       "208      20.999999519999996 gb-month at $0.05 ea.  \n",
       "306             11.40615564 gb-month at $0.05 ea.  \n",
       "304             11.99999952 gb-month at $0.05 ea.  \n",
       "392              2.00000016 gb-month at $0.05 ea.  "
      ]
     },
     "metadata": {},
     "output_type": "display_data"
    }
   ],
   "source": [
    "from src.costs import *\n",
    "\n",
    "for service in services:\n",
    "    # TODO: figure out where extra ### is coming from\n",
    "    display_summary(service)"
   ]
  },
  {
   "cell_type": "code",
   "execution_count": null,
   "metadata": {},
   "outputs": [],
   "source": []
  },
  {
   "cell_type": "code",
   "execution_count": null,
   "metadata": {},
   "outputs": [],
   "source": []
  }
 ],
 "metadata": {
  "kernelspec": {
   "display_name": "Python 3",
   "language": "python",
   "name": "python3"
  },
  "language_info": {
   "codemirror_mode": {
    "name": "ipython",
    "version": 3
   },
   "file_extension": ".py",
   "mimetype": "text/x-python",
   "name": "python",
   "nbconvert_exporter": "python",
   "pygments_lexer": "ipython3",
   "version": "3.6.5"
  }
 },
 "nbformat": 4,
 "nbformat_minor": 2
}
